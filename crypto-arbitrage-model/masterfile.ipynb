{
 "cells": [
  {
   "cell_type": "code",
   "execution_count": null,
   "metadata": {
    "colab": {
     "base_uri": "https://localhost:8080/"
    },
<<<<<<< HEAD
    "kernelspec": {
      "name": "python3",
      "display_name": "Python 3"
    },
    "language_info": {
      "name": "python"
    },
    "widgets": {
      "state": {},
      "application/vnd.jupyter.widget-state+json": {
        "e3a2a40b68e94b1e896f0a1d98c5ff99": {
          "model_module": "@jupyter-widgets/controls",
          "model_name": "HBoxModel",
          "model_module_version": "1.5.0",
          "state": {
            "_dom_classes": [],
            "_model_module": "@jupyter-widgets/controls",
            "_model_module_version": "1.5.0",
            "_model_name": "HBoxModel",
            "_view_count": null,
            "_view_module": "@jupyter-widgets/controls",
            "_view_module_version": "1.5.0",
            "_view_name": "HBoxView",
            "box_style": "",
            "children": [
              "IPY_MODEL_b4fd95dbc66f4eddab6d0e45b6846152",
              "IPY_MODEL_c30ed0fc52cc4bc8b556a25a3ce5ae1b",
              "IPY_MODEL_9fb02e819b8446a5a383ca7a2beff78f"
            ],
            "layout": "IPY_MODEL_f362ce0917034036bc18a12c5da29c77"
          }
        },
        "b4fd95dbc66f4eddab6d0e45b6846152": {
          "model_module": "@jupyter-widgets/controls",
          "model_name": "HTMLModel",
          "model_module_version": "1.5.0",
          "state": {
            "_dom_classes": [],
            "_model_module": "@jupyter-widgets/controls",
            "_model_module_version": "1.5.0",
            "_model_name": "HTMLModel",
            "_view_count": null,
            "_view_module": "@jupyter-widgets/controls",
            "_view_module_version": "1.5.0",
            "_view_name": "HTMLView",
            "description": "",
            "description_tooltip": null,
            "layout": "IPY_MODEL_b92389cf477344238e97e965bfe0c4ad",
            "placeholder": "​",
            "style": "IPY_MODEL_5a5b394532af4254bf2cedfb037942a2",
            "value": "Best trial: 26. Best value: 0.516467:   1%"
          }
        },
        "c30ed0fc52cc4bc8b556a25a3ce5ae1b": {
          "model_module": "@jupyter-widgets/controls",
          "model_name": "FloatProgressModel",
          "model_module_version": "1.5.0",
          "state": {
            "_dom_classes": [],
            "_model_module": "@jupyter-widgets/controls",
            "_model_module_version": "1.5.0",
            "_model_name": "FloatProgressModel",
            "_view_count": null,
            "_view_module": "@jupyter-widgets/controls",
            "_view_module_version": "1.5.0",
            "_view_name": "ProgressView",
            "bar_style": "",
            "description": "",
            "description_tooltip": null,
            "layout": "IPY_MODEL_4ff3430f55c04f83b2a2ffb0fe76e46d",
            "max": 5000,
            "min": 0,
            "orientation": "horizontal",
            "style": "IPY_MODEL_7f4a92752b3d4cdd847991f81b8acb05",
            "value": 65
          }
        },
        "9fb02e819b8446a5a383ca7a2beff78f": {
          "model_module": "@jupyter-widgets/controls",
          "model_name": "HTMLModel",
          "model_module_version": "1.5.0",
          "state": {
            "_dom_classes": [],
            "_model_module": "@jupyter-widgets/controls",
            "_model_module_version": "1.5.0",
            "_model_name": "HTMLModel",
            "_view_count": null,
            "_view_module": "@jupyter-widgets/controls",
            "_view_module_version": "1.5.0",
            "_view_name": "HTMLView",
            "description": "",
            "description_tooltip": null,
            "layout": "IPY_MODEL_80ce63f8098f42308bb95bdff6e327b1",
            "placeholder": "​",
            "style": "IPY_MODEL_1b8f0b39fda04559b3b058f683c24cfb",
            "value": " 65/5000 [16:17&lt;31:22:23, 22.89s/it]"
          }
        },
        "f362ce0917034036bc18a12c5da29c77": {
          "model_module": "@jupyter-widgets/base",
          "model_name": "LayoutModel",
          "model_module_version": "1.2.0",
          "state": {
            "_model_module": "@jupyter-widgets/base",
            "_model_module_version": "1.2.0",
            "_model_name": "LayoutModel",
            "_view_count": null,
            "_view_module": "@jupyter-widgets/base",
            "_view_module_version": "1.2.0",
            "_view_name": "LayoutView",
            "align_content": null,
            "align_items": null,
            "align_self": null,
            "border": null,
            "bottom": null,
            "display": null,
            "flex": null,
            "flex_flow": null,
            "grid_area": null,
            "grid_auto_columns": null,
            "grid_auto_flow": null,
            "grid_auto_rows": null,
            "grid_column": null,
            "grid_gap": null,
            "grid_row": null,
            "grid_template_areas": null,
            "grid_template_columns": null,
            "grid_template_rows": null,
            "height": null,
            "justify_content": null,
            "justify_items": null,
            "left": null,
            "margin": null,
            "max_height": null,
            "max_width": null,
            "min_height": null,
            "min_width": null,
            "object_fit": null,
            "object_position": null,
            "order": null,
            "overflow": null,
            "overflow_x": null,
            "overflow_y": null,
            "padding": null,
            "right": null,
            "top": null,
            "visibility": null,
            "width": null
          }
        },
        "b92389cf477344238e97e965bfe0c4ad": {
          "model_module": "@jupyter-widgets/base",
          "model_name": "LayoutModel",
          "model_module_version": "1.2.0",
          "state": {
            "_model_module": "@jupyter-widgets/base",
            "_model_module_version": "1.2.0",
            "_model_name": "LayoutModel",
            "_view_count": null,
            "_view_module": "@jupyter-widgets/base",
            "_view_module_version": "1.2.0",
            "_view_name": "LayoutView",
            "align_content": null,
            "align_items": null,
            "align_self": null,
            "border": null,
            "bottom": null,
            "display": null,
            "flex": null,
            "flex_flow": null,
            "grid_area": null,
            "grid_auto_columns": null,
            "grid_auto_flow": null,
            "grid_auto_rows": null,
            "grid_column": null,
            "grid_gap": null,
            "grid_row": null,
            "grid_template_areas": null,
            "grid_template_columns": null,
            "grid_template_rows": null,
            "height": null,
            "justify_content": null,
            "justify_items": null,
            "left": null,
            "margin": null,
            "max_height": null,
            "max_width": null,
            "min_height": null,
            "min_width": null,
            "object_fit": null,
            "object_position": null,
            "order": null,
            "overflow": null,
            "overflow_x": null,
            "overflow_y": null,
            "padding": null,
            "right": null,
            "top": null,
            "visibility": null,
            "width": null
          }
        },
        "5a5b394532af4254bf2cedfb037942a2": {
          "model_module": "@jupyter-widgets/controls",
          "model_name": "DescriptionStyleModel",
          "model_module_version": "1.5.0",
          "state": {
            "_model_module": "@jupyter-widgets/controls",
            "_model_module_version": "1.5.0",
            "_model_name": "DescriptionStyleModel",
            "_view_count": null,
            "_view_module": "@jupyter-widgets/base",
            "_view_module_version": "1.2.0",
            "_view_name": "StyleView",
            "description_width": ""
          }
        },
        "4ff3430f55c04f83b2a2ffb0fe76e46d": {
          "model_module": "@jupyter-widgets/base",
          "model_name": "LayoutModel",
          "model_module_version": "1.2.0",
          "state": {
            "_model_module": "@jupyter-widgets/base",
            "_model_module_version": "1.2.0",
            "_model_name": "LayoutModel",
            "_view_count": null,
            "_view_module": "@jupyter-widgets/base",
            "_view_module_version": "1.2.0",
            "_view_name": "LayoutView",
            "align_content": null,
            "align_items": null,
            "align_self": null,
            "border": null,
            "bottom": null,
            "display": null,
            "flex": null,
            "flex_flow": null,
            "grid_area": null,
            "grid_auto_columns": null,
            "grid_auto_flow": null,
            "grid_auto_rows": null,
            "grid_column": null,
            "grid_gap": null,
            "grid_row": null,
            "grid_template_areas": null,
            "grid_template_columns": null,
            "grid_template_rows": null,
            "height": null,
            "justify_content": null,
            "justify_items": null,
            "left": null,
            "margin": null,
            "max_height": null,
            "max_width": null,
            "min_height": null,
            "min_width": null,
            "object_fit": null,
            "object_position": null,
            "order": null,
            "overflow": null,
            "overflow_x": null,
            "overflow_y": null,
            "padding": null,
            "right": null,
            "top": null,
            "visibility": null,
            "width": null
          }
        },
        "7f4a92752b3d4cdd847991f81b8acb05": {
          "model_module": "@jupyter-widgets/controls",
          "model_name": "ProgressStyleModel",
          "model_module_version": "1.5.0",
          "state": {
            "_model_module": "@jupyter-widgets/controls",
            "_model_module_version": "1.5.0",
            "_model_name": "ProgressStyleModel",
            "_view_count": null,
            "_view_module": "@jupyter-widgets/base",
            "_view_module_version": "1.2.0",
            "_view_name": "StyleView",
            "bar_color": null,
            "description_width": ""
          }
        },
        "80ce63f8098f42308bb95bdff6e327b1": {
          "model_module": "@jupyter-widgets/base",
          "model_name": "LayoutModel",
          "model_module_version": "1.2.0",
          "state": {
            "_model_module": "@jupyter-widgets/base",
            "_model_module_version": "1.2.0",
            "_model_name": "LayoutModel",
            "_view_count": null,
            "_view_module": "@jupyter-widgets/base",
            "_view_module_version": "1.2.0",
            "_view_name": "LayoutView",
            "align_content": null,
            "align_items": null,
            "align_self": null,
            "border": null,
            "bottom": null,
            "display": null,
            "flex": null,
            "flex_flow": null,
            "grid_area": null,
            "grid_auto_columns": null,
            "grid_auto_flow": null,
            "grid_auto_rows": null,
            "grid_column": null,
            "grid_gap": null,
            "grid_row": null,
            "grid_template_areas": null,
            "grid_template_columns": null,
            "grid_template_rows": null,
            "height": null,
            "justify_content": null,
            "justify_items": null,
            "left": null,
            "margin": null,
            "max_height": null,
            "max_width": null,
            "min_height": null,
            "min_width": null,
            "object_fit": null,
            "object_position": null,
            "order": null,
            "overflow": null,
            "overflow_x": null,
            "overflow_y": null,
            "padding": null,
            "right": null,
            "top": null,
            "visibility": null,
            "width": null
          }
        },
        "1b8f0b39fda04559b3b058f683c24cfb": {
          "model_module": "@jupyter-widgets/controls",
          "model_name": "DescriptionStyleModel",
          "model_module_version": "1.5.0",
          "state": {
            "_model_module": "@jupyter-widgets/controls",
            "_model_module_version": "1.5.0",
            "_model_name": "DescriptionStyleModel",
            "_view_count": null,
            "_view_module": "@jupyter-widgets/base",
            "_view_module_version": "1.2.0",
            "_view_name": "StyleView",
            "description_width": ""
          }
        }
      }
=======
    "id": "y_k-necYgUO5",
    "outputId": "5652be8b-cc21-4cf8-c665-bf39841bd1a4"
   },
   "outputs": [
    {
     "name": "stdout",
     "output_type": "stream",
     "text": [
      "Cloning into 'quantitative-finance'...\n",
      "remote: Enumerating objects: 199, done.\u001b[K\n",
      "remote: Counting objects: 100% (68/68), done.\u001b[K\n",
      "remote: Compressing objects: 100% (54/54), done.\u001b[K\n",
      "remote: Total 199 (delta 36), reused 23 (delta 13), pack-reused 131 (from 1)\u001b[K\n",
      "Receiving objects: 100% (199/199), 7.53 MiB | 40.79 MiB/s, done.\n",
      "Resolving deltas: 100% (73/73), done.\n",
      "Collecting optuna\n",
      "  Downloading optuna-4.3.0-py3-none-any.whl.metadata (17 kB)\n",
      "Collecting alembic>=1.5.0 (from optuna)\n",
      "  Downloading alembic-1.16.1-py3-none-any.whl.metadata (7.3 kB)\n",
      "Collecting colorlog (from optuna)\n",
      "  Downloading colorlog-6.9.0-py3-none-any.whl.metadata (10 kB)\n",
      "Requirement already satisfied: numpy in /usr/local/lib/python3.11/dist-packages (from optuna) (2.0.2)\n",
      "Requirement already satisfied: packaging>=20.0 in /usr/local/lib/python3.11/dist-packages (from optuna) (24.2)\n",
      "Requirement already satisfied: sqlalchemy>=1.4.2 in /usr/local/lib/python3.11/dist-packages (from optuna) (2.0.40)\n",
      "Requirement already satisfied: tqdm in /usr/local/lib/python3.11/dist-packages (from optuna) (4.67.1)\n",
      "Requirement already satisfied: PyYAML in /usr/local/lib/python3.11/dist-packages (from optuna) (6.0.2)\n",
      "Requirement already satisfied: Mako in /usr/lib/python3/dist-packages (from alembic>=1.5.0->optuna) (1.1.3)\n",
      "Requirement already satisfied: typing-extensions>=4.12 in /usr/local/lib/python3.11/dist-packages (from alembic>=1.5.0->optuna) (4.13.2)\n",
      "Requirement already satisfied: greenlet>=1 in /usr/local/lib/python3.11/dist-packages (from sqlalchemy>=1.4.2->optuna) (3.2.2)\n",
      "Downloading optuna-4.3.0-py3-none-any.whl (386 kB)\n",
      "\u001b[2K   \u001b[90m━━━━━━━━━━━━━━━━━━━━━━━━━━━━━━━━━━━━━━━━\u001b[0m \u001b[32m386.6/386.6 kB\u001b[0m \u001b[31m15.2 MB/s\u001b[0m eta \u001b[36m0:00:00\u001b[0m\n",
      "\u001b[?25hDownloading alembic-1.16.1-py3-none-any.whl (242 kB)\n",
      "\u001b[2K   \u001b[90m━━━━━━━━━━━━━━━━━━━━━━━━━━━━━━━━━━━━━━━━\u001b[0m \u001b[32m242.5/242.5 kB\u001b[0m \u001b[31m21.4 MB/s\u001b[0m eta \u001b[36m0:00:00\u001b[0m\n",
      "\u001b[?25hDownloading colorlog-6.9.0-py3-none-any.whl (11 kB)\n",
      "Installing collected packages: colorlog, alembic, optuna\n",
      "Successfully installed alembic-1.16.1 colorlog-6.9.0 optuna-4.3.0\n"
     ]
>>>>>>> 1150d5e (Change corrput file)
    }
   ],
   "source": [
    "import sys\n",
    "!git clone https://github.com/diman199888/quantitative-finance.git\n",
    "sys.path.append(\"/content/quantitative-finance/crypto-arbitrage-model/\")\n",
    "\n",
    "import crypto_arb_utils as cc\n",
    "\n",
    "import importlib\n",
    "importlib.reload(cc)\n",
    "\n",
    "from sqlalchemy import create_engine\n",
    "import sqlite3\n",
    "import psycopg2\n",
    "\n",
    "import pandas as pd\n",
    "import numpy as np\n",
    "import polars as pl\n",
    "\n",
    "import time\n",
    "import datetime\n",
    "\n",
    "import matplotlib.pyplot as plt\n",
    "import seaborn as sns\n",
    "\n",
    "import logging\n",
    "\n",
    "import statsmodels.api as sm\n",
    "\n",
    "from tqdm import tqdm\n",
    "\n",
    "\n",
    "pd.set_option('display.max_columns',  None)\n",
    "#pd.set_option('display.max_rows', 250)\n",
    "#pd.set_option('display.float_format', '{:.5f}'.format)\n",
    "from IPython.display import display\n",
    "\n",
    "\n",
    "import sklearn\n",
    "from sklearn.model_selection import TimeSeriesSplit, train_test_split, GridSearchCV, RandomizedSearchCV, StratifiedKFold, cross_val_score\n",
    "from sklearn.linear_model import LogisticRegression, PassiveAggressiveClassifier, RidgeClassifier, SGDClassifier\n",
    "from sklearn.svm import LinearSVC, NuSVC, SVC\n",
    "from sklearn.tree import DecisionTreeClassifier, ExtraTreeClassifier\n",
    "from sklearn.neural_network import MLPClassifier\n",
    "from sklearn.ensemble import AdaBoostClassifier, BaggingClassifier, GradientBoostingClassifier, HistGradientBoostingClassifier, RandomForestClassifier, StackingClassifier\n",
    "from sklearn.metrics import classification_report, roc_auc_score, confusion_matrix, ConfusionMatrixDisplay, zero_one_loss, make_scorer, accuracy_score, f1_score, precision_score\n",
    "from sklearn.preprocessing import StandardScaler, OneHotEncoder\n",
    "from sklearn.decomposition import PCA\n",
    "from sklearn.discriminant_analysis import LinearDiscriminantAnalysis, QuadraticDiscriminantAnalysis\n",
    "!pip install optuna\n",
    "import optuna"
   ]
  },
  {
   "cell_type": "code",
   "execution_count": null,
   "metadata": {
    "id": "9vpbIbkw1hSS"
   },
   "outputs": [],
   "source": [
    "#setup the logging module\n",
    "logging.basicConfig(level=logging.INFO, format=\"%(asctime)s - %(levelname)s - %(message)s\", force=True)\n",
    "logger = logging.getLogger(__name__)\n",
    "logger.setLevel(logging.INFO)"
   ]
  },
  {
   "cell_type": "code",
   "execution_count": null,
   "metadata": {
    "colab": {
     "base_uri": "https://localhost:8080/"
    },
    "id": "XM7rkVcOug9x",
    "outputId": "d2dab576-fc7a-4087-9919-44e9d89320d0"
   },
   "outputs": [
    {
     "name": "stdout",
     "output_type": "stream",
     "text": [
      "Mounted at /content/drive\n"
     ]
    }
<<<<<<< HEAD
  ]
=======
   ],
   "source": [
    "from google.colab import drive\n",
    "drive.mount('/content/drive')"
   ]
  },
  {
   "cell_type": "markdown",
   "metadata": {
    "id": "v_It9zRFxCzy"
   },
   "source": [
    "# 1. Preprocess collected data:"
   ]
  },
  {
   "cell_type": "code",
   "execution_count": null,
   "metadata": {
    "colab": {
     "base_uri": "https://localhost:8080/",
     "height": 515
    },
    "id": "7QOFZmWRgXU7",
    "outputId": "247797a2-3629-4e14-c49c-073a2ec0c2c6"
   },
   "outputs": [
    {
     "name": "stderr",
     "output_type": "stream",
     "text": [
      "2025-05-23 17:49:08,292 - INFO - Connecting to database…\n",
      "2025-05-23 17:50:35,750 - INFO - Data loaded\n",
      "2025-05-23 17:51:24,924 - INFO - Loaded rows:26,390,595\n",
      "Time elapsed:136.63 s\n"
     ]
    },
    {
     "data": {
      "text/html": [
       "<div><style>\n",
       ".dataframe > thead > tr,\n",
       ".dataframe > tbody > tr {\n",
       "  text-align: right;\n",
       "  white-space: pre-wrap;\n",
       "}\n",
       "</style>\n",
       "<small>shape: (26_390_595, 9)</small><table border=\"1\" class=\"dataframe\"><thead><tr><th>exchange</th><th>ts</th><th>side</th><th>level1_price</th><th>level1_size</th><th>level2_price</th><th>level2_size</th><th>level3_price</th><th>level3_size</th></tr><tr><td>str</td><td>i64</td><td>str</td><td>f64</td><td>f64</td><td>f64</td><td>f64</td><td>f64</td><td>f64</td></tr></thead><tbody><tr><td>&quot;Bybit&quot;</td><td>1744811324776</td><td>&quot;bid&quot;</td><td>74.06</td><td>68.30026</td><td>74.05</td><td>93.52903</td><td>74.04</td><td>156.80797</td></tr><tr><td>&quot;Bybit&quot;</td><td>1744811324776</td><td>&quot;ask&quot;</td><td>74.08</td><td>16.93638</td><td>74.09</td><td>48.66282</td><td>74.1</td><td>47.20968</td></tr><tr><td>&quot;Bybit&quot;</td><td>1744811324896</td><td>&quot;bid&quot;</td><td>74.06</td><td>68.30026</td><td>74.05</td><td>100.28442</td><td>74.04</td><td>156.80797</td></tr><tr><td>&quot;Bybit&quot;</td><td>1744811324976</td><td>&quot;bid&quot;</td><td>74.06</td><td>71.67544</td><td>74.05</td><td>100.28442</td><td>74.04</td><td>156.80797</td></tr><tr><td>&quot;Bybit&quot;</td><td>1744811325196</td><td>&quot;bid&quot;</td><td>74.07</td><td>8.1</td><td>74.06</td><td>71.67544</td><td>74.05</td><td>100.28442</td></tr><tr><td>&hellip;</td><td>&hellip;</td><td>&hellip;</td><td>&hellip;</td><td>&hellip;</td><td>&hellip;</td><td>&hellip;</td><td>&hellip;</td><td>&hellip;</td></tr><tr><td>&quot;Bybit&quot;</td><td>1746643832136</td><td>&quot;ask&quot;</td><td>87.94</td><td>0.17196</td><td>87.95</td><td>85.63987</td><td>87.96</td><td>94.85292</td></tr><tr><td>&quot;HTX&quot;</td><td>1746643832109</td><td>&quot;ask&quot;</td><td>87.93</td><td>21.8137</td><td>87.94</td><td>3.24</td><td>87.95</td><td>20.14</td></tr><tr><td>&quot;Bybit&quot;</td><td>1746643832176</td><td>&quot;ask&quot;</td><td>87.94</td><td>0.17196</td><td>87.95</td><td>89.67909</td><td>87.96</td><td>94.85292</td></tr><tr><td>&quot;Bybit&quot;</td><td>1746643832236</td><td>&quot;ask&quot;</td><td>87.94</td><td>0.17196</td><td>87.95</td><td>93.74426</td><td>87.96</td><td>94.85292</td></tr><tr><td>&quot;Bybit&quot;</td><td>1746643832356</td><td>&quot;ask&quot;</td><td>87.94</td><td>0.17196</td><td>87.95</td><td>93.74426</td><td>87.96</td><td>90.78775</td></tr></tbody></table></div>"
      ],
      "text/plain": [
       "shape: (26_390_595, 9)\n",
       "┌──────────┬────────────┬──────┬────────────┬───┬────────────┬────────────┬────────────┬───────────┐\n",
       "│ exchange ┆ ts         ┆ side ┆ level1_pri ┆ … ┆ level2_pri ┆ level2_siz ┆ level3_pri ┆ level3_si │\n",
       "│ ---      ┆ ---        ┆ ---  ┆ ce         ┆   ┆ ce         ┆ e          ┆ ce         ┆ ze        │\n",
       "│ str      ┆ i64        ┆ str  ┆ ---        ┆   ┆ ---        ┆ ---        ┆ ---        ┆ ---       │\n",
       "│          ┆            ┆      ┆ f64        ┆   ┆ f64        ┆ f64        ┆ f64        ┆ f64       │\n",
       "╞══════════╪════════════╪══════╪════════════╪═══╪════════════╪════════════╪════════════╪═══════════╡\n",
       "│ Bybit    ┆ 1744811324 ┆ bid  ┆ 74.06      ┆ … ┆ 74.05      ┆ 93.52903   ┆ 74.04      ┆ 156.80797 │\n",
       "│          ┆ 776        ┆      ┆            ┆   ┆            ┆            ┆            ┆           │\n",
       "│ Bybit    ┆ 1744811324 ┆ ask  ┆ 74.08      ┆ … ┆ 74.09      ┆ 48.66282   ┆ 74.1       ┆ 47.20968  │\n",
       "│          ┆ 776        ┆      ┆            ┆   ┆            ┆            ┆            ┆           │\n",
       "│ Bybit    ┆ 1744811324 ┆ bid  ┆ 74.06      ┆ … ┆ 74.05      ┆ 100.28442  ┆ 74.04      ┆ 156.80797 │\n",
       "│          ┆ 896        ┆      ┆            ┆   ┆            ┆            ┆            ┆           │\n",
       "│ Bybit    ┆ 1744811324 ┆ bid  ┆ 74.06      ┆ … ┆ 74.05      ┆ 100.28442  ┆ 74.04      ┆ 156.80797 │\n",
       "│          ┆ 976        ┆      ┆            ┆   ┆            ┆            ┆            ┆           │\n",
       "│ Bybit    ┆ 1744811325 ┆ bid  ┆ 74.07      ┆ … ┆ 74.06      ┆ 71.67544   ┆ 74.05      ┆ 100.28442 │\n",
       "│          ┆ 196        ┆      ┆            ┆   ┆            ┆            ┆            ┆           │\n",
       "│ …        ┆ …          ┆ …    ┆ …          ┆ … ┆ …          ┆ …          ┆ …          ┆ …         │\n",
       "│ Bybit    ┆ 1746643832 ┆ ask  ┆ 87.94      ┆ … ┆ 87.95      ┆ 85.63987   ┆ 87.96      ┆ 94.85292  │\n",
       "│          ┆ 136        ┆      ┆            ┆   ┆            ┆            ┆            ┆           │\n",
       "│ HTX      ┆ 1746643832 ┆ ask  ┆ 87.93      ┆ … ┆ 87.94      ┆ 3.24       ┆ 87.95      ┆ 20.14     │\n",
       "│          ┆ 109        ┆      ┆            ┆   ┆            ┆            ┆            ┆           │\n",
       "│ Bybit    ┆ 1746643832 ┆ ask  ┆ 87.94      ┆ … ┆ 87.95      ┆ 89.67909   ┆ 87.96      ┆ 94.85292  │\n",
       "│          ┆ 176        ┆      ┆            ┆   ┆            ┆            ┆            ┆           │\n",
       "│ Bybit    ┆ 1746643832 ┆ ask  ┆ 87.94      ┆ … ┆ 87.95      ┆ 93.74426   ┆ 87.96      ┆ 94.85292  │\n",
       "│          ┆ 236        ┆      ┆            ┆   ┆            ┆            ┆            ┆           │\n",
       "│ Bybit    ┆ 1746643832 ┆ ask  ┆ 87.94      ┆ … ┆ 87.95      ┆ 93.74426   ┆ 87.96      ┆ 90.78775  │\n",
       "│          ┆ 356        ┆      ┆            ┆   ┆            ┆            ┆            ┆           │\n",
       "└──────────┴────────────┴──────┴────────────┴───┴────────────┴────────────┴────────────┴───────────┘"
      ]
     },
     "execution_count": 5,
     "metadata": {},
     "output_type": "execute_result"
    }
   ],
   "source": [
    "database_path_in_drive = '/content/drive/My Drive/Databases/crypto.db'\n",
    "engine = create_engine(f\"sqlite:///{database_path_in_drive}\")  #the data from postgresql was transfered to sqlite due to Colab's pecularities\n",
    "df = cc.download_data(engine)\n",
    "df"
   ]
  },
  {
   "cell_type": "code",
   "execution_count": null,
   "metadata": {
    "id": "9WRNgwIeDfxn"
   },
   "outputs": [],
   "source": [
    "exchange1 = \"HTX\"\n",
    "exchange2 = \"Bybit\""
   ]
  },
  {
   "cell_type": "code",
   "execution_count": null,
   "metadata": {
    "colab": {
     "base_uri": "https://localhost:8080/"
    },
    "id": "-l5aM7bz1juc",
    "outputId": "831f2c33-ade8-4dd3-f882-a7c6c5c60d74"
   },
   "outputs": [
    {
     "name": "stderr",
     "output_type": "stream",
     "text": [
      "2025-05-23 17:51:28,131 - INFO - DataFrame for HTX processed. Number of rows:\n",
      "9,737,563\n",
      "2025-05-23 17:51:32,415 - INFO - DataFrame for Bybit processed. Number of rows:\n",
      "12,108,887\n"
     ]
    }
   ],
   "source": [
    "df_exchange1 = cc.get_orderbook_snapshot(df, exchange1)\n",
    "df_exchange2 = cc.get_orderbook_snapshot(df, exchange2)"
   ]
  },
  {
   "cell_type": "code",
   "execution_count": null,
   "metadata": {
    "colab": {
     "base_uri": "https://localhost:8080/",
     "height": 499
    },
    "id": "C2cEIF921swE",
    "outputId": "61dc7d8c-3ecf-4fcd-99a4-ac5f4a2664a6"
   },
   "outputs": [
    {
     "name": "stderr",
     "output_type": "stream",
     "text": [
      "2025-05-23 17:51:46,378 - INFO - DataFrames for HTX and Bybit processed. \n",
      "Number of rows: 21,637,878\n"
     ]
    },
    {
     "data": {
      "text/html": [
       "<div><style>\n",
       ".dataframe > thead > tr,\n",
       ".dataframe > tbody > tr {\n",
       "  text-align: right;\n",
       "  white-space: pre-wrap;\n",
       "}\n",
       "</style>\n",
       "<small>shape: (21_637_878, 28)</small><table border=\"1\" class=\"dataframe\"><thead><tr><th>ts</th><th>HTX_level1_price_bid</th><th>HTX_level1_size_bid</th><th>HTX_level2_price_bid</th><th>HTX_level2_size_bid</th><th>HTX_level3_price_bid</th><th>HTX_level3_size_bid</th><th>HTX_level1_price_ask</th><th>HTX_level1_size_ask</th><th>HTX_level2_price_ask</th><th>HTX_level2_size_ask</th><th>HTX_level3_price_ask</th><th>HTX_level3_size_ask</th><th>HTX_delta_ts</th><th>Bybit_level1_price_bid</th><th>Bybit_level1_size_bid</th><th>Bybit_level2_price_bid</th><th>Bybit_level2_size_bid</th><th>Bybit_level3_price_bid</th><th>Bybit_level3_size_bid</th><th>Bybit_level1_price_ask</th><th>Bybit_level1_size_ask</th><th>Bybit_level2_price_ask</th><th>Bybit_level2_size_ask</th><th>Bybit_level3_price_ask</th><th>Bybit_level3_size_ask</th><th>Bybit_delta_ts</th><th>timedelta</th></tr><tr><td>i64</td><td>f64</td><td>f64</td><td>f64</td><td>f64</td><td>f64</td><td>f64</td><td>f64</td><td>f64</td><td>f64</td><td>f64</td><td>f64</td><td>f64</td><td>i64</td><td>f64</td><td>f64</td><td>f64</td><td>f64</td><td>f64</td><td>f64</td><td>f64</td><td>f64</td><td>f64</td><td>f64</td><td>f64</td><td>f64</td><td>i64</td><td>i64</td></tr></thead><tbody><tr><td>1744811325304</td><td>74.07</td><td>4.86</td><td>74.06</td><td>6.6699</td><td>74.05</td><td>9.72</td><td>74.08</td><td>4.86</td><td>74.09</td><td>4.86</td><td>74.12</td><td>4.86</td><td>28</td><td>74.07</td><td>13.48915</td><td>74.06</td><td>93.78829</td><td>74.05</td><td>145.46272</td><td>74.08</td><td>0.37586</td><td>74.09</td><td>13.76403</td><td>74.1</td><td>32.88344</td><td>28</td><td>28</td></tr><tr><td>1744811325336</td><td>74.07</td><td>4.86</td><td>74.06</td><td>6.6699</td><td>74.05</td><td>9.72</td><td>74.08</td><td>4.86</td><td>74.09</td><td>4.86</td><td>74.12</td><td>4.86</td><td>32</td><td>74.07</td><td>20.23905</td><td>74.06</td><td>85.77832</td><td>74.05</td><td>145.46272</td><td>74.08</td><td>0.37586</td><td>74.09</td><td>8.62298</td><td>74.1</td><td>32.88344</td><td>60</td><td>-32</td></tr><tr><td>1744811325356</td><td>74.07</td><td>4.86</td><td>74.06</td><td>6.6699</td><td>74.05</td><td>9.72</td><td>74.08</td><td>4.86</td><td>74.09</td><td>4.86</td><td>74.12</td><td>4.86</td><td>52</td><td>74.07</td><td>20.23905</td><td>74.06</td><td>121.54773</td><td>74.05</td><td>145.46272</td><td>74.08</td><td>0.37586</td><td>74.09</td><td>8.62298</td><td>74.1</td><td>32.88344</td><td>20</td><td>-52</td></tr><tr><td>1744811325416</td><td>74.07</td><td>4.86</td><td>74.06</td><td>6.6699</td><td>74.05</td><td>9.72</td><td>74.08</td><td>4.86</td><td>74.09</td><td>4.86</td><td>74.12</td><td>4.86</td><td>112</td><td>74.07</td><td>23.614</td><td>74.06</td><td>121.54773</td><td>74.05</td><td>142.08686</td><td>74.08</td><td>0.37586</td><td>74.09</td><td>8.62298</td><td>74.1</td><td>32.88344</td><td>60</td><td>-112</td></tr><tr><td>1744811325436</td><td>74.07</td><td>4.86</td><td>74.06</td><td>6.6699</td><td>74.05</td><td>9.72</td><td>74.08</td><td>4.86</td><td>74.09</td><td>4.86</td><td>74.12</td><td>4.86</td><td>132</td><td>74.07</td><td>34.86054</td><td>74.06</td><td>121.54773</td><td>74.05</td><td>152.56376</td><td>74.08</td><td>0.37586</td><td>74.09</td><td>8.62298</td><td>74.1</td><td>41.33886</td><td>20</td><td>-132</td></tr><tr><td>&hellip;</td><td>&hellip;</td><td>&hellip;</td><td>&hellip;</td><td>&hellip;</td><td>&hellip;</td><td>&hellip;</td><td>&hellip;</td><td>&hellip;</td><td>&hellip;</td><td>&hellip;</td><td>&hellip;</td><td>&hellip;</td><td>&hellip;</td><td>&hellip;</td><td>&hellip;</td><td>&hellip;</td><td>&hellip;</td><td>&hellip;</td><td>&hellip;</td><td>&hellip;</td><td>&hellip;</td><td>&hellip;</td><td>&hellip;</td><td>&hellip;</td><td>&hellip;</td><td>&hellip;</td><td>&hellip;</td></tr><tr><td>1746643832117</td><td>87.91</td><td>6.48</td><td>87.9</td><td>23.85</td><td>87.89</td><td>21.24</td><td>87.93</td><td>21.8137</td><td>87.94</td><td>3.24</td><td>87.95</td><td>20.14</td><td>8</td><td>87.93</td><td>16.76849</td><td>87.92</td><td>37.4852</td><td>87.91</td><td>37.59036</td><td>87.94</td><td>0.17196</td><td>87.95</td><td>85.63987</td><td>87.96</td><td>90.64008</td><td>21</td><td>-8</td></tr><tr><td>1746643832136</td><td>87.91</td><td>6.48</td><td>87.9</td><td>23.85</td><td>87.89</td><td>21.24</td><td>87.93</td><td>21.8137</td><td>87.94</td><td>3.24</td><td>87.95</td><td>20.14</td><td>27</td><td>87.93</td><td>16.76849</td><td>87.92</td><td>37.4852</td><td>87.91</td><td>42.41956</td><td>87.94</td><td>0.17196</td><td>87.95</td><td>85.63987</td><td>87.96</td><td>94.85292</td><td>19</td><td>-27</td></tr><tr><td>1746643832176</td><td>87.91</td><td>6.48</td><td>87.9</td><td>23.85</td><td>87.89</td><td>21.24</td><td>87.93</td><td>21.8137</td><td>87.94</td><td>3.24</td><td>87.95</td><td>20.14</td><td>67</td><td>87.93</td><td>16.76849</td><td>87.92</td><td>37.4852</td><td>87.91</td><td>42.41956</td><td>87.94</td><td>0.17196</td><td>87.95</td><td>89.67909</td><td>87.96</td><td>94.85292</td><td>40</td><td>-67</td></tr><tr><td>1746643832236</td><td>87.91</td><td>6.48</td><td>87.9</td><td>23.85</td><td>87.89</td><td>21.24</td><td>87.93</td><td>21.8137</td><td>87.94</td><td>3.24</td><td>87.95</td><td>20.14</td><td>127</td><td>87.93</td><td>16.76849</td><td>87.92</td><td>37.4852</td><td>87.91</td><td>42.41956</td><td>87.94</td><td>0.17196</td><td>87.95</td><td>93.74426</td><td>87.96</td><td>94.85292</td><td>60</td><td>-127</td></tr><tr><td>1746643832356</td><td>87.91</td><td>6.48</td><td>87.9</td><td>23.85</td><td>87.89</td><td>21.24</td><td>87.93</td><td>21.8137</td><td>87.94</td><td>3.24</td><td>87.95</td><td>20.14</td><td>247</td><td>87.93</td><td>16.76849</td><td>87.92</td><td>37.4852</td><td>87.91</td><td>42.41956</td><td>87.94</td><td>0.17196</td><td>87.95</td><td>93.74426</td><td>87.96</td><td>90.78775</td><td>120</td><td>-247</td></tr></tbody></table></div>"
      ],
      "text/plain": [
       "shape: (21_637_878, 28)\n",
       "┌───────────┬───────────┬───────────┬───────────┬───┬───────────┬───────────┬───────────┬──────────┐\n",
       "│ ts        ┆ HTX_level ┆ HTX_level ┆ HTX_level ┆ … ┆ Bybit_lev ┆ Bybit_lev ┆ Bybit_del ┆ timedelt │\n",
       "│ ---       ┆ 1_price_b ┆ 1_size_bi ┆ 2_price_b ┆   ┆ el3_price ┆ el3_size_ ┆ ta_ts     ┆ a        │\n",
       "│ i64       ┆ id        ┆ d         ┆ id        ┆   ┆ _ask      ┆ ask       ┆ ---       ┆ ---      │\n",
       "│           ┆ ---       ┆ ---       ┆ ---       ┆   ┆ ---       ┆ ---       ┆ i64       ┆ i64      │\n",
       "│           ┆ f64       ┆ f64       ┆ f64       ┆   ┆ f64       ┆ f64       ┆           ┆          │\n",
       "╞═══════════╪═══════════╪═══════════╪═══════════╪═══╪═══════════╪═══════════╪═══════════╪══════════╡\n",
       "│ 174481132 ┆ 74.07     ┆ 4.86      ┆ 74.06     ┆ … ┆ 74.1      ┆ 32.88344  ┆ 28        ┆ 28       │\n",
       "│ 5304      ┆           ┆           ┆           ┆   ┆           ┆           ┆           ┆          │\n",
       "│ 174481132 ┆ 74.07     ┆ 4.86      ┆ 74.06     ┆ … ┆ 74.1      ┆ 32.88344  ┆ 60        ┆ -32      │\n",
       "│ 5336      ┆           ┆           ┆           ┆   ┆           ┆           ┆           ┆          │\n",
       "│ 174481132 ┆ 74.07     ┆ 4.86      ┆ 74.06     ┆ … ┆ 74.1      ┆ 32.88344  ┆ 20        ┆ -52      │\n",
       "│ 5356      ┆           ┆           ┆           ┆   ┆           ┆           ┆           ┆          │\n",
       "│ 174481132 ┆ 74.07     ┆ 4.86      ┆ 74.06     ┆ … ┆ 74.1      ┆ 32.88344  ┆ 60        ┆ -112     │\n",
       "│ 5416      ┆           ┆           ┆           ┆   ┆           ┆           ┆           ┆          │\n",
       "│ 174481132 ┆ 74.07     ┆ 4.86      ┆ 74.06     ┆ … ┆ 74.1      ┆ 41.33886  ┆ 20        ┆ -132     │\n",
       "│ 5436      ┆           ┆           ┆           ┆   ┆           ┆           ┆           ┆          │\n",
       "│ …         ┆ …         ┆ …         ┆ …         ┆ … ┆ …         ┆ …         ┆ …         ┆ …        │\n",
       "│ 174664383 ┆ 87.91     ┆ 6.48      ┆ 87.9      ┆ … ┆ 87.96     ┆ 90.64008  ┆ 21        ┆ -8       │\n",
       "│ 2117      ┆           ┆           ┆           ┆   ┆           ┆           ┆           ┆          │\n",
       "│ 174664383 ┆ 87.91     ┆ 6.48      ┆ 87.9      ┆ … ┆ 87.96     ┆ 94.85292  ┆ 19        ┆ -27      │\n",
       "│ 2136      ┆           ┆           ┆           ┆   ┆           ┆           ┆           ┆          │\n",
       "│ 174664383 ┆ 87.91     ┆ 6.48      ┆ 87.9      ┆ … ┆ 87.96     ┆ 94.85292  ┆ 40        ┆ -67      │\n",
       "│ 2176      ┆           ┆           ┆           ┆   ┆           ┆           ┆           ┆          │\n",
       "│ 174664383 ┆ 87.91     ┆ 6.48      ┆ 87.9      ┆ … ┆ 87.96     ┆ 94.85292  ┆ 60        ┆ -127     │\n",
       "│ 2236      ┆           ┆           ┆           ┆   ┆           ┆           ┆           ┆          │\n",
       "│ 174664383 ┆ 87.91     ┆ 6.48      ┆ 87.9      ┆ … ┆ 87.96     ┆ 90.78775  ┆ 120       ┆ -247     │\n",
       "│ 2356      ┆           ┆           ┆           ┆   ┆           ┆           ┆           ┆          │\n",
       "└───────────┴───────────┴───────────┴───────────┴───┴───────────┴───────────┴───────────┴──────────┘"
      ]
     },
     "execution_count": 8,
     "metadata": {},
     "output_type": "execute_result"
    }
   ],
   "source": [
    "df_merged = cc.merge_data(df_exchange1, exchange1, df_exchange2, exchange2)\n",
    "df_merged"
   ]
  },
  {
   "cell_type": "code",
   "execution_count": null,
   "metadata": {
    "colab": {
     "base_uri": "https://localhost:8080/"
    },
    "id": "gCtOpoTo15TL",
    "outputId": "630a9ad8-c828-44c5-f1e3-53b306c1ebe8"
   },
   "outputs": [
    {
     "name": "stderr",
     "output_type": "stream",
     "text": [
      "2025-05-23 17:51:46,955 - INFO - DataFrame processed. Number of active arbitrage window rows        \n",
      "For strategy 'buy at HTX, sell at Bybit':         8,733,160         \n",
      "For strategy 'buy at Bybit, sell at HTX':         518,320\n"
     ]
    }
   ],
   "source": [
    "df_strategy = cc.strategy(df_merged, exchange1, exchange2)"
   ]
  },
  {
   "cell_type": "code",
   "execution_count": null,
   "metadata": {
    "colab": {
     "base_uri": "https://localhost:8080/"
    },
    "id": "LL0c634319Sg",
    "outputId": "b68cfba2-7ecd-459d-c429-352d0db6f147"
   },
   "outputs": [
    {
     "name": "stderr",
     "output_type": "stream",
     "text": [
      "2025-05-23 17:51:50,388 - INFO - DataFrame processed.                 \n",
      "Number of arbitrages: 94,396                \n"
     ]
    }
   ],
   "source": [
    "df_n = cc.duration_calculation(df_strategy)"
   ]
  },
  {
   "cell_type": "code",
   "execution_count": null,
   "metadata": {
    "colab": {
     "base_uri": "https://localhost:8080/"
    },
    "id": "-X2AumLNFD_V",
    "outputId": "9c1e6533-57b2-4141-9919-0c51a166f320"
   },
   "outputs": [
    {
     "name": "stderr",
     "output_type": "stream",
     "text": [
      "2025-05-23 17:52:15,969 - INFO - DataFrame processed. Number of excluded observations: 31                \n",
      "Excluded id`s: {0, 1, 19484, 19485, 29342, 29343, 29344, 29345, 29346, 29347, 29348, 29349, 29350, 29351, 19112, 19113, 29354, 29355, 29352, 29357, 29353, 29356, 49986, 49987, 29513, 29514, 29341, 19426, 19427, 27635, 27636}                \n",
      "Average arbitrage duration:  1654\n"
     ]
    }
   ],
   "source": [
    "df_train = cc.feature_selection(df_n, exchange1, exchange2, roll = '1m')\n",
    "arbitrage_model = cc.final_manipulations(df_train, include_first_observation = False, n_lags = 5)"
   ]
  },
  {
   "cell_type": "code",
   "execution_count": null,
   "metadata": {
    "id": "fiTGqVS80LhR"
   },
   "outputs": [],
   "source": [
    "#arbitrage_model.write_parquet('/content/drive/MyDrive/arbitrage_model.parquet') #save the preprocessed data\n",
    "arbitrage_model"
   ]
  },
  {
   "cell_type": "markdown",
   "metadata": {
    "id": "uewAX7e2yVoU"
   },
   "source": [
    "# 2. Modelling:"
   ]
  },
  {
   "cell_type": "markdown",
   "metadata": {
    "id": "0RekAuhzyjXY"
   },
   "source": [
    "## Preparation:"
   ]
  },
  {
   "cell_type": "markdown",
   "metadata": {
    "id": "8XaT4kTCypFo"
   },
   "source": [
    "upload data:"
   ]
  },
  {
   "cell_type": "code",
   "execution_count": null,
   "metadata": {
    "id": "vwB930i8ybB6"
   },
   "outputs": [],
   "source": [
    "arbitrage_model = pl.read_parquet('/content/drive/MyDrive/arbitrage_model.parquet')\n",
    "arbitrage_model = arbitrage_model.to_pandas()"
   ]
  },
  {
   "cell_type": "markdown",
   "metadata": {
    "id": "VFQ_bp06yrLj"
   },
   "source": [
    "define accuracy metrics:"
   ]
  },
  {
   "cell_type": "code",
   "execution_count": null,
   "metadata": {
    "id": "gzihZHs9ByjI"
   },
   "outputs": [],
   "source": [
    "def matrix(y_test, y_pred):\n",
    "  print(classification_report(y_test, y_pred))\n",
    "  cm = confusion_matrix(y_pred, y_test, labels=[0,1])\n",
    "  disp = ConfusionMatrixDisplay(confusion_matrix=cm, display_labels=[\"<550ms\",\"≥550ms\"])\n",
    "  disp.plot(cmap=plt.cm.Blues)\n",
    "  plt.title(\"Confusion Matrix\")\n",
    "  plt.show()\n",
    "  return cm\n",
    "\n",
    "def accuracy(y_test, y_pred):\n",
    "  print(f'share of 0`s in the dataset: {y_test[y_test == 0].shape[0] / y_test.shape[0]: .1%}\\n')\n",
    "  print(f'accuracy: {accuracy_score(y_test, y_pred): .1%}\\n')"
   ]
  },
  {
   "cell_type": "markdown",
   "metadata": {
    "id": "tr3tFVvEyv0c"
   },
   "source": [
    "split and scale the data:"
   ]
  },
  {
   "cell_type": "code",
   "execution_count": null,
   "metadata": {
    "id": "xn2B72jP0NHj"
   },
   "outputs": [],
   "source": [
    "X = arbitrage_model.drop(columns = ['ts', 'length', 'dummy', 'arbitrage_id'])\n",
    "y = arbitrage_model[\"dummy\"]\n",
    "\n",
    "X_train, X_test, y_train, y_test = train_test_split(\n",
    "    X, y,\n",
    "    test_size=0.20,\n",
    "    random_state=42\n",
    ")\n",
    "\n",
    "scaler = StandardScaler()\n",
    "X_train_scaled = scaler.fit_transform(X_train)\n",
    "X_test_scaled = scaler.transform(X_test)"
   ]
  },
  {
   "cell_type": "markdown",
   "metadata": {
    "id": "kSa-BaYCy2Bt"
   },
   "source": [
    "bonus: time-series split"
   ]
  },
  {
   "cell_type": "code",
   "execution_count": null,
   "metadata": {
    "colab": {
     "base_uri": "https://localhost:8080/",
     "height": 54
    },
    "id": "vT71hu1gy51-",
    "outputId": "f4396af5-3526-4b19-dad9-629d2419223c"
   },
   "outputs": [
    {
     "data": {
      "application/vnd.google.colaboratory.intrinsic+json": {
       "type": "string"
      },
      "text/plain": [
       "'\\ntscv = TimeSeriesSplit()\\n\\nfor train_index, test_index in tscv.split(X):\\n    X_train_ts, X_test_ts = X.iloc[train_index], X.iloc[test_index]\\n    y_train_ts, y_test_ts = y.iloc[train_index], y.iloc[test_index]\\n\\nscaler = StandardScaler()\\nX_train_ts_scaled = scaler.fit_transform(X_train_ts)\\nX_test_ts_scaled = scaler.transform(X_test_ts)\\n'"
      ]
     },
     "execution_count": 8,
     "metadata": {},
     "output_type": "execute_result"
    }
   ],
   "source": [
    "\"\"\"\n",
    "tscv = TimeSeriesSplit()\n",
    "\n",
    "for train_index, test_index in tscv.split(X):\n",
    "    X_train_ts, X_test_ts = X.iloc[train_index], X.iloc[test_index]\n",
    "    y_train_ts, y_test_ts = y.iloc[train_index], y.iloc[test_index]\n",
    "\n",
    "scaler = StandardScaler()\n",
    "X_train_ts_scaled = scaler.fit_transform(X_train_ts)\n",
    "X_test_ts_scaled = scaler.transform(X_test_ts)\n",
    "\"\"\""
   ]
  },
  {
   "cell_type": "markdown",
   "metadata": {
    "id": "2foJsjS0wxav"
   },
   "source": [
    "## Linear models:"
   ]
  },
  {
   "cell_type": "markdown",
   "metadata": {
    "id": "uzK1q738zPMu"
   },
   "source": [
    "#### Logistic regression:"
   ]
  },
  {
   "cell_type": "code",
   "execution_count": null,
   "metadata": {
    "colab": {
     "base_uri": "https://localhost:8080/",
     "height": 708
    },
    "id": "yMk4V4AI3Vcq",
    "outputId": "2122e0d9-1f55-4184-96f3-48135df739e0"
   },
   "outputs": [
    {
     "name": "stdout",
     "output_type": "stream",
     "text": [
      "share of 0`s in the dataset:  64.0%\n",
      "\n",
      "accuracy:  63.4%\n",
      "\n",
      "              precision    recall  f1-score   support\n",
      "\n",
      "           0       0.76      0.62      0.68      8914\n",
      "           1       0.49      0.66      0.56      5006\n",
      "\n",
      "    accuracy                           0.63     13920\n",
      "   macro avg       0.63      0.64      0.62     13920\n",
      "weighted avg       0.67      0.63      0.64     13920\n",
      "\n"
     ]
    },
    {
     "data": {
      "image/png": "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\n",
      "text/plain": [
       "<Figure size 640x480 with 2 Axes>"
      ]
     },
     "metadata": {},
     "output_type": "display_data"
    }
   ],
   "source": [
    "best_params_logistic = {'C': 1, 'fit_intercept': True, 'intercept_scaling': 1, 'penalty': 'l2', 'solver': 'lbfgs', 'tol': 0.001} #parameters selected by gridsearch\n",
    "logistic = LogisticRegression(**best_params_logistic, class_weight='balanced', max_iter=100000).fit(X_train_scaled, y_train)\n",
    "\n",
    "# evaluate on test set\n",
    "y_pred_logistic  = logistic.predict(X_test_scaled)\n",
    "# assess accuracy of the model\n",
    "accuracy(y_test, y_pred_logistic)\n",
    "# show confussion matrix\n",
    "cm1 = matrix(y_test, y_pred_logistic)"
   ]
  },
  {
   "cell_type": "markdown",
   "metadata": {
    "id": "xJM8i4nhzTiz"
   },
   "source": [
    "Apparently, the goal is to create a model that would beat the naive approach of assigning 0 with 64% prob (share of 0's in the dataset)"
   ]
  },
  {
   "cell_type": "markdown",
   "metadata": {
    "id": "dkeWyx7_z5ie"
   },
   "source": [
    "#### Ridge Classifier:"
   ]
  },
  {
   "cell_type": "code",
   "execution_count": null,
   "metadata": {
    "colab": {
     "base_uri": "https://localhost:8080/",
     "height": 708
    },
    "id": "JJY1-CjM07g8",
    "outputId": "2494c098-3139-438a-f2e0-e11151f05af5"
   },
   "outputs": [
    {
     "name": "stdout",
     "output_type": "stream",
     "text": [
      "share of 0`s in the dataset:  64.0%\n",
      "\n",
      "accuracy:  64.1%\n",
      "\n",
      "              precision    recall  f1-score   support\n",
      "\n",
      "           0       0.77      0.63      0.69      8914\n",
      "           1       0.50      0.67      0.57      5006\n",
      "\n",
      "    accuracy                           0.64     13920\n",
      "   macro avg       0.63      0.65      0.63     13920\n",
      "weighted avg       0.67      0.64      0.65     13920\n",
      "\n"
     ]
    },
    {
     "data": {
      "image/png": "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\n",
      "text/plain": [
       "<Figure size 640x480 with 2 Axes>"
      ]
     },
     "metadata": {},
     "output_type": "display_data"
    }
   ],
   "source": [
    "#best_params_ridge = {'positive': False, 'alpha': 36.79070474310095, 'solver': 'cholesky', 'tol': 0.008059696745044236}  ##Optuna choice; slightly poorer performance\n",
    "best_params_ridge = {'alpha': 1.0, 'positive': False, 'solver': 'svd', 'tol': 0.0001} #gridsearch\n",
    "\n",
    "ridge_model = RidgeClassifier(**best_params_ridge, class_weight='balanced', random_state=42).fit(X_train_scaled, y_train)\n",
    "\n",
    "# evaluate on test set\n",
    "y_pred_final_ridge = ridge_model.predict(X_test_scaled)\n",
    "# assess accuracy of the model\n",
    "accuracy(y_test, y_pred_final_ridge)\n",
    "# show confussion matrix\n",
    "cm1 = matrix(y_test, y_pred_final_ridge)"
   ]
  },
  {
   "cell_type": "markdown",
   "metadata": {
    "id": "MmLYO9Dm3E5_"
   },
   "source": [
    "#### SGD classifier:"
   ]
  },
  {
   "cell_type": "code",
   "execution_count": null,
   "metadata": {
    "colab": {
     "base_uri": "https://localhost:8080/",
     "height": 708
    },
    "id": "9GbD5aGq22L7",
    "outputId": "4ac46c0c-1057-4fca-a19b-53391ce6df80"
   },
   "outputs": [
    {
     "name": "stdout",
     "output_type": "stream",
     "text": [
      "share of 0`s in the dataset:  64.0%\n",
      "\n",
      "accuracy:  59.2%\n",
      "\n",
      "              precision    recall  f1-score   support\n",
      "\n",
      "           0       0.79      0.49      0.61      8914\n",
      "           1       0.46      0.77      0.58      5006\n",
      "\n",
      "    accuracy                           0.59     13920\n",
      "   macro avg       0.63      0.63      0.59     13920\n",
      "weighted avg       0.67      0.59      0.60     13920\n",
      "\n"
     ]
    },
    {
     "data": {
      "image/png": "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\n",
      "text/plain": [
       "<Figure size 640x480 with 2 Axes>"
      ]
     },
     "metadata": {},
     "output_type": "display_data"
    }
   ],
   "source": [
    "best_params_sgd = {'loss': 'squared_hinge', 'penalty': None, 'alpha': 11.36025619228003,\n",
    "               'l1_ratio': 0.23656417101535032, 'fit_intercept': False, 'tol': 9.645686618277331,\n",
    "               'shuffle': True, 'learning_rate': 'adaptive', 'power_t': -9.272030937687902,\n",
    "               'early_stopping': False, 'average': True, 'eta0': 5.452631621414764}  #as selected by optuna\n",
    "\n",
    "sgd_model = SGDClassifier(**best_params_sgd, class_weight='balanced', random_state=42, n_jobs=-1, max_iter = 100000).fit(X_train_scaled, y_train)\n",
    "\n",
    "# evaluate on test set\n",
    "y_pred_sgd = sgd_model.predict(X_test_scaled)\n",
    "# assess accuracy of the model\n",
    "accuracy(y_test, y_pred_sgd)\n",
    "# show confussion matrix\n",
    "cm1 = matrix(y_test, y_pred_sgd)"
   ]
  },
  {
   "cell_type": "markdown",
   "metadata": {
    "id": "G_5XBhy0F9oX"
   },
   "source": [
    "#### Passive agressive classifier"
   ]
  },
  {
   "cell_type": "code",
   "execution_count": null,
   "metadata": {
    "colab": {
     "base_uri": "https://localhost:8080/",
     "height": 708
    },
    "id": "v57REE5S412P",
    "outputId": "5a48312d-38bf-41cc-c61f-7b2b6cad8b5e"
   },
   "outputs": [
    {
     "name": "stdout",
     "output_type": "stream",
     "text": [
      "share of 0`s in the dataset:  64.0%\n",
      "\n",
      "accuracy:  61.3%\n",
      "\n",
      "              precision    recall  f1-score   support\n",
      "\n",
      "           0       0.77      0.57      0.65      8914\n",
      "           1       0.47      0.70      0.57      5006\n",
      "\n",
      "    accuracy                           0.61     13920\n",
      "   macro avg       0.62      0.63      0.61     13920\n",
      "weighted avg       0.66      0.61      0.62     13920\n",
      "\n"
     ]
    },
    {
     "data": {
      "image/png": "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\n",
      "text/plain": [
       "<Figure size 640x480 with 2 Axes>"
      ]
     },
     "metadata": {},
     "output_type": "display_data"
    }
   ],
   "source": [
    "best_params_pac = {'loss': 'hinge',\n",
    " 'C': 0.00016275314358328043,\n",
    " 'fit_intercept': False,\n",
    " 'tol': 0.0031308644232425752}\n",
    "\n",
    "# Train the model\n",
    "pac_model = PassiveAggressiveClassifier(**best_params_pac, class_weight='balanced', max_iter=100000, random_state=42, n_jobs=-1).fit(X_train_scaled, y_train)\n",
    "# evaluate on test set\n",
    "y_pred_pac = pac_model.predict(X_test_scaled)\n",
    "# assess accuracy of the model\n",
    "accuracy(y_test, y_pred_pac)\n",
    "# show confussion matrix\n",
    "cm1 = matrix(y_test, y_pred_pac)"
   ]
  },
  {
   "cell_type": "markdown",
   "metadata": {
    "id": "j8SpSLGRHddR"
   },
   "source": [
    "## Support Vector Machine:"
   ]
  },
  {
   "cell_type": "markdown",
   "metadata": {
    "id": "R7XCabHMLRDd"
   },
   "source": [
    "Start with sklearn's SVM:"
   ]
  },
  {
   "cell_type": "code",
   "execution_count": null,
   "metadata": {
    "id": "Tw5c5mdSIF-g"
   },
   "outputs": [],
   "source": [
    "%%time\n",
    "svm = SVC().fit(X_train_scaled, y_train)\n",
    "\n",
    "# evaluate on test set\n",
    "y_pred_svm  = svm.predict(X_test_scaled)\n",
    "# assess accuracy of the model\n",
    "accuracy(y_test, y_pred_svm)\n",
    "# show confussion matrix\n",
    "cm_svm = matrix(y_test, y_pred_svm)"
   ]
  },
  {
   "cell_type": "code",
   "execution_count": null,
   "metadata": {
    "colab": {
     "base_uri": "https://localhost:8080/"
    },
    "id": "VFWep6pD5VMe",
    "outputId": "ef7933c4-11fa-4e5c-9e66-52bc2850d948"
   },
   "outputs": [
    {
     "name": "stdout",
     "output_type": "stream",
     "text": [
      "Fri May 23 17:16:49 2025       \n",
      "+-----------------------------------------------------------------------------------------+\n",
      "| NVIDIA-SMI 550.54.15              Driver Version: 550.54.15      CUDA Version: 12.4     |\n",
      "|-----------------------------------------+------------------------+----------------------+\n",
      "| GPU  Name                 Persistence-M | Bus-Id          Disp.A | Volatile Uncorr. ECC |\n",
      "| Fan  Temp   Perf          Pwr:Usage/Cap |           Memory-Usage | GPU-Util  Compute M. |\n",
      "|                                         |                        |               MIG M. |\n",
      "|=========================================+========================+======================|\n",
      "|   0  NVIDIA L4                      Off |   00000000:00:03.0 Off |                    0 |\n",
      "| N/A   39C    P8             12W /   72W |       0MiB /  23034MiB |      0%      Default |\n",
      "|                                         |                        |                  N/A |\n",
      "+-----------------------------------------+------------------------+----------------------+\n",
      "                                                                                         \n",
      "+-----------------------------------------------------------------------------------------+\n",
      "| Processes:                                                                              |\n",
      "|  GPU   GI   CI        PID   Type   Process name                              GPU Memory |\n",
      "|        ID   ID                                                               Usage      |\n",
      "|=========================================================================================|\n",
      "|  No running processes found                                                             |\n",
      "+-----------------------------------------------------------------------------------------+\n"
     ]
    }
   ],
   "source": [
    "!nvidia-smi"
   ]
  },
  {
   "cell_type": "markdown",
   "metadata": {
    "id": "Knkq6Vy0LlkY"
   },
   "source": [
    "Since CPU computing is cumbersome, we can take advantage of Colab's GPU"
   ]
  },
  {
   "cell_type": "code",
   "execution_count": null,
   "metadata": {
    "colab": {
     "base_uri": "https://localhost:8080/"
    },
    "id": "ODJGpv_3_ZVV",
    "outputId": "88c91ad2-ddb8-4777-a832-57ff6647f429"
   },
   "outputs": [
    {
     "name": "stdout",
     "output_type": "stream",
     "text": [
      "Cloning into 'rapidsai-csp-utils'...\n",
      "remote: Enumerating objects: 592, done.\u001b[K\n",
      "remote: Counting objects: 100% (158/158), done.\u001b[K\n",
      "remote: Compressing objects: 100% (76/76), done.\u001b[K\n",
      "remote: Total 592 (delta 125), reused 82 (delta 82), pack-reused 434 (from 3)\u001b[K\n",
      "Receiving objects: 100% (592/592), 194.79 KiB | 24.35 MiB/s, done.\n",
      "Resolving deltas: 100% (299/299), done.\n",
      "Installing RAPIDS remaining 25.04 libraries\n",
      "Using Python 3.11.12 environment at: /usr\n",
      "Resolved 173 packages in 10.51s\n",
      "Downloading cudf-cu12 (1.7MiB)\n",
      "Downloading cugraph-cu12 (3.0MiB)\n",
      "Downloading ucx-py-cu12 (2.2MiB)\n",
      "Downloading libcuspatial-cu12 (31.1MiB)\n",
      "Downloading libcuvs-cu12 (1.1GiB)\n",
      "Downloading pylibcudf-cu12 (26.4MiB)\n",
      "Downloading librmm-cu12 (2.9MiB)\n",
      "Downloading libcudf-cu12 (538.8MiB)\n",
      "Downloading dask (1.3MiB)\n",
      "Downloading bokeh (6.6MiB)\n",
      "Downloading shapely (2.4MiB)\n",
      "Downloading libcugraph-cu12 (1.4GiB)\n",
      "Downloading cuspatial-cu12 (4.1MiB)\n",
      "Downloading raft-dask-cu12 (274.9MiB)\n",
      "Downloading cuml-cu12 (9.4MiB)\n",
      "Downloading pylibcugraph-cu12 (2.0MiB)\n",
      "Downloading cuproj-cu12 (1.1MiB)\n",
      "Downloading libkvikio-cu12 (2.0MiB)\n",
      "Downloading libcuml-cu12 (404.9MiB)\n",
      "Downloading libraft-cu12 (20.8MiB)\n",
      "Downloading cucim-cu12 (5.6MiB)\n",
      "  × Failed to download `pylibraft-cu12==25.4.0`\n",
      "  ├─▶ Failed to fetch:\n",
      "  │   `https://pypi.nvidia.com/pylibraft-cu12/pylibraft_cu12-25.4.0-cp311-cp311-manylinux_2_28_x86_64.whl`\n",
      "  ├─▶ error sending request for url\n",
      "  │   (https://pypi.nvidia.com/pylibraft-cu12/pylibraft_cu12-25.4.0-cp311-cp311-manylinux_2_28_x86_64.whl)\n",
      "  ├─▶ client error (SendRequest)\n",
      "  ├─▶ http2 error\n",
      "  ╰─▶ connection error detected: flow-control protocol violated\n",
      "\n",
      "        ***********************************************************************\n",
      "        The pip install of RAPIDS is complete.\n",
      "\n",
      "        Please do not run any further installation from the conda based installation methods, as they may cause issues!\n",
      "\n",
      "        Please ensure that you're pulling from the git repo to remain updated with the latest working install scripts.\n",
      "\n",
      "        Troubleshooting:\n",
      "            - If there is an installation failure, please check back on RAPIDSAI owned templates/notebooks to see how to update your personal files.\n",
      "            - If an installation failure persists when using the latest script, please make an issue on https://github.com/rapidsai-community/rapidsai-csp-utils\n",
      "        ***********************************************************************\n",
      "        \n"
     ]
    }
   ],
   "source": [
    "!git clone https://github.com/rapidsai/rapidsai-csp-utils.git\n",
    "!python rapidsai-csp-utils/colab/pip-install.py"
   ]
  },
  {
   "cell_type": "code",
   "execution_count": null,
   "metadata": {
    "id": "7oirJkV8HiKk"
   },
   "outputs": [],
   "source": [
    "from cuml.svm import SVC as cuML_SVC\n"
   ]
  },
  {
   "cell_type": "code",
   "execution_count": null,
   "metadata": {
    "colab": {
     "base_uri": "https://localhost:8080/",
     "height": 708
    },
    "id": "yiyo_0npH04a",
    "outputId": "7fd49255-3af3-4762-fdd6-283b7408df95"
   },
   "outputs": [
    {
     "name": "stdout",
     "output_type": "stream",
     "text": [
      "share of 0`s in the dataset:  64.0%\n",
      "\n",
      "accuracy:  67.9%\n",
      "\n",
      "              precision    recall  f1-score   support\n",
      "\n",
      "           0       0.68      0.92      0.79      8914\n",
      "           1       0.64      0.24      0.35      5006\n",
      "\n",
      "    accuracy                           0.68     13920\n",
      "   macro avg       0.66      0.58      0.57     13920\n",
      "weighted avg       0.67      0.68      0.63     13920\n",
      "\n"
     ]
    },
    {
     "data": {
      "image/png": "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\n",
      "text/plain": [
       "<Figure size 640x480 with 2 Axes>"
      ]
     },
     "metadata": {},
     "output_type": "display_data"
    }
   ],
   "source": [
    "# Train the cuML SVC model on the GPU\n",
    "cu_svm = cuML_SVC().fit(X_train_scaled, y_train)\n",
    "\n",
    "# Make predictions\n",
    "y_pred_cu_svm = cu_svm.predict(X_test_scaled)\n",
    "\n",
    "# assess accuracy of the model\n",
    "accuracy(y_test, y_pred_cu_svm)\n",
    "\n",
    "# Evaluate the model\n",
    "cu_svm_CM = matrix(y_test, y_pred_cu_svm)"
   ]
  },
  {
   "cell_type": "code",
   "execution_count": null,
   "metadata": {
    "colab": {
     "base_uri": "https://localhost:8080/",
     "height": 1000,
     "referenced_widgets": [
      "e3a2a40b68e94b1e896f0a1d98c5ff99",
      "b4fd95dbc66f4eddab6d0e45b6846152",
      "c30ed0fc52cc4bc8b556a25a3ce5ae1b",
      "9fb02e819b8446a5a383ca7a2beff78f",
      "f362ce0917034036bc18a12c5da29c77",
      "b92389cf477344238e97e965bfe0c4ad",
      "5a5b394532af4254bf2cedfb037942a2",
      "4ff3430f55c04f83b2a2ffb0fe76e46d",
      "7f4a92752b3d4cdd847991f81b8acb05",
      "80ce63f8098f42308bb95bdff6e327b1",
      "1b8f0b39fda04559b3b058f683c24cfb"
     ]
    },
    "id": "b4Zn3bj4batY",
    "outputId": "344f892f-e920-4661-cefb-55fc43da873c"
   },
   "outputs": [
    {
     "name": "stderr",
     "output_type": "stream",
     "text": [
      "[I 2025-05-23 17:17:20,161] A new study created in memory with name: no-name-127a5b3b-1b45-4a71-b1ba-938f80303da0\n"
     ]
    },
    {
     "data": {
      "application/vnd.jupyter.widget-view+json": {
       "model_id": "e3a2a40b68e94b1e896f0a1d98c5ff99",
       "version_major": 2,
       "version_minor": 0
      },
      "text/plain": [
       "  0%|          | 0/5000 [00:00<?, ?it/s]"
      ]
     },
     "metadata": {},
     "output_type": "display_data"
    },
    {
     "name": "stdout",
     "output_type": "stream",
     "text": [
      "[I 2025-05-23 17:17:46,821] Trial 0 finished with value: 0.5066729470874548 and parameters: {'kernel': 'poly', 'C': 1.6573239059468183, 'degree': 2, 'tol': 1.1026587075711058, 'gamma': 'auto', 'coef0': 0.30322993861971526}. Best is trial 0 with value: 0.5066729470874548.\n"
     ]
    },
    {
     "name": "stderr",
     "output_type": "stream",
     "text": [
      "/usr/local/lib/python3.11/dist-packages/sklearn/metrics/_classification.py:1565: UndefinedMetricWarning: Precision is ill-defined and being set to 0.0 due to no predicted samples. Use `zero_division` parameter to control this behavior.\n",
      "  _warn_prf(average, modifier, f\"{metric.capitalize()} is\", len(result))\n"
     ]
    },
    {
     "name": "stdout",
     "output_type": "stream",
     "text": [
      "[I 2025-05-23 17:17:54,321] Trial 1 finished with value: 0.38392857142857145 and parameters: {'kernel': 'poly', 'C': 7.926400515006524, 'degree': 5, 'tol': 1.2713137063337365, 'gamma': 'auto', 'coef0': -3.6027637766062504}. Best is trial 0 with value: 0.5066729470874548.\n",
      "[I 2025-05-23 17:17:54,448] Trial 2 finished with value: 0.0 and parameters: {'kernel': 'sigmoid', 'C': 4.703896262331662, 'degree': 4, 'tol': 7.658852168989286, 'gamma': 'auto', 'coef0': 0.2782989084769296}. Best is trial 0 with value: 0.5066729470874548.\n"
     ]
    },
    {
     "name": "stderr",
     "output_type": "stream",
     "text": [
      "/usr/local/lib/python3.11/dist-packages/sklearn/metrics/_classification.py:1565: UndefinedMetricWarning: Precision is ill-defined and being set to 0.0 due to no predicted samples. Use `zero_division` parameter to control this behavior.\n",
      "  _warn_prf(average, modifier, f\"{metric.capitalize()} is\", len(result))\n",
      "/usr/local/lib/python3.11/dist-packages/sklearn/metrics/_classification.py:1565: UndefinedMetricWarning: Precision is ill-defined and being set to 0.0 due to no predicted samples. Use `zero_division` parameter to control this behavior.\n",
      "  _warn_prf(average, modifier, f\"{metric.capitalize()} is\", len(result))\n"
     ]
    },
    {
     "name": "stdout",
     "output_type": "stream",
     "text": [
      "[I 2025-05-23 17:17:54,571] Trial 3 finished with value: 0.0 and parameters: {'kernel': 'sigmoid', 'C': 2.8887134274656634, 'degree': 4, 'tol': 2.9971194110070187, 'gamma': 'auto', 'coef0': 0.7446430466643914}. Best is trial 0 with value: 0.5066729470874548.\n",
      "[I 2025-05-23 17:17:54,694] Trial 4 finished with value: 0.0 and parameters: {'kernel': 'sigmoid', 'C': 3.1238601865352345, 'degree': 4, 'tol': 9.149979402626375, 'gamma': 'auto', 'coef0': -1.4726671530973148}. Best is trial 0 with value: 0.5066729470874548.\n"
     ]
    },
    {
     "name": "stderr",
     "output_type": "stream",
     "text": [
      "/usr/local/lib/python3.11/dist-packages/sklearn/metrics/_classification.py:1565: UndefinedMetricWarning: Precision is ill-defined and being set to 0.0 due to no predicted samples. Use `zero_division` parameter to control this behavior.\n",
      "  _warn_prf(average, modifier, f\"{metric.capitalize()} is\", len(result))\n"
     ]
    },
    {
     "name": "stdout",
     "output_type": "stream",
     "text": [
      "[I 2025-05-23 17:18:01,397] Trial 5 finished with value: 0.3936216688510267 and parameters: {'kernel': 'sigmoid', 'C': 0.4269995439293428, 'degree': 3, 'tol': 1.4208678443759593, 'gamma': 'auto', 'coef0': -0.4297067799395604}. Best is trial 0 with value: 0.5066729470874548.\n",
      "[I 2025-05-23 17:18:01,519] Trial 6 finished with value: 0.0 and parameters: {'kernel': 'poly', 'C': 6.831561991189075, 'degree': 3, 'tol': 3.28672860138596, 'gamma': 'auto', 'coef0': -0.5227610836786498}. Best is trial 0 with value: 0.5066729470874548.\n"
     ]
    },
    {
     "name": "stderr",
     "output_type": "stream",
     "text": [
      "/usr/local/lib/python3.11/dist-packages/sklearn/metrics/_classification.py:1565: UndefinedMetricWarning: Precision is ill-defined and being set to 0.0 due to no predicted samples. Use `zero_division` parameter to control this behavior.\n",
      "  _warn_prf(average, modifier, f\"{metric.capitalize()} is\", len(result))\n",
      "/usr/local/lib/python3.11/dist-packages/sklearn/metrics/_classification.py:1565: UndefinedMetricWarning: Precision is ill-defined and being set to 0.0 due to no predicted samples. Use `zero_division` parameter to control this behavior.\n",
      "  _warn_prf(average, modifier, f\"{metric.capitalize()} is\", len(result))\n"
     ]
    },
    {
     "name": "stdout",
     "output_type": "stream",
     "text": [
      "[I 2025-05-23 17:18:02,263] Trial 7 finished with value: 0.0 and parameters: {'kernel': 'rbf', 'C': 0.8499294797186239, 'degree': 2, 'tol': 4.614232854089744, 'gamma': 'scale', 'coef0': 0.7334396581334222}. Best is trial 0 with value: 0.5066729470874548.\n",
      "[I 2025-05-23 17:18:02,415] Trial 8 finished with value: 0.0 and parameters: {'kernel': 'sigmoid', 'C': 3.8836689712165327, 'degree': 2, 'tol': 8.988773518539348, 'gamma': 'scale', 'coef0': -1.54707443915995}. Best is trial 0 with value: 0.5066729470874548.\n",
      "[2025-05-23 17:18:02.418] [CUML] [warning] SVC with the linear kernel can be much faster using the specialized solver provided by LinearSVC. Consider switching to LinearSVC if tranining takes too long.\n"
     ]
    },
    {
     "name": "stderr",
     "output_type": "stream",
     "text": [
      "/usr/local/lib/python3.11/dist-packages/sklearn/metrics/_classification.py:1565: UndefinedMetricWarning: Precision is ill-defined and being set to 0.0 due to no predicted samples. Use `zero_division` parameter to control this behavior.\n",
      "  _warn_prf(average, modifier, f\"{metric.capitalize()} is\", len(result))\n"
     ]
    },
    {
     "name": "stdout",
     "output_type": "stream",
     "text": [
      "[I 2025-05-23 17:18:02,567] Trial 9 finished with value: 0.0 and parameters: {'kernel': 'poly', 'C': 7.739372533746194, 'degree': 1, 'tol': 8.76946932301669, 'gamma': 'scale', 'coef0': -0.4241669462788682}. Best is trial 0 with value: 0.5066729470874548.\n",
      "[I 2025-05-23 17:18:44,593] Trial 10 finished with value: 0.512751677852349 and parameters: {'kernel': 'rbf', 'C': 9.449894433273688, 'degree': 1, 'tol': 0.02035988373987152, 'gamma': 'scale', 'coef0': 4.366367136329522}. Best is trial 10 with value: 0.512751677852349.\n",
      "[I 2025-05-23 17:19:32,067] Trial 11 finished with value: 0.5139495798319328 and parameters: {'kernel': 'rbf', 'C': 9.679355615805749, 'degree': 1, 'tol': 0.009607293474298702, 'gamma': 'scale', 'coef0': 4.735148822072107}. Best is trial 11 with value: 0.5139495798319328.\n"
     ]
    },
    {
     "name": "stderr",
     "output_type": "stream",
     "text": [
      "/usr/local/lib/python3.11/dist-packages/sklearn/metrics/_classification.py:1565: UndefinedMetricWarning: Precision is ill-defined and being set to 0.0 due to no predicted samples. Use `zero_division` parameter to control this behavior.\n",
      "  _warn_prf(average, modifier, f\"{metric.capitalize()} is\", len(result))\n"
     ]
    },
    {
     "name": "stdout",
     "output_type": "stream",
     "text": [
      "[I 2025-05-23 17:20:04,642] Trial 12 finished with value: 0.513673193787981 and parameters: {'kernel': 'rbf', 'C': 9.870983817855725, 'degree': 1, 'tol': 0.130184367730857, 'gamma': 'scale', 'coef0': 4.87588136727119}. Best is trial 11 with value: 0.5139495798319328.\n",
      "[I 2025-05-23 17:20:04,812] Trial 13 finished with value: 0.0 and parameters: {'kernel': 'rbf', 'C': 9.949384561315844, 'degree': 1, 'tol': 6.406630461390873, 'gamma': 'scale', 'coef0': 4.85242059729521}. Best is trial 11 with value: 0.5139495798319328.\n"
     ]
    },
    {
     "name": "stderr",
     "output_type": "stream",
     "text": [
      "/usr/local/lib/python3.11/dist-packages/sklearn/metrics/_classification.py:1565: UndefinedMetricWarning: Precision is ill-defined and being set to 0.0 due to no predicted samples. Use `zero_division` parameter to control this behavior.\n",
      "  _warn_prf(average, modifier, f\"{metric.capitalize()} is\", len(result))\n"
     ]
    },
    {
     "name": "stdout",
     "output_type": "stream",
     "text": [
      "[I 2025-05-23 17:20:28,483] Trial 14 finished with value: 0.5118599705545559 and parameters: {'kernel': 'rbf', 'C': 6.438331477945697, 'degree': 1, 'tol': 0.23392376856867902, 'gamma': 'scale', 'coef0': 2.9241625592044906}. Best is trial 11 with value: 0.5139495798319328.\n",
      "[I 2025-05-23 17:20:28,658] Trial 15 finished with value: 0.0 and parameters: {'kernel': 'rbf', 'C': 8.137304164156323, 'degree': 2, 'tol': 3.0761785416197966, 'gamma': 'scale', 'coef0': 2.997210030424995}. Best is trial 11 with value: 0.5139495798319328.\n"
     ]
    },
    {
     "name": "stderr",
     "output_type": "stream",
     "text": [
      "/usr/local/lib/python3.11/dist-packages/sklearn/metrics/_classification.py:1565: UndefinedMetricWarning: Precision is ill-defined and being set to 0.0 due to no predicted samples. Use `zero_division` parameter to control this behavior.\n",
      "  _warn_prf(average, modifier, f\"{metric.capitalize()} is\", len(result))\n",
      "/usr/local/lib/python3.11/dist-packages/sklearn/metrics/_classification.py:1565: UndefinedMetricWarning: Precision is ill-defined and being set to 0.0 due to no predicted samples. Use `zero_division` parameter to control this behavior.\n",
      "  _warn_prf(average, modifier, f\"{metric.capitalize()} is\", len(result))\n"
     ]
    },
    {
     "name": "stdout",
     "output_type": "stream",
     "text": [
      "[I 2025-05-23 17:20:28,830] Trial 16 finished with value: 0.0 and parameters: {'kernel': 'rbf', 'C': 9.05295480710173, 'degree': 1, 'tol': 4.919563083101608, 'gamma': 'scale', 'coef0': 2.910881079338429}. Best is trial 11 with value: 0.5139495798319328.\n",
      "[I 2025-05-23 17:20:29,016] Trial 17 finished with value: 0.0 and parameters: {'kernel': 'rbf', 'C': 6.151469284881978, 'degree': 2, 'tol': 2.1819754673093965, 'gamma': 'scale', 'coef0': 3.7790169350450755}. Best is trial 11 with value: 0.5139495798319328.\n"
     ]
    },
    {
     "name": "stderr",
     "output_type": "stream",
     "text": [
      "/usr/local/lib/python3.11/dist-packages/sklearn/metrics/_classification.py:1565: UndefinedMetricWarning: Precision is ill-defined and being set to 0.0 due to no predicted samples. Use `zero_division` parameter to control this behavior.\n",
      "  _warn_prf(average, modifier, f\"{metric.capitalize()} is\", len(result))\n"
     ]
    },
    {
     "name": "stdout",
     "output_type": "stream",
     "text": [
      "[I 2025-05-23 17:21:05,221] Trial 18 finished with value: 0.5140482128013301 and parameters: {'kernel': 'rbf', 'C': 8.361234873745383, 'degree': 3, 'tol': 0.03198038003916603, 'gamma': 'scale', 'coef0': 1.7286792737787056}. Best is trial 18 with value: 0.5140482128013301.\n",
      "[I 2025-05-23 17:21:05,394] Trial 19 finished with value: 0.0 and parameters: {'kernel': 'rbf', 'C': 8.527072353547755, 'degree': 3, 'tol': 6.256753649543336, 'gamma': 'scale', 'coef0': 1.710932792324159}. Best is trial 18 with value: 0.5140482128013301.\n"
     ]
    },
    {
     "name": "stderr",
     "output_type": "stream",
     "text": [
      "/usr/local/lib/python3.11/dist-packages/sklearn/metrics/_classification.py:1565: UndefinedMetricWarning: Precision is ill-defined and being set to 0.0 due to no predicted samples. Use `zero_division` parameter to control this behavior.\n",
      "  _warn_prf(average, modifier, f\"{metric.capitalize()} is\", len(result))\n"
     ]
    },
    {
     "name": "stdout",
     "output_type": "stream",
     "text": [
      "[I 2025-05-23 17:21:05,570] Trial 20 finished with value: 0.0 and parameters: {'kernel': 'rbf', 'C': 5.2175473091266875, 'degree': 5, 'tol': 4.155497093681455, 'gamma': 'scale', 'coef0': 2.004824346160506}. Best is trial 18 with value: 0.5140482128013301.\n"
     ]
    },
    {
     "name": "stderr",
     "output_type": "stream",
     "text": [
      "/usr/local/lib/python3.11/dist-packages/sklearn/metrics/_classification.py:1565: UndefinedMetricWarning: Precision is ill-defined and being set to 0.0 due to no predicted samples. Use `zero_division` parameter to control this behavior.\n",
      "  _warn_prf(average, modifier, f\"{metric.capitalize()} is\", len(result))\n"
     ]
    },
    {
     "name": "stdout",
     "output_type": "stream",
     "text": [
      "[I 2025-05-23 17:21:51,647] Trial 21 finished with value: 0.514300134589502 and parameters: {'kernel': 'rbf', 'C': 9.911914301207101, 'degree': 3, 'tol': 0.01213225092771062, 'gamma': 'scale', 'coef0': 3.7617417394811463}. Best is trial 21 with value: 0.514300134589502.\n",
      "[I 2025-05-23 17:21:51,822] Trial 22 finished with value: 0.0 and parameters: {'kernel': 'rbf', 'C': 9.036475079486621, 'degree': 3, 'tol': 2.0182812269615105, 'gamma': 'scale', 'coef0': 3.7136930840147664}. Best is trial 21 with value: 0.514300134589502.\n"
     ]
    },
    {
     "name": "stderr",
     "output_type": "stream",
     "text": [
      "/usr/local/lib/python3.11/dist-packages/sklearn/metrics/_classification.py:1565: UndefinedMetricWarning: Precision is ill-defined and being set to 0.0 due to no predicted samples. Use `zero_division` parameter to control this behavior.\n",
      "  _warn_prf(average, modifier, f\"{metric.capitalize()} is\", len(result))\n"
     ]
    },
    {
     "name": "stdout",
     "output_type": "stream",
     "text": [
      "[I 2025-05-23 17:22:12,361] Trial 23 finished with value: 0.513014827018122 and parameters: {'kernel': 'rbf', 'C': 7.251952150961683, 'degree': 4, 'tol': 0.7518638416005539, 'gamma': 'scale', 'coef0': 1.8296386500817927}. Best is trial 21 with value: 0.514300134589502.\n",
      "[I 2025-05-23 17:22:12,536] Trial 24 finished with value: 0.0 and parameters: {'kernel': 'rbf', 'C': 8.812526148972644, 'degree': 3, 'tol': 2.0901479933016947, 'gamma': 'scale', 'coef0': 3.7089366024233588}. Best is trial 21 with value: 0.514300134589502.\n",
      "[I 2025-05-23 17:22:36,434] Trial 25 finished with value: 0.5131842456608812 and parameters: {'kernel': 'rbf', 'C': 9.925667119505503, 'degree': 4, 'tol': 0.7322382622914677, 'gamma': 'scale', 'coef0': -4.876806018924825}. Best is trial 21 with value: 0.514300134589502.\n",
      "[I 2025-05-23 17:22:52,297] Trial 26 finished with value: 0.5164665523156089 and parameters: {'kernel': 'rbf', 'C': 5.849701479728238, 'degree': 2, 'tol': 1.8310866230495717, 'gamma': 'scale', 'coef0': 2.1321712282404874}. Best is trial 26 with value: 0.5164665523156089.\n"
     ]
    },
    {
     "name": "stderr",
     "output_type": "stream",
     "text": [
      "/usr/local/lib/python3.11/dist-packages/sklearn/metrics/_classification.py:1565: UndefinedMetricWarning: Precision is ill-defined and being set to 0.0 due to no predicted samples. Use `zero_division` parameter to control this behavior.\n",
      "  _warn_prf(average, modifier, f\"{metric.capitalize()} is\", len(result))\n"
     ]
    },
    {
     "name": "stdout",
     "output_type": "stream",
     "text": [
      "[I 2025-05-23 17:23:09,768] Trial 27 finished with value: 0.505369345916043 and parameters: {'kernel': 'rbf', 'C': 7.2713729725889245, 'degree': 2, 'tol': 1.7146780813737639, 'gamma': 'scale', 'coef0': 1.2423199933354798}. Best is trial 26 with value: 0.5164665523156089.\n",
      "[I 2025-05-23 17:23:09,940] Trial 28 finished with value: 0.0 and parameters: {'kernel': 'rbf', 'C': 5.558755782716501, 'degree': 3, 'tol': 2.641612215000287, 'gamma': 'scale', 'coef0': 3.0306013945691745}. Best is trial 26 with value: 0.5164665523156089.\n"
     ]
    },
    {
     "name": "stderr",
     "output_type": "stream",
     "text": [
      "/usr/local/lib/python3.11/dist-packages/sklearn/metrics/_classification.py:1565: UndefinedMetricWarning: Precision is ill-defined and being set to 0.0 due to no predicted samples. Use `zero_division` parameter to control this behavior.\n",
      "  _warn_prf(average, modifier, f\"{metric.capitalize()} is\", len(result))\n"
     ]
    },
    {
     "name": "stdout",
     "output_type": "stream",
     "text": [
      "[I 2025-05-23 17:23:10,117] Trial 29 finished with value: 0.0 and parameters: {'kernel': 'poly', 'C': 4.3440574328443535, 'degree': 3, 'tol': 3.682241670376732, 'gamma': 'scale', 'coef0': 2.512262927214148}. Best is trial 26 with value: 0.5164665523156089.\n",
      "[I 2025-05-23 17:24:10,709] Trial 30 finished with value: 0.5112071725904579 and parameters: {'kernel': 'poly', 'C': 5.748752956537162, 'degree': 2, 'tol': 0.76642249533486, 'gamma': 'scale', 'coef0': 2.1708715453187155}. Best is trial 26 with value: 0.5164665523156089.\n",
      "[I 2025-05-23 17:24:32,308] Trial 31 finished with value: 0.5107553776888444 and parameters: {'kernel': 'rbf', 'C': 9.239666847965307, 'degree': 2, 'tol': 1.0263966911055087, 'gamma': 'scale', 'coef0': 4.146954578260469}. Best is trial 26 with value: 0.5164665523156089.\n",
      "[I 2025-05-23 17:25:07,694] Trial 32 finished with value: 0.5130420335603921 and parameters: {'kernel': 'rbf', 'C': 8.308287961123218, 'degree': 3, 'tol': 0.036474506156687334, 'gamma': 'scale', 'coef0': 3.484140346373907}. Best is trial 26 with value: 0.5164665523156089.\n",
      "[I 2025-05-23 17:25:26,696] Trial 33 finished with value: 0.5164199421473541 and parameters: {'kernel': 'rbf', 'C': 7.848275150470775, 'degree': 2, 'tol': 1.3008972976055935, 'gamma': 'scale', 'coef0': 1.1480808786611982}. Best is trial 26 with value: 0.5164665523156089.\n"
     ]
    },
    {
     "name": "stderr",
     "output_type": "stream",
     "text": [
      "/usr/local/lib/python3.11/dist-packages/sklearn/metrics/_classification.py:1565: UndefinedMetricWarning: Precision is ill-defined and being set to 0.0 due to no predicted samples. Use `zero_division` parameter to control this behavior.\n",
      "  _warn_prf(average, modifier, f\"{metric.capitalize()} is\", len(result))\n"
     ]
    },
    {
     "name": "stdout",
     "output_type": "stream",
     "text": [
      "[I 2025-05-23 17:25:45,309] Trial 34 finished with value: 0.5129716981132075 and parameters: {'kernel': 'rbf', 'C': 7.635740992903343, 'degree': 2, 'tol': 1.4185942733871502, 'gamma': 'auto', 'coef0': 1.2261613679274357}. Best is trial 26 with value: 0.5164665523156089.\n",
      "[I 2025-05-23 17:25:45,454] Trial 35 finished with value: 0.0 and parameters: {'kernel': 'sigmoid', 'C': 6.815232786157773, 'degree': 4, 'tol': 2.4224371035513625, 'gamma': 'auto', 'coef0': 1.301193730126617}. Best is trial 26 with value: 0.5164665523156089.\n"
     ]
    },
    {
     "name": "stderr",
     "output_type": "stream",
     "text": [
      "/usr/local/lib/python3.11/dist-packages/sklearn/metrics/_classification.py:1565: UndefinedMetricWarning: Precision is ill-defined and being set to 0.0 due to no predicted samples. Use `zero_division` parameter to control this behavior.\n",
      "  _warn_prf(average, modifier, f\"{metric.capitalize()} is\", len(result))\n"
     ]
    },
    {
     "name": "stdout",
     "output_type": "stream",
     "text": [
      "[I 2025-05-23 17:25:45,623] Trial 36 finished with value: 0.0 and parameters: {'kernel': 'rbf', 'C': 2.527557330712815, 'degree': 3, 'tol': 5.7770485354734715, 'gamma': 'scale', 'coef0': 0.46480179375321673}. Best is trial 26 with value: 0.5164665523156089.\n",
      "[I 2025-05-23 17:25:52,376] Trial 37 finished with value: 0.3960425280567041 and parameters: {'kernel': 'sigmoid', 'C': 8.460401331539552, 'degree': 5, 'tol': 1.2986275989650813, 'gamma': 'auto', 'coef0': -1.5698283043723902}. Best is trial 26 with value: 0.5164665523156089.\n",
      "[I 2025-05-23 17:25:59,834] Trial 38 finished with value: 0.3858187134502924 and parameters: {'kernel': 'poly', 'C': 7.809598230788401, 'degree': 3, 'tol': 0.6507285081492284, 'gamma': 'scale', 'coef0': -2.642603192087366}. Best is trial 26 with value: 0.5164665523156089.\n"
     ]
    },
    {
     "name": "stderr",
     "output_type": "stream",
     "text": [
      "/usr/local/lib/python3.11/dist-packages/sklearn/metrics/_classification.py:1565: UndefinedMetricWarning: Precision is ill-defined and being set to 0.0 due to no predicted samples. Use `zero_division` parameter to control this behavior.\n",
      "  _warn_prf(average, modifier, f\"{metric.capitalize()} is\", len(result))\n"
     ]
    },
    {
     "name": "stdout",
     "output_type": "stream",
     "text": [
      "[I 2025-05-23 17:26:14,483] Trial 39 finished with value: 0.5035948234542259 and parameters: {'kernel': 'rbf', 'C': 4.596005838187244, 'degree': 4, 'tol': 1.7701010598408626, 'gamma': 'auto', 'coef0': -0.09004479082641836}. Best is trial 26 with value: 0.5164665523156089.\n",
      "[I 2025-05-23 17:26:14,655] Trial 40 finished with value: 0.0 and parameters: {'kernel': 'sigmoid', 'C': 6.71665719909347, 'degree': 2, 'tol': 9.785564927416631, 'gamma': 'scale', 'coef0': 2.541010721397387}. Best is trial 26 with value: 0.5164665523156089.\n",
      "[I 2025-05-23 17:26:40,185] Trial 41 finished with value: 0.5155773789366745 and parameters: {'kernel': 'rbf', 'C': 9.483134158462667, 'degree': 1, 'tol': 0.4859314288456458, 'gamma': 'scale', 'coef0': 4.474860124885557}. Best is trial 26 with value: 0.5164665523156089.\n",
      "[I 2025-05-23 17:27:00,309] Trial 42 finished with value: 0.5121910206826972 and parameters: {'kernel': 'rbf', 'C': 8.70961625785111, 'degree': 2, 'tol': 1.2279425979867753, 'gamma': 'scale', 'coef0': 1.0813306202530668}. Best is trial 26 with value: 0.5164665523156089.\n",
      "[I 2025-05-23 17:27:25,308] Trial 43 finished with value: 0.5144116649711766 and parameters: {'kernel': 'rbf', 'C': 9.32317078093663, 'degree': 1, 'tol': 0.5114068701950972, 'gamma': 'scale', 'coef0': 2.3658124630073485}. Best is trial 26 with value: 0.5164665523156089.\n"
     ]
    },
    {
     "name": "stderr",
     "output_type": "stream",
     "text": [
      "/usr/local/lib/python3.11/dist-packages/sklearn/metrics/_classification.py:1565: UndefinedMetricWarning: Precision is ill-defined and being set to 0.0 due to no predicted samples. Use `zero_division` parameter to control this behavior.\n",
      "  _warn_prf(average, modifier, f\"{metric.capitalize()} is\", len(result))\n"
     ]
    },
    {
     "name": "stdout",
     "output_type": "stream",
     "text": [
      "[I 2025-05-23 17:27:49,370] Trial 44 finished with value: 0.5130724396336387 and parameters: {'kernel': 'rbf', 'C': 9.277896470501176, 'degree': 1, 'tol': 0.6111096623137282, 'gamma': 'scale', 'coef0': 4.2138310599493085}. Best is trial 26 with value: 0.5164665523156089.\n",
      "[I 2025-05-23 17:27:49,543] Trial 45 finished with value: 0.0 and parameters: {'kernel': 'rbf', 'C': 9.56198794694979, 'degree': 1, 'tol': 2.845388390230857, 'gamma': 'scale', 'coef0': 2.440954979947664}. Best is trial 26 with value: 0.5164665523156089.\n",
      "[I 2025-05-23 17:28:10,314] Trial 46 finished with value: 0.49523076923076925 and parameters: {'kernel': 'poly', 'C': 7.226807246043526, 'degree': 1, 'tol': 1.6097210684628358, 'gamma': 'scale', 'coef0': 3.3006952657865454}. Best is trial 26 with value: 0.5164665523156089.\n"
     ]
    },
    {
     "name": "stderr",
     "output_type": "stream",
     "text": [
      "/usr/local/lib/python3.11/dist-packages/sklearn/metrics/_classification.py:1565: UndefinedMetricWarning: Precision is ill-defined and being set to 0.0 due to no predicted samples. Use `zero_division` parameter to control this behavior.\n",
      "  _warn_prf(average, modifier, f\"{metric.capitalize()} is\", len(result))\n"
     ]
    },
    {
     "name": "stdout",
     "output_type": "stream",
     "text": [
      "[I 2025-05-23 17:28:24,469] Trial 47 finished with value: 0.5095682429226633 and parameters: {'kernel': 'rbf', 'C': 1.6050974611075657, 'degree': 1, 'tol': 0.4952348305121297, 'gamma': 'auto', 'coef0': 4.306759428322116}. Best is trial 26 with value: 0.5164665523156089.\n",
      "[I 2025-05-23 17:28:24,642] Trial 48 finished with value: 0.0 and parameters: {'kernel': 'rbf', 'C': 9.506146845024928, 'degree': 1, 'tol': 7.820623689528866, 'gamma': 'scale', 'coef0': 0.6076906909820554}. Best is trial 26 with value: 0.5164665523156089.\n"
     ]
    },
    {
     "name": "stderr",
     "output_type": "stream",
     "text": [
      "/usr/local/lib/python3.11/dist-packages/sklearn/metrics/_classification.py:1565: UndefinedMetricWarning: Precision is ill-defined and being set to 0.0 due to no predicted samples. Use `zero_division` parameter to control this behavior.\n",
      "  _warn_prf(average, modifier, f\"{metric.capitalize()} is\", len(result))\n"
     ]
    },
    {
     "name": "stdout",
     "output_type": "stream",
     "text": [
      "[I 2025-05-23 17:28:24,813] Trial 49 finished with value: 0.0 and parameters: {'kernel': 'sigmoid', 'C': 7.865882320710023, 'degree': 2, 'tol': 3.5663100201794053, 'gamma': 'scale', 'coef0': 4.676294724045283}. Best is trial 26 with value: 0.5164665523156089.\n",
      "[I 2025-05-23 17:28:39,335] Trial 50 finished with value: 0.5085185786143113 and parameters: {'kernel': 'rbf', 'C': 3.6554637357840996, 'degree': 1, 'tol': 1.2916240451495449, 'gamma': 'scale', 'coef0': 2.5439560413693982}. Best is trial 26 with value: 0.5164665523156089.\n",
      "[I 2025-05-23 17:29:05,285] Trial 51 finished with value: 0.5152490681125043 and parameters: {'kernel': 'rbf', 'C': 8.87012862424838, 'degree': 3, 'tol': 0.3656124419581627, 'gamma': 'scale', 'coef0': 1.6613672504277377}. Best is trial 26 with value: 0.5164665523156089.\n",
      "[I 2025-05-23 17:29:26,621] Trial 52 finished with value: 0.5117096018735363 and parameters: {'kernel': 'rbf', 'C': 8.889176246724631, 'degree': 2, 'tol': 1.0217960223009426, 'gamma': 'scale', 'coef0': -0.9619222605750641}. Best is trial 26 with value: 0.5164665523156089.\n",
      "[I 2025-05-23 17:29:53,502] Trial 53 finished with value: 0.5122606650990931 and parameters: {'kernel': 'rbf', 'C': 9.908646273143285, 'degree': 1, 'tol': 0.4089415353313782, 'gamma': 'scale', 'coef0': 0.8505757993006278}. Best is trial 26 with value: 0.5164665523156089.\n",
      "[I 2025-05-23 17:30:15,446] Trial 54 finished with value: 0.512141652613828 and parameters: {'kernel': 'rbf', 'C': 9.360337587620986, 'degree': 3, 'tol': 1.0027691986617735, 'gamma': 'scale', 'coef0': 1.6555625448364604}. Best is trial 26 with value: 0.5164665523156089.\n",
      "[I 2025-05-23 17:30:41,330] Trial 55 finished with value: 0.5153394803017602 and parameters: {'kernel': 'rbf', 'C': 8.104529701248465, 'degree': 2, 'tol': 0.28898153679949046, 'gamma': 'scale', 'coef0': 0.07566336475343327}. Best is trial 26 with value: 0.5164665523156089.\n",
      "[I 2025-05-23 17:31:05,929] Trial 56 finished with value: 0.5119244783040742 and parameters: {'kernel': 'rbf', 'C': 8.201777656859981, 'degree': 2, 'tol': 0.4015162512920144, 'gamma': 'scale', 'coef0': 0.027142929772940194}. Best is trial 26 with value: 0.5164665523156089.\n"
     ]
    },
    {
     "name": "stderr",
     "output_type": "stream",
     "text": [
      "/usr/local/lib/python3.11/dist-packages/sklearn/metrics/_classification.py:1565: UndefinedMetricWarning: Precision is ill-defined and being set to 0.0 due to no predicted samples. Use `zero_division` parameter to control this behavior.\n",
      "  _warn_prf(average, modifier, f\"{metric.capitalize()} is\", len(result))\n"
     ]
    },
    {
     "name": "stdout",
     "output_type": "stream",
     "text": [
      "[I 2025-05-23 17:31:22,158] Trial 57 finished with value: 0.5062939349354258 and parameters: {'kernel': 'rbf', 'C': 6.285957489920271, 'degree': 2, 'tol': 1.8285880926006528, 'gamma': 'scale', 'coef0': -0.9262887015568257}. Best is trial 26 with value: 0.5164665523156089.\n",
      "[I 2025-05-23 17:31:22,329] Trial 58 finished with value: 0.0 and parameters: {'kernel': 'rbf', 'C': 7.367824349831407, 'degree': 1, 'tol': 2.499772996257966, 'gamma': 'scale', 'coef0': 0.11413124460308977}. Best is trial 26 with value: 0.5164665523156089.\n"
     ]
    },
    {
     "name": "stderr",
     "output_type": "stream",
     "text": [
      "/usr/local/lib/python3.11/dist-packages/sklearn/metrics/_classification.py:1565: UndefinedMetricWarning: Precision is ill-defined and being set to 0.0 due to no predicted samples. Use `zero_division` parameter to control this behavior.\n",
      "  _warn_prf(average, modifier, f\"{metric.capitalize()} is\", len(result))\n"
     ]
    },
    {
     "name": "stdout",
     "output_type": "stream",
     "text": [
      "[I 2025-05-23 17:31:44,197] Trial 59 finished with value: 0.5139515455304929 and parameters: {'kernel': 'rbf', 'C': 8.77002004179334, 'degree': 2, 'tol': 0.9148973076688737, 'gamma': 'scale', 'coef0': -0.2954301674744441}. Best is trial 26 with value: 0.5164665523156089.\n",
      "[I 2025-05-23 17:31:44,371] Trial 60 finished with value: 0.0 and parameters: {'kernel': 'rbf', 'C': 8.069598645199333, 'degree': 1, 'tol': 2.217134685192774, 'gamma': 'scale', 'coef0': 2.089781328681779}. Best is trial 26 with value: 0.5164665523156089.\n",
      "[I 2025-05-23 17:32:12,162] Trial 61 finished with value: 0.5135180520570949 and parameters: {'kernel': 'rbf', 'C': 9.108375220835567, 'degree': 3, 'tol': 0.27991365963348036, 'gamma': 'scale', 'coef0': 1.5105000084886637}. Best is trial 26 with value: 0.5164665523156089.\n",
      "[I 2025-05-23 17:32:56,233] Trial 62 finished with value: 0.5138539042821159 and parameters: {'kernel': 'rbf', 'C': 9.672174733005749, 'degree': 2, 'tol': 0.01507805847771072, 'gamma': 'scale', 'coef0': 0.9174428220774195}. Best is trial 26 with value: 0.5164665523156089.\n",
      "[I 2025-05-23 17:33:15,297] Trial 63 finished with value: 0.5078125 and parameters: {'kernel': 'rbf', 'C': 8.614819562837212, 'degree': 2, 'tol': 1.5550325097531394, 'gamma': 'scale', 'coef0': 3.9028506067954516}. Best is trial 26 with value: 0.5164665523156089.\n",
      "[I 2025-05-23 17:33:37,658] Trial 64 finished with value: 0.5142092945503176 and parameters: {'kernel': 'rbf', 'C': 7.532028745745622, 'degree': 3, 'tol': 0.5182735243956339, 'gamma': 'scale', 'coef0': 4.9940684788157865}. Best is trial 26 with value: 0.5164665523156089.\n"
     ]
    }
   ],
   "source": [
    "def objective_SVM(trial):\n",
    "\n",
    "    # Define hyperparameters to tune\n",
    "    params = {\n",
    "        'kernel': trial.suggest_categorical(\"kernel\", ['poly', 'rbf', 'sigmoid']),\n",
    "        'C': trial.suggest_float(\"C\", 1e-5, 10),\n",
    "        'degree': trial.suggest_int(\"degree\", 1, 5),\n",
    "        'tol': trial.suggest_float(\"tol\", 0, 10),\n",
    "        'gamma': trial.suggest_categorical(\"gamma\", ['scale', 'auto']),\n",
    "        'coef0': trial.suggest_float(\"coef0\", -5, 5)\n",
    "    }\n",
    "\n",
    "    # Create the model with suggested hyperparameters\n",
    "    model = cuML_SVC(**params, class_weight='balanced', random_state=42)\n",
    "\n",
    "    # Train the model\n",
    "    model.fit(X_train_scaled, y_train)\n",
    "\n",
    "    # Predict\n",
    "    y_pred = model.predict(X_test_scaled)\n",
    "    metric_value = precision_score(y_test, y_pred)\n",
    "\n",
    "    return metric_value\n",
    "\n",
    "# Create and run the Optuna study\n",
    "study_pac = optuna.create_study(direction=\"maximize\")\n",
    "study_pac.optimize(objective_SVM, n_trials=5000, show_progress_bar=True)\n",
    "\n",
    "study_pac.best_params"
   ]
  },
  {
   "cell_type": "code",
   "execution_count": null,
   "metadata": {
    "id": "BfD7NK6hIiYH"
   },
   "outputs": [],
   "source": [
    "{'kernel': 'poly', 'C': 6.986853818076061, 'degree': 2, 'tol': 0.07491954249556732, 'gamma': 'auto', 'coef0': 3.4443248098226604}"
   ]
  },
  {
   "cell_type": "markdown",
   "metadata": {
    "id": "2KCiFf69F1aV"
   },
   "source": [
    "## XGBoost"
   ]
  },
  {
   "cell_type": "markdown",
   "metadata": {
    "id": "V23k-IC9LAXJ"
   },
   "source": [
    "download the package:"
   ]
  },
  {
   "cell_type": "code",
   "execution_count": null,
   "metadata": {
    "id": "mhnCoMc3K5ot"
   },
   "outputs": [],
   "source": [
    "!pip install xgboost\n",
    "from xgboost import XGBClassifier"
   ]
  },
  {
   "cell_type": "code",
   "execution_count": null,
   "metadata": {
    "id": "MLSbyW-hWtAe"
   },
   "outputs": [],
   "source": [
    "best_params = {'objective': 'binary:logistic',\n",
    " 'eval_metric': 'error',\n",
    " 'n_estimators': 827,\n",
    " 'learning_rate': 0.5612403948506814,\n",
    " 'max_depth': 9,\n",
    " 'max_leaves': 6,\n",
    " 'min_child_weight': 1,\n",
    " 'subsample': 0.7377291105293949,\n",
    " 'colsample_bytree': 0.854772161567795,\n",
    " 'gamma': 1.3236554925385269,\n",
    " 'reg_alpha': 0.00011289754307432173,\n",
    " 'reg_lambda': 0.8602760073845163}\n",
    "\n",
    "xgb_model = XGBClassifier(n_jobs=-1, **best_params).fit(X_train, y_train)\n",
    "\n",
    "# evaluate on test set\n",
    "y_pred_xgb  = xgb_model.predict(X_test)\n",
    "# assess accuracy of the model\n",
    "accuracy(y_test, y_pred_xgb)\n",
    "# show confussion matrix\n",
    "XGB_cm1 = matrix(y_test, y_pred_xgb)"
   ]
  },
  {
   "cell_type": "markdown",
   "metadata": {
    "id": "7mlW7K_c2Qbo"
   },
   "source": [
    "# 3. Fine-tuning:"
   ]
  },
  {
   "cell_type": "markdown",
   "metadata": {
    "id": "HEjwDaiTFaGy"
   },
   "source": [
    "The biggest challenge is to pick the right set of parameters as well as the right accuracy metric. We really care about false positives, since we want to minimize our trading losses"
   ]
  },
  {
   "cell_type": "code",
   "execution_count": null,
   "metadata": {
    "id": "_dETRBM72Vhh"
   },
   "outputs": [],
   "source": [
    "Cs = [0.01, 0.1, 1, 10, 100]\n",
    "\n",
    "param_grid = [\n",
    "    # solvers that only support l2 or no penalty\n",
    "    {\n",
    "        'solver': ['lbfgs','newton-cg','newton-cholesky','sag'],\n",
    "        'fit_intercept': [True, False],\n",
    "        'intercept_scaling': [1, 5, 10, 20],\n",
    "        'penalty': ['l2', None],\n",
    "        'tol': [1e-3, 1e-4, 1e-5],\n",
    "        'C': Cs\n",
    "    },\n",
    "\n",
    "    # liblinear only supports l1 or l2\n",
    "    {\n",
    "        'solver': ['liblinear'],\n",
    "        'fit_intercept': [True, False],\n",
    "        'intercept_scaling': [1, 5, 10, 20],\n",
    "        'penalty': ['l1','l2'],\n",
    "        'tol': [1e-3, 1e-4, 1e-5],\n",
    "        'C': Cs\n",
    "    },\n",
    "\n",
    "    # saga supports all four, but elasticnet *requires* l1_ratio\n",
    "    {\n",
    "        'fit_intercept': [True, False],\n",
    "        'intercept_scaling': [1, 5, 10, 20],\n",
    "        'solver': ['saga'],\n",
    "        'penalty': ['l1','l2','elasticnet', None],\n",
    "        'l1_ratio': [0.0, 0.5, 1.0],\n",
    "        'tol': [1e-3, 1e-4, 1e-5],\n",
    "        'C': Cs\n",
    "    }\n",
    "]\n",
    "\n",
    "# NOTE: saga supports all three penalties\n",
    "base = LogisticRegression(\n",
    "    class_weight='balanced',\n",
    "    max_iter=10000,\n",
    "    random_state = 42\n",
    ")\n",
    "\n",
    "grid = GridSearchCV(\n",
    "    base,\n",
    "    param_grid,\n",
    "    cv=5,\n",
    "    scoring='f1',\n",
    "    n_jobs=-1,\n",
    "    refit=True\n",
    ")\n",
    "\n",
    "grid.fit(X_train_scaled, y_train)\n",
    "\n",
    "print(\"Best params:\", grid.best_params_)\n",
    "\n",
    "# evaluate on test set\n",
    "y_pred  = grid.predict(X_test_scaled)\n",
    "print(classification_report(y_test, y_pred))\n",
    "\n",
    "cm = confusion_matrix(y_pred, y_test, labels=[0,1])\n",
    "disp = ConfusionMatrixDisplay(confusion_matrix=cm, display_labels=[\"<550ms\",\"≥550ms\"])\n",
    "disp.plot(cmap=plt.cm.Blues)\n",
    "plt.title(\"Confusion Matrix\")\n",
    "plt.show()\n"
   ]
  },
  {
   "cell_type": "code",
   "execution_count": null,
   "metadata": {
    "id": "YbU1LZiK2T6f"
   },
   "outputs": [],
   "source": [
    "alphas = [0.01, 0.1, 1.0, 10.0, 100.0]\n",
    "solvers = ['svd', 'cholesky', 'lsqr', 'sparse_cg', 'sag', 'saga']\n",
    "\n",
    "# Base model\n",
    "ridge = RidgeClassifier(class_weight='balanced', random_state=42)\n",
    "\n",
    "# Grid definition\n",
    "param_grid = {\n",
    "    'alpha': alphas,\n",
    "    'solver': solvers,\n",
    "    'tol': [1e-4, 1e-3, 1e-2],\n",
    "    'positive': [True, False]\n",
    "}\n",
    "\n",
    "# GridSearchCV\n",
    "grid = GridSearchCV(\n",
    "    estimator=ridge,\n",
    "    param_grid=param_grid,\n",
    "    cv=5,\n",
    "    scoring='f1',\n",
    "    n_jobs=-1,\n",
    "    verbose=1,\n",
    "    refit=True\n",
    ")\n",
    "\n",
    "# Fit the grid\n",
    "grid.fit(X_train_scaled, y_train)\n",
    "\n",
    "# Best result\n",
    "print(\"Best parameters:\", grid.best_params_)\n",
    "print(\"Best score:\", grid.best_score_)\n",
    "\n",
    "y_pred_ridge  = grid.predict(X_test_scaled)\n",
    "cm_ridge = matrix(y_test, y_pred_ridge)"
   ]
  },
  {
   "cell_type": "code",
   "execution_count": null,
   "metadata": {
    "id": "SKtlqGCI3UY2"
   },
   "outputs": [],
   "source": [
    "def objective_ridge(trial):\n",
    "    # Define hyperparameters to tune\n",
    "    positive = trial.suggest_categorical('positive', [True, False])\n",
    "\n",
    "    if positive == False:\n",
    "      params = {\n",
    "          'alpha': trial.suggest_float(\"alpha\", 0.01, 100),\n",
    "          'solver': trial.suggest_categorical(\"solver\", ['svd', 'cholesky', 'lsqr', 'sparse_cg', 'sag', 'saga']),\n",
    "          'tol': trial.suggest_float(\"tol\", 1e-4, 1e-2)\n",
    "      }\n",
    "    else:\n",
    "      params = {\n",
    "          'alpha': trial.suggest_float(\"alpha\", 0.01, 100),\n",
    "          'solver': 'lbfgs',\n",
    "          'tol': trial.suggest_float(\"tol\", 1e-4, 1e-1),\n",
    "          'positive': True\n",
    "      }\n",
    "\n",
    "    # Create the XGBoost model with suggested hyperparameters\n",
    "    model = RidgeClassifier(**params, class_weight='balanced', random_state=42)\n",
    "\n",
    "    # Train the model\n",
    "    model.fit(X_train_scaled, y_train)\n",
    "\n",
    "    # Evaluate the model\n",
    "    y_pred = model.predict(X_test_scaled)\n",
    "    metric_value = f1_score(y_test, y_pred)\n",
    "\n",
    "    return metric_value\n",
    "\n",
    "# Create and run the Optuna study\n",
    "study_ridge = optuna.create_study(direction=\"maximize\")\n",
    "study_ridge.optimize(objective_ridge, n_trials=1000, show_progress_bar=True)\n",
    "\n",
    "study_pac.best_params"
   ]
  },
  {
   "cell_type": "code",
   "execution_count": null,
   "metadata": {
    "id": "JsLxT1Eb2jjP"
   },
   "outputs": [],
   "source": [
    "def objective_xgb(trial):\n",
    "    # Define hyperparameters to tune\n",
    "    params = {\n",
    "        \"objective\": trial.suggest_categorical(\"objective\", [\"binary:hinge\", \"binary:logistic\"]),\n",
    "        \"eval_metric\": trial.suggest_categorical(\"eval_metric\", [\"error\", \"auc\"]),\n",
    "        \"random_state\": 42,\n",
    "        \"n_jobs\": -1,\n",
    "        \"n_estimators\": trial.suggest_int(\"n_estimators\", 100, 1000),\n",
    "        \"learning_rate\": trial.suggest_float(\"learning_rate\", 0.01, 1, log=True),\n",
    "        \"max_depth\": trial.suggest_int(\"max_depth\", 2, 10),\n",
    "        'max_leaves': trial.suggest_int(\"max_leaves\", 0, 10),\n",
    "        'min_child_weight': trial.suggest_int(\"min_child_weight\", 0, 5),\n",
    "        \"subsample\": trial.suggest_float(\"subsample\", 0.5, 1.0),\n",
    "        \"colsample_bytree\": trial.suggest_float(\"colsample_bytree\", 0.5, 1.0),\n",
    "        \"gamma\": trial.suggest_float(\"gamma\", 0, 5),\n",
    "        \"reg_alpha\": trial.suggest_float(\"reg_alpha\", 1e-4, 1.0, log=True),\n",
    "        \"reg_lambda\": trial.suggest_float(\"reg_lambda\", 1e-4, 1.0, log=True),\n",
    "    }\n",
    "\n",
    "    # Create the XGBoost model with suggested hyperparameters\n",
    "    model = XGBClassifier(**params)\n",
    "\n",
    "    # Train the model\n",
    "    model.fit(X_train, y_train)\n",
    "\n",
    "    y_pred = model.predict(X_test)\n",
    "    metric_value = f1_score(y_test, y_pred)\n",
    "\n",
    "    return metric_value\n",
    "\n",
    "# Create and run the Optuna study\n",
    "study_xgb = optuna.create_study(direction=\"maximize\")\n",
    "study_xgb.optimize(objective_xgb, n_trials=100, show_progress_bar=True)\n",
    "\n",
    "study_pac.best_params"
   ]
  },
  {
   "cell_type": "code",
   "execution_count": null,
   "metadata": {
    "id": "SBiJb4nK5HLj"
   },
   "outputs": [],
   "source": [
    "def objective_sgd(trial):\n",
    "    # Define hyperparameters to tune\n",
    "\n",
    "    params = {\n",
    "        'loss': trial.suggest_categorical(\"solver\", [\"hinge\", \"log_loss\", \"squared_hinge\", \"modified_huber\", \"perceptron\", 'squared_error', 'huber', 'epsilon_insensitive', 'squared_epsilon_insensitive']),\n",
    "        'penalty': trial.suggest_categorical(\"penalty\", [\"l2\", \"l1\", \"elasticnet\", None]),\n",
    "        'alpha': trial.suggest_float(\"alpha\", 1e-5, 100),\n",
    "        'l1_ratio': trial.suggest_float(\"l1_ratio\", 0.0, 1.0),\n",
    "        'fit_intercept': trial.suggest_categorical(\"fit_intercept\", [True, False]),\n",
    "        'tol': trial.suggest_float(\"tol\", 0, 10),\n",
    "        'shuffle' : trial.suggest_categorical(\"shuffle\", [True, False]),\n",
    "        'learning_rate': trial.suggest_categorical(\"learning_rate\", [\"constant\", \"optimal\", \"invscaling\", \"adaptive\"]),\n",
    "        'power_t': trial.suggest_float(\"power_t\", -10, 10),\n",
    "        'early_stopping': trial.suggest_categorical(\"early_stopping\", [True, False]),\n",
    "        'average' : trial.suggest_categorical(\"average\", [False, True])\n",
    "\n",
    "    }\n",
    "\n",
    "    params['eta0'] = trial.suggest_float(\"eta0\", 0, 10) if params['learning_rate'] in (\"constant\", \"invscaling\", \"adaptive\") else 0.0\n",
    "    params['epsilon'] = trial.suggest_float(\"epsilon\", 0, 10) if params['loss'] in ('huber', 'epsilon_insensitive', 'squared_epsilon_insensitive') else 0.0\n",
    "    params['validation_fraction'] = 0.2 if params['early_stopping'] else 0.1\n",
    "    params['n_iter_no_change'] = trial.suggest_int(\"n_iter_no_change\", 5, 20) if params['early_stopping'] else 5\n",
    "    params['max_iter'] = trial.suggest_int(\"max_iter\", 100, 100000)\n",
    "\n",
    "    # Create the model with suggested hyperparameters\n",
    "    model = SGDClassifier(**params, class_weight='balanced', random_state=42, n_jobs=-1)\n",
    "\n",
    "    # Train the model\n",
    "    model.fit(X_train_scaled, y_train)\n",
    "\n",
    "    y_pred = model.predict(X_test_scaled)\n",
    "    metric_value = f1_score(y_test, y_pred)\n",
    "\n",
    "    return metric_value\n",
    "\n",
    "# Create and run the Optuna study\n",
    "study_sgd = optuna.create_study(direction=\"maximize\")\n",
    "study_sgd.optimize(objective_sgd, n_trials=5000, show_progress_bar=True)\n",
    "\n",
    "study_pac.best_params"
   ]
  },
  {
   "cell_type": "code",
   "execution_count": null,
   "metadata": {
    "id": "kGi-S_Rz5WSZ"
   },
   "outputs": [],
   "source": [
    "def objective_xgb(trial):\n",
    "    # Define hyperparameters to tune\n",
    "    params = {\n",
    "        \"objective\": trial.suggest_categorical(\"objective\", [\"binary:hinge\", \"binary:logistic\"]),\n",
    "        \"eval_metric\": trial.suggest_categorical(\"eval_metric\", [\"error\", \"auc\"]),\n",
    "        \"random_state\": 42,\n",
    "        \"n_jobs\": -1,\n",
    "        'device': 'cuda',\n",
    "        \"n_estimators\": trial.suggest_int(\"n_estimators\", 100, 1000),\n",
    "        \"learning_rate\": trial.suggest_float(\"learning_rate\", 0.01, 1, log=True),\n",
    "        \"max_depth\": trial.suggest_int(\"max_depth\", 2, 10),\n",
    "        'max_leaves': trial.suggest_int(\"max_leaves\", 0, 10),\n",
    "        'min_child_weight': trial.suggest_int(\"min_child_weight\", 0, 5),\n",
    "        \"subsample\": trial.suggest_float(\"subsample\", 0.5, 1.0),\n",
    "        \"colsample_bytree\": trial.suggest_float(\"colsample_bytree\", 0.5, 1.0),\n",
    "        \"gamma\": trial.suggest_float(\"gamma\", 0, 5),\n",
    "        \"reg_alpha\": trial.suggest_float(\"reg_alpha\", 1e-4, 1.0, log=True),\n",
    "        \"reg_lambda\": trial.suggest_float(\"reg_lambda\", 1e-4, 1.0, log=True),\n",
    "    }\n",
    "\n",
    "    # Create the XGBoost model with suggested hyperparameters\n",
    "    model = XGBClassifier(**params)\n",
    "\n",
    "    # Train the model\n",
    "    model.fit(X_train, y_train)\n",
    "\n",
    "    # Evaluate the model\n",
    "\n",
    "    y_pred = model.predict(X_test)\n",
    "    metric_value = f1_score(y_test, y_pred)\n",
    "\n",
    "    return metric_value\n",
    "\n",
    "# Create and run the Optuna study\n",
    "study_xgb = optuna.create_study(direction=\"maximize\")\n",
    "study_xgb.optimize(objective_xgb, n_trials=100, show_progress_bar=True)\n",
    "\n",
    "study_pac.best_params"
   ]
  },
  {
   "cell_type": "code",
   "execution_count": null,
   "metadata": {
    "id": "pZhnmOyFaTnW"
   },
   "outputs": [],
   "source": [
    "def objective_pac(trial):\n",
    "    # Define hyperparameters to tune\n",
    "\n",
    "    params = {\n",
    "        'loss': trial.suggest_categorical(\"loss\", [\"hinge\", \"squared_hinge\"]),\n",
    "        'C': trial.suggest_float(\"C\", 1e-5, 10),\n",
    "        'fit_intercept': trial.suggest_categorical(\"fit_intercept\", [True, False]),\n",
    "        'tol': trial.suggest_float(\"tol\", 0, 10)\n",
    "    }\n",
    "\n",
    "    # Create the model with suggested hyperparameters\n",
    "    model = PassiveAggressiveClassifier(**params, class_weight='balanced', max_iter=100000, random_state=42, n_jobs=-1)\n",
    "\n",
    "    # Train the model\n",
    "    model.fit(X_train_scaled, y_train)\n",
    "\n",
    "    y_pred = model.predict(X_test_scaled)\n",
    "    metric_value = f1_score(y_test, y_pred)\n",
    "\n",
    "    return metric_value\n",
    "\n",
    "# Create and run the Optuna study\n",
    "study_pac = optuna.create_study(direction=\"maximize\")\n",
    "study_pac.optimize(objective_pac, n_trials=5000, show_progress_bar=True)\n",
    "\n",
    "study_pac.best_params"
   ]
  },
  {
   "cell_type": "markdown",
   "metadata": {
    "id": "cfeAz8ok5cYI"
   },
   "source": [
    "# 5. Model averaging"
   ]
  },
  {
   "cell_type": "code",
   "execution_count": null,
   "metadata": {
    "id": "4pkQ-Lie5p75"
   },
   "outputs": [],
   "source": [
    "X_avg = np.vstack([y_train_pred_svm, y_train_pred_log, y_train_pred_xgb])\n",
    "X_test_avg = np.vstack([y_pred_svm, y_pred, y_pred_xgb])\n",
    "\n",
    "beta = np.linalg.pinv(X_avg.T) @ y_train\n",
    "\n",
    "y_pred_avg = X_test_avg.T @ beta\n",
    "y_pred_avg_binary = (y_pred_avg >= 0.5).astype(int)\n",
    "y_pred_avg_binary\n",
    "\n",
    "accuracy_score(y_test, y_pred_avg_binary)"
   ]
  },
  {
   "cell_type": "markdown",
   "metadata": {
    "id": "PGhjzhpm5H1z"
   },
   "source": [
    "# Appendix:"
   ]
  },
  {
   "cell_type": "code",
   "execution_count": null,
   "metadata": {
    "colab": {
     "base_uri": "https://localhost:8080/"
    },
    "id": "d3pTZf3gf4uM",
    "outputId": "eaa5a0a5-16b5-422b-a864-0263d9426292"
   },
   "outputs": [
    {
     "name": "stdout",
     "output_type": "stream",
     "text": [
      "Most important features for Logistic Regression:\n",
      "Bybit_level3_size_bid_vs_max_lag_2: -0.00035032582797596716\n",
      "Bybit_level3_size_bid_vs_max_lag_4: -0.00040969504486808805\n",
      "HTX_level3_size_bid_vs_min_lag_2: 0.000572664445685269\n",
      "HTX_level1_size_bid_vs_avg_lag_1: 0.0007044851684712561\n",
      "HTX_level3_size_bid_vs_min_lag_5: 0.0008122527489644061\n",
      "Bybit_level1_size_bid_vs_avg_lag_5: 0.0009457582916346165\n",
      "Bybit_level2_size_bid_vs_min_lag_5: 0.000963557376971011\n",
      "HTX_level1_imbalance_lag_2: 0.0010550005198757101\n",
      "HTX_level3_size_bid_vs_avg_lag_4: -0.0010707059074543499\n",
      "Bybit_level1_size_bid_vs_min_lag_2: 0.0011220685614908702\n",
      "HTX_level2_size_bid_vs_max_lag_2: -0.001211968900127117\n",
      "HTX_level1_price_bid_vs_max_lag_3: 0.0012772196400373862\n",
      "HTX_level2_price_ask_vs_min: 0.0014353802820373978\n",
      "Bybit_level2_size_bid_vs_min_lag_4: -0.0015343747250907156\n",
      "HTX_level3_price_bid_vs_max_lag_5: 0.0016322816191387261\n",
      "HTX_level3_size_ask_vs_avg_lag_4: 0.0018140189947951995\n",
      "Bybit_level1_size_bid_vs_max_lag_4: 0.001826361971121339\n",
      "HTX_level3_size_ask_vs_max_lag_2: 0.0018534528956321145\n",
      "Bybit_level1_size_bid_vs_max: -0.0018556459194080106\n",
      "Bybit_level1_bid_ask_spread: -0.0018725284088058338\n",
      "Bybit_level1_size_bid_vs_min_lag_1: -0.0019123717745453393\n",
      "Bybit_level2_size_ask_vs_max_lag_1: -0.002636028750186545\n",
      "Bybit_level2_price_bid_vs_max: 0.0027491812395393526\n",
      "HTX_level1_price_bid_vs_min: 0.0027595710079526634\n",
      "Bybit_level1_bid_spread_lag_5: 0.002857533339615958\n",
      "Bybit_level2_size_ask_vs_min_lag_5: 0.0029426098356581756\n",
      "Bybit_level1_ask_spread_lag_3: 0.003067711349228771\n",
      "HTX_level1_ask_spread_lag_5: 0.0032223255173051786\n",
      "Bybit_level1_size_bid_vs_avg_lag_4: -0.0033784175107801793\n",
      "HTX_level3_size_bid_vs_max_lag_4: 0.003411190394027754\n",
      "HTX_level2_price_bid_vs_avg: -0.0034406794632251695\n",
      "Bybit_level1_size_ask_vs_min_lag_5: -0.003553855144912512\n",
      "Bybit_level3_bid_ask_spread_lag_3: -0.003798704533546561\n",
      "HTX_level2_size_ask_vs_min: -0.0038717596844644354\n",
      "HTX_level2_size_bid_vs_max_lag_4: -0.004171420240525293\n",
      "Bybit_level3_size_bid_vs_min_lag_4: 0.004190691012882082\n",
      "Bybit_level3_price_bid_vs_max_lag_5: -0.004237815428045936\n",
      "Bybit_aggregated_imbalance_lag_4: 0.004420760173087903\n",
      "HTX_level1_ask_spread_lag_2: 0.0044485178960557694\n",
      "Bybit_level1_price_bid_vs_min_lag_3: 0.004473818067104202\n",
      "HTX_level2_size_ask_vs_min_lag_4: -0.004532594315751486\n",
      "HTX_level2_price_ask_vs_max_lag_5: -0.004943513781062753\n",
      "Bybit_level2_size_ask_vs_max_lag_4: -0.005092643410808985\n",
      "Bybit_level3_size_bid_vs_max_lag_5: -0.005140782437217162\n",
      "Bybit_level3_size_bid_vs_max_lag_1: -0.0052867752854411625\n",
      "HTX_level2_bid_spread_lag_2: 0.005467117865454188\n",
      "HTX_level3_size_bid_vs_min_lag_1: 0.005581097651585849\n",
      "HTX_level1_bid_spread: 0.005732296762679303\n",
      "HTX_level1_size_ask_vs_avg_lag_5: 0.00583123264036754\n",
      "Bybit_level1_price_bid_vs_max_lag_3: -0.006829473267378599\n",
      "Bybit_level3_price_bid_vs_min_lag_4: -0.006981514389634427\n",
      "Bybit_level2_size_ask_vs_avg_lag_3: 0.007373851959251737\n",
      "Bybit_level2_price_bid_vs_min_lag_2: 0.007393441463477213\n",
      "Bybit_level2_bid_ask_spread_lag_5: -0.007423034439757073\n",
      "HTX_level1_price_bid_vs_avg_lag_3: -0.0074247804412210065\n",
      "HTX_level3_size_ask_vs_avg_lag_1: -0.007439575413542734\n",
      "HTX_level1_size_ask_vs_avg_lag_4: 0.007614050110133913\n",
      "Bybit_level1_ask_spread_lag_4: 0.007645783236274798\n",
      "HTX_ask_weight_lag_5: -0.007705724759644421\n",
      "HTX_level3_size_ask_vs_max_lag_5: 0.00774112898699959\n",
      "HTX_level1_ask_spread_lag_1: -0.007755377093301774\n",
      "HTX_level3_size_ask_vs_avg_lag_5: 0.00788804835859678\n",
      "HTX_level2_ask_spread_lag_1: -0.00800115998728952\n",
      "HTX_level3_size_bid_vs_min_lag_3: -0.008036035618137493\n",
      "since_last_arbitrage: -0.008395535317165102\n",
      "HTX_level2_size_ask_vs_max_lag_2: 0.008524262270980201\n",
      "Bybit_level1_price_bid_vs_min_lag_2: -0.008525486043786423\n",
      "HTX_level1_size_ask_vs_min: -0.008569658299747485\n",
      "Bybit_level1_price_ask_vs_min_lag_5: 0.0086306295812037\n",
      "HTX_level1_size_bid_vs_avg_lag_5: -0.008758796035648716\n",
      "HTX_level3_size_bid_vs_max_lag_2: 0.008785860380595013\n",
      "Bybit_level1_bid_spread_lag_4: 0.008964031263249433\n",
      "Bybit_level3_size_bid_vs_max: -0.008986618140058583\n",
      "HTX_level1_ask_spread: 0.009493725280403837\n",
      "Bybit_bid_weight_lag_1: 0.009852905334151386\n",
      "Bybit_level1_price_ask_vs_max_lag_4: 0.010222970845316957\n",
      "HTX_level3_bid_ask_spread_lag_4: -0.01043474843096031\n",
      "HTX_level2_size_ask_vs_max_lag_4: 0.010456207819989278\n",
      "HTX_level2_price_bid_vs_min_lag_3: -0.010538912062878245\n",
      "Bybit_level2_size_ask_vs_min_lag_1: -0.010608281583978325\n",
      "HTX_level2_bid_spread_lag_4: 0.010650446754775831\n",
      "Bybit_level2_ask_spread: 0.010898570020216086\n",
      "Bybit_level3_bid_ask_spread: 0.010969049413685221\n",
      "HTX_aggregated_imbalance_lag_4: -0.011170587839179874\n",
      "Bybit_level1_size_ask_vs_max_lag_4: 0.011208656624151832\n",
      "Bybit_level2_bid_ask_spread_lag_4: -0.01150149323774627\n",
      "Bybit_level2_size_ask_vs_avg_lag_4: 0.011755766183649773\n",
      "HTX_level2_size_bid_vs_max_lag_3: -0.011891522217615837\n",
      "Bybit_level3_bid_ask_spread_lag_1: -0.012619088501104558\n",
      "HTX_level2_price_ask_vs_min_lag_3: -0.012735240445418185\n",
      "Bybit_level1_size_bid_vs_avg_lag_2: 0.012938322690150413\n",
      "HTX_level1_price_bid_vs_min_lag_5: 0.013108643418995206\n",
      "Bybit_level2_bid_ask_spread_lag_3: -0.013473969791306759\n",
      "Bybit_level1_ask_spread_lag_1: -0.013610988696089251\n",
      "Bybit_level2_price_bid_vs_min_lag_4: -0.01387159881117455\n",
      "HTX_level1_price_ask_vs_min_lag_5: 0.013928332180902243\n",
      "HTX_level1_size_ask_vs_min_lag_3: -0.013954529809072122\n",
      "Bybit_level1_imbalance_lag_5: 0.01414495205742469\n",
      "Bybit_level3_price_bid_vs_max_lag_1: -0.01423184453532362\n",
      "HTX_level2_ask_spread_lag_5: -0.014377603365270102\n",
      "Bybit_level3_price_bid_vs_min_lag_2: 0.014404805872674864\n",
      "Bybit_level2_bid_ask_spread_lag_1: 0.014591425355256444\n",
      "Bybit_level3_price_ask_vs_min_lag_1: -0.014722659365411625\n",
      "HTX_level1_bid_ask_spread_lag_5: 0.014859384384587584\n",
      "Bybit_bid_weight_lag_5: -0.014879876878842319\n",
      "HTX_level2_size_ask_vs_avg_lag_5: -0.014936770938051893\n",
      "HTX_level1_size_bid_vs_max_lag_1: 0.01509426851978499\n",
      "HTX_level3_size_bid_vs_max_lag_5: -0.015454367770390092\n",
      "Bybit_level1_bid_ask_spread_lag_5: -0.015495640497457327\n",
      "Bybit_aggregated_imbalance: -0.01555775462186961\n",
      "Bybit_level2_size_bid_vs_max_lag_4: -0.015614951042127545\n",
      "HTX_level2_price_ask_vs_avg_lag_1: -0.015622574598163595\n",
      "HTX_level3_size_ask_vs_avg: -0.01566434185653898\n",
      "HTX_level3_price_ask_vs_max_lag_2: -0.016221758274551197\n",
      "Bybit_level3_bid_ask_spread_lag_5: -0.016401197166248348\n",
      "Bybit_level3_bid_ask_spread_lag_4: -0.016605037230493194\n",
      "Bybit_level1_bid_ask_spread_lag_4: -0.016812326061722702\n",
      "Bybit_level2_price_bid_vs_max_lag_4: 0.01690233425757332\n",
      "HTX_level2_price_ask_vs_avg_lag_5: -0.017030322772408273\n",
      "HTX_level2_price_ask_vs_avg_lag_4: 0.017198884961727202\n",
      "Bybit_level1_size_bid_vs_min: 0.017300241256274565\n",
      "Bybit_level3_size_ask_vs_avg_lag_2: 0.017351020317321917\n",
      "Bybit_level3_price_ask_vs_avg_lag_4: 0.01748647558513791\n",
      "Bybit_level3_price_ask_vs_min: -0.017518547937308115\n",
      "Bybit_level2_bid_ask_spread: -0.017574773256415203\n",
      "HTX_level3_size_ask_vs_avg_lag_3: -0.017839119522103545\n",
      "Bybit_ask_weight_lag_1: 0.017894893151309876\n",
      "HTX_level1_size_bid_vs_max_lag_4: -0.01804602797416663\n",
      "HTX_ask_weight_lag_3: 0.0182702479682936\n",
      "Bybit_level2_price_ask_vs_avg_lag_4: 0.01837201136316347\n",
      "HTX_level2_ask_spread_lag_3: 0.018378309712545237\n",
      "HTX_level2_size_bid_vs_avg_lag_4: 0.01863950868019195\n",
      "Bybit_level2_price_ask_vs_min_lag_1: -0.01869390455403074\n",
      "HTX_level1_size_ask_vs_max_lag_4: -0.018772524654599252\n",
      "HTX_aggregated_imbalance_lag_5: 0.01884434096021456\n",
      "HTX_level1_bid_spread_lag_1: -0.01886305297511332\n",
      "HTX_level2_size_ask_vs_avg_lag_3: 0.019162397803461455\n",
      "Bybit_level2_size_bid_vs_min_lag_1: -0.01923679433085824\n",
      "Bybit_level2_size_bid_vs_min: 0.019763653203037447\n",
      "Bybit_level1_bid_spread_lag_1: -0.01980457440230548\n",
      "Bybit_level2_size_ask_vs_max_lag_2: 0.01988274942014998\n",
      "Bybit_level2_price_ask_vs_max_lag_4: 0.020017090192971654\n",
      "HTX_level2_ask_spread_lag_2: 0.020052274176535875\n",
      "HTX_level1_imbalance_lag_4: 0.020245082361997232\n",
      "HTX_level2_ask_spread: -0.02031179775035956\n",
      "HTX_level1_imbalance_lag_5: 0.02036208275377584\n",
      "HTX_level2_size_ask_vs_avg_lag_4: -0.020631830902692\n",
      "Bybit_level2_price_bid_vs_min_lag_3: 0.020679894853906786\n",
      "Bybit_level3_price_ask_vs_max_lag_4: 0.020700982589541558\n",
      "HTX_level2_size_bid_vs_avg_lag_3: 0.020809221865034606\n",
      "HTX_level2_bid_spread_lag_3: -0.021247636658987018\n",
      "Bybit_level1_size_ask_vs_min_lag_2: -0.02141307497958383\n",
      "Bybit_level2_price_ask_vs_min: -0.021806439421062192\n",
      "Bybit_level1_bid_ask_spread_lag_3: -0.022014206896131535\n",
      "Bybit_level3_price_bid_vs_max: 0.02249503622228723\n",
      "HTX_level1_size_ask_vs_max_lag_5: 0.022541586898767552\n",
      "Bybit_level3_size_bid_vs_avg_lag_1: -0.022549739367246035\n",
      "Bybit_level2_bid_ask_spread_lag_2: -0.022556988171068954\n",
      "Bybit_level1_bid_spread: -0.02300391297382113\n",
      "Bybit_level1_ask_spread_lag_5: 0.023081328970513484\n",
      "HTX_level2_price_bid_vs_max_lag_3: 0.02310765213743521\n",
      "Bybit_level1_price_ask_vs_avg_lag_4: 0.02311834782375526\n",
      "HTX_level2_price_ask_vs_max_lag_4: 0.02380205038186888\n",
      "Bybit_level1_size_ask_vs_avg: -0.023821168893913742\n",
      "Bybit_level1_size_bid_vs_avg_lag_3: -0.02385510957155614\n",
      "Bybit_level1_size_bid_vs_min_lag_5: 0.024210918608016465\n",
      "Bybit_level1_bid_ask_spread_lag_2: -0.024605920877190848\n",
      "Bybit_level1_ask_spread: -0.0246905248256907\n",
      "HTX_level1_size_bid_vs_max_lag_5: -0.02506824431224968\n",
      "HTX_level1_size_bid_vs_max: 0.025068973550894373\n",
      "Bybit_level3_price_ask_vs_max_lag_5: -0.025297685210863147\n",
      "Bybit_level1_price_bid_vs_max_lag_2: 0.02541500936665973\n",
      "HTX_level3_price_bid_vs_min_lag_5: 0.025495749436309695\n",
      "Bybit_level2_ask_spread_lag_4: -0.025720375050642848\n",
      "HTX_level3_price_bid_vs_max: 0.025811687371928155\n",
      "Bybit_level2_price_ask_vs_max_lag_5: -0.025988433625027306\n",
      "HTX_level2_size_ask_vs_max: 0.026297438187836995\n",
      "Bybit_level2_size_ask_vs_max_lag_3: -0.026780598855253024\n",
      "Bybit_level1_price_ask_vs_max_lag_3: 0.02679856770497735\n",
      "Bybit_level2_size_bid_vs_min_lag_2: 0.02691341902512193\n",
      "Bybit_level3_price_bid_vs_min_lag_3: 0.027232927354671758\n",
      "Bybit_level3_bid_ask_spread_lag_2: -0.027394916053868696\n",
      "Bybit_level1_price_ask_vs_avg_lag_5: -0.027420378146696053\n",
      "Bybit_level2_size_bid_vs_min_lag_3: -0.02750277586172755\n",
      "HTX_level2_size_ask_vs_avg: 0.027576226710737235\n",
      "HTX_level3_price_ask_vs_avg_lag_3: 0.02831349047554864\n",
      "HTX_level3_size_bid_vs_avg_lag_5: -0.02832799778343572\n",
      "HTX_level1_imbalance_lag_3: 0.028364911393086337\n",
      "Bybit_level3_price_bid_vs_min_lag_5: -0.028805727327252992\n",
      "Bybit_level1_bid_spread_lag_3: 0.028826919113267173\n",
      "Bybit_aggregated_imbalance_lag_2: 0.02888482603645961\n",
      "HTX_level3_size_bid_vs_max_lag_3: -0.029043754093709524\n",
      "HTX_level2_size_bid_vs_avg: -0.029063088465852874\n",
      "HTX_level1_size_ask_vs_min_lag_4: 0.029266855605607843\n",
      "HTX_level1_size_bid_vs_avg: -0.02937901989534196\n",
      "Bybit_level1_price_bid_vs_max_lag_4: -0.029634497884429054\n",
      "HTX_level3_size_bid_vs_min_lag_4: 0.029745699975465497\n",
      "HTX_level3_size_bid_vs_max_lag_1: 0.02989008409094204\n",
      "Bybit_level2_ask_spread_lag_5: -0.029988330609899135\n",
      "HTX_level1_bid_spread_lag_3: 0.02999388479309766\n",
      "HTX_level3_price_bid_vs_min: -0.030038683563065282\n",
      "HTX_level2_size_bid_vs_avg_lag_5: -0.030141951781813437\n",
      "Bybit_level3_size_ask_vs_max_lag_3: 0.030302907432850114\n",
      "Bybit_level1_price_ask_vs_min_lag_4: 0.031160130028234465\n",
      "HTX_level3_size_ask_vs_max_lag_3: 0.031383102084688225\n",
      "Bybit_level1_size_ask_vs_min_lag_1: 0.0316883419276618\n",
      "Bybit_level1_price_ask_vs_max_lag_2: 0.03173730642415761\n",
      "Bybit_level2_price_ask_vs_avg_lag_5: -0.03185837376395603\n",
      "Bybit_level1_price_ask_vs_max_lag_5: -0.03200875396825068\n",
      "HTX_level3_size_ask_vs_max_lag_1: -0.03204293045728363\n",
      "Bybit_level2_bid_spread_lag_2: -0.032064649556936164\n",
      "Bybit_level3_size_bid_vs_avg_lag_2: -0.03236639496726269\n",
      "Bybit_level1_price_bid_vs_min_lag_4: -0.0323706047771709\n",
      "Bybit_level2_price_bid_vs_max_lag_5: -0.03259756643263982\n",
      "Bybit_level3_price_ask_vs_avg_lag_5: -0.03270984867588003\n",
      "Bybit_level1_ask_spread_lag_2: 0.03332177114455025\n",
      "HTX_level3_price_bid_vs_avg: 0.03335107047417476\n",
      "Bybit_level1_bid_spread_lag_2: -0.033435828802770136\n",
      "Bybit_level2_size_ask_vs_min_lag_4: -0.033561209978043564\n",
      "HTX_level1_size_bid_vs_avg_lag_4: 0.033939803329699474\n",
      "HTX_bid_weight_lag_4: 0.03428634974359041\n",
      "HTX_ask_weight: 0.03436651901610483\n",
      "HTX_level2_price_ask_vs_max_lag_3: 0.03438252441268139\n",
      "Bybit_level2_size_ask_vs_avg_lag_5: 0.03450739033909829\n",
      "HTX_level3_price_ask_vs_avg_lag_4: -0.03453564324193573\n",
      "Bybit_level1_size_ask_vs_min_lag_4: -0.034564250372811245\n",
      "HTX_bid_weight_lag_1: 0.035110902141075574\n",
      "Bybit_level2_price_ask_vs_max_lag_2: 0.035519769051400085\n",
      "HTX_level2_price_bid_vs_min_lag_4: -0.035888463564321293\n",
      "Bybit_level2_price_bid_vs_min_lag_5: -0.03589307489115053\n",
      "Bybit_level3_price_ask_vs_max_lag_2: 0.03595899916974905\n",
      "Bybit_level2_price_ask_vs_min_lag_5: 0.03610571869480628\n",
      "Bybit_level2_price_ask_vs_max_lag_3: 0.03615802593684399\n",
      "HTX_level3_price_ask_vs_min_lag_2: -0.037017465388304784\n",
      "Bybit_level3_price_ask_vs_max_lag_3: 0.03702229989266091\n",
      "HTX_ask_weight_lag_4: -0.03734843002880198\n",
      "HTX_level3_size_bid_vs_min: -0.0374138857691364\n",
      "HTX_level2_bid_spread_lag_5: 0.03744732620634719\n",
      "HTX_level1_imbalance_lag_1: 0.03745105328138024\n",
      "HTX_level3_size_ask_vs_min_lag_4: -0.037514514776473384\n",
      "Bybit_ask_weight_lag_3: 0.03763887874314485\n",
      "Bybit_level2_size_bid_vs_max_lag_1: -0.03784540786029014\n",
      "HTX_level1_size_ask_vs_max_lag_2: 0.037997202107751364\n",
      "HTX_level2_bid_ask_spread_lag_4: -0.03809343308830121\n",
      "Bybit_level2_price_bid_vs_max_lag_3: 0.03820703438803203\n",
      "HTX_level2_size_ask_vs_min_lag_1: -0.038452632204527534\n",
      "HTX_level1_size_bid_vs_avg_lag_2: 0.03854716526279158\n",
      "Bybit_level2_bid_spread_lag_4: -0.03866140114632578\n",
      "arb_opportunity_lag_3: 0.03872587918061201\n",
      "Bybit_level1_imbalance_lag_3: 0.03873216110645826\n",
      "HTX_level2_price_ask_vs_avg: -0.039074652933075174\n",
      "Bybit_level3_price_ask_vs_min_lag_5: 0.039259248463771976\n",
      "HTX_level2_price_bid_vs_max_lag_4: -0.03926510130588679\n",
      "Bybit_level2_size_bid_vs_avg_lag_4: -0.039274145024710445\n",
      "Bybit_level3_size_ask_vs_min_lag_3: -0.040348029480112374\n",
      "HTX_level3_size_ask_vs_avg_lag_2: 0.0405129057523339\n",
      "Bybit_level2_size_ask_vs_min_lag_2: 0.040527651151453785\n",
      "HTX_level3_size_bid_vs_max: 0.04054961723523474\n",
      "HTX_bid_weight_lag_5: -0.04059260004768057\n",
      "Bybit_level3_size_bid_vs_min_lag_5: 0.040972550107864894\n",
      "HTX_level2_bid_ask_spread_lag_5: 0.041116068942326355\n",
      "HTX_level3_bid_ask_spread_lag_5: 0.04130223697011541\n",
      "HTX_level3_price_bid_vs_max_lag_1: -0.04185965564173048\n",
      "Bybit_level2_ask_spread_lag_3: 0.04302234406872274\n",
      "Bybit_ask_weight: 0.043161127070923996\n",
      "Bybit_level2_price_bid_vs_max_lag_1: -0.04328877023056126\n",
      "HTX_level1_price_bid_vs_min_lag_1: -0.043651956741372275\n",
      "Bybit_level1_size_ask_vs_avg_lag_2: 0.04376710252505768\n",
      "Bybit_ask_weight_lag_2: -0.043932236073293184\n",
      "HTX_level2_price_bid_vs_min_lag_2: 0.04417606326383431\n",
      "HTX_level2_size_bid_vs_max_lag_5: -0.04481176034942852\n",
      "HTX_level2_price_ask_vs_min_lag_2: 0.04510635498245164\n",
      "Bybit_level3_price_bid_vs_max_lag_4: 0.04520815278307013\n",
      "HTX_level3_price_ask_vs_max_lag_3: -0.04559494839271258\n",
      "HTX_level3_size_ask_vs_min_lag_5: 0.04560267596314607\n",
      "HTX_level2_size_ask_vs_min_lag_2: -0.04564077729166078\n",
      "HTX_level3_size_ask_vs_max_lag_4: -0.04606836011072578\n",
      "HTX_level1_size_ask_vs_max_lag_3: 0.04607581802054196\n",
      "HTX_level3_price_bid_vs_avg_lag_1: -0.04625091860054658\n",
      "Bybit_level2_ask_spread_lag_2: -0.0465248835237205\n",
      "HTX_level1_size_bid_vs_max_lag_2: 0.046664034207838184\n",
      "Bybit_level3_size_ask_vs_max_lag_1: -0.04677286266001198\n",
      "HTX_level2_price_bid_vs_avg_lag_5: 0.04679454442696945\n",
      "Bybit_level2_size_ask_vs_max_lag_5: -0.04706123677211084\n",
      "Bybit_level1_price_ask_vs_min_lag_1: -0.04750016717298902\n",
      "HTX_level3_price_ask_vs_max_lag_4: -0.04759798415269734\n",
      "HTX_level1_size_bid_vs_max_lag_3: 0.04811385716123264\n",
      "HTX_level3_price_bid_vs_max_lag_4: 0.048255192777200515\n",
      "Bybit_level1_price_bid_vs_max: -0.048291039577894636\n",
      "arb_opportunity_lag_4: -0.04850733463871363\n",
      "Bybit_level2_size_ask_vs_min: -0.048627175856596844\n",
      "Bybit_level1_size_ask_vs_min: -0.04870134411537181\n",
      "HTX_aggregated_imbalance_lag_2: -0.04881164437224438\n",
      "HTX_level1_size_ask_vs_min_lag_2: -0.04943039623511575\n",
      "Bybit_level2_size_ask_vs_min_lag_3: -0.04947559608339554\n",
      "Bybit_level1_price_ask_vs_min: -0.04963738311748937\n",
      "Bybit_level1_bid_ask_spread_lag_1: 0.04999286836445093\n",
      "HTX_level1_size_bid_vs_avg_lag_3: -0.05006598443623201\n",
      "Bybit_level1_size_ask_vs_avg_lag_5: -0.05158404120590735\n",
      "Bybit_level1_price_bid_vs_min_lag_5: -0.05173496663572261\n",
      "Bybit_level1_price_ask_vs_min_lag_2: 0.05255081288850117\n",
      "HTX_level1_price_ask_vs_max_lag_1: 0.052977589876362835\n",
      "Bybit_level3_price_ask_vs_avg: 0.053290452672567545\n",
      "HTX_level2_price_bid_vs_max: -0.053731826751402915\n",
      "Bybit_level2_price_ask_vs_avg: 0.053981448327684034\n",
      "HTX_level3_bid_ask_spread_lag_3: -0.054179208615429957\n",
      "HTX_level1_price_bid_vs_min_lag_4: 0.05483813192330595\n",
      "HTX_level1_size_ask_vs_avg_lag_3: -0.05503052794053305\n",
      "HTX_level1_price_ask_vs_max: 0.055427434570875275\n",
      "Bybit_level2_size_ask_vs_avg_lag_2: -0.055592800073536855\n",
      "Bybit_level3_size_bid_vs_min_lag_2: 0.056144573162031954\n",
      "HTX_level2_price_ask_vs_max_lag_1: -0.05731847295511023\n",
      "Bybit_level2_size_bid_vs_avg: -0.05748226201705412\n",
      "Bybit_level1_size_bid_vs_avg_lag_1: 0.05778026467058089\n",
      "HTX_level2_bid_spread: -0.05828050020541628\n",
      "HTX_level3_size_ask_vs_min_lag_3: 0.05833009823241231\n",
      "HTX_level3_price_bid_vs_min_lag_4: 0.058420001406640616\n",
      "HTX_level2_price_ask_vs_max_lag_2: 0.05888113968768916\n",
      "Bybit_level2_price_ask_vs_min_lag_4: 0.05910582396451113\n",
      "Bybit_level3_price_ask_vs_avg_lag_3: 0.05926265615188721\n",
      "Bybit_level3_size_ask_vs_max_lag_2: -0.059327990932433\n",
      "Bybit_aggregated_imbalance_lag_5: -0.059878968479085644\n",
      "Bybit_level2_price_ask_vs_avg_lag_3: 0.059918995295375276\n",
      "HTX_level2_price_ask_vs_max: -0.06011246730387321\n",
      "HTX_level1_bid_ask_spread_lag_4: -0.06024620183029351\n",
      "HTX_level3_size_bid_vs_avg: 0.06046703845612471\n",
      "Bybit_level1_price_ask_vs_avg: 0.0604778719072054\n",
      "Bybit_level2_ask_spread_lag_1: -0.06060560257863557\n",
      "Bybit_level2_size_bid_vs_avg_lag_3: 0.06085132843340862\n",
      "HTX_level2_ask_spread_lag_4: 0.0610566672967419\n",
      "Bybit_bid_weight_lag_3: 0.061148726669305736\n",
      "Bybit_level1_price_ask_vs_min_lag_3: 0.06178229747435521\n",
      "Bybit_level3_price_ask_vs_min_lag_4: 0.06194960822733373\n",
      "HTX_level1_price_bid_vs_max_lag_4: -0.06208517332869283\n",
      "HTX_level1_price_bid_vs_max_lag_2: 0.06221058508811108\n",
      "HTX_level1_size_ask_vs_min_lag_1: -0.06229214696465208\n",
      "HTX_ask_weight_lag_1: 0.06288693966393591\n",
      "HTX_level2_size_ask_vs_max_lag_5: 0.06304439946024112\n",
      "HTX_level2_bid_ask_spread_lag_3: -0.06337284290919461\n",
      "Bybit_level3_size_ask_vs_min_lag_2: 0.06349749053056288\n",
      "HTX_aggregated_imbalance_lag_1: 0.06365706622923208\n",
      "HTX_level2_price_ask_vs_min_lag_1: -0.06369514160089175\n",
      "Bybit_level1_imbalance_lag_4: 0.06437636201718797\n",
      "Bybit_level1_price_ask_vs_avg_lag_3: 0.0648347524671116\n",
      "Bybit_level1_size_ask_vs_avg_lag_1: 0.06526664796960949\n",
      "Bybit_level3_price_bid_vs_max_lag_3: 0.06562357541009428\n",
      "Bybit_level2_price_bid_vs_max_lag_2: 0.06613868191782718\n",
      "HTX_bid_weight_lag_3: 0.06833262119352286\n",
      "HTX_level1_bid_spread_lag_2: 0.06840032503914312\n",
      "Bybit_aggregated_imbalance_lag_3: -0.06849272756708756\n",
      "HTX_level1_price_ask_vs_min_lag_4: 0.06882080654853608\n",
      "HTX_level2_size_bid_vs_min: 0.06889366388274645\n",
      "HTX_level3_price_bid_vs_min_lag_3: 0.06901079465484822\n",
      "Bybit_bid_weight_lag_4: -0.07015891371970598\n",
      "HTX_level2_price_bid_vs_min_lag_5: -0.07073319929464238\n",
      "Bybit_level2_bid_spread_lag_5: -0.07144243989221888\n",
      "Bybit_level1_size_ask_vs_max_lag_3: 0.07145879600660895\n",
      "HTX_level1_size_bid_vs_min_lag_5: 0.07148883880588883\n",
      "Bybit_level1_size_bid_vs_max_lag_5: 0.07168923992882742\n",
      "HTX_level2_price_ask_vs_min_lag_4: -0.07177458612876428\n",
      "HTX_level1_price_bid_vs_avg_lag_4: -0.0718401011169038\n",
      "HTX_level2_price_bid_vs_avg_lag_1: -0.07192472174007793\n",
      "HTX_level1_price_bid_vs_max: -0.07258957372008026\n",
      "HTX_level2_size_ask_vs_avg_lag_2: 0.0726457438286211\n",
      "Bybit_level3_price_ask_vs_avg_lag_2: 0.07345109532673531\n",
      "HTX_level1_size_bid_vs_min_lag_4: -0.0734710588946959\n",
      "HTX_level1_size_ask_vs_max: -0.07393922430217338\n",
      "HTX_level3_price_ask_vs_avg_lag_1: -0.07419051949696016\n",
      "HTX_aggregated_imbalance: -0.07420914343357495\n",
      "Bybit_level2_size_bid_vs_max_lag_3: -0.07455836687126909\n",
      "Bybit_level2_price_ask_vs_avg_lag_2: 0.07456990775584321\n",
      "HTX_level1_price_bid_vs_avg_lag_2: 0.07558413281196114\n",
      "HTX_level3_price_ask_vs_max_lag_5: -0.07617048514394135\n",
      "Bybit_level1_price_ask_vs_max: 0.07627110836879865\n",
      "Bybit_level3_size_bid_vs_avg_lag_5: 0.07672349893778166\n",
      "Bybit_level3_size_ask_vs_avg_lag_3: -0.07770420578954591\n",
      "Bybit_level1_price_ask_vs_avg_lag_1: -0.07789931145025268\n",
      "Bybit_level3_price_bid_vs_min_lag_1: -0.07790229837342996\n",
      "HTX_level1_size_bid_vs_min_lag_1: 0.0779820776450381\n",
      "HTX_level3_size_ask_vs_min_lag_1: 0.07852407882200364\n",
      "HTX_aggregated_imbalance_lag_3: 0.07863404143337789\n",
      "HTX_level3_size_bid_vs_avg_lag_1: 0.07916541805723729\n",
      "Bybit_level2_price_ask_vs_min_lag_2: 0.07930105258675355\n",
      "Bybit_level1_price_ask_vs_avg_lag_2: 0.07964640891987403\n",
      "Bybit_level3_size_bid_vs_avg_lag_4: -0.07965716418139421\n",
      "Bybit_level2_bid_spread_lag_3: 0.07980657226993532\n",
      "HTX_ask_weight_lag_2: -0.08017107144643576\n",
      "HTX_level2_price_bid_vs_max_lag_2: 0.08078760140277706\n",
      "Bybit_level1_price_bid_vs_max_lag_5: -0.08094138794118341\n",
      "Bybit_level1_size_ask_vs_max_lag_5: -0.08104490094736472\n",
      "HTX_level1_bid_spread_lag_5: 0.08105785469181474\n",
      "HTX_level2_price_ask_vs_avg_lag_3: 0.08116088457008812\n",
      "Bybit_level3_price_ask_vs_min_lag_2: 0.08200200326643306\n",
      "Bybit_level1_imbalance_lag_1: -0.08201814855051717\n",
      "HTX_level2_size_ask_vs_min_lag_5: -0.08235661310632374\n",
      "Bybit_level3_price_ask_vs_max: 0.08254085054396498\n",
      "Bybit_level1_size_bid_vs_avg: -0.08267864816598616\n",
      "HTX_level3_price_ask_vs_min: -0.08352914075709279\n",
      "Bybit_ask_weight_lag_4: -0.08354992334255154\n",
      "HTX_level3_size_bid_vs_avg_lag_3: 0.08362882220686842\n",
      "Bybit_level2_price_ask_vs_avg_lag_1: -0.08433714657531101\n",
      "HTX_level3_price_ask_vs_avg_lag_5: -0.08477592663691642\n",
      "HTX_level1_price_bid_vs_min_lag_3: 0.08505751347405822\n",
      "HTX_level3_size_ask_vs_max: 0.08519714003860579\n",
      "HTX_level3_size_ask_vs_min: -0.08525646500425414\n",
      "Bybit_level2_size_bid_vs_avg_lag_1: 0.08533234979822966\n",
      "Bybit_level3_price_ask_vs_avg_lag_1: -0.08535589138391088\n",
      "Bybit_level1_price_bid_vs_max_lag_1: -0.08546962719057284\n",
      "Bybit_level2_price_ask_vs_max: 0.08565303690953485\n",
      "HTX_level2_size_ask_vs_max_lag_3: -0.08600048562078332\n",
      "Bybit_level2_price_bid_vs_min_lag_1: -0.0861967758503924\n",
      "HTX_level3_size_ask_vs_min_lag_2: -0.08661218261188543\n",
      "HTX_level2_size_ask_vs_avg_lag_1: -0.08713631994020019\n",
      "Bybit_level2_price_ask_vs_min_lag_3: 0.08843879809763847\n",
      "Bybit_level3_size_ask_vs_max_lag_4: 0.08902605626617834\n",
      "Bybit_level1_size_bid_vs_max_lag_3: -0.08929793218318566\n",
      "Bybit_level1_size_ask_vs_min_lag_3: 0.08964100058082734\n",
      "Bybit_level1_size_bid_vs_max_lag_2: 0.09010785853983087\n",
      "HTX_level3_price_ask_vs_avg_lag_2: 0.0905065296840538\n",
      "HTX_level1_bid_spread_lag_4: -0.09110388622437887\n",
      "HTX_level1_ask_spread_lag_3: 0.09120056202230827\n",
      "Bybit_level3_price_ask_vs_min_lag_3: 0.09144256209504814\n",
      "HTX_level2_size_ask_vs_max_lag_1: 0.09183567294991193\n",
      "Bybit_level2_size_bid_vs_max: 0.09206787917843959\n",
      "HTX_level2_price_bid_vs_max_lag_5: -0.09255667382264006\n",
      "HTX_level2_size_bid_vs_max: 0.09281873821175969\n",
      "HTX_level3_price_bid_vs_min_lag_1: -0.09286140120328365\n",
      "HTX_level1_ask_spread_lag_4: 0.09362340707629653\n",
      "Bybit_level3_price_bid_vs_max_lag_2: 0.09366089470065048\n",
      "HTX_level3_price_bid_vs_avg_lag_5: 0.09435633848481234\n",
      "HTX_level2_size_bid_vs_min_lag_5: 0.0952643729055365\n",
      "HTX_level3_price_ask_vs_min_lag_3: -0.09572119568875424\n",
      "Bybit_level1_size_bid_vs_min_lag_3: 0.09718651298653426\n",
      "HTX_level3_price_bid_vs_max_lag_3: 0.09798540295690837\n",
      "HTX_level2_size_bid_vs_max_lag_1: -0.0981293994925097\n",
      "HTX_level3_price_ask_vs_max_lag_1: -0.09835614596866207\n",
      "Bybit_ask_weight_lag_5: 0.09856637326494816\n",
      "HTX_level1_price_ask_vs_max_lag_5: 0.09863604356546535\n",
      "Bybit_level3_size_ask_vs_avg_lag_4: -0.09917097647403733\n",
      "Bybit_level1_price_bid_vs_min_lag_1: -0.09974101080238394\n",
      "HTX_level1_price_bid_vs_max_lag_5: -0.10028400780365282\n",
      "HTX_level3_price_ask_vs_max: -0.10119826826362996\n",
      "HTX_level3_price_ask_vs_avg: -0.10337477261122083\n",
      "Bybit_level3_size_bid_vs_min_lag_1: 0.10422483946916421\n",
      "HTX_level2_bid_ask_spread: -0.10479646760084627\n",
      "HTX_level1_size_ask_vs_max_lag_1: 0.10502747693185649\n",
      "HTX_level1_size_ask_vs_avg: 0.10569955723709648\n",
      "Bybit_level3_price_bid_vs_min: -0.10595760311597942\n",
      "Bybit_level3_size_bid_vs_avg: 0.10676668385664491\n",
      "HTX_level2_price_bid_vs_avg_lag_4: 0.1090710871872821\n",
      "HTX_level2_bid_spread_lag_1: 0.1093459074796294\n",
      "Bybit_level3_size_ask_vs_min_lag_5: 0.1093866778830866\n",
      "HTX_level1_size_ask_vs_min_lag_5: 0.11042430798007255\n",
      "HTX_level2_price_bid_vs_max_lag_1: -0.11166383910066537\n",
      "Bybit_level2_price_bid_vs_min: -0.11172156818142742\n",
      "HTX_level3_bid_ask_spread: -0.11185448440297668\n",
      "HTX_level1_imbalance: -0.11350052183508191\n",
      "Bybit_level1_size_ask_vs_max_lag_2: -0.11350117301428778\n",
      "Bybit_level3_size_bid_vs_max_lag_3: 0.11440493858187202\n",
      "Bybit_level3_size_bid_vs_avg_lag_3: -0.11471971245741597\n",
      "HTX_level2_price_bid_vs_min: -0.11487075930009745\n",
      "Bybit_level1_size_bid_vs_min_lag_4: -0.1157652736676675\n",
      "Bybit_level1_size_ask_vs_avg_lag_3: -0.116937212187851\n",
      "HTX_level2_size_bid_vs_min_lag_2: -0.11707825874348503\n",
      "Bybit_level1_size_bid_vs_max_lag_1: -0.11712198691628288\n",
      "HTX_level3_price_bid_vs_min_lag_2: 0.11816646777809003\n",
      "HTX_level1_price_ask_vs_max_lag_4: 0.11833113969765972\n",
      "Bybit_level2_size_bid_vs_max_lag_5: -0.11869845622133487\n",
      "HTX_level2_price_ask_vs_min_lag_5: -0.11882158346131472\n",
      "Bybit_bid_weight_lag_2: -0.11984606039703452\n",
      "HTX_level2_size_bid_vs_avg_lag_2: -0.12053016108157369\n",
      "Bybit_level2_size_ask_vs_max: 0.12127792534426382\n",
      "HTX_level1_price_ask_vs_min_lag_1: 0.12162778755399828\n",
      "HTX_level1_price_ask_vs_max_lag_3: 0.12220580236780225\n",
      "HTX_level1_price_bid_vs_avg_lag_5: -0.12363771764084941\n",
      "Bybit_level1_size_ask_vs_avg_lag_4: 0.12442054268351094\n",
      "HTX_level2_size_bid_vs_min_lag_1: -0.12461751384545149\n",
      "Bybit_level3_size_ask_vs_min_lag_1: -0.12478981024687037\n",
      "Bybit_level3_price_ask_vs_max_lag_1: -0.12498998439145786\n",
      "Bybit_level2_price_ask_vs_max_lag_1: -0.1255072335859715\n",
      "Bybit_level1_price_ask_vs_max_lag_1: -0.12606931015350506\n",
      "Bybit_level1_price_bid_vs_min: -0.12612488481768114\n",
      "arb_opportunity_lag_2: -0.12613881787128667\n",
      "Bybit_level1_imbalance_lag_2: -0.1262353386683646\n",
      "HTX_level1_size_bid_vs_min_lag_3: -0.12626440766025382\n",
      "Bybit_level2_bid_spread: 0.1298389498767734\n",
      "Bybit_level3_size_bid_vs_min: -0.13146316111665157\n",
      "Bybit_level3_size_ask_vs_min: 0.13448973887770163\n",
      "HTX_level1_price_ask_vs_min_lag_3: 0.1374185047650385\n",
      "Bybit_level3_price_bid_vs_avg_lag_2: -0.1376486571988063\n",
      "Bybit_level2_price_bid_vs_avg_lag_2: -0.13894742412179162\n",
      "HTX_level3_price_ask_vs_min_lag_1: -0.13905476637826694\n",
      "HTX_level1_size_ask_vs_avg_lag_2: 0.13916835707176772\n",
      "HTX_level1_price_bid_vs_max_lag_1: -0.14065322763232524\n",
      "Bybit_level3_price_bid_vs_avg: -0.14081658774465555\n",
      "Bybit_level2_price_bid_vs_avg: -0.14115368994466085\n",
      "HTX_level1_bid_ask_spread_lag_3: -0.1426246858192669\n",
      "Bybit_level1_price_bid_vs_avg_lag_2: -0.1438374144809606\n",
      "HTX_level2_size_bid_vs_min_lag_3: 0.14407107086797888\n",
      "Bybit_level2_size_bid_vs_max_lag_2: 0.14464930962282735\n",
      "HTX_level2_price_ask_vs_avg_lag_2: 0.14531310683848617\n",
      "HTX_level1_size_bid_vs_min_lag_2: -0.14554071893776696\n",
      "Bybit_level3_size_bid_vs_min_lag_3: -0.14684001638821037\n",
      "Bybit_level1_price_bid_vs_avg: -0.14688401879625437\n",
      "HTX_level3_price_ask_vs_min_lag_4: -0.14699460824968816\n",
      "HTX_level1_price_ask_vs_min: 0.147651452794072\n",
      "Bybit_level2_bid_spread_lag_1: -0.14930336136566874\n",
      "Bybit_level3_size_ask_vs_min_lag_4: -0.14987895553815647\n",
      "HTX_level3_price_bid_vs_avg_lag_4: 0.15013589021927468\n",
      "Bybit_level3_price_bid_vs_avg_lag_3: -0.15153280219817378\n",
      "Bybit_level1_size_ask_vs_max: 0.1518507138443548\n",
      "Bybit_level3_size_ask_vs_max_lag_5: -0.1520418042920595\n",
      "Bybit_level2_price_bid_vs_avg_lag_3: -0.15225088238823858\n",
      "Bybit_level3_size_ask_vs_avg_lag_5: 0.15297308919511668\n",
      "HTX_level3_price_bid_vs_max_lag_2: 0.15342277448468578\n",
      "Bybit_level1_size_ask_vs_max_lag_1: -0.1553196455754129\n",
      "HTX_bid_weight: 0.15644756372410265\n",
      "Bybit_level1_price_bid_vs_avg_lag_3: -0.15682675884286984\n",
      "HTX_level1_price_ask_vs_max_lag_2: 0.15950338392308133\n",
      "Bybit_aggregated_imbalance_lag_1: 0.1595897212746646\n",
      "till_arbitrage: 0.16023958873505487\n",
      "HTX_level2_price_bid_vs_min_lag_1: -0.16176305735818888\n",
      "HTX_level1_price_bid_vs_min_lag_2: 0.1621667017851601\n",
      "HTX_level2_size_bid_vs_avg_lag_1: 0.16288521366837713\n",
      "Bybit_level2_size_ask_vs_avg_lag_1: 0.16376935518883987\n",
      "HTX_level2_price_bid_vs_avg_lag_3: 0.16595255550026589\n",
      "Bybit_level2_size_bid_vs_avg_lag_5: 0.1662802146127761\n",
      "HTX_level2_size_ask_vs_min_lag_3: 0.167291819301111\n",
      "Bybit_level2_size_bid_vs_avg_lag_2: -0.17356745059275855\n",
      "HTX_level1_bid_ask_spread: -0.17360831650978262\n",
      "HTX_level1_price_bid_vs_avg: -0.1777808177227514\n",
      "Bybit_level2_size_ask_vs_avg: -0.18005126615699252\n",
      "HTX_level1_size_ask_vs_avg_lag_1: -0.18292333504736868\n",
      "arb_opportunity_lag_5: 0.18435519244815676\n",
      "Bybit_level3_size_ask_vs_max: 0.18675012181409686\n",
      "HTX_level2_size_bid_vs_min_lag_4: -0.18804778975047157\n",
      "Bybit_bid_weight: 0.1900346561970877\n",
      "Bybit_level3_size_ask_vs_avg: -0.19051684525923474\n",
      "Bybit_level3_size_ask_vs_avg_lag_1: 0.19418957567834058\n",
      "Bybit_delta_ts: 0.19460594951913585\n",
      "HTX_level3_price_ask_vs_min_lag_5: -0.19472446883302533\n",
      "HTX_delta_ts: -0.1949170516814035\n",
      "Bybit_level3_price_bid_vs_avg_lag_4: -0.19554115715360104\n",
      "Bybit_level2_price_bid_vs_avg_lag_4: -0.19675793805547134\n",
      "Bybit_level1_price_bid_vs_avg_lag_4: -0.2018132747666919\n",
      "HTX_level1_price_ask_vs_min_lag_2: 0.2051797201100484\n",
      "HTX_level3_price_bid_vs_avg_lag_3: 0.20607587806858085\n",
      "HTX_level3_bid_ask_spread_lag_2: -0.2087272325618444\n",
      "HTX_level1_size_bid_vs_min: 0.2095872396798389\n",
      "HTX_level3_size_bid_vs_avg_lag_2: -0.22079167130664953\n",
      "Bybit_level3_price_bid_vs_avg_lag_5: -0.23921159340996812\n",
      "Bybit_level2_price_bid_vs_avg_lag_5: -0.24057544898219332\n",
      "Bybit_level1_price_bid_vs_avg_lag_5: -0.24515326267556517\n",
      "HTX_level2_price_bid_vs_avg_lag_2: 0.24622145240127113\n",
      "HTX_level1_price_bid_vs_avg_lag_1: -0.2497118155360978\n",
      "HTX_level2_bid_ask_spread_lag_2: -0.251089057508831\n",
      "HTX_bid_weight_lag_2: -0.2515011990156359\n",
      "timedelta: -0.2791192252448581\n",
      "Bybit_level3_price_bid_vs_avg_lag_1: -0.282163650178098\n",
      "HTX_level3_price_bid_vs_avg_lag_2: 0.28226762036909675\n",
      "Bybit_level2_price_bid_vs_avg_lag_1: -0.2849703545805166\n",
      "Bybit_level1_price_bid_vs_avg_lag_1: -0.29077673547595\n",
      "Bybit_level1_imbalance: 0.29119687934990207\n",
      "HTX_level3_bid_ask_spread_lag_1: 0.3019595804305867\n",
      "HTX_level2_bid_ask_spread_lag_1: 0.3255884630651439\n",
      "HTX_level1_bid_ask_spread_lag_2: -0.3405923227581561\n",
      "arb_opportunity_lag_1: -0.37865360081773985\n",
      "HTX_level1_price_ask_vs_avg_lag_5: 0.39918648974620974\n",
      "HTX_level1_price_ask_vs_avg: 0.4015285861759643\n",
      "HTX_level1_price_ask_vs_avg_lag_1: 0.42641331053580833\n",
      "HTX_level1_price_ask_vs_avg_lag_4: 0.42868600382044025\n",
      "HTX_level1_price_ask_vs_avg_lag_3: 0.48949235747178155\n",
      "HTX_level1_bid_ask_spread_lag_1: 0.5141792267809953\n",
      "HTX_level1_price_ask_vs_avg_lag_2: 0.563695559880617\n",
      "arb_opportunity: 0.6135046293760249\n"
     ]
    }
   ],
   "source": [
    "# Get feature names\n",
    "feature_names = X_train.columns\n",
    "\n",
    "# Get the coefficients from the fitted model\n",
    "coefficients = clf.coef_[0]\n",
    "\n",
    "# Create a list of (feature_name, coefficient) pairs\n",
    "feature_importance = list(zip(feature_names, coefficients))\n",
    "\n",
    "# Sort the features by the absolute value of their coefficients\n",
    "feature_importance_sorted = sorted(feature_importance, key=lambda x: abs(x[1]), reverse=False)\n",
    "\n",
    "# Print the sorted list of feature importance\n",
    "print(\"Most important features for Logistic Regression:\")\n",
    "for feature, coef in feature_importance_sorted:\n",
    "    print(f\"{feature}: {coef}\")"
   ]
  },
  {
   "cell_type": "code",
   "execution_count": null,
   "metadata": {
    "colab": {
     "base_uri": "https://localhost:8080/",
     "height": 370
    },
    "id": "MOB64hjiDiN_",
    "outputId": "e33b998a-f01c-4a22-be51-a7a180944686"
   },
   "outputs": [
    {
     "ename": "KeyboardInterrupt",
     "evalue": "",
     "output_type": "error",
     "traceback": [
      "\u001b[0;31m---------------------------------------------------------------------------\u001b[0m",
      "\u001b[0;31mKeyboardInterrupt\u001b[0m                         Traceback (most recent call last)",
      "\u001b[0;32m<ipython-input-33-da8ff271becf>\u001b[0m in \u001b[0;36m<cell line: 0>\u001b[0;34m()\u001b[0m\n\u001b[1;32m      1\u001b[0m \u001b[0;32mfrom\u001b[0m \u001b[0msklearn\u001b[0m\u001b[0;34m.\u001b[0m\u001b[0minspection\u001b[0m \u001b[0;32mimport\u001b[0m \u001b[0mpermutation_importance\u001b[0m\u001b[0;34m\u001b[0m\u001b[0;34m\u001b[0m\u001b[0m\n\u001b[1;32m      2\u001b[0m \u001b[0;34m\u001b[0m\u001b[0m\n\u001b[0;32m----> 3\u001b[0;31m result = permutation_importance(\n\u001b[0m\u001b[1;32m      4\u001b[0m     \u001b[0mclf\u001b[0m\u001b[0;34m,\u001b[0m \u001b[0mX_test_scaled\u001b[0m\u001b[0;34m,\u001b[0m \u001b[0my_test\u001b[0m\u001b[0;34m,\u001b[0m\u001b[0;34m\u001b[0m\u001b[0;34m\u001b[0m\u001b[0m\n\u001b[1;32m      5\u001b[0m     \u001b[0mscoring\u001b[0m\u001b[0;34m=\u001b[0m\u001b[0;34m'f1'\u001b[0m\u001b[0;34m,\u001b[0m    \u001b[0;31m# or 'accuracy', 'f1', etc.\u001b[0m\u001b[0;34m\u001b[0m\u001b[0;34m\u001b[0m\u001b[0m\n",
      "\u001b[0;32m/usr/local/lib/python3.11/dist-packages/sklearn/utils/_param_validation.py\u001b[0m in \u001b[0;36mwrapper\u001b[0;34m(*args, **kwargs)\u001b[0m\n\u001b[1;32m    214\u001b[0m                     )\n\u001b[1;32m    215\u001b[0m                 ):\n\u001b[0;32m--> 216\u001b[0;31m                     \u001b[0;32mreturn\u001b[0m \u001b[0mfunc\u001b[0m\u001b[0;34m(\u001b[0m\u001b[0;34m*\u001b[0m\u001b[0margs\u001b[0m\u001b[0;34m,\u001b[0m \u001b[0;34m**\u001b[0m\u001b[0mkwargs\u001b[0m\u001b[0;34m)\u001b[0m\u001b[0;34m\u001b[0m\u001b[0;34m\u001b[0m\u001b[0m\n\u001b[0m\u001b[1;32m    217\u001b[0m             \u001b[0;32mexcept\u001b[0m \u001b[0mInvalidParameterError\u001b[0m \u001b[0;32mas\u001b[0m \u001b[0me\u001b[0m\u001b[0;34m:\u001b[0m\u001b[0;34m\u001b[0m\u001b[0;34m\u001b[0m\u001b[0m\n\u001b[1;32m    218\u001b[0m                 \u001b[0;31m# When the function is just a wrapper around an estimator, we allow\u001b[0m\u001b[0;34m\u001b[0m\u001b[0;34m\u001b[0m\u001b[0m\n",
      "\u001b[0;32m/usr/local/lib/python3.11/dist-packages/sklearn/inspection/_permutation_importance.py\u001b[0m in \u001b[0;36mpermutation_importance\u001b[0;34m(estimator, X, y, scoring, n_repeats, n_jobs, random_state, sample_weight, max_samples)\u001b[0m\n\u001b[1;32m    285\u001b[0m     \u001b[0mbaseline_score\u001b[0m \u001b[0;34m=\u001b[0m \u001b[0m_weights_scorer\u001b[0m\u001b[0;34m(\u001b[0m\u001b[0mscorer\u001b[0m\u001b[0;34m,\u001b[0m \u001b[0mestimator\u001b[0m\u001b[0;34m,\u001b[0m \u001b[0mX\u001b[0m\u001b[0;34m,\u001b[0m \u001b[0my\u001b[0m\u001b[0;34m,\u001b[0m \u001b[0msample_weight\u001b[0m\u001b[0;34m)\u001b[0m\u001b[0;34m\u001b[0m\u001b[0;34m\u001b[0m\u001b[0m\n\u001b[1;32m    286\u001b[0m \u001b[0;34m\u001b[0m\u001b[0m\n\u001b[0;32m--> 287\u001b[0;31m     scores = Parallel(n_jobs=n_jobs)(\n\u001b[0m\u001b[1;32m    288\u001b[0m         delayed(_calculate_permutation_scores)(\n\u001b[1;32m    289\u001b[0m             \u001b[0mestimator\u001b[0m\u001b[0;34m,\u001b[0m\u001b[0;34m\u001b[0m\u001b[0;34m\u001b[0m\u001b[0m\n",
      "\u001b[0;32m/usr/local/lib/python3.11/dist-packages/sklearn/utils/parallel.py\u001b[0m in \u001b[0;36m__call__\u001b[0;34m(self, iterable)\u001b[0m\n\u001b[1;32m     75\u001b[0m             \u001b[0;32mfor\u001b[0m \u001b[0mdelayed_func\u001b[0m\u001b[0;34m,\u001b[0m \u001b[0margs\u001b[0m\u001b[0;34m,\u001b[0m \u001b[0mkwargs\u001b[0m \u001b[0;32min\u001b[0m \u001b[0miterable\u001b[0m\u001b[0;34m\u001b[0m\u001b[0;34m\u001b[0m\u001b[0m\n\u001b[1;32m     76\u001b[0m         )\n\u001b[0;32m---> 77\u001b[0;31m         \u001b[0;32mreturn\u001b[0m \u001b[0msuper\u001b[0m\u001b[0;34m(\u001b[0m\u001b[0;34m)\u001b[0m\u001b[0;34m.\u001b[0m\u001b[0m__call__\u001b[0m\u001b[0;34m(\u001b[0m\u001b[0miterable_with_config\u001b[0m\u001b[0;34m)\u001b[0m\u001b[0;34m\u001b[0m\u001b[0;34m\u001b[0m\u001b[0m\n\u001b[0m\u001b[1;32m     78\u001b[0m \u001b[0;34m\u001b[0m\u001b[0m\n\u001b[1;32m     79\u001b[0m \u001b[0;34m\u001b[0m\u001b[0m\n",
      "\u001b[0;32m/usr/local/lib/python3.11/dist-packages/joblib/parallel.py\u001b[0m in \u001b[0;36m__call__\u001b[0;34m(self, iterable)\u001b[0m\n\u001b[1;32m   2069\u001b[0m         \u001b[0mnext\u001b[0m\u001b[0;34m(\u001b[0m\u001b[0moutput\u001b[0m\u001b[0;34m)\u001b[0m\u001b[0;34m\u001b[0m\u001b[0;34m\u001b[0m\u001b[0m\n\u001b[1;32m   2070\u001b[0m \u001b[0;34m\u001b[0m\u001b[0m\n\u001b[0;32m-> 2071\u001b[0;31m         \u001b[0;32mreturn\u001b[0m \u001b[0moutput\u001b[0m \u001b[0;32mif\u001b[0m \u001b[0mself\u001b[0m\u001b[0;34m.\u001b[0m\u001b[0mreturn_generator\u001b[0m \u001b[0;32melse\u001b[0m \u001b[0mlist\u001b[0m\u001b[0;34m(\u001b[0m\u001b[0moutput\u001b[0m\u001b[0;34m)\u001b[0m\u001b[0;34m\u001b[0m\u001b[0;34m\u001b[0m\u001b[0m\n\u001b[0m\u001b[1;32m   2072\u001b[0m \u001b[0;34m\u001b[0m\u001b[0m\n\u001b[1;32m   2073\u001b[0m     \u001b[0;32mdef\u001b[0m \u001b[0m__repr__\u001b[0m\u001b[0;34m(\u001b[0m\u001b[0mself\u001b[0m\u001b[0;34m)\u001b[0m\u001b[0;34m:\u001b[0m\u001b[0;34m\u001b[0m\u001b[0;34m\u001b[0m\u001b[0m\n",
      "\u001b[0;32m/usr/local/lib/python3.11/dist-packages/joblib/parallel.py\u001b[0m in \u001b[0;36m_get_outputs\u001b[0;34m(self, iterator, pre_dispatch)\u001b[0m\n\u001b[1;32m   1679\u001b[0m \u001b[0;34m\u001b[0m\u001b[0m\n\u001b[1;32m   1680\u001b[0m             \u001b[0;32mwith\u001b[0m \u001b[0mself\u001b[0m\u001b[0;34m.\u001b[0m\u001b[0m_backend\u001b[0m\u001b[0;34m.\u001b[0m\u001b[0mretrieval_context\u001b[0m\u001b[0;34m(\u001b[0m\u001b[0;34m)\u001b[0m\u001b[0;34m:\u001b[0m\u001b[0;34m\u001b[0m\u001b[0;34m\u001b[0m\u001b[0m\n\u001b[0;32m-> 1681\u001b[0;31m                 \u001b[0;32myield\u001b[0m \u001b[0;32mfrom\u001b[0m \u001b[0mself\u001b[0m\u001b[0;34m.\u001b[0m\u001b[0m_retrieve\u001b[0m\u001b[0;34m(\u001b[0m\u001b[0;34m)\u001b[0m\u001b[0;34m\u001b[0m\u001b[0;34m\u001b[0m\u001b[0m\n\u001b[0m\u001b[1;32m   1682\u001b[0m \u001b[0;34m\u001b[0m\u001b[0m\n\u001b[1;32m   1683\u001b[0m         \u001b[0;32mexcept\u001b[0m \u001b[0mGeneratorExit\u001b[0m\u001b[0;34m:\u001b[0m\u001b[0;34m\u001b[0m\u001b[0;34m\u001b[0m\u001b[0m\n",
      "\u001b[0;32m/usr/local/lib/python3.11/dist-packages/joblib/parallel.py\u001b[0m in \u001b[0;36m_retrieve\u001b[0;34m(self)\u001b[0m\n\u001b[1;32m   1797\u001b[0m                     \u001b[0mself\u001b[0m\u001b[0;34m.\u001b[0m\u001b[0m_jobs\u001b[0m\u001b[0;34m[\u001b[0m\u001b[0;36m0\u001b[0m\u001b[0;34m]\u001b[0m\u001b[0;34m.\u001b[0m\u001b[0mget_status\u001b[0m\u001b[0;34m(\u001b[0m\u001b[0mtimeout\u001b[0m\u001b[0;34m=\u001b[0m\u001b[0mself\u001b[0m\u001b[0;34m.\u001b[0m\u001b[0mtimeout\u001b[0m\u001b[0;34m)\u001b[0m \u001b[0;34m==\u001b[0m \u001b[0mTASK_PENDING\u001b[0m\u001b[0;34m\u001b[0m\u001b[0;34m\u001b[0m\u001b[0m\n\u001b[1;32m   1798\u001b[0m                 ):\n\u001b[0;32m-> 1799\u001b[0;31m                     \u001b[0mtime\u001b[0m\u001b[0;34m.\u001b[0m\u001b[0msleep\u001b[0m\u001b[0;34m(\u001b[0m\u001b[0;36m0.01\u001b[0m\u001b[0;34m)\u001b[0m\u001b[0;34m\u001b[0m\u001b[0;34m\u001b[0m\u001b[0m\n\u001b[0m\u001b[1;32m   1800\u001b[0m                     \u001b[0;32mcontinue\u001b[0m\u001b[0;34m\u001b[0m\u001b[0;34m\u001b[0m\u001b[0m\n\u001b[1;32m   1801\u001b[0m \u001b[0;34m\u001b[0m\u001b[0m\n",
      "\u001b[0;31mKeyboardInterrupt\u001b[0m: "
     ]
    }
   ],
   "source": [
    "from sklearn.inspection import permutation_importance\n",
    "\n",
    "result = permutation_importance(\n",
    "    clf, X_test_scaled, y_test,\n",
    "    scoring='f1',    # or 'accuracy', 'f1', etc.\n",
    "    n_repeats=10,\n",
    "    random_state=42,\n",
    "    n_jobs=-1\n",
    ")\n",
    "\n",
    "perm_imp = pd.Series(result.importances_mean, index=X_test.columns)\n",
    "perm_imp = perm_imp.sort_values(ascending=False)\n",
    "\n",
    "print(\"Top 10 by permutation importance:\")\n",
    "print(perm_imp.head(10))"
   ]
  },
  {
   "cell_type": "code",
   "execution_count": null,
   "metadata": {
    "id": "cUbRqJibEUPb"
   },
   "outputs": [],
   "source": [
    "arbitrage_model_2['hour'] = pd.to_datetime(arbitrage_model_2['ts'], unit = 'ms').dt.hour\n",
    "hour_data = arbitrage_model_2[['hour']]\n",
    "\n",
    "encoder = OneHotEncoder(drop='first', sparse_output=False)\n",
    "\n",
    "# Fit and transform the hour data\n",
    "hour_encoded = encoder.fit_transform(hour_data)\n",
    "\n",
    "# Create a DataFrame from the encoded data\n",
    "# The feature_names_in_ attribute gives the names of the input features\n",
    "# The get_feature_names_out() method generates output feature names\n",
    "encoded_hour_df = pd.DataFrame(hour_encoded, columns=encoder.get_feature_names_out(['hour']))\n",
    "\n",
    "# Ensure the indices align before concatenating\n",
    "encoded_hour_df.index = arbitrage_model_2.index\n",
    "\n",
    "# 4. Concatenate with the original DataFrame\n",
    "arbitrage_model_2_with_hour_dummies = pd.concat([arbitrage_model_2, encoded_hour_df], axis=1)\n",
    "\n",
    "# Drop the original 'hour' column if you no longer need it\n",
    "arbitrage_model_2_with_hour_dummies = arbitrage_model_2_with_hour_dummies.drop('hour', axis=1)"
   ]
  },
  {
   "cell_type": "code",
   "execution_count": null,
   "metadata": {
    "id": "l5PAN8BvEn1g"
   },
   "outputs": [],
   "source": [
    "arbitrage_model_2_with_hour_dummies"
   ]
  },
  {
   "cell_type": "code",
   "execution_count": null,
   "metadata": {
    "id": "dT2yKQ2j99f7"
   },
   "outputs": [],
   "source": [
    "X = arbitrage_model_2_with_hour_dummies.drop(columns = ['ts', 'length', 'dummy', 'arbitrage_id' ])\n",
    "y = arbitrage_model_2_with_hour_dummies[\"dummy\"]\n",
    "\n",
    "# 5) Train/test split\n",
    "X_train, X_test, y_train, y_test = train_test_split(\n",
    "    X, y,\n",
    "    test_size=0.20,\n",
    "    stratify=y,\n",
    "    random_state=42\n",
    ")\n",
    "\n",
    "scaler = StandardScaler()\n",
    "X_train_scaled = scaler.fit_transform(X_train)\n",
    "X_test_scaled = scaler.transform(X_test)\n",
    "\n",
    "clf = LogisticRegression(**{'C': 1, 'fit_intercept': True, 'intercept_scaling': 1, 'penalty': 'l2', 'solver': 'lbfgs', 'tol': 0.001}, class_weight='balanced', max_iter=10000).fit(X_train_scaled, y_train)\n",
    "\n",
    "# evaluate on test set\n",
    "y_pred  = clf.predict(X_test_scaled)\n",
    "print(classification_report(y_test, y_pred))\n",
    "\n",
    "cm = confusion_matrix(y_pred, y_test, labels=[0,1])\n",
    "disp = ConfusionMatrixDisplay(confusion_matrix=cm, display_labels=[\"<550ms\",\"≥550ms\"])\n",
    "disp.plot(cmap=plt.cm.Blues)\n",
    "plt.title(\"Confusion Matrix\")\n",
    "plt.show()\n",
    "\n",
    "t2 = X_train.index.sort_values()"
   ]
  },
  {
   "cell_type": "code",
   "execution_count": null,
   "metadata": {
    "id": "ziSMeuek_WmV"
   },
   "outputs": [],
   "source": [
    "def feature_selection_2(df, exchange1, exchange2):\n",
    "    df_train = df.select([\n",
    "        pl.col([\"ts\", \"Bybit_delta_ts\", 'HTX_delta_ts', 'timedelta', 'arbitrage_id', \"arb_opportunity\", 'length', 'till_arbitrage', 'since_last_arbitrage', 'arbitrage_start', 'active_arbitrage']),\n",
    "\n",
    "        # Spreads\n",
    "        (pl.col(f\"{exchange1}_level1_price_ask\") - pl.col(f\"{exchange1}_level1_price_bid\")\n",
    "        ).cast(pl.Float32).alias(f\"{exchange1}_level1_bid_ask_spread\"),\n",
    "        (pl.col(f\"{exchange1}_level2_price_ask\") - pl.col(f\"{exchange1}_level2_price_bid\")\n",
    "        ).cast(pl.Float32).alias(f\"{exchange1}_level2_bid_ask_spread\"),\n",
    "        (pl.col(f\"{exchange1}_level3_price_ask\") - pl.col(f\"{exchange1}_level3_price_bid\")\n",
    "        ).cast(pl.Float32).alias(f\"{exchange1}_level3_bid_ask_spread\"),\n",
    "\n",
    "        (pl.col(f\"{exchange1}_level2_price_ask\") - pl.col(f\"{exchange1}_level1_price_ask\")\n",
    "        ).cast(pl.Float32).alias(f\"{exchange1}_level1_ask_spread\"),\n",
    "        (pl.col(f\"{exchange1}_level3_price_ask\") - pl.col(f\"{exchange1}_level2_price_ask\")\n",
    "        ).cast(pl.Float32).alias(f\"{exchange1}_level2_ask_spread\"),\n",
    "\n",
    "        (pl.col(f\"{exchange1}_level1_price_bid\") - pl.col(f\"{exchange1}_level2_price_bid\")\n",
    "        ).cast(pl.Float32).alias(f\"{exchange1}_level1_bid_spread\"),\n",
    "        (pl.col(f\"{exchange1}_level2_price_bid\") - pl.col(f\"{exchange1}_level3_price_bid\")\n",
    "        ).cast(pl.Float32).alias(f\"{exchange1}_level2_bid_spread\"),\n",
    "\n",
    "        (pl.col(f\"{exchange2}_level1_price_ask\") - pl.col(f\"{exchange2}_level1_price_bid\")\n",
    "        ).cast(pl.Float32).alias(f\"{exchange2}_level1_bid_ask_spread\"),\n",
    "        (pl.col(f\"{exchange2}_level2_price_ask\") - pl.col(f\"{exchange2}_level2_price_bid\")\n",
    "        ).cast(pl.Float32).alias(f\"{exchange2}_level2_bid_ask_spread\"),\n",
    "        (pl.col(f\"{exchange2}_level3_price_ask\") - pl.col(f\"{exchange2}_level3_price_bid\")\n",
    "        ).cast(pl.Float32).alias(f\"{exchange2}_level3_bid_ask_spread\"),\n",
    "\n",
    "        (pl.col(f\"{exchange2}_level1_price_bid\") - pl.col(f\"{exchange2}_level2_price_bid\")\n",
    "        ).cast(pl.Float32).alias(f\"{exchange2}_level1_bid_spread\"),\n",
    "        (pl.col(f\"{exchange2}_level2_price_bid\") - pl.col(f\"{exchange2}_level3_price_bid\")\n",
    "        ).cast(pl.Float32).alias(f\"{exchange2}_level2_bid_spread\"),\n",
    "\n",
    "        (pl.col(f\"{exchange2}_level2_price_ask\") - pl.col(f\"{exchange2}_level1_price_ask\")\n",
    "        ).cast(pl.Float32).alias(f\"{exchange2}_level1_ask_spread\"),\n",
    "        (pl.col(f\"{exchange2}_level3_price_ask\") - pl.col(f\"{exchange2}_level2_price_ask\")\n",
    "        ).cast(pl.Float32).alias(f\"{exchange2}_level2_ask_spread\"),\n",
    "\n",
    "\n",
    "        # Imbalance\n",
    "        ((pl.col(f\"{exchange1}_level1_size_bid\") - pl.col(f\"{exchange1}_level1_size_ask\")) /\n",
    "         (pl.col(f\"{exchange1}_level1_size_bid\") + pl.col(f\"{exchange1}_level1_size_ask\"))\n",
    "        ).alias(f\"{exchange1}_level1_imbalance\"),\n",
    "\n",
    "        ((pl.col(f\"{exchange2}_level1_size_bid\") - pl.col(f\"{exchange2}_level1_size_ask\")) /\n",
    "         (pl.col(f\"{exchange2}_level1_size_bid\") + pl.col(f\"{exchange2}_level1_size_ask\"))\n",
    "        ).alias(f\"{exchange2}_level1_imbalance\"),\n",
    "\n",
    "        ((pl.col(f\"{exchange1}_level1_size_bid\") + pl.col(f\"{exchange1}_level2_size_bid\") + pl.col(f\"{exchange1}_level3_size_bid\") -\n",
    "          pl.col(f\"{exchange1}_level1_size_ask\") - pl.col(f\"{exchange1}_level2_size_ask\") - pl.col(f\"{exchange1}_level3_size_ask\")) /\n",
    "         (pl.col(f\"{exchange1}_level1_size_bid\") + pl.col(f\"{exchange1}_level2_size_bid\") + pl.col(f\"{exchange1}_level3_size_bid\") +\n",
    "          pl.col(f\"{exchange1}_level1_size_ask\") + pl.col(f\"{exchange1}_level2_size_ask\") + pl.col(f\"{exchange1}_level3_size_ask\"))\n",
    "        ).alias(f\"{exchange1}_aggregated_imbalance\"),\n",
    "\n",
    "        ((pl.col(f\"{exchange2}_level1_size_bid\") + pl.col(f\"{exchange2}_level2_size_bid\") + pl.col(f\"{exchange2}_level3_size_bid\") -\n",
    "          pl.col(f\"{exchange2}_level1_size_ask\") - pl.col(f\"{exchange2}_level2_size_ask\") - pl.col(f\"{exchange2}_level3_size_ask\")) /\n",
    "         (pl.col(f\"{exchange2}_level1_size_bid\") + pl.col(f\"{exchange2}_level2_size_bid\") + pl.col(f\"{exchange2}_level3_size_bid\") +\n",
    "          pl.col(f\"{exchange2}_level1_size_ask\") + pl.col(f\"{exchange2}_level2_size_ask\") + pl.col(f\"{exchange2}_level3_size_ask\"))\n",
    "        ).alias(f\"{exchange2}_aggregated_imbalance\"),\n",
    "\n",
    "        # Relative VWAP\n",
    "        (pl.col(f\"{exchange1}_level1_price_bid\") *\n",
    "         (pl.col(f\"{exchange1}_level1_size_bid\") + pl.col(f\"{exchange1}_level2_size_bid\") + pl.col(f\"{exchange1}_level3_size_bid\")) /\n",
    "         (pl.col(f\"{exchange1}_level1_price_bid\") * pl.col(f\"{exchange1}_level1_size_bid\") +\n",
    "          pl.col(f\"{exchange1}_level2_price_bid\") * pl.col(f\"{exchange1}_level2_size_bid\") +\n",
    "          pl.col(f\"{exchange1}_level3_price_bid\") * pl.col(f\"{exchange1}_level3_size_bid\"))\n",
    "        ).alias(f\"{exchange1}_bid_rel_vwap\"),\n",
    "\n",
    "        (pl.col(f\"{exchange1}_level1_price_ask\") *\n",
    "         (pl.col(f\"{exchange1}_level1_size_ask\") + pl.col(f\"{exchange1}_level2_size_ask\") + pl.col(f\"{exchange1}_level3_size_ask\")) /\n",
    "         (pl.col(f\"{exchange1}_level1_price_ask\") * pl.col(f\"{exchange1}_level1_size_ask\") +\n",
    "          pl.col(f\"{exchange1}_level2_price_ask\") * pl.col(f\"{exchange1}_level2_size_ask\") +\n",
    "          pl.col(f\"{exchange1}_level3_price_ask\") * pl.col(f\"{exchange1}_level3_size_ask\"))\n",
    "        ).alias(f\"{exchange1}_ask_rel_vwap\"),\n",
    "\n",
    "        (pl.col(f\"{exchange2}_level1_price_bid\") *\n",
    "         (pl.col(f\"{exchange2}_level1_size_bid\") + pl.col(f\"{exchange2}_level2_size_bid\") + pl.col(f\"{exchange2}_level3_size_bid\")) /\n",
    "         (pl.col(f\"{exchange2}_level1_price_bid\") * pl.col(f\"{exchange2}_level1_size_bid\") +\n",
    "          pl.col(f\"{exchange2}_level2_price_bid\") * pl.col(f\"{exchange2}_level2_size_bid\") +\n",
    "          pl.col(f\"{exchange2}_level3_price_bid\") * pl.col(f\"{exchange2}_level3_size_bid\"))\n",
    "        ).alias(f\"{exchange2}_bid_rel_vwap\"),\n",
    "\n",
    "        (pl.col(f\"{exchange2}_level1_price_ask\") *\n",
    "         (pl.col(f\"{exchange2}_level1_size_ask\") + pl.col(f\"{exchange2}_level2_size_ask\") + pl.col(f\"{exchange2}_level3_size_ask\")) /\n",
    "         (pl.col(f\"{exchange2}_level1_price_ask\") * pl.col(f\"{exchange2}_level1_size_ask\") +\n",
    "          pl.col(f\"{exchange2}_level2_price_ask\") * pl.col(f\"{exchange2}_level2_size_ask\") +\n",
    "          pl.col(f\"{exchange2}_level3_price_ask\") * pl.col(f\"{exchange2}_level3_size_ask\"))\n",
    "        ).alias(f\"{exchange2}_ask_rel_vwap\"),\n",
    "\n",
    "        # Top-level quote weight\n",
    "        (pl.col(f\"{exchange1}_level1_size_bid\") /\n",
    "         (pl.col(f\"{exchange1}_level1_size_bid\") + pl.col(f\"{exchange1}_level2_size_bid\") + pl.col(f\"{exchange1}_level3_size_bid\"))\n",
    "        ).alias(f\"{exchange1}_bid_weight\"),\n",
    "\n",
    "        (pl.col(f\"{exchange1}_level1_size_ask\") /\n",
    "         (pl.col(f\"{exchange1}_level1_size_ask\") + pl.col(f\"{exchange1}_level2_size_ask\") + pl.col(f\"{exchange1}_level3_size_ask\"))\n",
    "        ).alias(f\"{exchange1}_ask_weight\"),\n",
    "\n",
    "        (pl.col(f\"{exchange2}_level1_size_bid\") /\n",
    "         (pl.col(f\"{exchange2}_level1_size_bid\") + pl.col(f\"{exchange2}_level2_size_bid\") + pl.col(f\"{exchange2}_level3_size_bid\"))\n",
    "        ).alias(f\"{exchange2}_bid_weight\"),\n",
    "\n",
    "        (pl.col(f\"{exchange2}_level1_size_ask\") /\n",
    "         (pl.col(f\"{exchange2}_level1_size_ask\") + pl.col(f\"{exchange2}_level2_size_ask\") + pl.col(f\"{exchange2}_level3_size_ask\"))\n",
    "        ).alias(f\"{exchange2}_ask_weight\"),\n",
    "\n",
    "        # Price change (momentum)\n",
    "        (pl.col(f\"{exchange1}_level1_price_bid\").log() - pl.col(f\"{exchange1}_level1_price_bid\").log().shift(1)\n",
    "        ).cast(pl.Float32).alias(f\"{exchange1}_level1_bid_price_change\"),\n",
    "        (pl.col(f\"{exchange1}_level1_price_ask\").log() - pl.col(f\"{exchange1}_level1_price_ask\").log().shift(1)\n",
    "        ).cast(pl.Float32).alias(f\"{exchange1}_level1_ask_price_change\"),\n",
    "\n",
    "        (pl.col(f\"{exchange2}_level1_price_bid\").log() - pl.col(f\"{exchange2}_level1_price_bid\").log().shift(1)\n",
    "        ).cast(pl.Float32).alias(f\"{exchange2}_level1_bid_price_change\"),\n",
    "        (pl.col(f\"{exchange2}_level1_price_ask\").log() - pl.col(f\"{exchange2}_level1_price_ask\").log().shift(1)\n",
    "        ).cast(pl.Float32).alias(f\"{exchange2}_level1_ask_price_change\"),\n",
    "\n",
    "        (pl.col(f\"{exchange1}_level2_price_bid\").log() - pl.col(f\"{exchange1}_level2_price_bid\").log().shift(1)\n",
    "        ).cast(pl.Float32).alias(f\"{exchange1}_level2_bid_price_change\"),\n",
    "        (pl.col(f\"{exchange1}_level2_price_ask\").log() - pl.col(f\"{exchange1}_level2_price_ask\").log().shift(1)\n",
    "        ).cast(pl.Float32).alias(f\"{exchange1}_level2_ask_price_change\"),\n",
    "\n",
    "        (pl.col(f\"{exchange2}_level2_price_bid\").log() - pl.col(f\"{exchange2}_level2_price_bid\").log().shift(1)\n",
    "        ).cast(pl.Float32).alias(f\"{exchange2}_level2_bid_price_change\"),\n",
    "        (pl.col(f\"{exchange2}_level2_price_ask\").log() - pl.col(f\"{exchange2}_level2_price_ask\").log().shift(1)\n",
    "        ).cast(pl.Float32).alias(f\"{exchange2}_level2_ask_price_change\"),\n",
    "\n",
    "        (pl.col(f\"{exchange1}_level3_price_bid\").log() - pl.col(f\"{exchange1}_level3_price_bid\").log().shift(1)\n",
    "        ).cast(pl.Float32).alias(f\"{exchange1}_level3_bid_price_change\"),\n",
    "        (pl.col(f\"{exchange1}_level3_price_ask\").log() - pl.col(f\"{exchange1}_level3_price_ask\").log().shift(1)\n",
    "        ).cast(pl.Float32).alias(f\"{exchange1}_level3_ask_price_change\"),\n",
    "\n",
    "        (pl.col(f\"{exchange2}_level3_price_bid\").log() - pl.col(f\"{exchange2}_level3_price_bid\").log().shift(1)\n",
    "        ).cast(pl.Float32).alias(f\"{exchange2}_level3_bid_price_change\"),\n",
    "        (pl.col(f\"{exchange2}_level3_price_ask\").log() - pl.col(f\"{exchange2}_level3_price_ask\").log().shift(1)\n",
    "        ).cast(pl.Float32).alias(f\"{exchange2}_level3_ask_price_change\"),\n",
    "\n",
    "        # Price change (2tick)\n",
    "        (pl.col(f\"{exchange1}_level1_price_bid\").log() - pl.col(f\"{exchange1}_level1_price_bid\").log().shift(2)\n",
    "        ).cast(pl.Float32).alias(f\"{exchange1}_level1_bid_price_change_2tick\"),\n",
    "        (pl.col(f\"{exchange1}_level1_price_ask\").log() - pl.col(f\"{exchange1}_level1_price_ask\").log().shift(2)\n",
    "        ).cast(pl.Float32).alias(f\"{exchange1}_level1_ask_price_change_2tick\"),\n",
    "\n",
    "        (pl.col(f\"{exchange2}_level1_price_bid\").log() - pl.col(f\"{exchange2}_level1_price_bid\").log().shift(2)\n",
    "        ).cast(pl.Float32).alias(f\"{exchange2}_level1_bid_price_change_2tick\"),\n",
    "        (pl.col(f\"{exchange2}_level1_price_ask\").log() - pl.col(f\"{exchange2}_level1_price_ask\").log().shift(2)\n",
    "        ).cast(pl.Float32).alias(f\"{exchange2}_level1_ask_price_change_2tick\"),\n",
    "\n",
    "        (pl.col(f\"{exchange1}_level2_price_bid\").log() - pl.col(f\"{exchange1}_level2_price_bid\").log().shift(2)\n",
    "        ).cast(pl.Float32).alias(f\"{exchange1}_level2_bid_price_change_2tick\"),\n",
    "        (pl.col(f\"{exchange1}_level2_price_ask\").log() - pl.col(f\"{exchange1}_level2_price_ask\").log().shift(2)\n",
    "        ).cast(pl.Float32).alias(f\"{exchange1}_level2_ask_price_change_2tick\"),\n",
    "\n",
    "        (pl.col(f\"{exchange2}_level2_price_bid\").log() - pl.col(f\"{exchange2}_level2_price_bid\").log().shift(2)\n",
    "        ).cast(pl.Float32).alias(f\"{exchange2}_level2_bid_price_change_2tick\"),\n",
    "        (pl.col(f\"{exchange2}_level2_price_ask\").log() - pl.col(f\"{exchange2}_level2_price_ask\").log().shift(2)\n",
    "        ).cast(pl.Float32).alias(f\"{exchange2}_level2_ask_price_change_2tick\"),\n",
    "\n",
    "        (pl.col(f\"{exchange1}_level3_price_bid\").log() - pl.col(f\"{exchange1}_level3_price_bid\").log().shift(2)\n",
    "        ).cast(pl.Float32).alias(f\"{exchange1}_level3_bid_price_change_2tick\"),\n",
    "        (pl.col(f\"{exchange1}_level3_price_ask\").log() - pl.col(f\"{exchange1}_level3_price_ask\").log().shift(2)\n",
    "        ).cast(pl.Float32).alias(f\"{exchange1}_level3_ask_price_change_2tick\"),\n",
    "\n",
    "        (pl.col(f\"{exchange2}_level3_price_bid\").log() - pl.col(f\"{exchange2}_level3_price_bid\").log().shift(2)\n",
    "        ).cast(pl.Float32).alias(f\"{exchange2}_level3_bid_price_change_2tick\"),\n",
    "        (pl.col(f\"{exchange2}_level3_price_ask\").log() - pl.col(f\"{exchange2}_level3_price_ask\").log().shift(2)\n",
    "        ).cast(pl.Float32).alias(f\"{exchange2}_level3_ask_price_change_2tick\"),\n",
    "\n",
    "        # short-term price volatility\n",
    "        (pl.col(f\"{exchange1}_level1_price_bid\") - pl.col(f\"{exchange1}_level1_price_bid\").shift(2)\n",
    "        ).cast(pl.Float32).alias(f\"{exchange1}_level1_2tick_price_bid_vol\"),\n",
    "        (pl.col(f\"{exchange2}_level1_price_bid\") - pl.col(f\"{exchange2}_level1_price_bid\").shift(2)\n",
    "        ).cast(pl.Float32).alias(f\"{exchange2}_level1_2tick_price_bid_vol\"),\n",
    "\n",
    "        (pl.col(f\"{exchange1}_level1_price_ask\") - pl.col(f\"{exchange1}_level1_price_ask\").shift(2)\n",
    "        ).cast(pl.Float32).alias(f\"{exchange1}_level1_2tick_price_ask_vol\"),\n",
    "        (pl.col(f\"{exchange2}_level1_price_ask\") - pl.col(f\"{exchange2}_level1_price_ask\").shift(2)\n",
    "        ).cast(pl.Float32).alias(f\"{exchange2}_level1_2tick_price_ask_vol\"),\n",
    "\n",
    "        (pl.col(f\"{exchange1}_level2_price_bid\") - pl.col(f\"{exchange1}_level2_price_bid\").shift(2)\n",
    "        ).cast(pl.Float32).alias(f\"{exchange1}_level2_2tick_price_bid_vol\"),\n",
    "        (pl.col(f\"{exchange2}_level2_price_bid\") - pl.col(f\"{exchange2}_level2_price_bid\").shift(2)\n",
    "        ).cast(pl.Float32).alias(f\"{exchange2}_level2_2tick_price_bid_vol\"),\n",
    "\n",
    "        (pl.col(f\"{exchange1}_level2_price_ask\") - pl.col(f\"{exchange1}_level2_price_ask\").shift(2)\n",
    "        ).cast(pl.Float32).alias(f\"{exchange1}_level2_2tick_price_ask_vol\"),\n",
    "        (pl.col(f\"{exchange2}_level2_price_ask\") - pl.col(f\"{exchange2}_level2_price_ask\").shift(2)\n",
    "        ).cast(pl.Float32).alias(f\"{exchange2}_level2_2tick_price_ask_vol\"),\n",
    "\n",
    "        (pl.col(f\"{exchange1}_level3_price_bid\") - pl.col(f\"{exchange1}_level3_price_bid\").shift(2)\n",
    "        ).cast(pl.Float32).alias(f\"{exchange1}_level3_2tick_price_bid_vol\"),\n",
    "        (pl.col(f\"{exchange2}_level3_price_bid\") - pl.col(f\"{exchange2}_level3_price_bid\").shift(2)\n",
    "        ).cast(pl.Float32).alias(f\"{exchange2}_level3_2tick_price_bid_vol\"),\n",
    "\n",
    "        (pl.col(f\"{exchange1}_level3_price_ask\") - pl.col(f\"{exchange1}_level3_price_ask\").shift(2)\n",
    "        ).cast(pl.Float32).alias(f\"{exchange1}_level3_2tick_price_ask_vol\"),\n",
    "        (pl.col(f\"{exchange2}_level3_price_ask\") - pl.col(f\"{exchange2}_level3_price_ask\").shift(2)\n",
    "        ).cast(pl.Float32).alias(f\"{exchange2}_level3_2tick_price_ask_vol\"),\n",
    "\n",
    "        # Size change (momentum)\n",
    "        (pl.col(f\"{exchange1}_level1_size_bid\") / pl.col(f\"{exchange1}_level1_size_bid\").shift(1) - 1\n",
    "        ).cast(pl.Float32).alias(f\"{exchange1}_level1_bid_size_change\"),\n",
    "        (pl.col(f\"{exchange1}_level1_size_ask\") / pl.col(f\"{exchange1}_level1_size_ask\").shift(1) - 1\n",
    "        ).cast(pl.Float32).alias(f\"{exchange1}_level1_ask_size_change\"),\n",
    "\n",
    "        (pl.col(f\"{exchange2}_level1_size_bid\") / pl.col(f\"{exchange2}_level1_size_bid\").shift(1) - 1\n",
    "        ).cast(pl.Float32).alias(f\"{exchange2}_level1_bid_size_change\"),\n",
    "        (pl.col(f\"{exchange2}_level1_size_ask\") / pl.col(f\"{exchange2}_level1_size_ask\").shift(1) - 1\n",
    "        ).cast(pl.Float32).alias(f\"{exchange2}_level1_ask_size_change\"),\n",
    "\n",
    "        (pl.col(f\"{exchange1}_level2_size_bid\") / pl.col(f\"{exchange1}_level2_size_bid\").shift(1) - 1\n",
    "        ).cast(pl.Float32).alias(f\"{exchange1}_level2_bid_size_change\"),\n",
    "        (pl.col(f\"{exchange1}_level2_size_ask\") / pl.col(f\"{exchange1}_level2_size_ask\").shift(1) - 1\n",
    "        ).cast(pl.Float32).alias(f\"{exchange1}_level2_ask_size_change\"),\n",
    "\n",
    "        (pl.col(f\"{exchange2}_level2_size_bid\") / pl.col(f\"{exchange2}_level2_size_bid\").shift(1) - 1\n",
    "        ).cast(pl.Float32).alias(f\"{exchange2}_level2_bid_size_change\"),\n",
    "        (pl.col(f\"{exchange2}_level2_size_ask\") / pl.col(f\"{exchange2}_level2_size_ask\").shift(1) - 1\n",
    "        ).cast(pl.Float32).alias(f\"{exchange2}_level2_ask_size_change\"),\n",
    "\n",
    "        (pl.col(f\"{exchange1}_level3_size_bid\") / pl.col(f\"{exchange1}_level3_size_bid\").shift(1) - 1\n",
    "        ).cast(pl.Float32).alias(f\"{exchange1}_level3_bid_size_change\"),\n",
    "        (pl.col(f\"{exchange1}_level3_size_ask\") / pl.col(f\"{exchange1}_level3_size_ask\").shift(1) - 1\n",
    "        ).cast(pl.Float32).alias(f\"{exchange1}_level3_ask_size_change\"),\n",
    "\n",
    "        (pl.col(f\"{exchange2}_level3_size_bid\") / pl.col(f\"{exchange2}_level3_size_bid\").shift(1) - 1\n",
    "        ).cast(pl.Float32).alias(f\"{exchange2}_level3_bid_size_change\"),\n",
    "        (pl.col(f\"{exchange2}_level3_size_ask\") / pl.col(f\"{exchange2}_level3_size_ask\").shift(1) - 1\n",
    "        ).cast(pl.Float32).alias(f\"{exchange2}_level3_ask_size_change\"),\n",
    "\n",
    "        # short-term size volatility\n",
    "        (pl.col(f\"{exchange1}_level1_size_bid\") / pl.col(f\"{exchange1}_level1_size_bid\").shift(2) - 1\n",
    "        ).cast(pl.Float32).alias(f\"{exchange1}_level1_2tick_size_bid_vol\"),\n",
    "        (pl.col(f\"{exchange2}_level1_size_bid\") / pl.col(f\"{exchange2}_level1_size_bid\").shift(2) - 1\n",
    "        ).cast(pl.Float32).alias(f\"{exchange2}_level1_2tick_size_bid_vol\"),\n",
    "\n",
    "        (pl.col(f\"{exchange1}_level1_size_ask\") / pl.col(f\"{exchange1}_level1_size_ask\").shift(2) - 1\n",
    "        ).cast(pl.Float32).alias(f\"{exchange1}_level1_2tick_size_ask_vol\"),\n",
    "        (pl.col(f\"{exchange2}_level1_size_ask\") / pl.col(f\"{exchange2}_level1_size_ask\").shift(2) - 1\n",
    "        ).cast(pl.Float32).alias(f\"{exchange2}_level1_2tick_size_ask_vol\"),\n",
    "\n",
    "        (pl.col(f\"{exchange1}_level2_size_bid\") / pl.col(f\"{exchange1}_level2_size_bid\").shift(2) - 1\n",
    "        ).cast(pl.Float32).alias(f\"{exchange1}_level2_2tick_size_bid_vol\"),\n",
    "        (pl.col(f\"{exchange2}_level2_size_bid\") / pl.col(f\"{exchange2}_level2_size_bid\").shift(2) - 1\n",
    "        ).cast(pl.Float32).alias(f\"{exchange2}_level2_2tick_size_bid_vol\"),\n",
    "\n",
    "        (pl.col(f\"{exchange1}_level2_size_ask\") / pl.col(f\"{exchange1}_level2_size_ask\").shift(2) - 1\n",
    "        ).cast(pl.Float32).alias(f\"{exchange1}_level2_2tick_size_ask_vol\"),\n",
    "        (pl.col(f\"{exchange2}_level2_size_ask\") / pl.col(f\"{exchange2}_level2_size_ask\").shift(2) - 1\n",
    "        ).cast(pl.Float32).alias(f\"{exchange2}_level2_2tick_size_ask_vol\"),\n",
    "\n",
    "        (pl.col(f\"{exchange1}_level3_size_bid\") / pl.col(f\"{exchange1}_level3_size_bid\").shift(2) - 1\n",
    "        ).cast(pl.Float32).alias(f\"{exchange1}_level3_2tick_size_bid_vol\"),\n",
    "        (pl.col(f\"{exchange2}_level3_size_bid\") / pl.col(f\"{exchange2}_level3_size_bid\").shift(2) - 1\n",
    "        ).cast(pl.Float32).alias(f\"{exchange2}_level3_2tick_size_bid_vol\"),\n",
    "\n",
    "        (pl.col(f\"{exchange1}_level3_size_ask\") / pl.col(f\"{exchange1}_level3_size_ask\").shift(2) - 1\n",
    "        ).cast(pl.Float32).alias(f\"{exchange1}_level3_2tick_size_ask_vol\"),\n",
    "        (pl.col(f\"{exchange2}_level3_size_ask\") / pl.col(f\"{exchange2}_level3_size_ask\").shift(2) - 1\n",
    "        ).cast(pl.Float32).alias(f\"{exchange2}_level3_2tick_size_ask_vol\"),\n",
    "        ])\n",
    "\n",
    "    df_train = df_train.with_columns([\n",
    "        (pl.col(f\"{exchange1}_level1_bid_ask_spread\") - pl.col(f\"{exchange1}_level1_bid_ask_spread\").shift(1)\n",
    "        ).alias(f\"{exchange1}_level1_bid_ask_spread_change\"),\n",
    "        (pl.col(f\"{exchange1}_level2_bid_ask_spread\") - pl.col(f\"{exchange1}_level2_bid_ask_spread\").shift(1)\n",
    "        ).alias(f\"{exchange1}_level2_bid_ask_spread_change\"),\n",
    "        (pl.col(f\"{exchange2}_level1_bid_ask_spread\") - pl.col(f\"{exchange2}_level1_bid_ask_spread\").shift(1)\n",
    "        ).alias(f\"{exchange2}_level1_bid_ask_spread_change\"),\n",
    "        (pl.col(f\"{exchange2}_level2_bid_ask_spread\") - pl.col(f\"{exchange2}_level2_bid_ask_spread\").shift(1)\n",
    "        ).alias(f\"{exchange2}_level2_bid_ask_spread_change\")\n",
    "        ])\n",
    "\n",
    "\n",
    "\n",
    "\n",
    "    return df_train\n"
   ]
  },
  {
   "cell_type": "code",
   "execution_count": null,
   "metadata": {
    "id": "i0yPsgLsk9Yl"
   },
   "outputs": [],
   "source": [
    "%%time\n",
    "\n",
    "def feature_selection_1(df, exchange1, exchange2, roll: str = '10s', n_lags: int | None = None, include_first_observation: bool = True):\n",
    "\n",
    "    base = ['ts', \"Bybit_delta_ts\", 'HTX_delta_ts', 'timedelta', \"arb_opportunity\", 'length',\n",
    "        'till_arbitrage', 'since_last_arbitrage', 'arbitrage_start', 'active_arbitrage', 'arbitrage_id']\n",
    "\n",
    "    columns_to_roll = df.drop(base).columns\n",
    "\n",
    "\n",
    "    df = df.with_columns(\n",
    "    pl.col(\"ts\").cast(pl.Datetime(time_unit='ms')))\n",
    "\n",
    "    df = df.with_columns([\n",
    "        pl.col(col).rolling_mean_by(\n",
    "            \"ts\",\n",
    "            window_size=roll,\n",
    "            closed=\"left\"\n",
    "        ).alias(f\"{col}_rolling_avg_{roll}\") for col in columns_to_roll\n",
    "    ])\n",
    "\n",
    "    df = df.with_columns([\n",
    "        pl.col(col).rolling_min_by(\n",
    "        \"ts\",\n",
    "        window_size=roll,\n",
    "        closed=\"left\"\n",
    "        ).alias(f\"{col}_rolling_min_{roll}\") for col in columns_to_roll\n",
    "    ])\n",
    "\n",
    "    df = df.with_columns([\n",
    "        pl.col(col).rolling_max_by(\n",
    "        \"ts\",\n",
    "        window_size=roll,\n",
    "        closed=\"left\"\n",
    "        ).alias(f\"{col}_rolling_max_{roll}\") for col in columns_to_roll\n",
    "    ])\n",
    "\n",
    "    if not n_lags: n_lags = 0\n",
    "\n",
    "    df = df.with_columns(pl.col(\"arbitrage_id\").fill_null(strategy='backward', limit=n_lags))\n",
    "    df = df.filter(pl.col(\"arbitrage_id\").is_not_null())\n",
    "    df = df.group_by(\"arbitrage_id\").head(n_lags+2).sort(\"arbitrage_id\")\n",
    "\n",
    "    df_train = df.select([\n",
    "        pl.col(\n",
    "            base\n",
    "            ),\n",
    "\n",
    "        *[(pl.col(col) / pl.col(f\"{col}_rolling_avg_{roll}\") - 1)\n",
    "        .alias(f\"{col}_vs_avg\") for col in columns_to_roll],\n",
    "\n",
    "        *[(pl.col(col) / pl.col(f\"{col}_rolling_min_{roll}\") - 1)\n",
    "        .alias(f\"{col}_vs_min\") for col in columns_to_roll],\n",
    "\n",
    "        *[(pl.col(col) / pl.col(f\"{col}_rolling_max_{roll}\") - 1)\n",
    "        .alias(f\"{col}_vs_max\") for col in columns_to_roll],\n",
    "\n",
    "\n",
    "        # Spreads\n",
    "        (pl.col(f\"{exchange1}_level1_price_ask\") - pl.col(f\"{exchange1}_level1_price_bid\")\n",
    "        ).cast(pl.Float32).alias(f\"{exchange1}_level1_bid_ask_spread\"),\n",
    "        (pl.col(f\"{exchange1}_level2_price_ask\") - pl.col(f\"{exchange1}_level2_price_bid\")\n",
    "        ).cast(pl.Float32).alias(f\"{exchange1}_level2_bid_ask_spread\"),\n",
    "        (pl.col(f\"{exchange1}_level3_price_ask\") - pl.col(f\"{exchange1}_level3_price_bid\")\n",
    "        ).cast(pl.Float32).alias(f\"{exchange1}_level3_bid_ask_spread\"),\n",
    "\n",
    "        (pl.col(f\"{exchange1}_level2_price_ask\") - pl.col(f\"{exchange1}_level1_price_ask\")\n",
    "        ).cast(pl.Float32).alias(f\"{exchange1}_level1_ask_spread\"),\n",
    "        (pl.col(f\"{exchange1}_level3_price_ask\") - pl.col(f\"{exchange1}_level2_price_ask\")\n",
    "        ).cast(pl.Float32).alias(f\"{exchange1}_level2_ask_spread\"),\n",
    "\n",
    "        (pl.col(f\"{exchange1}_level1_price_bid\") - pl.col(f\"{exchange1}_level2_price_bid\")\n",
    "        ).cast(pl.Float32).alias(f\"{exchange1}_level1_bid_spread\"),\n",
    "        (pl.col(f\"{exchange1}_level2_price_bid\") - pl.col(f\"{exchange1}_level3_price_bid\")\n",
    "        ).cast(pl.Float32).alias(f\"{exchange1}_level2_bid_spread\"),\n",
    "\n",
    "        (pl.col(f\"{exchange2}_level1_price_ask\") - pl.col(f\"{exchange2}_level1_price_bid\")\n",
    "        ).cast(pl.Float32).alias(f\"{exchange2}_level1_bid_ask_spread\"),\n",
    "        (pl.col(f\"{exchange2}_level2_price_ask\") - pl.col(f\"{exchange2}_level2_price_bid\")\n",
    "        ).cast(pl.Float32).alias(f\"{exchange2}_level2_bid_ask_spread\"),\n",
    "        (pl.col(f\"{exchange2}_level3_price_ask\") - pl.col(f\"{exchange2}_level3_price_bid\")\n",
    "        ).cast(pl.Float32).alias(f\"{exchange2}_level3_bid_ask_spread\"),\n",
    "\n",
    "        (pl.col(f\"{exchange2}_level1_price_bid\") - pl.col(f\"{exchange2}_level2_price_bid\")\n",
    "        ).cast(pl.Float32).alias(f\"{exchange2}_level1_bid_spread\"),\n",
    "        (pl.col(f\"{exchange2}_level2_price_bid\") - pl.col(f\"{exchange2}_level3_price_bid\")\n",
    "        ).cast(pl.Float32).alias(f\"{exchange2}_level2_bid_spread\"),\n",
    "\n",
    "        (pl.col(f\"{exchange2}_level2_price_ask\") - pl.col(f\"{exchange2}_level1_price_ask\")\n",
    "        ).cast(pl.Float32).alias(f\"{exchange2}_level1_ask_spread\"),\n",
    "        (pl.col(f\"{exchange2}_level3_price_ask\") - pl.col(f\"{exchange2}_level2_price_ask\")\n",
    "        ).cast(pl.Float32).alias(f\"{exchange2}_level2_ask_spread\"),\n",
    "\n",
    "\n",
    "        # Imbalance\n",
    "        ((pl.col(f\"{exchange1}_level1_size_bid\") - pl.col(f\"{exchange1}_level1_size_ask\")) /\n",
    "         (pl.col(f\"{exchange1}_level1_size_bid\") + pl.col(f\"{exchange1}_level1_size_ask\"))\n",
    "        ).alias(f\"{exchange1}_level1_imbalance\"),\n",
    "\n",
    "        ((pl.col(f\"{exchange2}_level1_size_bid\") - pl.col(f\"{exchange2}_level1_size_ask\")) /\n",
    "         (pl.col(f\"{exchange2}_level1_size_bid\") + pl.col(f\"{exchange2}_level1_size_ask\"))\n",
    "        ).alias(f\"{exchange2}_level1_imbalance\"),\n",
    "\n",
    "        ((pl.col(f\"{exchange1}_level1_size_bid\") + pl.col(f\"{exchange1}_level2_size_bid\") + pl.col(f\"{exchange1}_level3_size_bid\") -\n",
    "          pl.col(f\"{exchange1}_level1_size_ask\") - pl.col(f\"{exchange1}_level2_size_ask\") - pl.col(f\"{exchange1}_level3_size_ask\")) /\n",
    "         (pl.col(f\"{exchange1}_level1_size_bid\") + pl.col(f\"{exchange1}_level2_size_bid\") + pl.col(f\"{exchange1}_level3_size_bid\") +\n",
    "          pl.col(f\"{exchange1}_level1_size_ask\") + pl.col(f\"{exchange1}_level2_size_ask\") + pl.col(f\"{exchange1}_level3_size_ask\"))\n",
    "        ).alias(f\"{exchange1}_aggregated_imbalance\"),\n",
    "\n",
    "        ((pl.col(f\"{exchange2}_level1_size_bid\") + pl.col(f\"{exchange2}_level2_size_bid\") + pl.col(f\"{exchange2}_level3_size_bid\") -\n",
    "          pl.col(f\"{exchange2}_level1_size_ask\") - pl.col(f\"{exchange2}_level2_size_ask\") - pl.col(f\"{exchange2}_level3_size_ask\")) /\n",
    "         (pl.col(f\"{exchange2}_level1_size_bid\") + pl.col(f\"{exchange2}_level2_size_bid\") + pl.col(f\"{exchange2}_level3_size_bid\") +\n",
    "          pl.col(f\"{exchange2}_level1_size_ask\") + pl.col(f\"{exchange2}_level2_size_ask\") + pl.col(f\"{exchange2}_level3_size_ask\"))\n",
    "        ).alias(f\"{exchange2}_aggregated_imbalance\"),\n",
    "\n",
    "\n",
    "        # Top-level quote weight\n",
    "        (pl.col(f\"{exchange1}_level1_size_bid\") /\n",
    "         (pl.col(f\"{exchange1}_level1_size_bid\") + pl.col(f\"{exchange1}_level2_size_bid\") + pl.col(f\"{exchange1}_level3_size_bid\"))\n",
    "        ).alias(f\"{exchange1}_bid_weight\"),\n",
    "\n",
    "        (pl.col(f\"{exchange1}_level1_size_ask\") /\n",
    "         (pl.col(f\"{exchange1}_level1_size_ask\") + pl.col(f\"{exchange1}_level2_size_ask\") + pl.col(f\"{exchange1}_level3_size_ask\"))\n",
    "        ).alias(f\"{exchange1}_ask_weight\"),\n",
    "\n",
    "        (pl.col(f\"{exchange2}_level1_size_bid\") /\n",
    "         (pl.col(f\"{exchange2}_level1_size_bid\") + pl.col(f\"{exchange2}_level2_size_bid\") + pl.col(f\"{exchange2}_level3_size_bid\"))\n",
    "        ).alias(f\"{exchange2}_bid_weight\"),\n",
    "\n",
    "        (pl.col(f\"{exchange2}_level1_size_ask\") /\n",
    "         (pl.col(f\"{exchange2}_level1_size_ask\") + pl.col(f\"{exchange2}_level2_size_ask\") + pl.col(f\"{exchange2}_level3_size_ask\"))\n",
    "        ).alias(f\"{exchange2}_ask_weight\")])\n",
    "\n",
    "    # Create a copy of base and remove 'arb_opportunity' from the copy\n",
    "    base_for_lagging = base[:]\n",
    "    base_for_lagging.remove(\"arb_opportunity\")\n",
    "    cols_to_lag = [col for col in df_train.columns if col not in base_for_lagging]\n",
    "\n",
    "\n",
    "    # build each lag‐frame and rename its cols\n",
    "    lag_frames = []\n",
    "    if n_lags > 0:\n",
    "        for lag in range(1, n_lags + 1):\n",
    "            # Create a list of Series from the shifted base DataFrame\n",
    "            # Ensure shifting is done within each arbitrage_id group\n",
    "            shifted_series = df_train.select(cols_to_lag).shift(lag).rename({c: f\"{c}_lag_{lag}\" for c in cols_to_lag}).get_columns()\n",
    "            lag_frames.extend(shifted_series) # Extend the list with the new Series\n",
    "\n",
    "    # horizontally stack the original filtered + all lags\n",
    "    if lag_frames:\n",
    "        df_train = df_train.hstack(lag_frames)\n",
    "\n",
    "    df_train = df_train.with_columns(pl.col(\"ts\").cast(pl.Int64))\n",
    "\n",
    "\n",
    "    if include_first_observation:\n",
    "        df_train = df_train.filter(pl.col(\"arbitrage_start\") == 1)\n",
    "    else:\n",
    "        df_train = (\n",
    "            df_train\n",
    "            .with_columns([\n",
    "                # recompute length & time‐since metrics lagged by 1\n",
    "                ((pl.col(\"length\").shift(1) - pl.col(\"ts\") + pl.col(\"ts\").shift(1)))\n",
    "                  .alias(\"length\"),\n",
    "                pl.col(\"till_arbitrage\").shift(1).alias(\"till_arbitrage\"),\n",
    "                pl.col(\"since_last_arbitrage\").shift(1).alias(\"since_last_arbitrage\"),\n",
    "            ])\n",
    "            .filter(\n",
    "                (pl.col(\"arbitrage_start\").shift(1) == 1) &\n",
    "                (pl.col(\"active_arbitrage\") == 1)\n",
    "            )\n",
    "        )\n",
    "\n",
    "\n",
    "    return df_train\n",
    "\n",
    "def final_manipulations(\n",
    "    df: pl.DataFrame,\n",
    "    max_delay_sec: int = 60\n",
    ") -> pl.DataFrame:\n",
    "    \"\"\"\n",
    "    Perform the final round of cleaning and feature‐engineering on the merged arbitrage dataset.\n",
    "\n",
    "    This function will:\n",
    "      1. Optionally drop the very first arbitrage observation (since it is common to see arbitrages that last one tick).\n",
    "      2. Remove any arbitrage events whose inter‐arrival delay exceeds `max_delay_sec`.\n",
    "      3. Generate up to `n_lags` lagged versions of all numeric feature columns.\n",
    "      4. Return a clean DataFrame ready for modelling.\n",
    "\n",
    "    Parameters\n",
    "    ----------\n",
    "    df : pd.DataFrame\n",
    "        The merged, time‐sorted data from both exchanges, including columns like\n",
    "        “arbitrage_start”, per‐exchange `delta_ts`, and any other engineered features.\n",
    "    include_first_observation : bool, default=True\n",
    "        If False, drop the first arbitrage event tick that occurs.\n",
    "        If True, keep those first‐after‐gap rows.\n",
    "    max_delay_sec : int, default=60\n",
    "        Any row whose delay since the previous arbitrage (in seconds) exceeds\n",
    "        this threshold will be dropped. Helps remove spurious or stale events\n",
    "        at session boundaries.\n",
    "    n_lags : int or None, default=None\n",
    "        If an integer, create lagged features up to `n_lags` periods for every\n",
    "        numeric column (e.g. `feature`, `feature_lag_1`, …, `feature_lag_n_lags`).\n",
    "        If None, no lagged features are added.\n",
    "    without_lags : list, default = ['ts','active_arbitrage','arbitrage_start','session_number','arbitrage_id','length','till_arbitrage','since_last_arbitrage','Bybit_delta_ts','HTX_delta_ts','timedelta']\n",
    "        List of variables, lags of which would not be added in the final model\n",
    "\n",
    "    Returns\n",
    "    -------\n",
    "    pl.DataFrame\n",
    "        A cleaned and fully feature‐engineered DataFrame, with:\n",
    "          - unwanted session‐boundary rows removed,\n",
    "          - excessive‐delay rows dropped,\n",
    "          - optional lag‐features appended,\n",
    "          - a fresh, zero‐based integer index.\n",
    "    \"\"\"\n",
    "    # To start with, we need to exclude the very first and last arbitrage observation of each recording session, as it may bring bias\n",
    "    df = df.with_columns([\n",
    "        # flag a new session when gap > 5 minutes\n",
    "        ((pl.col(\"ts\") - pl.col(\"ts\").shift(1)) > 5 * 60 * 1000)\n",
    "        .cast(pl.Int32)\n",
    "        .alias(\"is_session_break\")\n",
    "    ]).with_columns([\n",
    "        # cumulative sum of breaks => session_number\n",
    "        pl.col(\"is_session_break\").cum_sum().alias(\"session_number\")\n",
    "    ]).drop(\"is_session_break\")\n",
    "\n",
    "\n",
    "    session_mins = df.group_by(\"session_number\").agg(\n",
    "        pl.col(\"arbitrage_id\").min().alias(\"first_id\")\n",
    "    ).drop_nulls()\n",
    "    print(session_mins)\n",
    "    first_ids = session_mins[\"first_id\"].to_list()\n",
    "    id_to_exclude = set(first_ids + [i - 1 for i in first_ids])\n",
    "\n",
    "    # We also want to get rid of the data that may be recorded with delays\n",
    "    delays = df.group_by(\"arbitrage_id\").agg([\n",
    "        pl.col(\"Bybit_delta_ts\").max().alias(\"Bybit_max\"),\n",
    "        pl.col(\"HTX_delta_ts\").max().alias(\"HTX_max\"),\n",
    "        pl.col(\"timedelta\").abs().max().alias(\"td_max\"),\n",
    "    ])\n",
    "    bad_ids = (\n",
    "        delays\n",
    "        .filter(\n",
    "            (pl.col(\"Bybit_max\") > 1000 * max_delay_sec) |\n",
    "            (pl.col(\"HTX_max\"  ) > 1000 * max_delay_sec) |\n",
    "            (pl.col(\"td_max\"   ) > 1000 * max_delay_sec)\n",
    "        )\n",
    "        .get_column(\"arbitrage_id\")\n",
    "        .drop_nulls()\n",
    "        .to_list()\n",
    "    )\n",
    "    id_to_exclude.update(bad_ids)\n",
    "\n",
    "    # final filtering & cleanup\n",
    "    # First, filter the dataframe\n",
    "    arb = df.filter(~pl.col(\"arbitrage_id\").is_in(list(id_to_exclude)))\n",
    "    logger.info(f'{id_to_exclude}')\n",
    "    # Now that 'arb' is defined, we can drop helper cols\n",
    "    arb = arb.drop([c for c in [\"arbitrage_start\",\"active_arbitrage\",\"session_number\"]\n",
    "               if c in arb.columns])\n",
    "\n",
    "    # dummy label\n",
    "    arb = arb.with_columns([\n",
    "        (pl.col(\"length\") >= 550).cast(pl.Int8).alias(\"dummy\")\n",
    "    ])\n",
    "\n",
    "    return arb\n",
    "\n",
    "df_train = feature_selection_1(df_n, exchange1, exchange2, roll = '1m', n_lags = 2, include_first_observation = False)\n",
    "\n",
    "arbitrage_model = final_manipulations(df_train)"
   ]
  }
 ],
 "metadata": {
  "colab": {
   "collapsed_sections": [
    "cfeAz8ok5cYI",
    "PGhjzhpm5H1z"
   ],
   "machine_shape": "hm",
   "provenance": []
  },
  "kernelspec": {
   "display_name": "Python [conda env:base] *",
   "language": "python",
   "name": "conda-base-py"
  },
  "language_info": {
   "codemirror_mode": {
    "name": "ipython",
    "version": 3
   },
   "file_extension": ".py",
   "mimetype": "text/x-python",
   "name": "python",
   "nbconvert_exporter": "python",
   "pygments_lexer": "ipython3",
   "version": "3.11.11"
  },
  "widgets": {
   "application/vnd.jupyter.widget-state+json": {
    "1b8f0b39fda04559b3b058f683c24cfb": {
     "model_module": "@jupyter-widgets/controls",
     "model_module_version": "1.5.0",
     "model_name": "DescriptionStyleModel",
     "state": {
      "_model_module": "@jupyter-widgets/controls",
      "_model_module_version": "1.5.0",
      "_model_name": "DescriptionStyleModel",
      "_view_count": null,
      "_view_module": "@jupyter-widgets/base",
      "_view_module_version": "1.2.0",
      "_view_name": "StyleView",
      "description_width": ""
     }
    },
    "4ff3430f55c04f83b2a2ffb0fe76e46d": {
     "model_module": "@jupyter-widgets/base",
     "model_module_version": "1.2.0",
     "model_name": "LayoutModel",
     "state": {
      "_model_module": "@jupyter-widgets/base",
      "_model_module_version": "1.2.0",
      "_model_name": "LayoutModel",
      "_view_count": null,
      "_view_module": "@jupyter-widgets/base",
      "_view_module_version": "1.2.0",
      "_view_name": "LayoutView",
      "align_content": null,
      "align_items": null,
      "align_self": null,
      "border": null,
      "bottom": null,
      "display": null,
      "flex": null,
      "flex_flow": null,
      "grid_area": null,
      "grid_auto_columns": null,
      "grid_auto_flow": null,
      "grid_auto_rows": null,
      "grid_column": null,
      "grid_gap": null,
      "grid_row": null,
      "grid_template_areas": null,
      "grid_template_columns": null,
      "grid_template_rows": null,
      "height": null,
      "justify_content": null,
      "justify_items": null,
      "left": null,
      "margin": null,
      "max_height": null,
      "max_width": null,
      "min_height": null,
      "min_width": null,
      "object_fit": null,
      "object_position": null,
      "order": null,
      "overflow": null,
      "overflow_x": null,
      "overflow_y": null,
      "padding": null,
      "right": null,
      "top": null,
      "visibility": null,
      "width": null
     }
    },
    "5a5b394532af4254bf2cedfb037942a2": {
     "model_module": "@jupyter-widgets/controls",
     "model_module_version": "1.5.0",
     "model_name": "DescriptionStyleModel",
     "state": {
      "_model_module": "@jupyter-widgets/controls",
      "_model_module_version": "1.5.0",
      "_model_name": "DescriptionStyleModel",
      "_view_count": null,
      "_view_module": "@jupyter-widgets/base",
      "_view_module_version": "1.2.0",
      "_view_name": "StyleView",
      "description_width": ""
     }
    },
    "7f4a92752b3d4cdd847991f81b8acb05": {
     "model_module": "@jupyter-widgets/controls",
     "model_module_version": "1.5.0",
     "model_name": "ProgressStyleModel",
     "state": {
      "_model_module": "@jupyter-widgets/controls",
      "_model_module_version": "1.5.0",
      "_model_name": "ProgressStyleModel",
      "_view_count": null,
      "_view_module": "@jupyter-widgets/base",
      "_view_module_version": "1.2.0",
      "_view_name": "StyleView",
      "bar_color": null,
      "description_width": ""
     }
    },
    "80ce63f8098f42308bb95bdff6e327b1": {
     "model_module": "@jupyter-widgets/base",
     "model_module_version": "1.2.0",
     "model_name": "LayoutModel",
     "state": {
      "_model_module": "@jupyter-widgets/base",
      "_model_module_version": "1.2.0",
      "_model_name": "LayoutModel",
      "_view_count": null,
      "_view_module": "@jupyter-widgets/base",
      "_view_module_version": "1.2.0",
      "_view_name": "LayoutView",
      "align_content": null,
      "align_items": null,
      "align_self": null,
      "border": null,
      "bottom": null,
      "display": null,
      "flex": null,
      "flex_flow": null,
      "grid_area": null,
      "grid_auto_columns": null,
      "grid_auto_flow": null,
      "grid_auto_rows": null,
      "grid_column": null,
      "grid_gap": null,
      "grid_row": null,
      "grid_template_areas": null,
      "grid_template_columns": null,
      "grid_template_rows": null,
      "height": null,
      "justify_content": null,
      "justify_items": null,
      "left": null,
      "margin": null,
      "max_height": null,
      "max_width": null,
      "min_height": null,
      "min_width": null,
      "object_fit": null,
      "object_position": null,
      "order": null,
      "overflow": null,
      "overflow_x": null,
      "overflow_y": null,
      "padding": null,
      "right": null,
      "top": null,
      "visibility": null,
      "width": null
     }
    },
    "9fb02e819b8446a5a383ca7a2beff78f": {
     "model_module": "@jupyter-widgets/controls",
     "model_module_version": "1.5.0",
     "model_name": "HTMLModel",
     "state": {
      "_dom_classes": [],
      "_model_module": "@jupyter-widgets/controls",
      "_model_module_version": "1.5.0",
      "_model_name": "HTMLModel",
      "_view_count": null,
      "_view_module": "@jupyter-widgets/controls",
      "_view_module_version": "1.5.0",
      "_view_name": "HTMLView",
      "description": "",
      "description_tooltip": null,
      "layout": "IPY_MODEL_80ce63f8098f42308bb95bdff6e327b1",
      "placeholder": "​",
      "style": "IPY_MODEL_1b8f0b39fda04559b3b058f683c24cfb",
      "value": " 65/5000 [16:17&lt;31:22:23, 22.89s/it]"
     }
    },
    "b4fd95dbc66f4eddab6d0e45b6846152": {
     "model_module": "@jupyter-widgets/controls",
     "model_module_version": "1.5.0",
     "model_name": "HTMLModel",
     "state": {
      "_dom_classes": [],
      "_model_module": "@jupyter-widgets/controls",
      "_model_module_version": "1.5.0",
      "_model_name": "HTMLModel",
      "_view_count": null,
      "_view_module": "@jupyter-widgets/controls",
      "_view_module_version": "1.5.0",
      "_view_name": "HTMLView",
      "description": "",
      "description_tooltip": null,
      "layout": "IPY_MODEL_b92389cf477344238e97e965bfe0c4ad",
      "placeholder": "​",
      "style": "IPY_MODEL_5a5b394532af4254bf2cedfb037942a2",
      "value": "Best trial: 26. Best value: 0.516467:   1%"
     }
    },
    "b92389cf477344238e97e965bfe0c4ad": {
     "model_module": "@jupyter-widgets/base",
     "model_module_version": "1.2.0",
     "model_name": "LayoutModel",
     "state": {
      "_model_module": "@jupyter-widgets/base",
      "_model_module_version": "1.2.0",
      "_model_name": "LayoutModel",
      "_view_count": null,
      "_view_module": "@jupyter-widgets/base",
      "_view_module_version": "1.2.0",
      "_view_name": "LayoutView",
      "align_content": null,
      "align_items": null,
      "align_self": null,
      "border": null,
      "bottom": null,
      "display": null,
      "flex": null,
      "flex_flow": null,
      "grid_area": null,
      "grid_auto_columns": null,
      "grid_auto_flow": null,
      "grid_auto_rows": null,
      "grid_column": null,
      "grid_gap": null,
      "grid_row": null,
      "grid_template_areas": null,
      "grid_template_columns": null,
      "grid_template_rows": null,
      "height": null,
      "justify_content": null,
      "justify_items": null,
      "left": null,
      "margin": null,
      "max_height": null,
      "max_width": null,
      "min_height": null,
      "min_width": null,
      "object_fit": null,
      "object_position": null,
      "order": null,
      "overflow": null,
      "overflow_x": null,
      "overflow_y": null,
      "padding": null,
      "right": null,
      "top": null,
      "visibility": null,
      "width": null
     }
    },
    "c30ed0fc52cc4bc8b556a25a3ce5ae1b": {
     "model_module": "@jupyter-widgets/controls",
     "model_module_version": "1.5.0",
     "model_name": "FloatProgressModel",
     "state": {
      "_dom_classes": [],
      "_model_module": "@jupyter-widgets/controls",
      "_model_module_version": "1.5.0",
      "_model_name": "FloatProgressModel",
      "_view_count": null,
      "_view_module": "@jupyter-widgets/controls",
      "_view_module_version": "1.5.0",
      "_view_name": "ProgressView",
      "bar_style": "",
      "description": "",
      "description_tooltip": null,
      "layout": "IPY_MODEL_4ff3430f55c04f83b2a2ffb0fe76e46d",
      "max": 5000,
      "min": 0,
      "orientation": "horizontal",
      "style": "IPY_MODEL_7f4a92752b3d4cdd847991f81b8acb05",
      "value": 65
     }
    },
    "e3a2a40b68e94b1e896f0a1d98c5ff99": {
     "model_module": "@jupyter-widgets/controls",
     "model_module_version": "1.5.0",
     "model_name": "HBoxModel",
     "state": {
      "_dom_classes": [],
      "_model_module": "@jupyter-widgets/controls",
      "_model_module_version": "1.5.0",
      "_model_name": "HBoxModel",
      "_view_count": null,
      "_view_module": "@jupyter-widgets/controls",
      "_view_module_version": "1.5.0",
      "_view_name": "HBoxView",
      "box_style": "",
      "children": [
       "IPY_MODEL_b4fd95dbc66f4eddab6d0e45b6846152",
       "IPY_MODEL_c30ed0fc52cc4bc8b556a25a3ce5ae1b",
       "IPY_MODEL_9fb02e819b8446a5a383ca7a2beff78f"
      ],
      "layout": "IPY_MODEL_f362ce0917034036bc18a12c5da29c77"
     }
    },
    "f362ce0917034036bc18a12c5da29c77": {
     "model_module": "@jupyter-widgets/base",
     "model_module_version": "1.2.0",
     "model_name": "LayoutModel",
     "state": {
      "_model_module": "@jupyter-widgets/base",
      "_model_module_version": "1.2.0",
      "_model_name": "LayoutModel",
      "_view_count": null,
      "_view_module": "@jupyter-widgets/base",
      "_view_module_version": "1.2.0",
      "_view_name": "LayoutView",
      "align_content": null,
      "align_items": null,
      "align_self": null,
      "border": null,
      "bottom": null,
      "display": null,
      "flex": null,
      "flex_flow": null,
      "grid_area": null,
      "grid_auto_columns": null,
      "grid_auto_flow": null,
      "grid_auto_rows": null,
      "grid_column": null,
      "grid_gap": null,
      "grid_row": null,
      "grid_template_areas": null,
      "grid_template_columns": null,
      "grid_template_rows": null,
      "height": null,
      "justify_content": null,
      "justify_items": null,
      "left": null,
      "margin": null,
      "max_height": null,
      "max_width": null,
      "min_height": null,
      "min_width": null,
      "object_fit": null,
      "object_position": null,
      "order": null,
      "overflow": null,
      "overflow_x": null,
      "overflow_y": null,
      "padding": null,
      "right": null,
      "top": null,
      "visibility": null,
      "width": null
     }
    }
   }
  }
 },
 "nbformat": 4,
 "nbformat_minor": 4
>>>>>>> 1150d5e (Change corrput file)
}
