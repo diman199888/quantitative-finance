{
  "cells": [
    {
      "cell_type": "code",
      "execution_count": 210,
      "metadata": {
        "colab": {
          "base_uri": "https://localhost:8080/"
        },
        "id": "y_k-necYgUO5",
        "outputId": "953d23df-6d29-4632-9367-af9df8cae881"
      },
      "outputs": [
        {
          "output_type": "stream",
          "name": "stdout",
          "text": [
            "fatal: destination path 'quantitative-finance' already exists and is not an empty directory.\n",
            "Requirement already satisfied: optuna in /usr/local/lib/python3.11/dist-packages (4.4.0)\n",
            "Requirement already satisfied: alembic>=1.5.0 in /usr/local/lib/python3.11/dist-packages (from optuna) (1.16.2)\n",
            "Requirement already satisfied: colorlog in /usr/local/lib/python3.11/dist-packages (from optuna) (6.9.0)\n",
            "Requirement already satisfied: numpy in /usr/local/lib/python3.11/dist-packages (from optuna) (2.0.2)\n",
            "Requirement already satisfied: packaging>=20.0 in /usr/local/lib/python3.11/dist-packages (from optuna) (24.2)\n",
            "Requirement already satisfied: sqlalchemy>=1.4.2 in /usr/local/lib/python3.11/dist-packages (from optuna) (2.0.41)\n",
            "Requirement already satisfied: tqdm in /usr/local/lib/python3.11/dist-packages (from optuna) (4.67.1)\n",
            "Requirement already satisfied: PyYAML in /usr/local/lib/python3.11/dist-packages (from optuna) (6.0.2)\n",
            "Requirement already satisfied: Mako in /usr/lib/python3/dist-packages (from alembic>=1.5.0->optuna) (1.1.3)\n",
            "Requirement already satisfied: typing-extensions>=4.12 in /usr/local/lib/python3.11/dist-packages (from alembic>=1.5.0->optuna) (4.14.0)\n",
            "Requirement already satisfied: greenlet>=1 in /usr/local/lib/python3.11/dist-packages (from sqlalchemy>=1.4.2->optuna) (3.2.3)\n"
          ]
        }
      ],
      "source": [
        "import sys\n",
        "!git clone https://github.com/diman199888/quantitative-finance.git\n",
        "sys.path.append(\"/content/quantitative-finance/crypto-arbitrage-model/\")\n",
        "\n",
        "import crypto_arb_utils as cc\n",
        "\n",
        "import importlib\n",
        "importlib.reload(cc)\n",
        "\n",
        "from sqlalchemy import create_engine\n",
        "import sqlite3\n",
        "import psycopg2\n",
        "\n",
        "import pandas as pd\n",
        "import numpy as np\n",
        "import polars as pl\n",
        "\n",
        "import time\n",
        "import datetime\n",
        "\n",
        "import matplotlib.pyplot as plt\n",
        "import seaborn as sns\n",
        "\n",
        "import logging\n",
        "from tqdm import tqdm\n",
        "\n",
        "import statsmodels.api as sm\n",
        "\n",
        "pd.set_option('display.max_columns',  None)\n",
        "#pd.set_option('display.max_rows', 250)\n",
        "\n",
        "import sklearn\n",
        "from sklearn.model_selection import TimeSeriesSplit, train_test_split, GridSearchCV, RandomizedSearchCV, StratifiedKFold, cross_val_score\n",
        "from sklearn.linear_model import LogisticRegression, PassiveAggressiveClassifier, RidgeClassifier, SGDClassifier\n",
        "from sklearn.svm import LinearSVC, NuSVC, SVC\n",
        "from sklearn.tree import DecisionTreeClassifier, ExtraTreeClassifier\n",
        "from sklearn.neural_network import MLPClassifier\n",
        "from sklearn.ensemble import AdaBoostClassifier, BaggingClassifier, GradientBoostingClassifier, HistGradientBoostingClassifier, RandomForestClassifier, StackingClassifier\n",
        "from sklearn.metrics import classification_report, roc_auc_score, confusion_matrix, ConfusionMatrixDisplay, zero_one_loss, make_scorer, accuracy_score, f1_score, precision_score, recall_score\n",
        "from sklearn.preprocessing import StandardScaler, OneHotEncoder\n",
        "from sklearn.decomposition import PCA\n",
        "from sklearn.discriminant_analysis import LinearDiscriminantAnalysis, QuadraticDiscriminantAnalysis\n",
        "from sklearn.dummy import DummyClassifier\n",
        "\n",
        "from imblearn.over_sampling import SMOTE\n",
        "from imblearn.combine import SMOTEENN\n",
        "from imblearn.under_sampling import RandomUnderSampler\n",
        "\n",
        "!pip install optuna\n",
        "import optuna\n",
        "\n",
        "import joblib"
      ]
    },
    {
      "cell_type": "code",
      "execution_count": 291,
      "metadata": {
        "id": "9vpbIbkw1hSS"
      },
      "outputs": [],
      "source": [
        "#setup the logging module\n",
        "logging.basicConfig(level=logging.INFO, format=\"%(asctime)s - %(levelname)s - %(message)s\", force=True)\n",
        "logger = logging.getLogger(__name__)\n",
        "logger.setLevel(logging.INFO)"
      ]
    },
    {
      "cell_type": "code",
      "execution_count": null,
      "metadata": {
        "colab": {
          "base_uri": "https://localhost:8080/"
        },
        "id": "XM7rkVcOug9x",
        "outputId": "c64cc536-6997-46e5-9024-4a1eb77b8727"
      },
      "outputs": [
        {
          "name": "stdout",
          "output_type": "stream",
          "text": [
            "Mounted at /content/drive\n"
          ]
        }
      ],
      "source": [
        "from google.colab import drive\n",
        "drive.mount('/content/drive')"
      ]
    },
    {
      "cell_type": "markdown",
      "metadata": {
        "id": "v_It9zRFxCzy"
      },
      "source": [
        "# 1. Preprocess collected data"
      ]
    },
    {
      "cell_type": "code",
      "execution_count": null,
      "metadata": {
        "colab": {
          "base_uri": "https://localhost:8080/",
          "height": 515
        },
        "id": "7QOFZmWRgXU7",
        "outputId": "589f8653-473e-425d-ce70-e05f26f8984f"
      },
      "outputs": [
        {
          "name": "stderr",
          "output_type": "stream",
          "text": [
            "2025-06-12 16:15:28,337 - INFO - Connecting to database…\n",
            "2025-06-12 16:17:45,884 - INFO - Data loaded\n",
            "2025-06-12 16:18:53,236 - INFO - Loaded rows:26,390,595\n",
            "Time elapsed:204.90 s\n"
          ]
        },
        {
          "data": {
            "text/html": [
              "<div><style>\n",
              ".dataframe > thead > tr,\n",
              ".dataframe > tbody > tr {\n",
              "  text-align: right;\n",
              "  white-space: pre-wrap;\n",
              "}\n",
              "</style>\n",
              "<small>shape: (26_390_595, 9)</small><table border=\"1\" class=\"dataframe\"><thead><tr><th>exchange</th><th>ts</th><th>side</th><th>level1_price</th><th>level1_size</th><th>level2_price</th><th>level2_size</th><th>level3_price</th><th>level3_size</th></tr><tr><td>str</td><td>i64</td><td>str</td><td>f64</td><td>f64</td><td>f64</td><td>f64</td><td>f64</td><td>f64</td></tr></thead><tbody><tr><td>&quot;Bybit&quot;</td><td>1744811324776</td><td>&quot;bid&quot;</td><td>74.06</td><td>68.30026</td><td>74.05</td><td>93.52903</td><td>74.04</td><td>156.80797</td></tr><tr><td>&quot;Bybit&quot;</td><td>1744811324776</td><td>&quot;ask&quot;</td><td>74.08</td><td>16.93638</td><td>74.09</td><td>48.66282</td><td>74.1</td><td>47.20968</td></tr><tr><td>&quot;Bybit&quot;</td><td>1744811324896</td><td>&quot;bid&quot;</td><td>74.06</td><td>68.30026</td><td>74.05</td><td>100.28442</td><td>74.04</td><td>156.80797</td></tr><tr><td>&quot;Bybit&quot;</td><td>1744811324976</td><td>&quot;bid&quot;</td><td>74.06</td><td>71.67544</td><td>74.05</td><td>100.28442</td><td>74.04</td><td>156.80797</td></tr><tr><td>&quot;Bybit&quot;</td><td>1744811325196</td><td>&quot;bid&quot;</td><td>74.07</td><td>8.1</td><td>74.06</td><td>71.67544</td><td>74.05</td><td>100.28442</td></tr><tr><td>&hellip;</td><td>&hellip;</td><td>&hellip;</td><td>&hellip;</td><td>&hellip;</td><td>&hellip;</td><td>&hellip;</td><td>&hellip;</td><td>&hellip;</td></tr><tr><td>&quot;Bybit&quot;</td><td>1746643832136</td><td>&quot;ask&quot;</td><td>87.94</td><td>0.17196</td><td>87.95</td><td>85.63987</td><td>87.96</td><td>94.85292</td></tr><tr><td>&quot;HTX&quot;</td><td>1746643832109</td><td>&quot;ask&quot;</td><td>87.93</td><td>21.8137</td><td>87.94</td><td>3.24</td><td>87.95</td><td>20.14</td></tr><tr><td>&quot;Bybit&quot;</td><td>1746643832176</td><td>&quot;ask&quot;</td><td>87.94</td><td>0.17196</td><td>87.95</td><td>89.67909</td><td>87.96</td><td>94.85292</td></tr><tr><td>&quot;Bybit&quot;</td><td>1746643832236</td><td>&quot;ask&quot;</td><td>87.94</td><td>0.17196</td><td>87.95</td><td>93.74426</td><td>87.96</td><td>94.85292</td></tr><tr><td>&quot;Bybit&quot;</td><td>1746643832356</td><td>&quot;ask&quot;</td><td>87.94</td><td>0.17196</td><td>87.95</td><td>93.74426</td><td>87.96</td><td>90.78775</td></tr></tbody></table></div>"
            ],
            "text/plain": [
              "shape: (26_390_595, 9)\n",
              "┌──────────┬────────────┬──────┬────────────┬───┬────────────┬────────────┬────────────┬───────────┐\n",
              "│ exchange ┆ ts         ┆ side ┆ level1_pri ┆ … ┆ level2_pri ┆ level2_siz ┆ level3_pri ┆ level3_si │\n",
              "│ ---      ┆ ---        ┆ ---  ┆ ce         ┆   ┆ ce         ┆ e          ┆ ce         ┆ ze        │\n",
              "│ str      ┆ i64        ┆ str  ┆ ---        ┆   ┆ ---        ┆ ---        ┆ ---        ┆ ---       │\n",
              "│          ┆            ┆      ┆ f64        ┆   ┆ f64        ┆ f64        ┆ f64        ┆ f64       │\n",
              "╞══════════╪════════════╪══════╪════════════╪═══╪════════════╪════════════╪════════════╪═══════════╡\n",
              "│ Bybit    ┆ 1744811324 ┆ bid  ┆ 74.06      ┆ … ┆ 74.05      ┆ 93.52903   ┆ 74.04      ┆ 156.80797 │\n",
              "│          ┆ 776        ┆      ┆            ┆   ┆            ┆            ┆            ┆           │\n",
              "│ Bybit    ┆ 1744811324 ┆ ask  ┆ 74.08      ┆ … ┆ 74.09      ┆ 48.66282   ┆ 74.1       ┆ 47.20968  │\n",
              "│          ┆ 776        ┆      ┆            ┆   ┆            ┆            ┆            ┆           │\n",
              "│ Bybit    ┆ 1744811324 ┆ bid  ┆ 74.06      ┆ … ┆ 74.05      ┆ 100.28442  ┆ 74.04      ┆ 156.80797 │\n",
              "│          ┆ 896        ┆      ┆            ┆   ┆            ┆            ┆            ┆           │\n",
              "│ Bybit    ┆ 1744811324 ┆ bid  ┆ 74.06      ┆ … ┆ 74.05      ┆ 100.28442  ┆ 74.04      ┆ 156.80797 │\n",
              "│          ┆ 976        ┆      ┆            ┆   ┆            ┆            ┆            ┆           │\n",
              "│ Bybit    ┆ 1744811325 ┆ bid  ┆ 74.07      ┆ … ┆ 74.06      ┆ 71.67544   ┆ 74.05      ┆ 100.28442 │\n",
              "│          ┆ 196        ┆      ┆            ┆   ┆            ┆            ┆            ┆           │\n",
              "│ …        ┆ …          ┆ …    ┆ …          ┆ … ┆ …          ┆ …          ┆ …          ┆ …         │\n",
              "│ Bybit    ┆ 1746643832 ┆ ask  ┆ 87.94      ┆ … ┆ 87.95      ┆ 85.63987   ┆ 87.96      ┆ 94.85292  │\n",
              "│          ┆ 136        ┆      ┆            ┆   ┆            ┆            ┆            ┆           │\n",
              "│ HTX      ┆ 1746643832 ┆ ask  ┆ 87.93      ┆ … ┆ 87.94      ┆ 3.24       ┆ 87.95      ┆ 20.14     │\n",
              "│          ┆ 109        ┆      ┆            ┆   ┆            ┆            ┆            ┆           │\n",
              "│ Bybit    ┆ 1746643832 ┆ ask  ┆ 87.94      ┆ … ┆ 87.95      ┆ 89.67909   ┆ 87.96      ┆ 94.85292  │\n",
              "│          ┆ 176        ┆      ┆            ┆   ┆            ┆            ┆            ┆           │\n",
              "│ Bybit    ┆ 1746643832 ┆ ask  ┆ 87.94      ┆ … ┆ 87.95      ┆ 93.74426   ┆ 87.96      ┆ 94.85292  │\n",
              "│          ┆ 236        ┆      ┆            ┆   ┆            ┆            ┆            ┆           │\n",
              "│ Bybit    ┆ 1746643832 ┆ ask  ┆ 87.94      ┆ … ┆ 87.95      ┆ 93.74426   ┆ 87.96      ┆ 90.78775  │\n",
              "│          ┆ 356        ┆      ┆            ┆   ┆            ┆            ┆            ┆           │\n",
              "└──────────┴────────────┴──────┴────────────┴───┴────────────┴────────────┴────────────┴───────────┘"
            ]
          },
          "execution_count": 4,
          "metadata": {},
          "output_type": "execute_result"
        }
      ],
      "source": [
        "database_path_in_drive = '/content/drive/My Drive/Databases/crypto.db'\n",
        "engine = create_engine(f\"sqlite:///{database_path_in_drive}\")  #the data from postgresql was transfered to sqlite due to Colab's pecularities\n",
        "df = cc.download_data(engine)\n",
        "df"
      ]
    },
    {
      "cell_type": "code",
      "execution_count": null,
      "metadata": {
        "id": "9WRNgwIeDfxn"
      },
      "outputs": [],
      "source": [
        "exchange1 = \"HTX\"\n",
        "exchange2 = \"Bybit\""
      ]
    },
    {
      "cell_type": "code",
      "execution_count": null,
      "metadata": {
        "colab": {
          "base_uri": "https://localhost:8080/"
        },
        "id": "-l5aM7bz1juc",
        "outputId": "5cd43554-beb4-4e07-8bc6-ae263c019282"
      },
      "outputs": [
        {
          "name": "stderr",
          "output_type": "stream",
          "text": [
            "2025-06-12 16:18:57,441 - INFO - DataFrame for HTX processed. Number of rows:\n",
            "9,737,563\n",
            "2025-06-12 16:19:03,450 - INFO - DataFrame for Bybit processed. Number of rows:\n",
            "12,108,887\n"
          ]
        }
      ],
      "source": [
        "df_exchange1 = cc.get_orderbook_snapshot(df, exchange1)\n",
        "df_exchange2 = cc.get_orderbook_snapshot(df, exchange2)"
      ]
    },
    {
      "cell_type": "code",
      "execution_count": null,
      "metadata": {
        "colab": {
          "base_uri": "https://localhost:8080/",
          "height": 499
        },
        "id": "C2cEIF921swE",
        "outputId": "ba0c9cc2-f32f-4b52-8ccf-eb38dae1b839"
      },
      "outputs": [
        {
          "name": "stderr",
          "output_type": "stream",
          "text": [
            "2025-06-12 16:19:19,696 - INFO - DataFrames for HTX and Bybit processed. \n",
            "Number of rows: 21,637,878\n"
          ]
        },
        {
          "data": {
            "text/html": [
              "<div><style>\n",
              ".dataframe > thead > tr,\n",
              ".dataframe > tbody > tr {\n",
              "  text-align: right;\n",
              "  white-space: pre-wrap;\n",
              "}\n",
              "</style>\n",
              "<small>shape: (21_637_878, 28)</small><table border=\"1\" class=\"dataframe\"><thead><tr><th>ts</th><th>HTX_level1_price_bid</th><th>HTX_level1_size_bid</th><th>HTX_level2_price_bid</th><th>HTX_level2_size_bid</th><th>HTX_level3_price_bid</th><th>HTX_level3_size_bid</th><th>HTX_level1_price_ask</th><th>HTX_level1_size_ask</th><th>HTX_level2_price_ask</th><th>HTX_level2_size_ask</th><th>HTX_level3_price_ask</th><th>HTX_level3_size_ask</th><th>HTX_delta_ts</th><th>Bybit_level1_price_bid</th><th>Bybit_level1_size_bid</th><th>Bybit_level2_price_bid</th><th>Bybit_level2_size_bid</th><th>Bybit_level3_price_bid</th><th>Bybit_level3_size_bid</th><th>Bybit_level1_price_ask</th><th>Bybit_level1_size_ask</th><th>Bybit_level2_price_ask</th><th>Bybit_level2_size_ask</th><th>Bybit_level3_price_ask</th><th>Bybit_level3_size_ask</th><th>Bybit_delta_ts</th><th>timedelta</th></tr><tr><td>i64</td><td>f64</td><td>f64</td><td>f64</td><td>f64</td><td>f64</td><td>f64</td><td>f64</td><td>f64</td><td>f64</td><td>f64</td><td>f64</td><td>f64</td><td>i64</td><td>f64</td><td>f64</td><td>f64</td><td>f64</td><td>f64</td><td>f64</td><td>f64</td><td>f64</td><td>f64</td><td>f64</td><td>f64</td><td>f64</td><td>i64</td><td>i64</td></tr></thead><tbody><tr><td>1744811325304</td><td>74.07</td><td>4.86</td><td>74.06</td><td>6.6699</td><td>74.05</td><td>9.72</td><td>74.08</td><td>4.86</td><td>74.09</td><td>4.86</td><td>74.12</td><td>4.86</td><td>28</td><td>74.07</td><td>13.48915</td><td>74.06</td><td>93.78829</td><td>74.05</td><td>145.46272</td><td>74.08</td><td>0.37586</td><td>74.09</td><td>13.76403</td><td>74.1</td><td>32.88344</td><td>28</td><td>28</td></tr><tr><td>1744811325336</td><td>74.07</td><td>4.86</td><td>74.06</td><td>6.6699</td><td>74.05</td><td>9.72</td><td>74.08</td><td>4.86</td><td>74.09</td><td>4.86</td><td>74.12</td><td>4.86</td><td>32</td><td>74.07</td><td>20.23905</td><td>74.06</td><td>85.77832</td><td>74.05</td><td>145.46272</td><td>74.08</td><td>0.37586</td><td>74.09</td><td>8.62298</td><td>74.1</td><td>32.88344</td><td>60</td><td>-32</td></tr><tr><td>1744811325356</td><td>74.07</td><td>4.86</td><td>74.06</td><td>6.6699</td><td>74.05</td><td>9.72</td><td>74.08</td><td>4.86</td><td>74.09</td><td>4.86</td><td>74.12</td><td>4.86</td><td>52</td><td>74.07</td><td>20.23905</td><td>74.06</td><td>121.54773</td><td>74.05</td><td>145.46272</td><td>74.08</td><td>0.37586</td><td>74.09</td><td>8.62298</td><td>74.1</td><td>32.88344</td><td>20</td><td>-52</td></tr><tr><td>1744811325416</td><td>74.07</td><td>4.86</td><td>74.06</td><td>6.6699</td><td>74.05</td><td>9.72</td><td>74.08</td><td>4.86</td><td>74.09</td><td>4.86</td><td>74.12</td><td>4.86</td><td>112</td><td>74.07</td><td>23.614</td><td>74.06</td><td>121.54773</td><td>74.05</td><td>142.08686</td><td>74.08</td><td>0.37586</td><td>74.09</td><td>8.62298</td><td>74.1</td><td>32.88344</td><td>60</td><td>-112</td></tr><tr><td>1744811325436</td><td>74.07</td><td>4.86</td><td>74.06</td><td>6.6699</td><td>74.05</td><td>9.72</td><td>74.08</td><td>4.86</td><td>74.09</td><td>4.86</td><td>74.12</td><td>4.86</td><td>132</td><td>74.07</td><td>34.86054</td><td>74.06</td><td>121.54773</td><td>74.05</td><td>152.56376</td><td>74.08</td><td>0.37586</td><td>74.09</td><td>8.62298</td><td>74.1</td><td>41.33886</td><td>20</td><td>-132</td></tr><tr><td>&hellip;</td><td>&hellip;</td><td>&hellip;</td><td>&hellip;</td><td>&hellip;</td><td>&hellip;</td><td>&hellip;</td><td>&hellip;</td><td>&hellip;</td><td>&hellip;</td><td>&hellip;</td><td>&hellip;</td><td>&hellip;</td><td>&hellip;</td><td>&hellip;</td><td>&hellip;</td><td>&hellip;</td><td>&hellip;</td><td>&hellip;</td><td>&hellip;</td><td>&hellip;</td><td>&hellip;</td><td>&hellip;</td><td>&hellip;</td><td>&hellip;</td><td>&hellip;</td><td>&hellip;</td><td>&hellip;</td></tr><tr><td>1746643832117</td><td>87.91</td><td>6.48</td><td>87.9</td><td>23.85</td><td>87.89</td><td>21.24</td><td>87.93</td><td>21.8137</td><td>87.94</td><td>3.24</td><td>87.95</td><td>20.14</td><td>8</td><td>87.93</td><td>16.76849</td><td>87.92</td><td>37.4852</td><td>87.91</td><td>37.59036</td><td>87.94</td><td>0.17196</td><td>87.95</td><td>85.63987</td><td>87.96</td><td>90.64008</td><td>21</td><td>-8</td></tr><tr><td>1746643832136</td><td>87.91</td><td>6.48</td><td>87.9</td><td>23.85</td><td>87.89</td><td>21.24</td><td>87.93</td><td>21.8137</td><td>87.94</td><td>3.24</td><td>87.95</td><td>20.14</td><td>27</td><td>87.93</td><td>16.76849</td><td>87.92</td><td>37.4852</td><td>87.91</td><td>42.41956</td><td>87.94</td><td>0.17196</td><td>87.95</td><td>85.63987</td><td>87.96</td><td>94.85292</td><td>19</td><td>-27</td></tr><tr><td>1746643832176</td><td>87.91</td><td>6.48</td><td>87.9</td><td>23.85</td><td>87.89</td><td>21.24</td><td>87.93</td><td>21.8137</td><td>87.94</td><td>3.24</td><td>87.95</td><td>20.14</td><td>67</td><td>87.93</td><td>16.76849</td><td>87.92</td><td>37.4852</td><td>87.91</td><td>42.41956</td><td>87.94</td><td>0.17196</td><td>87.95</td><td>89.67909</td><td>87.96</td><td>94.85292</td><td>40</td><td>-67</td></tr><tr><td>1746643832236</td><td>87.91</td><td>6.48</td><td>87.9</td><td>23.85</td><td>87.89</td><td>21.24</td><td>87.93</td><td>21.8137</td><td>87.94</td><td>3.24</td><td>87.95</td><td>20.14</td><td>127</td><td>87.93</td><td>16.76849</td><td>87.92</td><td>37.4852</td><td>87.91</td><td>42.41956</td><td>87.94</td><td>0.17196</td><td>87.95</td><td>93.74426</td><td>87.96</td><td>94.85292</td><td>60</td><td>-127</td></tr><tr><td>1746643832356</td><td>87.91</td><td>6.48</td><td>87.9</td><td>23.85</td><td>87.89</td><td>21.24</td><td>87.93</td><td>21.8137</td><td>87.94</td><td>3.24</td><td>87.95</td><td>20.14</td><td>247</td><td>87.93</td><td>16.76849</td><td>87.92</td><td>37.4852</td><td>87.91</td><td>42.41956</td><td>87.94</td><td>0.17196</td><td>87.95</td><td>93.74426</td><td>87.96</td><td>90.78775</td><td>120</td><td>-247</td></tr></tbody></table></div>"
            ],
            "text/plain": [
              "shape: (21_637_878, 28)\n",
              "┌───────────┬───────────┬───────────┬───────────┬───┬───────────┬───────────┬───────────┬──────────┐\n",
              "│ ts        ┆ HTX_level ┆ HTX_level ┆ HTX_level ┆ … ┆ Bybit_lev ┆ Bybit_lev ┆ Bybit_del ┆ timedelt │\n",
              "│ ---       ┆ 1_price_b ┆ 1_size_bi ┆ 2_price_b ┆   ┆ el3_price ┆ el3_size_ ┆ ta_ts     ┆ a        │\n",
              "│ i64       ┆ id        ┆ d         ┆ id        ┆   ┆ _ask      ┆ ask       ┆ ---       ┆ ---      │\n",
              "│           ┆ ---       ┆ ---       ┆ ---       ┆   ┆ ---       ┆ ---       ┆ i64       ┆ i64      │\n",
              "│           ┆ f64       ┆ f64       ┆ f64       ┆   ┆ f64       ┆ f64       ┆           ┆          │\n",
              "╞═══════════╪═══════════╪═══════════╪═══════════╪═══╪═══════════╪═══════════╪═══════════╪══════════╡\n",
              "│ 174481132 ┆ 74.07     ┆ 4.86      ┆ 74.06     ┆ … ┆ 74.1      ┆ 32.88344  ┆ 28        ┆ 28       │\n",
              "│ 5304      ┆           ┆           ┆           ┆   ┆           ┆           ┆           ┆          │\n",
              "│ 174481132 ┆ 74.07     ┆ 4.86      ┆ 74.06     ┆ … ┆ 74.1      ┆ 32.88344  ┆ 60        ┆ -32      │\n",
              "│ 5336      ┆           ┆           ┆           ┆   ┆           ┆           ┆           ┆          │\n",
              "│ 174481132 ┆ 74.07     ┆ 4.86      ┆ 74.06     ┆ … ┆ 74.1      ┆ 32.88344  ┆ 20        ┆ -52      │\n",
              "│ 5356      ┆           ┆           ┆           ┆   ┆           ┆           ┆           ┆          │\n",
              "│ 174481132 ┆ 74.07     ┆ 4.86      ┆ 74.06     ┆ … ┆ 74.1      ┆ 32.88344  ┆ 60        ┆ -112     │\n",
              "│ 5416      ┆           ┆           ┆           ┆   ┆           ┆           ┆           ┆          │\n",
              "│ 174481132 ┆ 74.07     ┆ 4.86      ┆ 74.06     ┆ … ┆ 74.1      ┆ 41.33886  ┆ 20        ┆ -132     │\n",
              "│ 5436      ┆           ┆           ┆           ┆   ┆           ┆           ┆           ┆          │\n",
              "│ …         ┆ …         ┆ …         ┆ …         ┆ … ┆ …         ┆ …         ┆ …         ┆ …        │\n",
              "│ 174664383 ┆ 87.91     ┆ 6.48      ┆ 87.9      ┆ … ┆ 87.96     ┆ 90.64008  ┆ 21        ┆ -8       │\n",
              "│ 2117      ┆           ┆           ┆           ┆   ┆           ┆           ┆           ┆          │\n",
              "│ 174664383 ┆ 87.91     ┆ 6.48      ┆ 87.9      ┆ … ┆ 87.96     ┆ 94.85292  ┆ 19        ┆ -27      │\n",
              "│ 2136      ┆           ┆           ┆           ┆   ┆           ┆           ┆           ┆          │\n",
              "│ 174664383 ┆ 87.91     ┆ 6.48      ┆ 87.9      ┆ … ┆ 87.96     ┆ 94.85292  ┆ 40        ┆ -67      │\n",
              "│ 2176      ┆           ┆           ┆           ┆   ┆           ┆           ┆           ┆          │\n",
              "│ 174664383 ┆ 87.91     ┆ 6.48      ┆ 87.9      ┆ … ┆ 87.96     ┆ 94.85292  ┆ 60        ┆ -127     │\n",
              "│ 2236      ┆           ┆           ┆           ┆   ┆           ┆           ┆           ┆          │\n",
              "│ 174664383 ┆ 87.91     ┆ 6.48      ┆ 87.9      ┆ … ┆ 87.96     ┆ 90.78775  ┆ 120       ┆ -247     │\n",
              "│ 2356      ┆           ┆           ┆           ┆   ┆           ┆           ┆           ┆          │\n",
              "└───────────┴───────────┴───────────┴───────────┴───┴───────────┴───────────┴───────────┴──────────┘"
            ]
          },
          "execution_count": 7,
          "metadata": {},
          "output_type": "execute_result"
        }
      ],
      "source": [
        "df_merged = cc.merge_data(df_exchange1, exchange1, df_exchange2, exchange2)\n",
        "df_merged"
      ]
    },
    {
      "cell_type": "code",
      "execution_count": null,
      "metadata": {
        "colab": {
          "base_uri": "https://localhost:8080/"
        },
        "id": "gCtOpoTo15TL",
        "outputId": "6bb041b5-c122-4886-b9d5-c3f57e98d5de"
      },
      "outputs": [
        {
          "name": "stderr",
          "output_type": "stream",
          "text": [
            "2025-06-12 16:19:20,383 - INFO - DataFrame processed. Number of active arbitrage window rows        \n",
            "For strategy 'buy at HTX, sell at Bybit':         8,733,160         \n",
            "For strategy 'buy at Bybit, sell at HTX':         518,320\n"
          ]
        }
      ],
      "source": [
        "df_strategy = cc.strategy(df_merged, exchange1, exchange2)"
      ]
    },
    {
      "cell_type": "code",
      "execution_count": null,
      "metadata": {
        "colab": {
          "base_uri": "https://localhost:8080/",
          "height": 468
        },
        "id": "LL0c634319Sg",
        "outputId": "0b6d570b-1853-4e52-8feb-d2763709d447"
      },
      "outputs": [
        {
          "name": "stderr",
          "output_type": "stream",
          "text": [
            "2025-06-25 01:15:14,719 - INFO - DataFrame processed.                 \n",
            "Number of arbitrages: 26,379                \n"
          ]
        },
        {
          "data": {
            "text/html": [
              "<div><style>\n",
              ".dataframe > thead > tr,\n",
              ".dataframe > tbody > tr {\n",
              "  text-align: right;\n",
              "  white-space: pre-wrap;\n",
              "}\n",
              "</style>\n",
              "<small>shape: (10, 34)</small><table border=\"1\" class=\"dataframe\"><thead><tr><th>ts</th><th>HTX_level1_price_bid</th><th>HTX_level1_size_bid</th><th>HTX_level2_price_bid</th><th>HTX_level2_size_bid</th><th>HTX_level3_price_bid</th><th>HTX_level3_size_bid</th><th>HTX_level1_price_ask</th><th>HTX_level1_size_ask</th><th>HTX_level2_price_ask</th><th>HTX_level2_size_ask</th><th>HTX_level3_price_ask</th><th>HTX_level3_size_ask</th><th>HTX_delta_ts</th><th>Bybit_level1_price_bid</th><th>Bybit_level1_size_bid</th><th>Bybit_level2_price_bid</th><th>Bybit_level2_size_bid</th><th>Bybit_level3_price_bid</th><th>Bybit_level3_size_bid</th><th>Bybit_level1_price_ask</th><th>Bybit_level1_size_ask</th><th>Bybit_level2_price_ask</th><th>Bybit_level2_size_ask</th><th>Bybit_level3_price_ask</th><th>Bybit_level3_size_ask</th><th>Bybit_delta_ts</th><th>timedelta</th><th>arb_opportunity</th><th>arbitrage_opportunity</th><th>arbitrage_id</th><th>till_arbitrage</th><th>since_last_arbitrage</th><th>since_last_discrepancy</th></tr><tr><td>i64</td><td>f64</td><td>f64</td><td>f64</td><td>f64</td><td>f64</td><td>f64</td><td>f64</td><td>f64</td><td>f64</td><td>f64</td><td>f64</td><td>f64</td><td>i64</td><td>f64</td><td>f64</td><td>f64</td><td>f64</td><td>f64</td><td>f64</td><td>f64</td><td>f64</td><td>f64</td><td>f64</td><td>f64</td><td>f64</td><td>i64</td><td>i64</td><td>f64</td><td>bool</td><td>u32</td><td>i64</td><td>i64</td><td>i64</td></tr></thead><tbody><tr><td>1744811325304</td><td>74.07</td><td>4.86</td><td>74.06</td><td>6.6699</td><td>74.05</td><td>9.72</td><td>74.08</td><td>4.86</td><td>74.09</td><td>4.86</td><td>74.12</td><td>4.86</td><td>28</td><td>74.07</td><td>13.48915</td><td>74.06</td><td>93.78829</td><td>74.05</td><td>145.46272</td><td>74.08</td><td>0.37586</td><td>74.09</td><td>13.76403</td><td>74.1</td><td>32.88344</td><td>28</td><td>28</td><td>0.0</td><td>false</td><td>null</td><td>null</td><td>null</td><td>null</td></tr><tr><td>1744811325336</td><td>74.07</td><td>4.86</td><td>74.06</td><td>6.6699</td><td>74.05</td><td>9.72</td><td>74.08</td><td>4.86</td><td>74.09</td><td>4.86</td><td>74.12</td><td>4.86</td><td>32</td><td>74.07</td><td>20.23905</td><td>74.06</td><td>85.77832</td><td>74.05</td><td>145.46272</td><td>74.08</td><td>0.37586</td><td>74.09</td><td>8.62298</td><td>74.1</td><td>32.88344</td><td>60</td><td>-32</td><td>0.0</td><td>false</td><td>null</td><td>null</td><td>null</td><td>null</td></tr><tr><td>1744811325356</td><td>74.07</td><td>4.86</td><td>74.06</td><td>6.6699</td><td>74.05</td><td>9.72</td><td>74.08</td><td>4.86</td><td>74.09</td><td>4.86</td><td>74.12</td><td>4.86</td><td>52</td><td>74.07</td><td>20.23905</td><td>74.06</td><td>121.54773</td><td>74.05</td><td>145.46272</td><td>74.08</td><td>0.37586</td><td>74.09</td><td>8.62298</td><td>74.1</td><td>32.88344</td><td>20</td><td>-52</td><td>0.0</td><td>false</td><td>null</td><td>null</td><td>null</td><td>null</td></tr><tr><td>1744811325416</td><td>74.07</td><td>4.86</td><td>74.06</td><td>6.6699</td><td>74.05</td><td>9.72</td><td>74.08</td><td>4.86</td><td>74.09</td><td>4.86</td><td>74.12</td><td>4.86</td><td>112</td><td>74.07</td><td>23.614</td><td>74.06</td><td>121.54773</td><td>74.05</td><td>142.08686</td><td>74.08</td><td>0.37586</td><td>74.09</td><td>8.62298</td><td>74.1</td><td>32.88344</td><td>60</td><td>-112</td><td>0.0</td><td>false</td><td>null</td><td>null</td><td>null</td><td>null</td></tr><tr><td>1744811325436</td><td>74.07</td><td>4.86</td><td>74.06</td><td>6.6699</td><td>74.05</td><td>9.72</td><td>74.08</td><td>4.86</td><td>74.09</td><td>4.86</td><td>74.12</td><td>4.86</td><td>132</td><td>74.07</td><td>34.86054</td><td>74.06</td><td>121.54773</td><td>74.05</td><td>152.56376</td><td>74.08</td><td>0.37586</td><td>74.09</td><td>8.62298</td><td>74.1</td><td>41.33886</td><td>20</td><td>-132</td><td>0.0</td><td>false</td><td>null</td><td>null</td><td>null</td><td>null</td></tr><tr><td>1744811325456</td><td>74.07</td><td>4.86</td><td>74.06</td><td>6.6699</td><td>74.05</td><td>9.72</td><td>74.08</td><td>4.86</td><td>74.09</td><td>4.86</td><td>74.12</td><td>4.86</td><td>152</td><td>74.07</td><td>34.86054</td><td>74.06</td><td>121.54773</td><td>74.05</td><td>159.31367</td><td>74.08</td><td>0.37586</td><td>74.09</td><td>8.62298</td><td>74.1</td><td>41.33886</td><td>20</td><td>-152</td><td>0.0</td><td>false</td><td>null</td><td>null</td><td>null</td><td>null</td></tr><tr><td>1744811325461</td><td>74.07</td><td>4.86</td><td>74.06</td><td>6.6699</td><td>74.05</td><td>9.72</td><td>74.09</td><td>4.86</td><td>74.12</td><td>4.86</td><td>74.13</td><td>4.86</td><td>157</td><td>74.07</td><td>34.86054</td><td>74.06</td><td>121.54773</td><td>74.05</td><td>159.31367</td><td>74.08</td><td>0.37586</td><td>74.09</td><td>8.62298</td><td>74.1</td><td>41.33886</td><td>5</td><td>5</td><td>0.0</td><td>false</td><td>null</td><td>null</td><td>null</td><td>null</td></tr><tr><td>1744811325462</td><td>74.07</td><td>4.86</td><td>74.06</td><td>11.5299</td><td>74.05</td><td>9.72</td><td>74.11</td><td>0.2028</td><td>74.12</td><td>4.86</td><td>74.13</td><td>4.86</td><td>1</td><td>74.07</td><td>34.86054</td><td>74.06</td><td>121.54773</td><td>74.05</td><td>159.31367</td><td>74.08</td><td>0.37586</td><td>74.09</td><td>8.62298</td><td>74.1</td><td>41.33886</td><td>6</td><td>6</td><td>0.0</td><td>false</td><td>null</td><td>null</td><td>null</td><td>null</td></tr><tr><td>1744811325468</td><td>74.07</td><td>4.86</td><td>74.06</td><td>11.5299</td><td>74.05</td><td>9.72</td><td>74.1</td><td>4.86</td><td>74.11</td><td>0.2028</td><td>74.12</td><td>4.86</td><td>6</td><td>74.07</td><td>34.86054</td><td>74.06</td><td>121.54773</td><td>74.05</td><td>159.31367</td><td>74.08</td><td>0.37586</td><td>74.09</td><td>8.62298</td><td>74.1</td><td>41.33886</td><td>12</td><td>12</td><td>0.0</td><td>false</td><td>null</td><td>null</td><td>null</td><td>null</td></tr><tr><td>1744811325469</td><td>74.07</td><td>4.86</td><td>74.06</td><td>11.5299</td><td>74.05</td><td>9.72</td><td>74.1</td><td>4.86</td><td>74.11</td><td>4.7028</td><td>74.12</td><td>4.86</td><td>1</td><td>74.07</td><td>34.86054</td><td>74.06</td><td>121.54773</td><td>74.05</td><td>159.31367</td><td>74.08</td><td>0.37586</td><td>74.09</td><td>8.62298</td><td>74.1</td><td>41.33886</td><td>13</td><td>13</td><td>0.0</td><td>false</td><td>null</td><td>null</td><td>null</td><td>null</td></tr></tbody></table></div>"
            ],
            "text/plain": [
              "shape: (10, 34)\n",
              "┌───────────┬───────────┬───────────┬───────────┬───┬───────────┬───────────┬───────────┬──────────┐\n",
              "│ ts        ┆ HTX_level ┆ HTX_level ┆ HTX_level ┆ … ┆ arbitrage ┆ till_arbi ┆ since_las ┆ since_la │\n",
              "│ ---       ┆ 1_price_b ┆ 1_size_bi ┆ 2_price_b ┆   ┆ _id       ┆ trage     ┆ t_arbitra ┆ st_discr │\n",
              "│ i64       ┆ id        ┆ d         ┆ id        ┆   ┆ ---       ┆ ---       ┆ ge        ┆ epancy   │\n",
              "│           ┆ ---       ┆ ---       ┆ ---       ┆   ┆ u32       ┆ i64       ┆ ---       ┆ ---      │\n",
              "│           ┆ f64       ┆ f64       ┆ f64       ┆   ┆           ┆           ┆ i64       ┆ i64      │\n",
              "╞═══════════╪═══════════╪═══════════╪═══════════╪═══╪═══════════╪═══════════╪═══════════╪══════════╡\n",
              "│ 174481132 ┆ 74.07     ┆ 4.86      ┆ 74.06     ┆ … ┆ null      ┆ null      ┆ null      ┆ null     │\n",
              "│ 5304      ┆           ┆           ┆           ┆   ┆           ┆           ┆           ┆          │\n",
              "│ 174481132 ┆ 74.07     ┆ 4.86      ┆ 74.06     ┆ … ┆ null      ┆ null      ┆ null      ┆ null     │\n",
              "│ 5336      ┆           ┆           ┆           ┆   ┆           ┆           ┆           ┆          │\n",
              "│ 174481132 ┆ 74.07     ┆ 4.86      ┆ 74.06     ┆ … ┆ null      ┆ null      ┆ null      ┆ null     │\n",
              "│ 5356      ┆           ┆           ┆           ┆   ┆           ┆           ┆           ┆          │\n",
              "│ 174481132 ┆ 74.07     ┆ 4.86      ┆ 74.06     ┆ … ┆ null      ┆ null      ┆ null      ┆ null     │\n",
              "│ 5416      ┆           ┆           ┆           ┆   ┆           ┆           ┆           ┆          │\n",
              "│ 174481132 ┆ 74.07     ┆ 4.86      ┆ 74.06     ┆ … ┆ null      ┆ null      ┆ null      ┆ null     │\n",
              "│ 5436      ┆           ┆           ┆           ┆   ┆           ┆           ┆           ┆          │\n",
              "│ 174481132 ┆ 74.07     ┆ 4.86      ┆ 74.06     ┆ … ┆ null      ┆ null      ┆ null      ┆ null     │\n",
              "│ 5456      ┆           ┆           ┆           ┆   ┆           ┆           ┆           ┆          │\n",
              "│ 174481132 ┆ 74.07     ┆ 4.86      ┆ 74.06     ┆ … ┆ null      ┆ null      ┆ null      ┆ null     │\n",
              "│ 5461      ┆           ┆           ┆           ┆   ┆           ┆           ┆           ┆          │\n",
              "│ 174481132 ┆ 74.07     ┆ 4.86      ┆ 74.06     ┆ … ┆ null      ┆ null      ┆ null      ┆ null     │\n",
              "│ 5462      ┆           ┆           ┆           ┆   ┆           ┆           ┆           ┆          │\n",
              "│ 174481132 ┆ 74.07     ┆ 4.86      ┆ 74.06     ┆ … ┆ null      ┆ null      ┆ null      ┆ null     │\n",
              "│ 5468      ┆           ┆           ┆           ┆   ┆           ┆           ┆           ┆          │\n",
              "│ 174481132 ┆ 74.07     ┆ 4.86      ┆ 74.06     ┆ … ┆ null      ┆ null      ┆ null      ┆ null     │\n",
              "│ 5469      ┆           ┆           ┆           ┆   ┆           ┆           ┆           ┆          │\n",
              "└───────────┴───────────┴───────────┴───────────┴───┴───────────┴───────────┴───────────┴──────────┘"
            ]
          },
          "execution_count": 5,
          "metadata": {},
          "output_type": "execute_result"
        }
      ],
      "source": [
        "df_n = cc.duration_calculation(df_strategy)\n",
        "df_n.head(10)"
      ]
    },
    {
      "cell_type": "code",
      "execution_count": null,
      "metadata": {
        "colab": {
          "base_uri": "https://localhost:8080/",
          "height": 443
        },
        "id": "RJTSIQB-Gfcy",
        "outputId": "4e4c4c02-2abe-4bab-d578-aef82e2cc2ac"
      },
      "outputs": [
        {
          "data": {
            "text/html": [
              "<div><style>\n",
              ".dataframe > thead > tr,\n",
              ".dataframe > tbody > tr {\n",
              "  text-align: right;\n",
              "  white-space: pre-wrap;\n",
              "}\n",
              "</style>\n",
              "<small>shape: (23_417, 6)</small><table border=\"1\" class=\"dataframe\"><thead><tr><th>ts</th><th>buy_price</th><th>buy_size</th><th>sell_price</th><th>sell_size</th><th>strategy</th></tr><tr><td>i64</td><td>f64</td><td>f64</td><td>f64</td><td>f64</td><td>str</td></tr></thead><tbody><tr><td>1744811680796</td><td>73.73</td><td>26.92</td><td>73.76</td><td>2.03094</td><td>&quot;bHsB&quot;</td></tr><tr><td>1744811801796</td><td>73.73</td><td>23.374</td><td>73.76</td><td>8.1</td><td>&quot;bHsB&quot;</td></tr><tr><td>1744812078381</td><td>73.69</td><td>5.0636</td><td>73.72</td><td>5.04655</td><td>&quot;bHsB&quot;</td></tr><tr><td>1744812627152</td><td>74.09</td><td>4.9096</td><td>74.12</td><td>8.1</td><td>&quot;bHsB&quot;</td></tr><tr><td>1744812667138</td><td>74.09</td><td>4.9096</td><td>74.12</td><td>9.05106</td><td>&quot;bHsB&quot;</td></tr><tr><td>&hellip;</td><td>&hellip;</td><td>&hellip;</td><td>&hellip;</td><td>&hellip;</td><td>&hellip;</td></tr><tr><td>1746643690059</td><td>87.77</td><td>6.4735</td><td>87.8</td><td>3.23551</td><td>&quot;bHsB&quot;</td></tr><tr><td>1746643703276</td><td>87.75</td><td>246.061</td><td>87.78</td><td>3.23551</td><td>&quot;bHsB&quot;</td></tr><tr><td>1746643704227</td><td>87.74</td><td>7.4359</td><td>87.78</td><td>3.23551</td><td>&quot;bHsB&quot;</td></tr><tr><td>1746643705936</td><td>87.76</td><td>5.8812</td><td>87.79</td><td>5.72009</td><td>&quot;bHsB&quot;</td></tr><tr><td>1746643708046</td><td>87.77</td><td>8.0861</td><td>87.8</td><td>8.43485</td><td>&quot;bHsB&quot;</td></tr></tbody></table></div>"
            ],
            "text/plain": [
              "shape: (23_417, 6)\n",
              "┌───────────────┬───────────┬──────────┬────────────┬───────────┬──────────┐\n",
              "│ ts            ┆ buy_price ┆ buy_size ┆ sell_price ┆ sell_size ┆ strategy │\n",
              "│ ---           ┆ ---       ┆ ---      ┆ ---        ┆ ---       ┆ ---      │\n",
              "│ i64           ┆ f64       ┆ f64      ┆ f64        ┆ f64       ┆ str      │\n",
              "╞═══════════════╪═══════════╪══════════╪════════════╪═══════════╪══════════╡\n",
              "│ 1744811680796 ┆ 73.73     ┆ 26.92    ┆ 73.76      ┆ 2.03094   ┆ bHsB     │\n",
              "│ 1744811801796 ┆ 73.73     ┆ 23.374   ┆ 73.76      ┆ 8.1       ┆ bHsB     │\n",
              "│ 1744812078381 ┆ 73.69     ┆ 5.0636   ┆ 73.72      ┆ 5.04655   ┆ bHsB     │\n",
              "│ 1744812627152 ┆ 74.09     ┆ 4.9096   ┆ 74.12      ┆ 8.1       ┆ bHsB     │\n",
              "│ 1744812667138 ┆ 74.09     ┆ 4.9096   ┆ 74.12      ┆ 9.05106   ┆ bHsB     │\n",
              "│ …             ┆ …         ┆ …        ┆ …          ┆ …         ┆ …        │\n",
              "│ 1746643690059 ┆ 87.77     ┆ 6.4735   ┆ 87.8       ┆ 3.23551   ┆ bHsB     │\n",
              "│ 1746643703276 ┆ 87.75     ┆ 246.061  ┆ 87.78      ┆ 3.23551   ┆ bHsB     │\n",
              "│ 1746643704227 ┆ 87.74     ┆ 7.4359   ┆ 87.78      ┆ 3.23551   ┆ bHsB     │\n",
              "│ 1746643705936 ┆ 87.76     ┆ 5.8812   ┆ 87.79      ┆ 5.72009   ┆ bHsB     │\n",
              "│ 1746643708046 ┆ 87.77     ┆ 8.0861   ┆ 87.8       ┆ 8.43485   ┆ bHsB     │\n",
              "└───────────────┴───────────┴──────────┴────────────┴───────────┴──────────┘"
            ]
          },
          "execution_count": 6,
          "metadata": {},
          "output_type": "execute_result"
        }
      ],
      "source": [
        "expected_df = cc.expected_prices(df_n)\n",
        "expected_df"
      ]
    },
    {
      "cell_type": "code",
      "execution_count": null,
      "metadata": {
        "colab": {
          "base_uri": "https://localhost:8080/",
          "height": 463
        },
        "id": "SSUGDDLZUdFB",
        "outputId": "604472ab-024c-4127-fbf1-6f93873a1586"
      },
      "outputs": [
        {
          "data": {
            "text/html": [
              "<div><style>\n",
              ".dataframe > thead > tr,\n",
              ".dataframe > tbody > tr {\n",
              "  text-align: right;\n",
              "  white-space: pre-wrap;\n",
              "}\n",
              "</style>\n",
              "<small>shape: (21_639_046, 35)</small><table border=\"1\" class=\"dataframe\"><thead><tr><th>ts</th><th>HTX_level1_price_bid</th><th>HTX_level1_size_bid</th><th>HTX_level2_price_bid</th><th>HTX_level2_size_bid</th><th>HTX_level3_price_bid</th><th>HTX_level3_size_bid</th><th>HTX_level1_price_ask</th><th>HTX_level1_size_ask</th><th>HTX_level2_price_ask</th><th>HTX_level2_size_ask</th><th>HTX_level3_price_ask</th><th>HTX_level3_size_ask</th><th>HTX_delta_ts</th><th>Bybit_level1_price_bid</th><th>Bybit_level1_size_bid</th><th>Bybit_level2_price_bid</th><th>Bybit_level2_size_bid</th><th>Bybit_level3_price_bid</th><th>Bybit_level3_size_bid</th><th>Bybit_level1_price_ask</th><th>Bybit_level1_size_ask</th><th>Bybit_level2_price_ask</th><th>Bybit_level2_size_ask</th><th>Bybit_level3_price_ask</th><th>Bybit_level3_size_ask</th><th>Bybit_delta_ts</th><th>timedelta</th><th>arb_opportunity</th><th>arbitrage_opportunity</th><th>arbitrage_id</th><th>till_arbitrage</th><th>since_last_arbitrage</th><th>since_last_discrepancy</th><th>dummy</th></tr><tr><td>i64</td><td>f64</td><td>f64</td><td>f64</td><td>f64</td><td>f64</td><td>f64</td><td>f64</td><td>f64</td><td>f64</td><td>f64</td><td>f64</td><td>f64</td><td>i64</td><td>f64</td><td>f64</td><td>f64</td><td>f64</td><td>f64</td><td>f64</td><td>f64</td><td>f64</td><td>f64</td><td>f64</td><td>f64</td><td>f64</td><td>i64</td><td>i64</td><td>f64</td><td>bool</td><td>u32</td><td>i64</td><td>i64</td><td>i64</td><td>i64</td></tr></thead><tbody><tr><td>1744811325304</td><td>74.07</td><td>4.86</td><td>74.06</td><td>6.6699</td><td>74.05</td><td>9.72</td><td>74.08</td><td>4.86</td><td>74.09</td><td>4.86</td><td>74.12</td><td>4.86</td><td>28</td><td>74.07</td><td>13.48915</td><td>74.06</td><td>93.78829</td><td>74.05</td><td>145.46272</td><td>74.08</td><td>0.37586</td><td>74.09</td><td>13.76403</td><td>74.1</td><td>32.88344</td><td>28</td><td>28</td><td>0.0</td><td>false</td><td>null</td><td>null</td><td>null</td><td>null</td><td>null</td></tr><tr><td>1744811325336</td><td>74.07</td><td>4.86</td><td>74.06</td><td>6.6699</td><td>74.05</td><td>9.72</td><td>74.08</td><td>4.86</td><td>74.09</td><td>4.86</td><td>74.12</td><td>4.86</td><td>32</td><td>74.07</td><td>20.23905</td><td>74.06</td><td>85.77832</td><td>74.05</td><td>145.46272</td><td>74.08</td><td>0.37586</td><td>74.09</td><td>8.62298</td><td>74.1</td><td>32.88344</td><td>60</td><td>-32</td><td>0.0</td><td>false</td><td>null</td><td>null</td><td>null</td><td>null</td><td>null</td></tr><tr><td>1744811325356</td><td>74.07</td><td>4.86</td><td>74.06</td><td>6.6699</td><td>74.05</td><td>9.72</td><td>74.08</td><td>4.86</td><td>74.09</td><td>4.86</td><td>74.12</td><td>4.86</td><td>52</td><td>74.07</td><td>20.23905</td><td>74.06</td><td>121.54773</td><td>74.05</td><td>145.46272</td><td>74.08</td><td>0.37586</td><td>74.09</td><td>8.62298</td><td>74.1</td><td>32.88344</td><td>20</td><td>-52</td><td>0.0</td><td>false</td><td>null</td><td>null</td><td>null</td><td>null</td><td>null</td></tr><tr><td>1744811325416</td><td>74.07</td><td>4.86</td><td>74.06</td><td>6.6699</td><td>74.05</td><td>9.72</td><td>74.08</td><td>4.86</td><td>74.09</td><td>4.86</td><td>74.12</td><td>4.86</td><td>112</td><td>74.07</td><td>23.614</td><td>74.06</td><td>121.54773</td><td>74.05</td><td>142.08686</td><td>74.08</td><td>0.37586</td><td>74.09</td><td>8.62298</td><td>74.1</td><td>32.88344</td><td>60</td><td>-112</td><td>0.0</td><td>false</td><td>null</td><td>null</td><td>null</td><td>null</td><td>null</td></tr><tr><td>1744811325436</td><td>74.07</td><td>4.86</td><td>74.06</td><td>6.6699</td><td>74.05</td><td>9.72</td><td>74.08</td><td>4.86</td><td>74.09</td><td>4.86</td><td>74.12</td><td>4.86</td><td>132</td><td>74.07</td><td>34.86054</td><td>74.06</td><td>121.54773</td><td>74.05</td><td>152.56376</td><td>74.08</td><td>0.37586</td><td>74.09</td><td>8.62298</td><td>74.1</td><td>41.33886</td><td>20</td><td>-132</td><td>0.0</td><td>false</td><td>null</td><td>null</td><td>null</td><td>null</td><td>null</td></tr><tr><td>&hellip;</td><td>&hellip;</td><td>&hellip;</td><td>&hellip;</td><td>&hellip;</td><td>&hellip;</td><td>&hellip;</td><td>&hellip;</td><td>&hellip;</td><td>&hellip;</td><td>&hellip;</td><td>&hellip;</td><td>&hellip;</td><td>&hellip;</td><td>&hellip;</td><td>&hellip;</td><td>&hellip;</td><td>&hellip;</td><td>&hellip;</td><td>&hellip;</td><td>&hellip;</td><td>&hellip;</td><td>&hellip;</td><td>&hellip;</td><td>&hellip;</td><td>&hellip;</td><td>&hellip;</td><td>&hellip;</td><td>&hellip;</td><td>&hellip;</td><td>&hellip;</td><td>&hellip;</td><td>&hellip;</td><td>&hellip;</td><td>&hellip;</td></tr><tr><td>1746643832117</td><td>87.91</td><td>6.48</td><td>87.9</td><td>23.85</td><td>87.89</td><td>21.24</td><td>87.93</td><td>21.8137</td><td>87.94</td><td>3.24</td><td>87.95</td><td>20.14</td><td>8</td><td>87.93</td><td>16.76849</td><td>87.92</td><td>37.4852</td><td>87.91</td><td>37.59036</td><td>87.94</td><td>0.17196</td><td>87.95</td><td>85.63987</td><td>87.96</td><td>90.64008</td><td>21</td><td>-8</td><td>0.0</td><td>false</td><td>null</td><td>null</td><td>null</td><td>null</td><td>null</td></tr><tr><td>1746643832136</td><td>87.91</td><td>6.48</td><td>87.9</td><td>23.85</td><td>87.89</td><td>21.24</td><td>87.93</td><td>21.8137</td><td>87.94</td><td>3.24</td><td>87.95</td><td>20.14</td><td>27</td><td>87.93</td><td>16.76849</td><td>87.92</td><td>37.4852</td><td>87.91</td><td>42.41956</td><td>87.94</td><td>0.17196</td><td>87.95</td><td>85.63987</td><td>87.96</td><td>94.85292</td><td>19</td><td>-27</td><td>0.0</td><td>false</td><td>null</td><td>null</td><td>null</td><td>null</td><td>null</td></tr><tr><td>1746643832176</td><td>87.91</td><td>6.48</td><td>87.9</td><td>23.85</td><td>87.89</td><td>21.24</td><td>87.93</td><td>21.8137</td><td>87.94</td><td>3.24</td><td>87.95</td><td>20.14</td><td>67</td><td>87.93</td><td>16.76849</td><td>87.92</td><td>37.4852</td><td>87.91</td><td>42.41956</td><td>87.94</td><td>0.17196</td><td>87.95</td><td>89.67909</td><td>87.96</td><td>94.85292</td><td>40</td><td>-67</td><td>0.0</td><td>false</td><td>null</td><td>null</td><td>null</td><td>null</td><td>null</td></tr><tr><td>1746643832236</td><td>87.91</td><td>6.48</td><td>87.9</td><td>23.85</td><td>87.89</td><td>21.24</td><td>87.93</td><td>21.8137</td><td>87.94</td><td>3.24</td><td>87.95</td><td>20.14</td><td>127</td><td>87.93</td><td>16.76849</td><td>87.92</td><td>37.4852</td><td>87.91</td><td>42.41956</td><td>87.94</td><td>0.17196</td><td>87.95</td><td>93.74426</td><td>87.96</td><td>94.85292</td><td>60</td><td>-127</td><td>0.0</td><td>false</td><td>null</td><td>null</td><td>null</td><td>null</td><td>null</td></tr><tr><td>1746643832356</td><td>87.91</td><td>6.48</td><td>87.9</td><td>23.85</td><td>87.89</td><td>21.24</td><td>87.93</td><td>21.8137</td><td>87.94</td><td>3.24</td><td>87.95</td><td>20.14</td><td>247</td><td>87.93</td><td>16.76849</td><td>87.92</td><td>37.4852</td><td>87.91</td><td>42.41956</td><td>87.94</td><td>0.17196</td><td>87.95</td><td>93.74426</td><td>87.96</td><td>90.78775</td><td>120</td><td>-247</td><td>0.0</td><td>false</td><td>null</td><td>null</td><td>null</td><td>null</td><td>null</td></tr></tbody></table></div>"
            ],
            "text/plain": [
              "shape: (21_639_046, 35)\n",
              "┌────────────┬────────────┬────────────┬───────────┬───┬───────────┬───────────┬───────────┬───────┐\n",
              "│ ts         ┆ HTX_level1 ┆ HTX_level1 ┆ HTX_level ┆ … ┆ till_arbi ┆ since_las ┆ since_las ┆ dummy │\n",
              "│ ---        ┆ _price_bid ┆ _size_bid  ┆ 2_price_b ┆   ┆ trage     ┆ t_arbitra ┆ t_discrep ┆ ---   │\n",
              "│ i64        ┆ ---        ┆ ---        ┆ id        ┆   ┆ ---       ┆ ge        ┆ ancy      ┆ i64   │\n",
              "│            ┆ f64        ┆ f64        ┆ ---       ┆   ┆ i64       ┆ ---       ┆ ---       ┆       │\n",
              "│            ┆            ┆            ┆ f64       ┆   ┆           ┆ i64       ┆ i64       ┆       │\n",
              "╞════════════╪════════════╪════════════╪═══════════╪═══╪═══════════╪═══════════╪═══════════╪═══════╡\n",
              "│ 1744811325 ┆ 74.07      ┆ 4.86       ┆ 74.06     ┆ … ┆ null      ┆ null      ┆ null      ┆ null  │\n",
              "│ 304        ┆            ┆            ┆           ┆   ┆           ┆           ┆           ┆       │\n",
              "│ 1744811325 ┆ 74.07      ┆ 4.86       ┆ 74.06     ┆ … ┆ null      ┆ null      ┆ null      ┆ null  │\n",
              "│ 336        ┆            ┆            ┆           ┆   ┆           ┆           ┆           ┆       │\n",
              "│ 1744811325 ┆ 74.07      ┆ 4.86       ┆ 74.06     ┆ … ┆ null      ┆ null      ┆ null      ┆ null  │\n",
              "│ 356        ┆            ┆            ┆           ┆   ┆           ┆           ┆           ┆       │\n",
              "│ 1744811325 ┆ 74.07      ┆ 4.86       ┆ 74.06     ┆ … ┆ null      ┆ null      ┆ null      ┆ null  │\n",
              "│ 416        ┆            ┆            ┆           ┆   ┆           ┆           ┆           ┆       │\n",
              "│ 1744811325 ┆ 74.07      ┆ 4.86       ┆ 74.06     ┆ … ┆ null      ┆ null      ┆ null      ┆ null  │\n",
              "│ 436        ┆            ┆            ┆           ┆   ┆           ┆           ┆           ┆       │\n",
              "│ …          ┆ …          ┆ …          ┆ …         ┆ … ┆ …         ┆ …         ┆ …         ┆ …     │\n",
              "│ 1746643832 ┆ 87.91      ┆ 6.48       ┆ 87.9      ┆ … ┆ null      ┆ null      ┆ null      ┆ null  │\n",
              "│ 117        ┆            ┆            ┆           ┆   ┆           ┆           ┆           ┆       │\n",
              "│ 1746643832 ┆ 87.91      ┆ 6.48       ┆ 87.9      ┆ … ┆ null      ┆ null      ┆ null      ┆ null  │\n",
              "│ 136        ┆            ┆            ┆           ┆   ┆           ┆           ┆           ┆       │\n",
              "│ 1746643832 ┆ 87.91      ┆ 6.48       ┆ 87.9      ┆ … ┆ null      ┆ null      ┆ null      ┆ null  │\n",
              "│ 176        ┆            ┆            ┆           ┆   ┆           ┆           ┆           ┆       │\n",
              "│ 1746643832 ┆ 87.91      ┆ 6.48       ┆ 87.9      ┆ … ┆ null      ┆ null      ┆ null      ┆ null  │\n",
              "│ 236        ┆            ┆            ┆           ┆   ┆           ┆           ┆           ┆       │\n",
              "│ 1746643832 ┆ 87.91      ┆ 6.48       ┆ 87.9      ┆ … ┆ null      ┆ null      ┆ null      ┆ null  │\n",
              "│ 356        ┆            ┆            ┆           ┆   ┆           ┆           ┆           ┆       │\n",
              "└────────────┴────────────┴────────────┴───────────┴───┴───────────┴───────────┴───────────┴───────┘"
            ]
          },
          "execution_count": 7,
          "metadata": {},
          "output_type": "execute_result"
        }
      ],
      "source": [
        "df_with_dummy = cc.df_with_dummy(expected_df, df_n)\n",
        "df_with_dummy"
      ]
    },
    {
      "cell_type": "code",
      "execution_count": null,
      "metadata": {
        "colab": {
          "base_uri": "https://localhost:8080/",
          "height": 636
        },
        "id": "ZiXX2_OgrpO7",
        "outputId": "d08c22a8-c842-4c54-ce5e-97f085abf5ed"
      },
      "outputs": [
        {
          "data": {
            "text/html": [
              "<div><style>\n",
              ".dataframe > thead > tr,\n",
              ".dataframe > tbody > tr {\n",
              "  text-align: right;\n",
              "  white-space: pre-wrap;\n",
              "}\n",
              "</style>\n",
              "<small>shape: (21_639_046, 108)</small><table border=\"1\" class=\"dataframe\"><thead><tr><th>ts</th><th>HTX_delta_ts</th><th>Bybit_delta_ts</th><th>timedelta</th><th>arb_opportunity</th><th>arbitrage_id</th><th>dummy</th><th>till_arbitrage</th><th>since_last_arbitrage</th><th>since_last_discrepancy</th><th>HTX_level1_size_bid</th><th>Bybit_level1_size_bid</th><th>HTX_level1_size_ask</th><th>Bybit_level1_size_ask</th><th>HTX_level1_price_bid_vs_avg</th><th>HTX_level1_size_bid_vs_avg</th><th>HTX_level2_price_bid_vs_avg</th><th>HTX_level2_size_bid_vs_avg</th><th>HTX_level3_price_bid_vs_avg</th><th>HTX_level3_size_bid_vs_avg</th><th>HTX_level1_price_ask_vs_avg</th><th>HTX_level1_size_ask_vs_avg</th><th>HTX_level2_price_ask_vs_avg</th><th>HTX_level2_size_ask_vs_avg</th><th>HTX_level3_price_ask_vs_avg</th><th>HTX_level3_size_ask_vs_avg</th><th>Bybit_level1_price_bid_vs_avg</th><th>Bybit_level1_size_bid_vs_avg</th><th>Bybit_level2_price_bid_vs_avg</th><th>Bybit_level2_size_bid_vs_avg</th><th>Bybit_level3_price_bid_vs_avg</th><th>Bybit_level3_size_bid_vs_avg</th><th>Bybit_level1_price_ask_vs_avg</th><th>Bybit_level1_size_ask_vs_avg</th><th>Bybit_level2_price_ask_vs_avg</th><th>Bybit_level2_size_ask_vs_avg</th><th>Bybit_level3_price_ask_vs_avg</th><th>&hellip;</th><th>HTX_level2_size_ask_vs_max</th><th>HTX_level3_price_ask_vs_max</th><th>HTX_level3_size_ask_vs_max</th><th>Bybit_level1_price_bid_vs_max</th><th>Bybit_level1_size_bid_vs_max</th><th>Bybit_level2_price_bid_vs_max</th><th>Bybit_level2_size_bid_vs_max</th><th>Bybit_level3_price_bid_vs_max</th><th>Bybit_level3_size_bid_vs_max</th><th>Bybit_level1_price_ask_vs_max</th><th>Bybit_level1_size_ask_vs_max</th><th>Bybit_level2_price_ask_vs_max</th><th>Bybit_level2_size_ask_vs_max</th><th>Bybit_level3_price_ask_vs_max</th><th>Bybit_level3_size_ask_vs_max</th><th>HTX_level1_bid_ask_spread</th><th>HTX_level2_bid_ask_spread</th><th>HTX_level3_bid_ask_spread</th><th>HTX_level1_ask_spread</th><th>HTX_level2_ask_spread</th><th>HTX_level1_bid_spread</th><th>HTX_level2_bid_spread</th><th>Bybit_level1_bid_ask_spread</th><th>Bybit_level2_bid_ask_spread</th><th>Bybit_level3_bid_ask_spread</th><th>Bybit_level1_bid_spread</th><th>Bybit_level2_bid_spread</th><th>Bybit_level1_ask_spread</th><th>Bybit_level2_ask_spread</th><th>HTX_level1_imbalance</th><th>Bybit_level1_imbalance</th><th>HTX_aggregated_imbalance</th><th>Bybit_aggregated_imbalance</th><th>HTX_bid_weight</th><th>HTX_ask_weight</th><th>Bybit_bid_weight</th><th>Bybit_ask_weight</th></tr><tr><td>datetime[ms]</td><td>i64</td><td>i64</td><td>i64</td><td>f64</td><td>u32</td><td>i64</td><td>i64</td><td>i64</td><td>i64</td><td>f64</td><td>f64</td><td>f64</td><td>f64</td><td>f64</td><td>f64</td><td>f64</td><td>f64</td><td>f64</td><td>f64</td><td>f64</td><td>f64</td><td>f64</td><td>f64</td><td>f64</td><td>f64</td><td>f64</td><td>f64</td><td>f64</td><td>f64</td><td>f64</td><td>f64</td><td>f64</td><td>f64</td><td>f64</td><td>f64</td><td>f64</td><td>&hellip;</td><td>f64</td><td>f64</td><td>f64</td><td>f64</td><td>f64</td><td>f64</td><td>f64</td><td>f64</td><td>f64</td><td>f64</td><td>f64</td><td>f64</td><td>f64</td><td>f64</td><td>f64</td><td>f32</td><td>f32</td><td>f32</td><td>f32</td><td>f32</td><td>f32</td><td>f32</td><td>f32</td><td>f32</td><td>f32</td><td>f32</td><td>f32</td><td>f32</td><td>f32</td><td>f64</td><td>f64</td><td>f64</td><td>f64</td><td>f64</td><td>f64</td><td>f64</td><td>f64</td></tr></thead><tbody><tr><td>2025-04-16 13:48:45.304</td><td>28</td><td>28</td><td>28</td><td>0.0</td><td>null</td><td>null</td><td>null</td><td>null</td><td>null</td><td>4.86</td><td>13.48915</td><td>4.86</td><td>0.37586</td><td>null</td><td>null</td><td>null</td><td>null</td><td>null</td><td>null</td><td>null</td><td>null</td><td>null</td><td>null</td><td>null</td><td>null</td><td>null</td><td>null</td><td>null</td><td>null</td><td>null</td><td>null</td><td>null</td><td>null</td><td>null</td><td>null</td><td>null</td><td>&hellip;</td><td>null</td><td>null</td><td>null</td><td>null</td><td>null</td><td>null</td><td>null</td><td>null</td><td>null</td><td>null</td><td>null</td><td>null</td><td>null</td><td>null</td><td>null</td><td>0.01</td><td>0.03</td><td>0.07</td><td>0.01</td><td>0.03</td><td>0.01</td><td>0.01</td><td>0.01</td><td>0.03</td><td>0.05</td><td>0.01</td><td>0.01</td><td>0.01</td><td>0.01</td><td>0.0</td><td>0.945783</td><td>0.186155</td><td>0.686264</td><td>0.228707</td><td>0.333333</td><td>0.053372</td><td>0.007993</td></tr><tr><td>2025-04-16 13:48:45.336</td><td>32</td><td>60</td><td>-32</td><td>0.0</td><td>null</td><td>null</td><td>null</td><td>null</td><td>null</td><td>4.86</td><td>20.23905</td><td>4.86</td><td>0.37586</td><td>0.0</td><td>0.0</td><td>0.0</td><td>0.0</td><td>0.0</td><td>0.0</td><td>0.0</td><td>0.0</td><td>0.0</td><td>0.0</td><td>0.0</td><td>0.0</td><td>0.0</td><td>0.500395</td><td>0.0</td><td>-0.085405</td><td>0.0</td><td>0.0</td><td>0.0</td><td>0.0</td><td>0.0</td><td>-0.373513</td><td>0.0</td><td>&hellip;</td><td>0.0</td><td>0.0</td><td>0.0</td><td>0.0</td><td>0.500395</td><td>0.0</td><td>-0.085405</td><td>0.0</td><td>0.0</td><td>0.0</td><td>0.0</td><td>0.0</td><td>-0.373513</td><td>0.0</td><td>0.0</td><td>0.01</td><td>0.03</td><td>0.07</td><td>0.01</td><td>0.03</td><td>0.01</td><td>0.01</td><td>0.01</td><td>0.03</td><td>0.05</td><td>0.01</td><td>0.01</td><td>0.01</td><td>0.01</td><td>0.0</td><td>0.963535</td><td>0.186155</td><td>0.714467</td><td>0.228707</td><td>0.333333</td><td>0.08048</td><td>0.008974</td></tr><tr><td>2025-04-16 13:48:45.356</td><td>52</td><td>20</td><td>-52</td><td>0.0</td><td>null</td><td>null</td><td>null</td><td>null</td><td>null</td><td>4.86</td><td>20.23905</td><td>4.86</td><td>0.37586</td><td>0.0</td><td>0.0</td><td>0.0</td><td>0.0</td><td>0.0</td><td>0.0</td><td>0.0</td><td>0.0</td><td>0.0</td><td>0.0</td><td>0.0</td><td>0.0</td><td>0.0</td><td>0.200126</td><td>0.0</td><td>0.35379</td><td>0.0</td><td>0.0</td><td>0.0</td><td>0.0</td><td>0.0</td><td>-0.229644</td><td>0.0</td><td>&hellip;</td><td>0.0</td><td>0.0</td><td>0.0</td><td>0.0</td><td>0.0</td><td>0.0</td><td>0.29598</td><td>0.0</td><td>0.0</td><td>0.0</td><td>0.0</td><td>0.0</td><td>-0.373513</td><td>0.0</td><td>0.0</td><td>0.01</td><td>0.03</td><td>0.07</td><td>0.01</td><td>0.03</td><td>0.01</td><td>0.01</td><td>0.01</td><td>0.03</td><td>0.05</td><td>0.01</td><td>0.01</td><td>0.01</td><td>0.01</td><td>0.0</td><td>0.963535</td><td>0.186155</td><td>0.745498</td><td>0.228707</td><td>0.333333</td><td>0.070458</td><td>0.008974</td></tr><tr><td>2025-04-16 13:48:45.416</td><td>112</td><td>60</td><td>-112</td><td>0.0</td><td>null</td><td>null</td><td>null</td><td>null</td><td>null</td><td>4.86</td><td>23.614</td><td>4.86</td><td>0.37586</td><td>0.0</td><td>0.0</td><td>0.0</td><td>-1.1102e-16</td><td>0.0</td><td>0.0</td><td>0.0</td><td>0.0</td><td>0.0</td><td>0.0</td><td>0.0</td><td>0.0</td><td>0.0</td><td>0.312685</td><td>0.0</td><td>0.210979</td><td>0.0</td><td>-0.023208</td><td>0.0</td><td>0.0</td><td>0.0</td><td>-0.165787</td><td>0.0</td><td>&hellip;</td><td>0.0</td><td>0.0</td><td>0.0</td><td>0.0</td><td>0.166754</td><td>0.0</td><td>0.0</td><td>0.0</td><td>-0.023208</td><td>0.0</td><td>0.0</td><td>0.0</td><td>-0.373513</td><td>0.0</td><td>0.0</td><td>0.01</td><td>0.03</td><td>0.07</td><td>0.01</td><td>0.03</td><td>0.01</td><td>0.01</td><td>0.01</td><td>0.03</td><td>0.05</td><td>0.01</td><td>0.01</td><td>0.01</td><td>0.01</td><td>0.0</td><td>0.968665</td><td>0.186155</td><td>0.745498</td><td>0.228707</td><td>0.333333</td><td>0.082208</td><td>0.008974</td></tr><tr><td>2025-04-16 13:48:45.436</td><td>132</td><td>20</td><td>-132</td><td>0.0</td><td>null</td><td>null</td><td>null</td><td>null</td><td>null</td><td>4.86</td><td>34.86054</td><td>4.86</td><td>0.37586</td><td>0.0</td><td>0.0</td><td>0.0</td><td>0.0</td><td>0.0</td><td>0.0</td><td>0.0</td><td>0.0</td><td>0.0</td><td>0.0</td><td>0.0</td><td>0.0</td><td>0.0</td><td>0.797369</td><td>0.0</td><td>0.150306</td><td>0.0</td><td>0.054938</td><td>0.0</td><td>0.0</td><td>0.0</td><td>-0.129716</td><td>0.0</td><td>&hellip;</td><td>0.0</td><td>0.0</td><td>0.0</td><td>0.0</td><td>0.476266</td><td>0.0</td><td>0.0</td><td>0.0</td><td>0.048817</td><td>0.0</td><td>0.0</td><td>0.0</td><td>-0.373513</td><td>0.0</td><td>0.257133</td><td>0.01</td><td>0.03</td><td>0.07</td><td>0.01</td><td>0.03</td><td>0.01</td><td>0.01</td><td>0.01</td><td>0.03</td><td>0.05</td><td>0.01</td><td>0.01</td><td>0.01</td><td>0.01</td><td>0.0</td><td>0.978666</td><td>0.186155</td><td>0.719809</td><td>0.228707</td><td>0.333333</td><td>0.112827</td><td>0.007467</td></tr><tr><td>&hellip;</td><td>&hellip;</td><td>&hellip;</td><td>&hellip;</td><td>&hellip;</td><td>&hellip;</td><td>&hellip;</td><td>&hellip;</td><td>&hellip;</td><td>&hellip;</td><td>&hellip;</td><td>&hellip;</td><td>&hellip;</td><td>&hellip;</td><td>&hellip;</td><td>&hellip;</td><td>&hellip;</td><td>&hellip;</td><td>&hellip;</td><td>&hellip;</td><td>&hellip;</td><td>&hellip;</td><td>&hellip;</td><td>&hellip;</td><td>&hellip;</td><td>&hellip;</td><td>&hellip;</td><td>&hellip;</td><td>&hellip;</td><td>&hellip;</td><td>&hellip;</td><td>&hellip;</td><td>&hellip;</td><td>&hellip;</td><td>&hellip;</td><td>&hellip;</td><td>&hellip;</td><td>&hellip;</td><td>&hellip;</td><td>&hellip;</td><td>&hellip;</td><td>&hellip;</td><td>&hellip;</td><td>&hellip;</td><td>&hellip;</td><td>&hellip;</td><td>&hellip;</td><td>&hellip;</td><td>&hellip;</td><td>&hellip;</td><td>&hellip;</td><td>&hellip;</td><td>&hellip;</td><td>&hellip;</td><td>&hellip;</td><td>&hellip;</td><td>&hellip;</td><td>&hellip;</td><td>&hellip;</td><td>&hellip;</td><td>&hellip;</td><td>&hellip;</td><td>&hellip;</td><td>&hellip;</td><td>&hellip;</td><td>&hellip;</td><td>&hellip;</td><td>&hellip;</td><td>&hellip;</td><td>&hellip;</td><td>&hellip;</td><td>&hellip;</td><td>&hellip;</td><td>&hellip;</td><td>&hellip;</td></tr><tr><td>2025-05-07 18:50:32.117</td><td>8</td><td>21</td><td>-8</td><td>0.0</td><td>null</td><td>null</td><td>null</td><td>null</td><td>null</td><td>6.48</td><td>16.76849</td><td>21.8137</td><td>0.17196</td><td>0.000827</td><td>-0.154033</td><td>0.000828</td><td>0.480017</td><td>0.00083</td><td>0.547254</td><td>0.000738</td><td>-0.321139</td><td>0.00073</td><td>-0.952247</td><td>0.000719</td><td>-0.701195</td><td>0.000779</td><td>0.472711</td><td>0.00078</td><td>0.890738</td><td>0.00078</td><td>0.654127</td><td>0.000771</td><td>-0.992163</td><td>0.00077</td><td>-0.046818</td><td>0.00077</td><td>&hellip;</td><td>-0.987821</td><td>0.0</td><td>-0.932929</td><td>0.0</td><td>-0.503625</td><td>0.0</td><td>-0.310362</td><td>0.0</td><td>-0.418414</td><td>0.0</td><td>-0.998929</td><td>0.0</td><td>-0.528836</td><td>0.0</td><td>-0.490087</td><td>0.02</td><td>0.04</td><td>0.06</td><td>0.01</td><td>0.01</td><td>0.01</td><td>0.01</td><td>0.01</td><td>0.03</td><td>0.05</td><td>0.01</td><td>0.01</td><td>0.01</td><td>0.01</td><td>-0.541948</td><td>0.979698</td><td>0.065896</td><td>-0.315353</td><td>0.125654</td><td>0.482671</td><td>0.182576</td><td>0.000975</td></tr><tr><td>2025-05-07 18:50:32.136</td><td>27</td><td>19</td><td>-27</td><td>0.0</td><td>null</td><td>null</td><td>null</td><td>null</td><td>null</td><td>6.48</td><td>16.76849</td><td>21.8137</td><td>0.17196</td><td>0.000826</td><td>-0.153973</td><td>0.000827</td><td>0.479687</td><td>0.000829</td><td>0.54686</td><td>0.000738</td><td>-0.321037</td><td>0.00073</td><td>-0.952226</td><td>0.000719</td><td>-0.701098</td><td>0.000779</td><td>0.472387</td><td>0.000779</td><td>0.889954</td><td>0.000779</td><td>0.866063</td><td>0.000771</td><td>-0.99216</td><td>0.00077</td><td>-0.046797</td><td>0.00077</td><td>&hellip;</td><td>-0.987821</td><td>0.0</td><td>-0.932929</td><td>0.0</td><td>-0.503625</td><td>0.0</td><td>-0.310362</td><td>0.0</td><td>-0.343698</td><td>0.0</td><td>-0.998929</td><td>0.0</td><td>-0.528836</td><td>0.0</td><td>-0.466387</td><td>0.02</td><td>0.04</td><td>0.06</td><td>0.01</td><td>0.01</td><td>0.01</td><td>0.01</td><td>0.01</td><td>0.03</td><td>0.05</td><td>0.01</td><td>0.01</td><td>0.01</td><td>0.01</td><td>-0.541948</td><td>0.979698</td><td>0.065896</td><td>-0.302849</td><td>0.125654</td><td>0.482671</td><td>0.173455</td><td>0.000952</td></tr><tr><td>2025-05-07 18:50:32.176</td><td>67</td><td>40</td><td>-67</td><td>0.0</td><td>null</td><td>null</td><td>null</td><td>null</td><td>null</td><td>6.48</td><td>16.76849</td><td>21.8137</td><td>0.17196</td><td>0.000826</td><td>-0.153912</td><td>0.000827</td><td>0.479356</td><td>0.000829</td><td>0.546466</td><td>0.000738</td><td>-0.320935</td><td>0.00073</td><td>-0.952205</td><td>0.000719</td><td>-0.701</td><td>0.000779</td><td>0.472063</td><td>0.000779</td><td>0.889171</td><td>0.000779</td><td>0.865311</td><td>0.00077</td><td>-0.992156</td><td>0.00077</td><td>-0.001817</td><td>0.00077</td><td>&hellip;</td><td>-0.987821</td><td>0.0</td><td>-0.932929</td><td>0.0</td><td>-0.503625</td><td>0.0</td><td>-0.310362</td><td>0.0</td><td>-0.343698</td><td>0.0</td><td>-0.998929</td><td>0.0</td><td>-0.506613</td><td>0.0</td><td>-0.466387</td><td>0.02</td><td>0.04</td><td>0.06</td><td>0.01</td><td>0.01</td><td>0.01</td><td>0.01</td><td>0.01</td><td>0.03</td><td>0.05</td><td>0.01</td><td>0.01</td><td>0.01</td><td>0.01</td><td>-0.541948</td><td>0.979698</td><td>0.065896</td><td>-0.312857</td><td>0.125654</td><td>0.482671</td><td>0.173455</td><td>0.000931</td></tr><tr><td>2025-05-07 18:50:32.236</td><td>127</td><td>60</td><td>-127</td><td>0.0</td><td>null</td><td>null</td><td>null</td><td>null</td><td>null</td><td>6.48</td><td>16.76849</td><td>21.8137</td><td>0.17196</td><td>0.000825</td><td>-0.154155</td><td>0.000826</td><td>0.48209</td><td>0.000827</td><td>0.546336</td><td>0.000737</td><td>-0.319798</td><td>0.000728</td><td>-0.95204</td><td>0.000718</td><td>-0.700846</td><td>0.000777</td><td>0.476969</td><td>0.000777</td><td>0.889351</td><td>0.000777</td><td>0.8653</td><td>0.000769</td><td>-0.992171</td><td>0.000768</td><td>0.044504</td><td>0.000768</td><td>&hellip;</td><td>-0.987821</td><td>0.0</td><td>-0.932929</td><td>0.0</td><td>-0.503625</td><td>0.0</td><td>-0.310362</td><td>0.0</td><td>-0.343698</td><td>0.0</td><td>-0.998929</td><td>0.0</td><td>-0.484248</td><td>0.0</td><td>-0.466387</td><td>0.02</td><td>0.04</td><td>0.06</td><td>0.01</td><td>0.01</td><td>0.01</td><td>0.01</td><td>0.01</td><td>0.03</td><td>0.05</td><td>0.01</td><td>0.01</td><td>0.01</td><td>0.01</td><td>-0.541948</td><td>0.979698</td><td>0.065896</td><td>-0.322643</td><td>0.125654</td><td>0.482671</td><td>0.173455</td><td>0.000911</td></tr><tr><td>2025-05-07 18:50:32.356</td><td>247</td><td>120</td><td>-247</td><td>0.0</td><td>null</td><td>null</td><td>null</td><td>null</td><td>null</td><td>6.48</td><td>16.76849</td><td>21.8137</td><td>0.17196</td><td>0.000822</td><td>-0.153147</td><td>0.000823</td><td>0.485742</td><td>0.000825</td><td>0.549812</td><td>0.000735</td><td>-0.308069</td><td>0.000727</td><td>-0.95181</td><td>0.000716</td><td>-0.702035</td><td>0.000776</td><td>0.482801</td><td>0.000776</td><td>0.88936</td><td>0.000776</td><td>0.869847</td><td>0.000767</td><td>-0.992192</td><td>0.000767</td><td>0.047586</td><td>0.000767</td><td>&hellip;</td><td>-0.987821</td><td>0.0</td><td>-0.932929</td><td>0.0</td><td>-0.503625</td><td>0.0</td><td>-0.310362</td><td>0.0</td><td>-0.343698</td><td>0.0</td><td>-0.998929</td><td>0.0</td><td>-0.484248</td><td>0.0</td><td>-0.489256</td><td>0.02</td><td>0.04</td><td>0.06</td><td>0.01</td><td>0.01</td><td>0.01</td><td>0.01</td><td>0.01</td><td>0.03</td><td>0.05</td><td>0.01</td><td>0.01</td><td>0.01</td><td>0.01</td><td>-0.541948</td><td>0.979698</td><td>0.065896</td><td>-0.312857</td><td>0.125654</td><td>0.482671</td><td>0.173455</td><td>0.000931</td></tr></tbody></table></div>"
            ],
            "text/plain": [
              "shape: (21_639_046, 108)\n",
              "┌───────────┬───────────┬───────────┬───────────┬───┬───────────┬───────────┬───────────┬──────────┐\n",
              "│ ts        ┆ HTX_delta ┆ Bybit_del ┆ timedelta ┆ … ┆ HTX_bid_w ┆ HTX_ask_w ┆ Bybit_bid ┆ Bybit_as │\n",
              "│ ---       ┆ _ts       ┆ ta_ts     ┆ ---       ┆   ┆ eight     ┆ eight     ┆ _weight   ┆ k_weight │\n",
              "│ datetime[ ┆ ---       ┆ ---       ┆ i64       ┆   ┆ ---       ┆ ---       ┆ ---       ┆ ---      │\n",
              "│ ms]       ┆ i64       ┆ i64       ┆           ┆   ┆ f64       ┆ f64       ┆ f64       ┆ f64      │\n",
              "╞═══════════╪═══════════╪═══════════╪═══════════╪═══╪═══════════╪═══════════╪═══════════╪══════════╡\n",
              "│ 2025-04-1 ┆ 28        ┆ 28        ┆ 28        ┆ … ┆ 0.228707  ┆ 0.333333  ┆ 0.053372  ┆ 0.007993 │\n",
              "│ 6 13:48:4 ┆           ┆           ┆           ┆   ┆           ┆           ┆           ┆          │\n",
              "│ 5.304     ┆           ┆           ┆           ┆   ┆           ┆           ┆           ┆          │\n",
              "│ 2025-04-1 ┆ 32        ┆ 60        ┆ -32       ┆ … ┆ 0.228707  ┆ 0.333333  ┆ 0.08048   ┆ 0.008974 │\n",
              "│ 6 13:48:4 ┆           ┆           ┆           ┆   ┆           ┆           ┆           ┆          │\n",
              "│ 5.336     ┆           ┆           ┆           ┆   ┆           ┆           ┆           ┆          │\n",
              "│ 2025-04-1 ┆ 52        ┆ 20        ┆ -52       ┆ … ┆ 0.228707  ┆ 0.333333  ┆ 0.070458  ┆ 0.008974 │\n",
              "│ 6 13:48:4 ┆           ┆           ┆           ┆   ┆           ┆           ┆           ┆          │\n",
              "│ 5.356     ┆           ┆           ┆           ┆   ┆           ┆           ┆           ┆          │\n",
              "│ 2025-04-1 ┆ 112       ┆ 60        ┆ -112      ┆ … ┆ 0.228707  ┆ 0.333333  ┆ 0.082208  ┆ 0.008974 │\n",
              "│ 6 13:48:4 ┆           ┆           ┆           ┆   ┆           ┆           ┆           ┆          │\n",
              "│ 5.416     ┆           ┆           ┆           ┆   ┆           ┆           ┆           ┆          │\n",
              "│ 2025-04-1 ┆ 132       ┆ 20        ┆ -132      ┆ … ┆ 0.228707  ┆ 0.333333  ┆ 0.112827  ┆ 0.007467 │\n",
              "│ 6 13:48:4 ┆           ┆           ┆           ┆   ┆           ┆           ┆           ┆          │\n",
              "│ 5.436     ┆           ┆           ┆           ┆   ┆           ┆           ┆           ┆          │\n",
              "│ …         ┆ …         ┆ …         ┆ …         ┆ … ┆ …         ┆ …         ┆ …         ┆ …        │\n",
              "│ 2025-05-0 ┆ 8         ┆ 21        ┆ -8        ┆ … ┆ 0.125654  ┆ 0.482671  ┆ 0.182576  ┆ 0.000975 │\n",
              "│ 7 18:50:3 ┆           ┆           ┆           ┆   ┆           ┆           ┆           ┆          │\n",
              "│ 2.117     ┆           ┆           ┆           ┆   ┆           ┆           ┆           ┆          │\n",
              "│ 2025-05-0 ┆ 27        ┆ 19        ┆ -27       ┆ … ┆ 0.125654  ┆ 0.482671  ┆ 0.173455  ┆ 0.000952 │\n",
              "│ 7 18:50:3 ┆           ┆           ┆           ┆   ┆           ┆           ┆           ┆          │\n",
              "│ 2.136     ┆           ┆           ┆           ┆   ┆           ┆           ┆           ┆          │\n",
              "│ 2025-05-0 ┆ 67        ┆ 40        ┆ -67       ┆ … ┆ 0.125654  ┆ 0.482671  ┆ 0.173455  ┆ 0.000931 │\n",
              "│ 7 18:50:3 ┆           ┆           ┆           ┆   ┆           ┆           ┆           ┆          │\n",
              "│ 2.176     ┆           ┆           ┆           ┆   ┆           ┆           ┆           ┆          │\n",
              "│ 2025-05-0 ┆ 127       ┆ 60        ┆ -127      ┆ … ┆ 0.125654  ┆ 0.482671  ┆ 0.173455  ┆ 0.000911 │\n",
              "│ 7 18:50:3 ┆           ┆           ┆           ┆   ┆           ┆           ┆           ┆          │\n",
              "│ 2.236     ┆           ┆           ┆           ┆   ┆           ┆           ┆           ┆          │\n",
              "│ 2025-05-0 ┆ 247       ┆ 120       ┆ -247      ┆ … ┆ 0.125654  ┆ 0.482671  ┆ 0.173455  ┆ 0.000931 │\n",
              "│ 7 18:50:3 ┆           ┆           ┆           ┆   ┆           ┆           ┆           ┆          │\n",
              "│ 2.356     ┆           ┆           ┆           ┆   ┆           ┆           ┆           ┆          │\n",
              "└───────────┴───────────┴───────────┴───────────┴───┴───────────┴───────────┴───────────┴──────────┘"
            ]
          },
          "execution_count": 5,
          "metadata": {},
          "output_type": "execute_result"
        }
      ],
      "source": [
        "exchange1, exchange2 = \"HTX\", \"Bybit\"\n",
        "df_train = cc.feature_selection(df_with_dummy, exchange1, exchange2)\n",
        "df_train"
      ]
    },
    {
      "cell_type": "code",
      "execution_count": null,
      "metadata": {
        "id": "a-Llq_YUDTuI"
      },
      "outputs": [],
      "source": [
        "without_lags = ['ts',\n",
        " 'HTX_delta_ts',\n",
        " 'Bybit_delta_ts',\n",
        " 'timedelta',\n",
        " 'arbitrage_id',\n",
        " 'dummy',\n",
        " 'till_arbitrage',\n",
        " 'since_last_arbitrage',\n",
        " 'since_last_discrepancy',\n",
        "  'HTX_level1_size_bid',\n",
        " 'Bybit_level1_size_bid',\n",
        " 'HTX_level1_size_ask',\n",
        " 'Bybit_level1_size_ask',\n",
        " 'HTX_level1_price_bid_vs_avg',\n",
        " 'HTX_level1_size_bid_vs_avg',\n",
        " 'HTX_level2_price_bid_vs_avg',\n",
        " 'HTX_level2_size_bid_vs_avg',\n",
        " 'HTX_level3_price_bid_vs_avg',\n",
        " 'HTX_level3_size_bid_vs_avg',\n",
        " 'HTX_level1_price_ask_vs_avg',\n",
        " 'HTX_level1_size_ask_vs_avg',\n",
        " 'HTX_level2_price_ask_vs_avg',\n",
        " 'HTX_level2_size_ask_vs_avg',\n",
        " 'HTX_level3_price_ask_vs_avg',\n",
        " 'HTX_level3_size_ask_vs_avg',\n",
        " 'Bybit_level1_price_bid_vs_avg',\n",
        " 'Bybit_level1_size_bid_vs_avg',\n",
        " 'Bybit_level2_price_bid_vs_avg',\n",
        " 'Bybit_level2_size_bid_vs_avg',\n",
        " 'Bybit_level3_price_bid_vs_avg',\n",
        " 'Bybit_level3_size_bid_vs_avg',\n",
        " 'Bybit_level1_price_ask_vs_avg',\n",
        " 'Bybit_level1_size_ask_vs_avg',\n",
        " 'Bybit_level2_price_ask_vs_avg',\n",
        " 'Bybit_level2_size_ask_vs_avg',\n",
        " 'Bybit_level3_price_ask_vs_avg',\n",
        " 'Bybit_level3_size_ask_vs_avg',\n",
        " 'HTX_level1_price_bid_vs_min',\n",
        " 'HTX_level1_size_bid_vs_min',\n",
        " 'HTX_level2_price_bid_vs_min',\n",
        " 'HTX_level2_size_bid_vs_min',\n",
        " 'HTX_level3_price_bid_vs_min',\n",
        " 'HTX_level3_size_bid_vs_min',\n",
        " 'HTX_level1_price_ask_vs_min',\n",
        " 'HTX_level1_size_ask_vs_min',\n",
        " 'HTX_level2_price_ask_vs_min',\n",
        " 'HTX_level2_size_ask_vs_min',\n",
        " 'HTX_level3_price_ask_vs_min',\n",
        " 'HTX_level3_size_ask_vs_min',\n",
        " 'Bybit_level1_price_bid_vs_min',\n",
        " 'Bybit_level1_size_bid_vs_min',\n",
        " 'Bybit_level2_price_bid_vs_min',\n",
        " 'Bybit_level2_size_bid_vs_min',\n",
        " 'Bybit_level3_price_bid_vs_min',\n",
        " 'Bybit_level3_size_bid_vs_min',\n",
        " 'Bybit_level1_price_ask_vs_min',\n",
        " 'Bybit_level1_size_ask_vs_min',\n",
        " 'Bybit_level2_price_ask_vs_min',\n",
        " 'Bybit_level2_size_ask_vs_min',\n",
        " 'Bybit_level3_price_ask_vs_min',\n",
        " 'Bybit_level3_size_ask_vs_min',\n",
        " 'HTX_level1_price_bid_vs_max',\n",
        " 'HTX_level1_size_bid_vs_max',\n",
        " 'HTX_level2_price_bid_vs_max',\n",
        " 'HTX_level2_size_bid_vs_max',\n",
        " 'HTX_level3_price_bid_vs_max',\n",
        " 'HTX_level3_size_bid_vs_max',\n",
        " 'HTX_level1_price_ask_vs_max',\n",
        " 'HTX_level1_size_ask_vs_max',\n",
        " 'HTX_level2_price_ask_vs_max',\n",
        " 'HTX_level2_size_ask_vs_max',\n",
        " 'HTX_level3_price_ask_vs_max',\n",
        " 'HTX_level3_size_ask_vs_max',\n",
        " 'Bybit_level1_price_bid_vs_max',\n",
        " 'Bybit_level1_size_bid_vs_max',\n",
        " 'Bybit_level2_price_bid_vs_max',\n",
        " 'Bybit_level2_size_bid_vs_max',\n",
        " 'Bybit_level3_price_bid_vs_max',\n",
        " 'Bybit_level3_size_bid_vs_max',\n",
        " 'Bybit_level1_price_ask_vs_max',\n",
        " 'Bybit_level1_size_ask_vs_max',\n",
        " 'Bybit_level2_price_ask_vs_max',\n",
        " 'Bybit_level2_size_ask_vs_max',\n",
        " 'Bybit_level3_price_ask_vs_max',\n",
        " 'Bybit_level3_size_ask_vs_max',\n",
        "  'HTX_level1_bid_ask_spread_vs_avg',\n",
        " 'HTX_level2_bid_ask_spread_vs_avg',\n",
        " 'HTX_level3_bid_ask_spread_vs_avg',\n",
        " 'HTX_level1_ask_spread_vs_avg',\n",
        " 'HTX_level2_ask_spread_vs_avg',\n",
        " 'HTX_level1_bid_spread_vs_avg',\n",
        " 'HTX_level2_bid_spread_vs_avg',\n",
        " 'Bybit_level1_bid_ask_spread_vs_avg',\n",
        " 'Bybit_level2_bid_ask_spread_vs_avg',\n",
        " 'Bybit_level3_bid_ask_spread_vs_avg',\n",
        " 'Bybit_level1_bid_spread_vs_avg',\n",
        " 'Bybit_level2_bid_spread_vs_avg',\n",
        " 'Bybit_level1_ask_spread_vs_avg',\n",
        " 'Bybit_level2_ask_spread_vs_avg',\n",
        " 'HTX_level1_imbalance_vs_avg',\n",
        " 'Bybit_level1_imbalance_vs_avg',\n",
        " 'HTX_aggregated_imbalance_vs_avg',\n",
        " 'Bybit_aggregated_imbalance_vs_avg',\n",
        " 'HTX_bid_weight_vs_avg',\n",
        " 'HTX_ask_weight_vs_avg',\n",
        " 'Bybit_bid_weight_vs_avg',\n",
        " 'Bybit_ask_weight_vs_avg']"
      ]
    },
    {
      "cell_type": "code",
      "execution_count": null,
      "metadata": {
        "colab": {
          "base_uri": "https://localhost:8080/",
          "height": 673
        },
        "id": "cA6IqWrQ3KZs",
        "outputId": "0dd93397-da83-4298-bc31-cc0e57874a4d"
      },
      "outputs": [
        {
          "name": "stderr",
          "output_type": "stream",
          "text": [
            "2025-06-26 10:10:21,451 - INFO - DataFrame processed. Number of excluded observations: 19                \n",
            "Excluded id`s: {0, 1, 3843, 3844, 3597, 3598, 7471, 7472, 12228, 12229, 6614, 6615, 3808, 3809, 7409, 7410, 7411, 7412, 7413}\n"
          ]
        },
        {
          "data": {
            "text/html": [
              "<div><style>\n",
              ".dataframe > thead > tr,\n",
              ".dataframe > tbody > tr {\n",
              "  text-align: right;\n",
              "  white-space: pre-wrap;\n",
              "}\n",
              "</style>\n",
              "<small>shape: (22_885, 177)</small><table border=\"1\" class=\"dataframe\"><thead><tr><th>ts</th><th>HTX_delta_ts</th><th>Bybit_delta_ts</th><th>timedelta</th><th>arb_opportunity</th><th>arbitrage_id</th><th>dummy</th><th>till_arbitrage</th><th>since_last_arbitrage</th><th>since_last_discrepancy</th><th>HTX_level1_size_bid</th><th>Bybit_level1_size_bid</th><th>HTX_level1_size_ask</th><th>Bybit_level1_size_ask</th><th>HTX_level1_price_bid_vs_avg</th><th>HTX_level1_size_bid_vs_avg</th><th>HTX_level2_price_bid_vs_avg</th><th>HTX_level2_size_bid_vs_avg</th><th>HTX_level3_price_bid_vs_avg</th><th>HTX_level3_size_bid_vs_avg</th><th>HTX_level1_price_ask_vs_avg</th><th>HTX_level1_size_ask_vs_avg</th><th>HTX_level2_price_ask_vs_avg</th><th>HTX_level2_size_ask_vs_avg</th><th>HTX_level3_price_ask_vs_avg</th><th>HTX_level3_size_ask_vs_avg</th><th>Bybit_level1_price_bid_vs_avg</th><th>Bybit_level1_size_bid_vs_avg</th><th>Bybit_level2_price_bid_vs_avg</th><th>Bybit_level2_size_bid_vs_avg</th><th>Bybit_level3_price_bid_vs_avg</th><th>Bybit_level3_size_bid_vs_avg</th><th>Bybit_level1_price_ask_vs_avg</th><th>Bybit_level1_size_ask_vs_avg</th><th>Bybit_level2_price_ask_vs_avg</th><th>Bybit_level2_size_ask_vs_avg</th><th>Bybit_level3_price_ask_vs_avg</th><th>&hellip;</th><th>Bybit_level2_bid_ask_spread_lag_2</th><th>Bybit_level3_bid_ask_spread_lag_2</th><th>Bybit_level1_bid_spread_lag_2</th><th>Bybit_level2_bid_spread_lag_2</th><th>Bybit_level1_ask_spread_lag_2</th><th>Bybit_level2_ask_spread_lag_2</th><th>HTX_level1_imbalance_lag_2</th><th>Bybit_level1_imbalance_lag_2</th><th>HTX_aggregated_imbalance_lag_2</th><th>Bybit_aggregated_imbalance_lag_2</th><th>HTX_bid_weight_lag_2</th><th>HTX_ask_weight_lag_2</th><th>Bybit_bid_weight_lag_2</th><th>Bybit_ask_weight_lag_2</th><th>arb_opportunity_lag_3</th><th>HTX_level1_bid_ask_spread_lag_3</th><th>HTX_level2_bid_ask_spread_lag_3</th><th>HTX_level3_bid_ask_spread_lag_3</th><th>HTX_level1_ask_spread_lag_3</th><th>HTX_level2_ask_spread_lag_3</th><th>HTX_level1_bid_spread_lag_3</th><th>HTX_level2_bid_spread_lag_3</th><th>Bybit_level1_bid_ask_spread_lag_3</th><th>Bybit_level2_bid_ask_spread_lag_3</th><th>Bybit_level3_bid_ask_spread_lag_3</th><th>Bybit_level1_bid_spread_lag_3</th><th>Bybit_level2_bid_spread_lag_3</th><th>Bybit_level1_ask_spread_lag_3</th><th>Bybit_level2_ask_spread_lag_3</th><th>HTX_level1_imbalance_lag_3</th><th>Bybit_level1_imbalance_lag_3</th><th>HTX_aggregated_imbalance_lag_3</th><th>Bybit_aggregated_imbalance_lag_3</th><th>HTX_bid_weight_lag_3</th><th>HTX_ask_weight_lag_3</th><th>Bybit_bid_weight_lag_3</th><th>Bybit_ask_weight_lag_3</th></tr><tr><td>datetime[ms]</td><td>i64</td><td>i64</td><td>i64</td><td>f64</td><td>u32</td><td>i64</td><td>i64</td><td>i64</td><td>i64</td><td>f64</td><td>f64</td><td>f64</td><td>f64</td><td>f64</td><td>f64</td><td>f64</td><td>f64</td><td>f64</td><td>f64</td><td>f64</td><td>f64</td><td>f64</td><td>f64</td><td>f64</td><td>f64</td><td>f64</td><td>f64</td><td>f64</td><td>f64</td><td>f64</td><td>f64</td><td>f64</td><td>f64</td><td>f64</td><td>f64</td><td>f64</td><td>&hellip;</td><td>f32</td><td>f32</td><td>f32</td><td>f32</td><td>f32</td><td>f32</td><td>f64</td><td>f64</td><td>f64</td><td>f64</td><td>f64</td><td>f64</td><td>f64</td><td>f64</td><td>f64</td><td>f32</td><td>f32</td><td>f32</td><td>f32</td><td>f32</td><td>f32</td><td>f32</td><td>f32</td><td>f32</td><td>f32</td><td>f32</td><td>f32</td><td>f32</td><td>f32</td><td>f64</td><td>f64</td><td>f64</td><td>f64</td><td>f64</td><td>f64</td><td>f64</td><td>f64</td></tr></thead><tbody><tr><td>2025-04-16 13:56:41.796</td><td>24</td><td>20</td><td>-24</td><td>0.040689</td><td>2</td><td>1</td><td>360</td><td>120580</td><td>500</td><td>21.9399</td><td>8.1</td><td>23.374</td><td>24.76915</td><td>0.000368</td><td>2.016111</td><td>0.000414</td><td>0.238022</td><td>0.000434</td><td>0.019527</td><td>0.00017</td><td>0.628036</td><td>0.000281</td><td>-0.665592</td><td>0.000208</td><td>-0.986477</td><td>0.000584</td><td>-0.626307</td><td>0.000584</td><td>-0.483759</td><td>0.000584</td><td>-0.610954</td><td>0.000563</td><td>0.667425</td><td>0.000562</td><td>0.520012</td><td>0.000562</td><td>&hellip;</td><td>0.03</td><td>0.05</td><td>0.01</td><td>0.01</td><td>0.01</td><td>0.01</td><td>-0.031648</td><td>0.104385</td><td>0.43514</td><td>-0.015707</td><td>0.303662</td><td>0.821943</td><td>0.123317</td><td>0.096912</td><td>0.027126</td><td>0.01</td><td>0.04</td><td>0.06</td><td>0.02</td><td>0.01</td><td>0.01</td><td>0.01</td><td>0.01</td><td>0.03</td><td>0.05</td><td>0.01</td><td>0.01</td><td>0.01</td><td>0.01</td><td>-0.060907</td><td>0.104385</td><td>0.415295</td><td>-0.015707</td><td>0.303662</td><td>0.830365</td><td>0.123317</td><td>0.096912</td></tr><tr><td>2025-04-16 14:01:18.381</td><td>55</td><td>4</td><td>4</td><td>0.040711</td><td>4</td><td>1</td><td>0</td><td>200685</td><td>73</td><td>9.72</td><td>5.04655</td><td>5.0636</td><td>7.34287</td><td>-0.000037</td><td>-0.257149</td><td>-0.000036</td><td>-0.738057</td><td>-0.000035</td><td>1.525454</td><td>-0.000218</td><td>-0.215322</td><td>-0.000248</td><td>-0.566171</td><td>-0.000184</td><td>-0.890613</td><td>0.000116</td><td>-0.637681</td><td>0.000117</td><td>-0.37816</td><td>0.000117</td><td>-0.460191</td><td>0.00011</td><td>-0.610092</td><td>0.000109</td><td>-0.142902</td><td>0.000109</td><td>&hellip;</td><td>0.03</td><td>0.05</td><td>0.01</td><td>0.01</td><td>0.01</td><td>0.01</td><td>0.0</td><td>-0.504752</td><td>0.920024</td><td>0.000805</td><td>0.020827</td><td>0.5</td><td>0.042323</td><td>0.1288</td><td>0.0</td><td>0.04</td><td>0.06</td><td>0.08</td><td>0.01</td><td>0.01</td><td>0.01</td><td>0.01</td><td>0.01</td><td>0.03</td><td>0.05</td><td>0.01</td><td>0.01</td><td>0.01</td><td>0.01</td><td>0.0</td><td>-0.184644</td><td>0.920024</td><td>-0.079251</td><td>0.020827</td><td>0.5</td><td>0.122529</td><td>0.15188</td></tr><tr><td>2025-04-16 14:10:27.152</td><td>1</td><td>136</td><td>136</td><td>0.040491</td><td>8</td><td>1</td><td>4916</td><td>316</td><td>5396</td><td>44.8799</td><td>8.1</td><td>4.9096</td><td>12.99922</td><td>0.001051</td><td>2.462748</td><td>0.001053</td><td>-0.550298</td><td>0.001056</td><td>-0.750489</td><td>0.0008</td><td>-0.26215</td><td>0.00076</td><td>-0.979128</td><td>0.000871</td><td>-0.805459</td><td>0.001243</td><td>-0.517979</td><td>0.001243</td><td>-0.276479</td><td>0.001243</td><td>-0.728173</td><td>0.001233</td><td>-0.180062</td><td>0.001233</td><td>0.070994</td><td>0.001233</td><td>&hellip;</td><td>0.03</td><td>0.05</td><td>0.01</td><td>0.01</td><td>0.01</td><td>0.01</td><td>0.997792</td><td>-0.232199</td><td>0.899819</td><td>-0.265878</td><td>0.459309</td><td>0.009626</td><td>0.131786</td><td>0.122653</td><td>0.040491</td><td>0.01</td><td>0.03</td><td>0.06</td><td>0.01</td><td>0.02</td><td>0.01</td><td>0.01</td><td>0.01</td><td>0.03</td><td>0.05</td><td>0.01</td><td>0.01</td><td>0.01</td><td>0.01</td><td>0.997792</td><td>-0.456291</td><td>0.899819</td><td>-0.302122</td><td>0.459309</td><td>0.009626</td><td>0.131786</td><td>0.189182</td></tr><tr><td>2025-04-16 14:11:07.138</td><td>2</td><td>2</td><td>2</td><td>0.040491</td><td>9</td><td>1</td><td>4100</td><td>39983</td><td>4109</td><td>43.03</td><td>9.05106</td><td>4.9096</td><td>12.99922</td><td>0.000328</td><td>1.039931</td><td>0.000337</td><td>-0.802628</td><td>0.000352</td><td>0.645336</td><td>0.000171</td><td>-0.253796</td><td>0.000161</td><td>-0.95363</td><td>0.000411</td><td>-0.201358</td><td>0.000526</td><td>-0.499218</td><td>0.000526</td><td>-0.167882</td><td>0.000526</td><td>-0.230856</td><td>0.000523</td><td>0.093854</td><td>0.000523</td><td>-0.218437</td><td>0.000523</td><td>&hellip;</td><td>0.03</td><td>0.05</td><td>0.01</td><td>0.01</td><td>0.01</td><td>0.01</td><td>0.997915</td><td>0.665319</td><td>0.892834</td><td>0.406534</td><td>0.522271</td><td>0.009626</td><td>0.294126</td><td>0.140094</td><td>0.040491</td><td>0.01</td><td>0.03</td><td>0.07</td><td>0.01</td><td>0.03</td><td>0.01</td><td>0.01</td><td>0.01</td><td>0.03</td><td>0.05</td><td>0.01</td><td>0.01</td><td>0.01</td><td>0.01</td><td>0.998171</td><td>0.665319</td><td>0.899785</td><td>0.406534</td><td>0.554893</td><td>0.009626</td><td>0.294126</td><td>0.140094</td></tr><tr><td>2025-04-16 14:17:37.520</td><td>1</td><td>44</td><td>44</td><td>0.040689</td><td>11</td><td>0</td><td>724</td><td>327755</td><td>2224</td><td>4.86</td><td>4.32149</td><td>4.86</td><td>24.70825</td><td>0.00015</td><td>-0.548389</td><td>0.000173</td><td>-0.622769</td><td>0.000184</td><td>0.299482</td><td>-0.000133</td><td>-0.386226</td><td>-0.000142</td><td>-0.544458</td><td>-0.000016</td><td>-0.691666</td><td>0.000345</td><td>-0.686158</td><td>0.000345</td><td>0.215022</td><td>0.000345</td><td>0.028451</td><td>0.000342</td><td>0.328563</td><td>0.000342</td><td>2.078211</td><td>0.000342</td><td>&hellip;</td><td>0.03</td><td>0.05</td><td>0.01</td><td>0.01</td><td>0.01</td><td>0.01</td><td>0.433628</td><td>-0.702272</td><td>0.055563</td><td>-0.485255</td><td>0.204245</td><td>0.090183</td><td>0.044211</td><td>0.087605</td><td>0.027122</td><td>0.02</td><td>0.05</td><td>0.09</td><td>0.02</td><td>0.03</td><td>0.01</td><td>0.01</td><td>0.01</td><td>0.03</td><td>0.05</td><td>0.01</td><td>0.01</td><td>0.01</td><td>0.01</td><td>0.433628</td><td>-0.702272</td><td>0.100455</td><td>-0.485255</td><td>0.1866</td><td>0.090183</td><td>0.044211</td><td>0.087605</td></tr><tr><td>&hellip;</td><td>&hellip;</td><td>&hellip;</td><td>&hellip;</td><td>&hellip;</td><td>&hellip;</td><td>&hellip;</td><td>&hellip;</td><td>&hellip;</td><td>&hellip;</td><td>&hellip;</td><td>&hellip;</td><td>&hellip;</td><td>&hellip;</td><td>&hellip;</td><td>&hellip;</td><td>&hellip;</td><td>&hellip;</td><td>&hellip;</td><td>&hellip;</td><td>&hellip;</td><td>&hellip;</td><td>&hellip;</td><td>&hellip;</td><td>&hellip;</td><td>&hellip;</td><td>&hellip;</td><td>&hellip;</td><td>&hellip;</td><td>&hellip;</td><td>&hellip;</td><td>&hellip;</td><td>&hellip;</td><td>&hellip;</td><td>&hellip;</td><td>&hellip;</td><td>&hellip;</td><td>&hellip;</td><td>&hellip;</td><td>&hellip;</td><td>&hellip;</td><td>&hellip;</td><td>&hellip;</td><td>&hellip;</td><td>&hellip;</td><td>&hellip;</td><td>&hellip;</td><td>&hellip;</td><td>&hellip;</td><td>&hellip;</td><td>&hellip;</td><td>&hellip;</td><td>&hellip;</td><td>&hellip;</td><td>&hellip;</td><td>&hellip;</td><td>&hellip;</td><td>&hellip;</td><td>&hellip;</td><td>&hellip;</td><td>&hellip;</td><td>&hellip;</td><td>&hellip;</td><td>&hellip;</td><td>&hellip;</td><td>&hellip;</td><td>&hellip;</td><td>&hellip;</td><td>&hellip;</td><td>&hellip;</td><td>&hellip;</td><td>&hellip;</td><td>&hellip;</td><td>&hellip;</td><td>&hellip;</td></tr><tr><td>2025-05-07 18:48:10.059</td><td>8</td><td>63</td><td>63</td><td>0.03418</td><td>26373</td><td>1</td><td>15</td><td>29</td><td>29</td><td>6.48</td><td>3.23551</td><td>6.4735</td><td>19.15119</td><td>0.000071</td><td>-0.170522</td><td>0.000084</td><td>-0.186904</td><td>0.000089</td><td>0.347883</td><td>0.000006</td><td>-0.86271</td><td>-0.000012</td><td>-0.891023</td><td>-0.000029</td><td>-0.707001</td><td>0.00021</td><td>-0.626546</td><td>0.00021</td><td>0.285217</td><td>0.00021</td><td>-0.107581</td><td>0.000201</td><td>-0.120826</td><td>0.000201</td><td>0.988453</td><td>0.000201</td><td>&hellip;</td><td>0.03</td><td>0.05</td><td>0.01</td><td>0.01</td><td>0.01</td><td>0.01</td><td>-0.493354</td><td>-0.710944</td><td>-0.77636</td><td>-0.770503</td><td>0.189474</td><td>0.070311</td><td>0.070768</td><td>0.054296</td><td>0.0</td><td>0.04</td><td>0.06</td><td>0.08</td><td>0.01</td><td>0.01</td><td>0.01</td><td>0.01</td><td>0.01</td><td>0.03</td><td>0.05</td><td>0.01</td><td>0.01</td><td>0.01</td><td>0.01</td><td>0.0</td><td>-0.710944</td><td>-0.799552</td><td>-0.770503</td><td>0.189474</td><td>0.021105</td><td>0.070768</td><td>0.054296</td></tr><tr><td>2025-05-07 18:48:23.276</td><td>41</td><td>20</td><td>-41</td><td>0.034188</td><td>26374</td><td>1</td><td>397</td><td>13217</td><td>560</td><td>6.48</td><td>3.23551</td><td>246.061</td><td>153.44749</td><td>-0.000182</td><td>-0.183869</td><td>-0.000177</td><td>1.432636</td><td>-0.000166</td><td>0.694183</td><td>-0.000158</td><td>3.337795</td><td>-0.000062</td><td>-0.507842</td><td>-0.000084</td><td>-0.955852</td><td>0.00005</td><td>-0.626871</td><td>0.00005</td><td>0.266643</td><td>0.00005</td><td>0.087441</td><td>0.000042</td><td>5.33245</td><td>0.000042</td><td>-0.041913</td><td>0.000042</td><td>&hellip;</td><td>0.03</td><td>0.05</td><td>0.01</td><td>0.01</td><td>0.01</td><td>0.01</td><td>-0.948682</td><td>-0.992842</td><td>-0.641433</td><td>-0.65277</td><td>0.111455</td><td>0.924517</td><td>0.009246</td><td>0.540806</td><td>0.011396</td><td>0.02</td><td>0.05</td><td>0.07</td><td>0.02</td><td>0.01</td><td>0.01</td><td>0.01</td><td>0.01</td><td>0.03</td><td>0.05</td><td>0.01</td><td>0.01</td><td>0.01</td><td>0.01</td><td>-0.948682</td><td>-0.063518</td><td>-0.641433</td><td>-0.639123</td><td>0.111455</td><td>0.924517</td><td>0.29334</td><td>0.073344</td></tr><tr><td>2025-05-07 18:48:24.227</td><td>32</td><td>31</td><td>31</td><td>0.045589</td><td>26375</td><td>1</td><td>431</td><td>651</td><td>594</td><td>6.48</td><td>3.23551</td><td>7.4359</td><td>56.75915</td><td>-0.000193</td><td>-0.174975</td><td>-0.000188</td><td>1.379177</td><td>-0.000177</td><td>0.230241</td><td>-0.000289</td><td>-0.871932</td><td>-0.000077</td><td>-0.507127</td><td>-0.0001</td><td>-0.957854</td><td>0.000033</td><td>-0.625803</td><td>0.000033</td><td>0.084859</td><td>0.000033</td><td>0.091458</td><td>0.000024</td><td>1.232974</td><td>0.000024</td><td>0.591894</td><td>0.000024</td><td>&hellip;</td><td>0.03</td><td>0.05</td><td>0.01</td><td>0.01</td><td>0.01</td><td>0.01</td><td>-0.444492</td><td>-0.89214</td><td>0.44501</td><td>-0.784404</td><td>0.123217</td><td>0.834224</td><td>0.074617</td><td>0.158153</td><td>0.011393</td><td>0.04</td><td>0.06</td><td>0.09</td><td>0.01</td><td>0.02</td><td>0.01</td><td>0.01</td><td>0.01</td><td>0.03</td><td>0.05</td><td>0.01</td><td>0.01</td><td>0.01</td><td>0.01</td><td>-0.444492</td><td>-0.89214</td><td>-0.673352</td><td>-0.784404</td><td>0.123217</td><td>0.062545</td><td>0.074617</td><td>0.158153</td></tr><tr><td>2025-05-07 18:48:25.936</td><td>22</td><td>20</td><td>0</td><td>0.034184</td><td>26377</td><td>1</td><td>97</td><td>120</td><td>120</td><td>6.48</td><td>5.72009</td><td>5.8812</td><td>29.58469</td><td>0.000026</td><td>-0.178685</td><td>0.000031</td><td>-0.502118</td><td>0.000042</td><td>0.425142</td><td>-0.000078</td><td>-0.89939</td><td>0.00002</td><td>-0.809475</td><td>-0.000002</td><td>-0.75089</td><td>0.000132</td><td>-0.313665</td><td>0.000132</td><td>0.306242</td><td>0.000132</td><td>-0.050119</td><td>0.000122</td><td>0.120369</td><td>0.000122</td><td>0.423517</td><td>0.000122</td><td>&hellip;</td><td>0.03</td><td>0.05</td><td>0.01</td><td>0.01</td><td>0.01</td><td>0.01</td><td>-0.008295</td><td>-0.651429</td><td>-0.798278</td><td>-0.752333</td><td>0.209302</td><td>0.023871</td><td>0.121442</td><td>0.081318</td><td>0.011392</td><td>0.03</td><td>0.05</td><td>0.07</td><td>0.01</td><td>0.01</td><td>0.01</td><td>0.01</td><td>0.01</td><td>0.03</td><td>0.05</td><td>0.01</td><td>0.01</td><td>0.01</td><td>0.01</td><td>0.0</td><td>-0.651429</td><td>-0.798206</td><td>-0.752333</td><td>0.209302</td><td>0.023488</td><td>0.121442</td><td>0.081318</td></tr><tr><td>2025-05-07 18:48:28.046</td><td>17</td><td>10</td><td>10</td><td>0.03418</td><td>26378</td><td>1</td><td>350</td><td>2110</td><td>437</td><td>6.48</td><td>8.43485</td><td>8.0861</td><td>131.98707</td><td>0.000007</td><td>-0.158775</td><td>0.000012</td><td>-0.050371</td><td>0.000024</td><td>0.496224</td><td>0.000009</td><td>-0.863484</td><td>0.000107</td><td>-0.427057</td><td>0.000088</td><td>1.891918</td><td>0.000222</td><td>0.045916</td><td>0.000222</td><td>0.23639</td><td>0.000222</td><td>-0.208377</td><td>0.000213</td><td>3.765255</td><td>0.000213</td><td>0.171131</td><td>0.000213</td><td>&hellip;</td><td>0.03</td><td>0.05</td><td>0.01</td><td>0.01</td><td>0.01</td><td>0.01</td><td>-0.512232</td><td>-0.953905</td><td>-0.790747</td><td>-0.7781</td><td>0.171202</td><td>0.062023</td><td>0.077417</td><td>0.409532</td><td>0.022784</td><td>0.03</td><td>0.05</td><td>0.07</td><td>0.01</td><td>0.01</td><td>0.01</td><td>0.01</td><td>0.01</td><td>0.03</td><td>0.05</td><td>0.01</td><td>0.01</td><td>0.01</td><td>0.01</td><td>0.967094</td><td>-0.953905</td><td>-0.753714</td><td>-0.7781</td><td>0.171202</td><td>0.000402</td><td>0.077417</td><td>0.409532</td></tr></tbody></table></div>"
            ],
            "text/plain": [
              "shape: (22_885, 177)\n",
              "┌───────────┬───────────┬───────────┬───────────┬───┬───────────┬───────────┬───────────┬──────────┐\n",
              "│ ts        ┆ HTX_delta ┆ Bybit_del ┆ timedelta ┆ … ┆ HTX_bid_w ┆ HTX_ask_w ┆ Bybit_bid ┆ Bybit_as │\n",
              "│ ---       ┆ _ts       ┆ ta_ts     ┆ ---       ┆   ┆ eight_lag ┆ eight_lag ┆ _weight_l ┆ k_weight │\n",
              "│ datetime[ ┆ ---       ┆ ---       ┆ i64       ┆   ┆ _3        ┆ _3        ┆ ag_3      ┆ _lag_3   │\n",
              "│ ms]       ┆ i64       ┆ i64       ┆           ┆   ┆ ---       ┆ ---       ┆ ---       ┆ ---      │\n",
              "│           ┆           ┆           ┆           ┆   ┆ f64       ┆ f64       ┆ f64       ┆ f64      │\n",
              "╞═══════════╪═══════════╪═══════════╪═══════════╪═══╪═══════════╪═══════════╪═══════════╪══════════╡\n",
              "│ 2025-04-1 ┆ 24        ┆ 20        ┆ -24       ┆ … ┆ 0.303662  ┆ 0.830365  ┆ 0.123317  ┆ 0.096912 │\n",
              "│ 6 13:56:4 ┆           ┆           ┆           ┆   ┆           ┆           ┆           ┆          │\n",
              "│ 1.796     ┆           ┆           ┆           ┆   ┆           ┆           ┆           ┆          │\n",
              "│ 2025-04-1 ┆ 55        ┆ 4         ┆ 4         ┆ … ┆ 0.020827  ┆ 0.5       ┆ 0.122529  ┆ 0.15188  │\n",
              "│ 6 14:01:1 ┆           ┆           ┆           ┆   ┆           ┆           ┆           ┆          │\n",
              "│ 8.381     ┆           ┆           ┆           ┆   ┆           ┆           ┆           ┆          │\n",
              "│ 2025-04-1 ┆ 1         ┆ 136       ┆ 136       ┆ … ┆ 0.459309  ┆ 0.009626  ┆ 0.131786  ┆ 0.189182 │\n",
              "│ 6 14:10:2 ┆           ┆           ┆           ┆   ┆           ┆           ┆           ┆          │\n",
              "│ 7.152     ┆           ┆           ┆           ┆   ┆           ┆           ┆           ┆          │\n",
              "│ 2025-04-1 ┆ 2         ┆ 2         ┆ 2         ┆ … ┆ 0.554893  ┆ 0.009626  ┆ 0.294126  ┆ 0.140094 │\n",
              "│ 6 14:11:0 ┆           ┆           ┆           ┆   ┆           ┆           ┆           ┆          │\n",
              "│ 7.138     ┆           ┆           ┆           ┆   ┆           ┆           ┆           ┆          │\n",
              "│ 2025-04-1 ┆ 1         ┆ 44        ┆ 44        ┆ … ┆ 0.1866    ┆ 0.090183  ┆ 0.044211  ┆ 0.087605 │\n",
              "│ 6 14:17:3 ┆           ┆           ┆           ┆   ┆           ┆           ┆           ┆          │\n",
              "│ 7.520     ┆           ┆           ┆           ┆   ┆           ┆           ┆           ┆          │\n",
              "│ …         ┆ …         ┆ …         ┆ …         ┆ … ┆ …         ┆ …         ┆ …         ┆ …        │\n",
              "│ 2025-05-0 ┆ 8         ┆ 63        ┆ 63        ┆ … ┆ 0.189474  ┆ 0.021105  ┆ 0.070768  ┆ 0.054296 │\n",
              "│ 7 18:48:1 ┆           ┆           ┆           ┆   ┆           ┆           ┆           ┆          │\n",
              "│ 0.059     ┆           ┆           ┆           ┆   ┆           ┆           ┆           ┆          │\n",
              "│ 2025-05-0 ┆ 41        ┆ 20        ┆ -41       ┆ … ┆ 0.111455  ┆ 0.924517  ┆ 0.29334   ┆ 0.073344 │\n",
              "│ 7 18:48:2 ┆           ┆           ┆           ┆   ┆           ┆           ┆           ┆          │\n",
              "│ 3.276     ┆           ┆           ┆           ┆   ┆           ┆           ┆           ┆          │\n",
              "│ 2025-05-0 ┆ 32        ┆ 31        ┆ 31        ┆ … ┆ 0.123217  ┆ 0.062545  ┆ 0.074617  ┆ 0.158153 │\n",
              "│ 7 18:48:2 ┆           ┆           ┆           ┆   ┆           ┆           ┆           ┆          │\n",
              "│ 4.227     ┆           ┆           ┆           ┆   ┆           ┆           ┆           ┆          │\n",
              "│ 2025-05-0 ┆ 22        ┆ 20        ┆ 0         ┆ … ┆ 0.209302  ┆ 0.023488  ┆ 0.121442  ┆ 0.081318 │\n",
              "│ 7 18:48:2 ┆           ┆           ┆           ┆   ┆           ┆           ┆           ┆          │\n",
              "│ 5.936     ┆           ┆           ┆           ┆   ┆           ┆           ┆           ┆          │\n",
              "│ 2025-05-0 ┆ 17        ┆ 10        ┆ 10        ┆ … ┆ 0.171202  ┆ 0.000402  ┆ 0.077417  ┆ 0.409532 │\n",
              "│ 7 18:48:2 ┆           ┆           ┆           ┆   ┆           ┆           ┆           ┆          │\n",
              "│ 8.046     ┆           ┆           ┆           ┆   ┆           ┆           ┆           ┆          │\n",
              "└───────────┴───────────┴───────────┴───────────┴───┴───────────┴───────────┴───────────┴──────────┘"
            ]
          },
          "execution_count": 7,
          "metadata": {},
          "output_type": "execute_result"
        }
      ],
      "source": [
        "arbitrage_model_polars = cc.final_manipulations(df_train, n_lags=3, without_lags = without_lags)\n",
        "arbitrage_model_polars"
      ]
    },
    {
      "cell_type": "code",
      "execution_count": null,
      "metadata": {
        "id": "fiTGqVS80LhR"
      },
      "outputs": [],
      "source": [
        "arbitrage_model_polars.write_parquet('/content/drive/MyDrive/arbitrage_modelv2.parquet') #save the preprocessed data"
      ]
    },
    {
      "cell_type": "markdown",
      "metadata": {
        "id": "Ti0a0cgnHonA"
      },
      "source": [
        "Let's calculate the income per each successful trade and cost of each false positive:"
      ]
    },
    {
      "cell_type": "code",
      "execution_count": null,
      "metadata": {
        "colab": {
          "base_uri": "https://localhost:8080/"
        },
        "id": "MaD_zlLulAKM",
        "outputId": "253ce641-ab4f-4585-f90d-7da189cbbdd9"
      },
      "outputs": [
        {
          "name": "stdout",
          "output_type": "stream",
          "text": [
            "average income per successful trade: 0.03\n",
            "average loss per unsuccessful trade: 0.12\n"
          ]
        }
      ],
      "source": [
        "mask = ['ts',\n",
        " 'HTX_level1_price_bid',\n",
        " 'HTX_level1_price_ask',\n",
        " 'Bybit_level1_price_bid',\n",
        " 'Bybit_level1_price_ask', \"arb_opportunity\", \"arbitrage_id\"]\n",
        "\n",
        "df_left = df_with_dummy.filter(pl.col(\"dummy\") == 0).select(pl.col(mask))\n",
        "df_right = df_with_dummy.select(pl.col(mask))\n",
        "\n",
        "df_left = df_left.with_columns((pl.col(\"ts\") + 60000).alias('ts'))\n",
        "\n",
        "df_left = df_left.with_columns(pl.col(\"ts\").cast(pl.Datetime(time_unit='ms')).alias('ts_ms'))\n",
        "df_right = df_right.with_columns(pl.col(\"ts\").cast(pl.Datetime(time_unit='ms')).alias('ts_ms'))\n",
        "\n",
        "new_df = df_left.join_asof(\n",
        "    df_right,\n",
        "    on=\"ts_ms\",\n",
        "    strategy=\"forward\",  # or \"forward\" or \"nearest\" as needed\n",
        "    tolerance=\"10s\",\n",
        "    suffix = \"_1m_later\"\n",
        ")\n",
        "\n",
        "new_df_filter = new_df.select(\n",
        "    pl.col(\"arbitrage_id\"),\n",
        "    buy_price=pl.when(pl.col(\"arb_opportunity\") > 0)\n",
        "        .then(pl.col(\"HTX_level1_price_ask\"))\n",
        "        .otherwise(pl.col(\"Bybit_level1_price_ask\")),\n",
        "    sell_price=pl.when(pl.col(\"arb_opportunity\") > 0)\n",
        "        .then(pl.col(\"Bybit_level1_price_bid\"))\n",
        "        .otherwise(pl.col(\"HTX_level1_price_bid\")),\n",
        "    # sell at the same exchange where we bought\n",
        "    buy_price_realized=pl.when(pl.col(\"arb_opportunity\") > 0)\n",
        "        .then(pl.col(\"Bybit_level1_price_ask_1m_later\"))\n",
        "        .otherwise(pl.col(\"HTX_level1_price_ask_1m_later\")),\n",
        "    sell_price_realized=pl.when(pl.col(\"arb_opportunity\") > 0)\n",
        "        .then(pl.col(\"HTX_level1_price_bid_1m_later\"))\n",
        "        .otherwise(pl.col(\"Bybit_level1_price_bid_1m_later\"))\n",
        ")\n",
        "\n",
        "cost_df = new_df_filter.select(\n",
        "    pl.min_horizontal([\n",
        "        pl.col(\"sell_price\") - pl.col(\"buy_price_realized\"),\n",
        "        pl.col(\"sell_price_realized\") - pl.col(\"buy_price\")\n",
        "    ]))\n",
        "\n",
        "print(f\"average income per successful trade: {expected_df.select(pl.col('sell_price') - pl.col('buy_price')).mean().item():.2f}\")\n",
        "print(f\"average loss per unsuccessful trade: {-cost_df.mean().item():.2f}\")"
      ]
    },
    {
      "cell_type": "markdown",
      "metadata": {
        "id": "uewAX7e2yVoU"
      },
      "source": [
        "# 2. Modelling"
      ]
    },
    {
      "cell_type": "markdown",
      "metadata": {
        "id": "0RekAuhzyjXY"
      },
      "source": [
        "## Preparation"
      ]
    },
    {
      "cell_type": "markdown",
      "metadata": {
        "id": "8XaT4kTCypFo"
      },
      "source": [
        "upload data:"
      ]
    },
    {
      "cell_type": "code",
      "execution_count": null,
      "metadata": {
        "id": "vwB930i8ybB6"
      },
      "outputs": [],
      "source": [
        "arbitrage_model_polars = pl.read_parquet('/content/drive/MyDrive/arbitrage_modelv2.parquet')\n",
        "arbitrage_model = arbitrage_model_polars.to_pandas()"
      ]
    },
    {
      "cell_type": "markdown",
      "metadata": {
        "id": "VFQ_bp06yrLj"
      },
      "source": [
        "define accuracy metrics:"
      ]
    },
    {
      "cell_type": "code",
      "execution_count": null,
      "metadata": {
        "id": "gzihZHs9ByjI"
      },
      "outputs": [],
      "source": [
        "def matrix(y_test, y_pred):\n",
        "  print(classification_report(y_test, y_pred))\n",
        "  cm = confusion_matrix(y_test, y_pred, labels=[0,1])\n",
        "  disp = ConfusionMatrixDisplay(confusion_matrix=cm, display_labels=[0,1])\n",
        "  disp.plot(cmap=plt.cm.Blues)\n",
        "  plt.title(\"Confusion Matrix\")\n",
        "  plt.show()\n",
        "  return cm\n",
        "\n",
        "def accuracy(y_test, y_pred):\n",
        "  print(f'share of 0`s in the dataset: {y_test[y_test == 0].shape[0] / y_test.shape[0]: .1%}\\n')\n",
        "  print(f'accuracy: {accuracy_score(y_test, y_pred): .1%}\\n')\n",
        "\n",
        "def cost_function(y_true, y_pred):\n",
        "  tn, fp, fn, tp = confusion_matrix(y_true, y_pred).ravel()\n",
        "  return 0.03*tp-0.12*fp"
      ]
    },
    {
      "cell_type": "markdown",
      "metadata": {
        "id": "tr3tFVvEyv0c"
      },
      "source": [
        "split and scale the data:"
      ]
    },
    {
      "cell_type": "code",
      "execution_count": null,
      "metadata": {
        "id": "HT4_73SJ3E1o"
      },
      "outputs": [],
      "source": [
        "X = arbitrage_model.drop(columns = ['ts', 'dummy', 'arbitrage_id', 'HTX_delta_ts', 'Bybit_delta_ts', 'timedelta'])\n",
        "y = arbitrage_model[\"dummy\"]"
      ]
    },
    {
      "cell_type": "code",
      "execution_count": null,
      "metadata": {
        "id": "vT71hu1gy51-"
      },
      "outputs": [],
      "source": [
        "tscv = TimeSeriesSplit()\n",
        "\n",
        "for train_index, test_index in tscv.split(X):\n",
        "    X_train, X_test = X.iloc[train_index], X.iloc[test_index]\n",
        "    y_train, y_test = y.iloc[train_index], y.iloc[test_index]\n",
        "\n",
        "scaler = StandardScaler()\n",
        "X_train_scaled = scaler.fit_transform(X_train)\n",
        "X_test_scaled = scaler.transform(X_test)\n"
      ]
    },
    {
      "cell_type": "code",
      "execution_count": null,
      "metadata": {
        "colab": {
          "base_uri": "https://localhost:8080/"
        },
        "id": "IOOFQP5s3j-b",
        "outputId": "994b393a-c384-463c-c2fc-dc3e85774af8"
      },
      "outputs": [
        {
          "data": {
            "text/plain": [
              "['/content/drive/MyDrive/scaler.pkl']"
            ]
          },
          "execution_count": 14,
          "metadata": {},
          "output_type": "execute_result"
        }
      ],
      "source": [
        "joblib.dump(scaler, '/content/drive/MyDrive/scaler.pkl')"
      ]
    },
    {
      "cell_type": "code",
      "execution_count": null,
      "metadata": {
        "colab": {
          "base_uri": "https://localhost:8080/"
        },
        "id": "eUjyfaJx3UTs",
        "outputId": "7cd1a4ff-316d-4aa2-8bcf-95a6a7abc854"
      },
      "outputs": [
        {
          "data": {
            "text/plain": [
              "(3814, 171)"
            ]
          },
          "execution_count": 15,
          "metadata": {},
          "output_type": "execute_result"
        }
      ],
      "source": [
        "X_test_scaled.shape"
      ]
    },
    {
      "cell_type": "code",
      "source": [
        "# Since dataset is very unbalanced, I tried applying various rebalancing strategies - unfortunately, neither of them worked well\n",
        "sm = RandomUnderSampler(random_state=42)\n",
        "X_train_scaled_resampled, y_train_resampled = sm.fit_resample(X_train_scaled, y_train)"
      ],
      "metadata": {
        "id": "EpRpnybGiFz0"
      },
      "execution_count": 211,
      "outputs": []
    },
    {
      "cell_type": "code",
      "source": [
        "y_train_resampled[y_train_resampled == 1].shape[0] / y_train_resampled.shape[0]"
      ],
      "metadata": {
        "colab": {
          "base_uri": "https://localhost:8080/"
        },
        "id": "6YtAKIJjlInj",
        "outputId": "79310295-2eb9-414e-f7c9-836cd0053bad"
      },
      "execution_count": 212,
      "outputs": [
        {
          "output_type": "execute_result",
          "data": {
            "text/plain": [
              "0.5"
            ]
          },
          "metadata": {},
          "execution_count": 212
        }
      ]
    },
    {
      "cell_type": "markdown",
      "metadata": {
        "id": "xJM8i4nhzTiz"
      },
      "source": [
        "Apparently, the goal is to create a model that would beat the naive approach of assigning 1 to the whole dataset"
      ]
    },
    {
      "cell_type": "code",
      "execution_count": 174,
      "metadata": {
        "colab": {
          "base_uri": "https://localhost:8080/"
        },
        "id": "29eies8hrJ_X",
        "outputId": "f62b3f60-1da3-4f86-dc07-74c03916654e"
      },
      "outputs": [
        {
          "output_type": "stream",
          "name": "stdout",
          "text": [
            "Naive revenue: $43.17\n"
          ]
        },
        {
          "output_type": "execute_result",
          "data": {
            "text/plain": [
              "['/content/drive/MyDrive/naive_model.pkl']"
            ]
          },
          "metadata": {},
          "execution_count": 174
        }
      ],
      "source": [
        "naive_model = DummyClassifier(strategy=\"constant\", constant=1)\n",
        "\n",
        "naive_model = naive_model.fit(X_train_scaled, y_train)\n",
        "y_pred_naive = naive_model.predict(X_test_scaled)\n",
        "\n",
        "naive_income = cost_function(y_test, y_pred_naive)\n",
        "print(f'Naive revenue: ${naive_income:.2f}')\n",
        "joblib.dump(naive_model, '/content/drive/MyDrive/naive_model.pkl')"
      ]
    },
    {
      "cell_type": "markdown",
      "metadata": {
        "id": "U9kvalMXkJFI"
      },
      "source": [
        "Ideally, we want to reach the highest possible value:"
      ]
    },
    {
      "cell_type": "code",
      "execution_count": null,
      "metadata": {
        "colab": {
          "base_uri": "https://localhost:8080/",
          "height": 36
        },
        "id": "zJgfgnBokPqw",
        "outputId": "e7781b6e-b482-49cb-98a3-26c09da49fcc"
      },
      "outputs": [
        {
          "data": {
            "application/vnd.google.colaboratory.intrinsic+json": {
              "type": "string"
            },
            "text/plain": [
              "'Ideal revenue: $100.17'"
            ]
          },
          "execution_count": 17,
          "metadata": {},
          "output_type": "execute_result"
        }
      ],
      "source": [
        "ideal_income = 0.03 * y_test[y_test == 1].shape[0]\n",
        "f'Ideal revenue: ${ideal_income}'"
      ]
    },
    {
      "cell_type": "markdown",
      "metadata": {
        "id": "2foJsjS0wxav"
      },
      "source": [
        "## Linear Models"
      ]
    },
    {
      "cell_type": "markdown",
      "metadata": {
        "id": "uzK1q738zPMu"
      },
      "source": [
        "#### Logistic Regression:"
      ]
    },
    {
      "cell_type": "code",
      "execution_count": 179,
      "metadata": {
        "colab": {
          "base_uri": "https://localhost:8080/",
          "height": 744
        },
        "id": "yMk4V4AI3Vcq",
        "outputId": "78a0c52d-c9d0-4ef4-84eb-10fbc2440b32"
      },
      "outputs": [
        {
          "output_type": "stream",
          "name": "stdout",
          "text": [
            "Prediction time: 0.0015 seconds\n",
            "share of 0`s in the dataset:  12.5%\n",
            "\n",
            "accuracy:  67.5%\n",
            "\n",
            "              precision    recall  f1-score   support\n",
            "\n",
            "           0       0.15      0.36      0.21       475\n",
            "           1       0.89      0.72      0.80      3339\n",
            "\n",
            "    accuracy                           0.68      3814\n",
            "   macro avg       0.52      0.54      0.50      3814\n",
            "weighted avg       0.80      0.68      0.72      3814\n",
            "\n"
          ]
        },
        {
          "output_type": "display_data",
          "data": {
            "text/plain": [
              "<Figure size 640x480 with 2 Axes>"
            ],
            "image/png": "[encoded data removed]"
          },
          "metadata": {}
        },
        {
          "output_type": "stream",
          "name": "stdout",
          "text": [
            "Revenue: $35.49\n"
          ]
        }
      ],
      "source": [
        "best_params_logistic = {'penalty': 'l2', 'tol': 0.000275040525644709, 'C': 39.129124480426725} #parameters selected by gridsearch\n",
        "logistic = LogisticRegression(**best_params_logistic, class_weight=\"balanced\", solver = 'sag', max_iter=10000).fit(X_train_scaled, y_train)\n",
        "\n",
        "# evaluate on test set\n",
        "start = time.time()\n",
        "y_pred_logistic  = logistic.predict(X_test_scaled)\n",
        "prediction_time_logit = round(time.time() - start, 5)\n",
        "print(f\"Prediction time: {prediction_time_logit} seconds\")\n",
        "# assess accuracy of the model\n",
        "accuracy(y_test, y_pred_logistic)\n",
        "# show confussion matrix\n",
        "cm1 = matrix(y_test, y_pred_logistic)\n",
        "logit_income = round(cost_function(y_test, y_pred_logistic),2)\n",
        "print(f'Revenue: ${logit_income}')"
      ]
    },
    {
      "cell_type": "markdown",
      "metadata": {
        "id": "MaWXWzy_jAFq"
      },
      "source": [
        "We can play around with the probabilities to check which one maximizes the revenue:"
      ]
    },
    {
      "cell_type": "code",
      "execution_count": 178,
      "metadata": {
        "colab": {
          "base_uri": "https://localhost:8080/"
        },
        "id": "9ryTw3mOa-3J",
        "outputId": "9ec2cbd9-a9bc-482f-d6bd-fcc7f354d481"
      },
      "outputs": [
        {
          "output_type": "stream",
          "name": "stdout",
          "text": [
            "Revenue: $43.68\n",
            "Proba: 0.75\n"
          ]
        }
      ],
      "source": [
        "logit_probs = logistic.predict_proba(X_test_scaled)[:,1]\n",
        "ranges = np.arange(0.05, 0.95, 0.05)\n",
        "logit_incomes = {}\n",
        "for i in ranges:\n",
        "  logit_predicts = (logit_probs > i).astype(int)\n",
        "  logit_incomes[i]  = round(cost_function(y_test, logit_predicts), 2)\n",
        "logit_income = max(logit_incomes.values())\n",
        "print(f'Revenue: ${logit_income}\\nProba: {max(logit_incomes.keys(), key = logit_incomes.get):.2f}')"
      ]
    },
    {
      "cell_type": "markdown",
      "metadata": {
        "id": "8km9FuINUuvp"
      },
      "source": [
        "Save the model:"
      ]
    },
    {
      "cell_type": "code",
      "execution_count": null,
      "metadata": {
        "colab": {
          "base_uri": "https://localhost:8080/"
        },
        "id": "g8rAnU5k3h5J",
        "outputId": "0363a066-8f82-45f8-9a32-c8bb9739c882"
      },
      "outputs": [
        {
          "data": {
            "text/plain": [
              "['/content/drive/MyDrive/logit.pkl']"
            ]
          },
          "execution_count": 20,
          "metadata": {},
          "output_type": "execute_result"
        }
      ],
      "source": [
        "joblib.dump(logistic, '/content/drive/MyDrive/logit.pkl')"
      ]
    },
    {
      "cell_type": "markdown",
      "metadata": {
        "id": "dkeWyx7_z5ie"
      },
      "source": [
        "#### Ridge Classifier:"
      ]
    },
    {
      "cell_type": "code",
      "execution_count": null,
      "metadata": {
        "colab": {
          "base_uri": "https://localhost:8080/",
          "height": 744
        },
        "id": "JJY1-CjM07g8",
        "outputId": "b3cdc30c-ac79-4c94-d3d8-27446ce87219"
      },
      "outputs": [
        {
          "name": "stdout",
          "output_type": "stream",
          "text": [
            "Prediction time: 0.02520 seconds\n",
            "share of 0`s in the dataset:  12.5%\n",
            "\n",
            "accuracy:  67.3%\n",
            "\n",
            "              precision    recall  f1-score   support\n",
            "\n",
            "           0       0.15      0.35      0.21       475\n",
            "           1       0.89      0.72      0.79      3339\n",
            "\n",
            "    accuracy                           0.67      3814\n",
            "   macro avg       0.52      0.53      0.50      3814\n",
            "weighted avg       0.79      0.67      0.72      3814\n",
            "\n"
          ]
        },
        {
          "data": {
            "image/png": "[encoded data removed]",
            "text/plain": [
              "<Figure size 640x480 with 2 Axes>"
            ]
          },
          "metadata": {},
          "output_type": "display_data"
        },
        {
          "name": "stdout",
          "output_type": "stream",
          "text": [
            "Revenue: $34.86\n"
          ]
        }
      ],
      "source": [
        "best_params_ridge = {'alpha': 9.867013807063731, 'tol': 0.057754922792102724, 'positive': False}\n",
        "\n",
        "ridge_model = RidgeClassifier(**best_params_ridge, class_weight='balanced', random_state=42).fit(X_train_scaled, y_train)\n",
        "\n",
        "# evaluate on test set\n",
        "start = time.time()\n",
        "y_pred_ridge = ridge_model.predict(X_test_scaled)\n",
        "prediction_time_ridge = round(time.time() - start, 5)\n",
        "print(f\"Prediction time: {prediction_time_ridge:.5f} seconds\")\n",
        "\n",
        "# assess accuracy of the model\n",
        "accuracy(y_test, y_pred_ridge)\n",
        "# show confussion matrix\n",
        "cm1 = matrix(y_test, y_pred_ridge)\n",
        "ridge_income = round(cost_function(y_test, y_pred_ridge), 2)\n",
        "print(f'Revenue: ${ridge_income:.2f}')"
      ]
    },
    {
      "cell_type": "code",
      "execution_count": null,
      "metadata": {
        "colab": {
          "base_uri": "https://localhost:8080/"
        },
        "id": "NRCJXroSZIEm",
        "outputId": "f0d9800f-e416-4a22-a953-9867cca07a06"
      },
      "outputs": [
        {
          "data": {
            "text/plain": [
              "['/content/drive/MyDrive/ridge.pkl']"
            ]
          },
          "execution_count": 22,
          "metadata": {},
          "output_type": "execute_result"
        }
      ],
      "source": [
        "joblib.dump(ridge_model, '/content/drive/MyDrive/ridge.pkl')"
      ]
    },
    {
      "cell_type": "markdown",
      "metadata": {
        "id": "MmLYO9Dm3E5_"
      },
      "source": [
        "#### SGD Classifier:"
      ]
    },
    {
      "cell_type": "code",
      "execution_count": null,
      "metadata": {
        "colab": {
          "base_uri": "https://localhost:8080/",
          "height": 744
        },
        "id": "9GbD5aGq22L7",
        "outputId": "cafe1415-f2d7-47ab-84fa-67277616cc94"
      },
      "outputs": [
        {
          "name": "stdout",
          "output_type": "stream",
          "text": [
            "Prediction time: 0.01404 seconds\n",
            "share of 0`s in the dataset:  12.5%\n",
            "\n",
            "accuracy:  87.1%\n",
            "\n",
            "              precision    recall  f1-score   support\n",
            "\n",
            "           0       0.18      0.01      0.02       475\n",
            "           1       0.88      0.99      0.93      3339\n",
            "\n",
            "    accuracy                           0.87      3814\n",
            "   macro avg       0.53      0.50      0.48      3814\n",
            "weighted avg       0.79      0.87      0.82      3814\n",
            "\n"
          ]
        },
        {
          "data": {
            "image/png": "[encoded data removed]",
            "text/plain": [
              "<Figure size 640x480 with 2 Axes>"
            ]
          },
          "metadata": {},
          "output_type": "display_data"
        },
        {
          "name": "stdout",
          "output_type": "stream",
          "text": [
            "Revenue: $43.08\n"
          ]
        }
      ],
      "source": [
        "best_params_sgd = {'loss': 'squared_hinge',\n",
        " 'penalty': 'elasticnet',\n",
        " 'alpha': 33.820968906463726,\n",
        " 'l1_ratio': 0.3884827302592708,\n",
        " 'tol': 0.06417175667665795,\n",
        " 'learning_rate': 'optimal',\n",
        " 'power_t': 8.608543750732,\n",
        " 'average': True}  #as selected by optuna\n",
        "\n",
        "sgd_model = SGDClassifier(**best_params_sgd, class_weight='balanced', random_state=42, n_jobs=-1, max_iter = 100000).fit(X_train_scaled, y_train)\n",
        "\n",
        "# evaluate on test set\n",
        "start = time.time()\n",
        "y_pred_sgd = sgd_model.predict(X_test_scaled)\n",
        "prediction_time_sgd = round(time.time() - start, 5)\n",
        "print(f\"Prediction time: {prediction_time_sgd:.5f} seconds\")\n",
        "# assess accuracy of the model\n",
        "accuracy(y_test, y_pred_sgd)\n",
        "# show confussion matrix\n",
        "cm1 = matrix(y_test, y_pred_sgd)\n",
        "sgd_income = round(cost_function(y_test, y_pred_sgd), 2)\n",
        "print(f'Revenue: ${sgd_income}')"
      ]
    },
    {
      "cell_type": "code",
      "execution_count": null,
      "metadata": {
        "colab": {
          "base_uri": "https://localhost:8080/"
        },
        "id": "jU32PN7afPLP",
        "outputId": "d77531f0-ab25-4ed8-e208-3c152435da27"
      },
      "outputs": [
        {
          "data": {
            "text/plain": [
              "['/content/drive/MyDrive/sgd.pkl']"
            ]
          },
          "execution_count": 24,
          "metadata": {},
          "output_type": "execute_result"
        }
      ],
      "source": [
        "joblib.dump(sgd_model, '/content/drive/MyDrive/sgd.pkl')"
      ]
    },
    {
      "cell_type": "markdown",
      "metadata": {
        "id": "G_5XBhy0F9oX"
      },
      "source": [
        "#### Passive Agressive Classifier:"
      ]
    },
    {
      "cell_type": "code",
      "execution_count": null,
      "metadata": {
        "colab": {
          "base_uri": "https://localhost:8080/",
          "height": 744
        },
        "id": "v57REE5S412P",
        "outputId": "18796ca3-4032-48f8-e8f2-aa332fdec569"
      },
      "outputs": [
        {
          "name": "stdout",
          "output_type": "stream",
          "text": [
            "Prediction time: 0.00108 seconds\n",
            "share of 0`s in the dataset:  12.5%\n",
            "\n",
            "accuracy:  73.6%\n",
            "\n",
            "              precision    recall  f1-score   support\n",
            "\n",
            "           0       0.16      0.26      0.20       475\n",
            "           1       0.88      0.80      0.84      3339\n",
            "\n",
            "    accuracy                           0.74      3814\n",
            "   macro avg       0.52      0.53      0.52      3814\n",
            "weighted avg       0.79      0.74      0.76      3814\n",
            "\n"
          ]
        },
        {
          "data": {
            "image/png": "[encoded data removed]",
            "text/plain": [
              "<Figure size 640x480 with 2 Axes>"
            ]
          },
          "metadata": {},
          "output_type": "display_data"
        },
        {
          "name": "stdout",
          "output_type": "stream",
          "text": [
            "Revenue: $38.19\n"
          ]
        }
      ],
      "source": [
        "best_params_pac = {'loss': 'hinge', 'C': 0.0005527672405032676, 'tol': 0.20677455553584034}\n",
        "\n",
        "# Train the model\n",
        "pac_model = PassiveAggressiveClassifier(**best_params_pac, class_weight='balanced', max_iter=100000, random_state=42, n_jobs=-1).fit(X_train_scaled, y_train)\n",
        "# evaluate on test set\n",
        "start = time.time()\n",
        "y_pred_pac = pac_model.predict(X_test_scaled)\n",
        "prediction_time_pac = round(time.time() - start, 5)\n",
        "print(f\"Prediction time: {prediction_time_pac:.5f} seconds\")\n",
        "# assess accuracy of the model\n",
        "accuracy(y_test, y_pred_pac)\n",
        "# show confussion matrix\n",
        "cm1 = matrix(y_test, y_pred_pac)\n",
        "pac_model_income = round(cost_function(y_test, y_pred_pac), 2)\n",
        "print(f'Revenue: ${pac_model_income}')"
      ]
    },
    {
      "cell_type": "markdown",
      "metadata": {
        "id": "j8SpSLGRHddR"
      },
      "source": [
        "## CUML: Support Vector Machine & Random Forest"
      ]
    },
    {
      "cell_type": "markdown",
      "metadata": {
        "id": "d445l-9H04CH"
      },
      "source": [
        "#### SVM:"
      ]
    },
    {
      "cell_type": "markdown",
      "metadata": {
        "id": "R7XCabHMLRDd"
      },
      "source": [
        "Start with sklearn's SVM:"
      ]
    },
    {
      "cell_type": "code",
      "execution_count": null,
      "metadata": {
        "id": "Tw5c5mdSIF-g"
      },
      "outputs": [],
      "source": [
        "%%time\n",
        "svm = SVC().fit(X_train_scaled, y_train)\n",
        "\n",
        "# evaluate on test set\n",
        "y_pred_svm  = svm.predict(X_test_scaled)\n",
        "# assess accuracy of the model\n",
        "accuracy(y_test, y_pred_svm)\n",
        "# show confussion matrix\n",
        "cm_svm = matrix(y_test, y_pred_svm)"
      ]
    },
    {
      "cell_type": "markdown",
      "metadata": {
        "id": "Knkq6Vy0LlkY"
      },
      "source": [
        "Since CPU computing is cumbersome, we can take advantage of Colab's GPU"
      ]
    },
    {
      "cell_type": "code",
      "execution_count": null,
      "metadata": {
        "colab": {
          "base_uri": "https://localhost:8080/"
        },
        "id": "VFWep6pD5VMe",
        "outputId": "ab4a3057-df11-4ed5-d16a-478fc9a2cb90"
      },
      "outputs": [
        {
          "name": "stdout",
          "output_type": "stream",
          "text": [
            "Mon Jun 23 13:02:22 2025       \n",
            "+-----------------------------------------------------------------------------------------+\n",
            "| NVIDIA-SMI 550.54.15              Driver Version: 550.54.15      CUDA Version: 12.4     |\n",
            "|-----------------------------------------+------------------------+----------------------+\n",
            "| GPU  Name                 Persistence-M | Bus-Id          Disp.A | Volatile Uncorr. ECC |\n",
            "| Fan  Temp   Perf          Pwr:Usage/Cap |           Memory-Usage | GPU-Util  Compute M. |\n",
            "|                                         |                        |               MIG M. |\n",
            "|=========================================+========================+======================|\n",
            "|   0  NVIDIA L4                      Off |   00000000:00:03.0 Off |                    0 |\n",
            "| N/A   43C    P8             12W /   72W |       0MiB /  23034MiB |      0%      Default |\n",
            "|                                         |                        |                  N/A |\n",
            "+-----------------------------------------+------------------------+----------------------+\n",
            "                                                                                         \n",
            "+-----------------------------------------------------------------------------------------+\n",
            "| Processes:                                                                              |\n",
            "|  GPU   GI   CI        PID   Type   Process name                              GPU Memory |\n",
            "|        ID   ID                                                               Usage      |\n",
            "|=========================================================================================|\n",
            "|  No running processes found                                                             |\n",
            "+-----------------------------------------------------------------------------------------+\n"
          ]
        }
      ],
      "source": [
        "!nvidia-smi"
      ]
    },
    {
      "cell_type": "code",
      "execution_count": null,
      "metadata": {
        "colab": {
          "base_uri": "https://localhost:8080/"
        },
        "id": "ODJGpv_3_ZVV",
        "outputId": "8e3adda4-e1f3-4407-b026-540c78c13324"
      },
      "outputs": [
        {
          "name": "stdout",
          "output_type": "stream",
          "text": [
            "Cloning into 'rapidsai-csp-utils'...\n",
            "remote: Enumerating objects: 596, done.\u001b[K\n",
            "remote: Counting objects: 100% (162/162), done.\u001b[K\n",
            "remote: Compressing objects: 100% (80/80), done.\u001b[K\n",
            "remote: Total 596 (delta 128), reused 82 (delta 82), pack-reused 434 (from 3)\u001b[K\n",
            "Receiving objects: 100% (596/596), 195.77 KiB | 845.00 KiB/s, done.\n",
            "Resolving deltas: 100% (302/302), done.\n",
            "Installing RAPIDS remaining 25.04 libraries\n",
            "Using Python 3.11.13 environment at: /usr\n",
            "Resolved 173 packages in 11.25s\n",
            "Downloading cudf-cu12 (1.7MiB)\n",
            "Downloading cugraph-cu12 (3.0MiB)\n",
            "Downloading rmm-cu12 (1.5MiB)\n",
            "Downloading ucx-py-cu12 (2.2MiB)\n",
            "Downloading libcuspatial-cu12 (31.1MiB)\n",
            "Downloading datashader (17.5MiB)\n",
            "Downloading dask (1.3MiB)\n",
            "Downloading bokeh (6.6MiB)\n",
            "Downloading shapely (2.4MiB)\n",
            "Downloading libcuvs-cu12 (1.1GiB)\n",
            "Downloading pylibcudf-cu12 (26.4MiB)\n",
            "Downloading librmm-cu12 (2.9MiB)\n",
            "Downloading libcudf-cu12 (538.8MiB)\n",
            "Downloading libcugraph-cu12 (1.4GiB)\n",
            "Downloading cuspatial-cu12 (4.1MiB)\n",
            "Downloading raft-dask-cu12 (274.9MiB)\n",
            "Downloading cuml-cu12 (9.4MiB)\n",
            "Downloading pylibcugraph-cu12 (2.0MiB)\n",
            "Downloading cuproj-cu12 (1.1MiB)\n",
            "Downloading libkvikio-cu12 (2.0MiB)\n",
            "Downloading libcuml-cu12 (404.9MiB)\n",
            "Downloading libraft-cu12 (20.8MiB)\n",
            "Downloading cucim-cu12 (5.6MiB)\n",
            " Downloaded cuproj-cu12\n",
            " Downloaded rmm-cu12\n",
            " Downloaded shapely\n",
            " Downloaded cudf-cu12\n",
            " Downloaded datashader\n",
            " Downloaded ucx-py-cu12\n",
            " Downloaded libkvikio-cu12\n",
            " Downloaded pylibcugraph-cu12\n",
            " Downloaded cugraph-cu12\n",
            " Downloaded dask\n",
            " Downloaded cuspatial-cu12\n",
            " Downloaded bokeh\n",
            " Downloaded librmm-cu12\n",
            " Downloaded cucim-cu12\n",
            " Downloaded cuml-cu12\n",
            " Downloaded libcuspatial-cu12\n",
            " Downloaded pylibcudf-cu12\n",
            " Downloaded libraft-cu12\n",
            " Downloaded raft-dask-cu12\n",
            " Downloaded libcuml-cu12\n",
            " Downloaded libcudf-cu12\n",
            " Downloaded libcuvs-cu12\n",
            " Downloaded libcugraph-cu12\n",
            "Prepared 52 packages in 38.39s\n",
            "Uninstalled 29 packages in 540ms\n",
            "Installed 52 packages in 103ms\n",
            " + arrow==1.3.0\n",
            " - bokeh==3.7.3\n",
            " + bokeh==3.6.3\n",
            " + cucim-cu12==25.4.0\n",
            " - cudf-cu12==25.2.1 (from https://pypi.nvidia.com/cudf-cu12/cudf_cu12-25.2.1-cp311-cp311-manylinux_2_24_x86_64.manylinux_2_28_x86_64.whl)\n",
            " + cudf-cu12==25.4.0\n",
            " + cugraph-cu12==25.4.1\n",
            " - cuml-cu12==25.2.1\n",
            " + cuml-cu12==25.4.0\n",
            " + cuproj-cu12==25.4.0\n",
            " + cuspatial-cu12==25.4.0\n",
            " - cuvs-cu12==25.2.1\n",
            " + cuvs-cu12==25.4.0\n",
            " + cuxfilter-cu12==25.4.0\n",
            " - dask==2024.12.1\n",
            " + dask==2025.2.0\n",
            " - dask-cuda==25.2.0\n",
            " + dask-cuda==25.4.0\n",
            " - dask-cudf-cu12==25.2.2\n",
            " + dask-cudf-cu12==25.4.0\n",
            " + datashader==0.18.1\n",
            " - distributed==2024.12.1\n",
            " + distributed==2025.2.0\n",
            " - distributed-ucxx-cu12==0.42.0\n",
            " + distributed-ucxx-cu12==0.43.0\n",
            " + fqdn==1.5.1\n",
            " + isoduration==20.11.0\n",
            " - jupyter-client==6.1.12\n",
            " + jupyter-client==8.6.3\n",
            " + jupyter-events==0.12.0\n",
            " - jupyter-server==1.16.0\n",
            " + jupyter-server==2.16.0\n",
            " + jupyter-server-proxy==4.4.0\n",
            " + jupyter-server-terminals==0.5.3\n",
            " - libcudf-cu12==25.2.1 (from https://pypi.nvidia.com/libcudf-cu12/libcudf_cu12-25.2.1-py3-none-manylinux_2_28_x86_64.whl)\n",
            " + libcudf-cu12==25.4.0\n",
            " - libcugraph-cu12==25.2.0\n",
            " + libcugraph-cu12==25.4.1\n",
            " - libcuml-cu12==25.2.1\n",
            " + libcuml-cu12==25.4.0\n",
            " + libcuspatial-cu12==25.4.0\n",
            " - libcuvs-cu12==25.2.1\n",
            " + libcuvs-cu12==25.4.0\n",
            " - libkvikio-cu12==25.2.1\n",
            " + libkvikio-cu12==25.4.0\n",
            " - libraft-cu12==25.2.0\n",
            " + libraft-cu12==25.4.0\n",
            " + librmm-cu12==25.4.0\n",
            " - libucxx-cu12==0.42.0\n",
            " + libucxx-cu12==0.43.0\n",
            " - numba-cuda==0.2.0\n",
            " + numba-cuda==0.4.0\n",
            " - nx-cugraph-cu12==25.2.0 (from https://pypi.nvidia.com/nx-cugraph-cu12/nx_cugraph_cu12-25.2.0-py3-none-any.whl)\n",
            " + nx-cugraph-cu12==25.4.0\n",
            " + overrides==7.7.0\n",
            " + pyct==0.5.0\n",
            " - pylibcudf-cu12==25.2.1 (from https://pypi.nvidia.com/pylibcudf-cu12/pylibcudf_cu12-25.2.1-cp311-cp311-manylinux_2_24_x86_64.manylinux_2_28_x86_64.whl)\n",
            " + pylibcudf-cu12==25.4.0\n",
            " - pylibcugraph-cu12==25.2.0\n",
            " + pylibcugraph-cu12==25.4.1\n",
            " - pylibraft-cu12==25.2.0\n",
            " + pylibraft-cu12==25.4.0\n",
            " + python-json-logger==3.3.0\n",
            " - raft-dask-cu12==25.2.0\n",
            " + raft-dask-cu12==25.4.0\n",
            " - rapids-dask-dependency==25.2.0\n",
            " + rapids-dask-dependency==25.4.0\n",
            " + rapids-logger==0.1.1\n",
            " + rfc3339-validator==0.1.4\n",
            " + rfc3986-validator==0.1.1\n",
            " - rmm-cu12==25.2.0\n",
            " + rmm-cu12==25.4.0\n",
            " - shapely==2.1.1\n",
            " + shapely==2.0.7\n",
            " + simpervisor==1.0.0\n",
            " + types-python-dateutil==2.9.0.20250516\n",
            " - ucx-py-cu12==0.42.0\n",
            " + ucx-py-cu12==0.43.0\n",
            " - ucxx-cu12==0.42.0\n",
            " + ucxx-cu12==0.43.0\n",
            " + uri-template==1.3.0\n",
            "\n",
            "        ***********************************************************************\n",
            "        The pip install of RAPIDS is complete.\n",
            "\n",
            "        Please do not run any further installation from the conda based installation methods, as they may cause issues!\n",
            "\n",
            "        Please ensure that you're pulling from the git repo to remain updated with the latest working install scripts.\n",
            "\n",
            "        Troubleshooting:\n",
            "            - If there is an installation failure, please check back on RAPIDSAI owned templates/notebooks to see how to update your personal files.\n",
            "            - If an installation failure persists when using the latest script, please make an issue on https://github.com/rapidsai-community/rapidsai-csp-utils\n",
            "        ***********************************************************************\n",
            "        \n"
          ]
        }
      ],
      "source": [
        "!git clone https://github.com/rapidsai/rapidsai-csp-utils.git\n",
        "!python rapidsai-csp-utils/colab/pip-install.py"
      ]
    },
    {
      "cell_type": "code",
      "execution_count": null,
      "metadata": {
        "id": "7oirJkV8HiKk"
      },
      "outputs": [],
      "source": [
        "from cuml.svm import SVC as cuML_SVC\n",
        "from cuml.svm import LinearSVC\n",
        "from cuml.ensemble import RandomForestClassifier as cuRFC\n",
        "\n",
        "import cudf\n",
        "import cupy as cp"
      ]
    },
    {
      "cell_type": "code",
      "execution_count": null,
      "metadata": {
        "id": "1cMdfSpNNxwD"
      },
      "outputs": [],
      "source": [
        "X_train_cudf = cudf.DataFrame.from_pandas(X_train)\n",
        "y_train_cudf = cudf.Series(y_train)\n",
        "\n",
        "X_test_cudf = cudf.DataFrame.from_pandas(X_test)\n",
        "y_test_cudf = cudf.Series(y_test)\n",
        "\n",
        "\n",
        "X_train_cp = cp.asarray(X_train_scaled)\n",
        "y_train_cp = cp.asarray(y_train)\n",
        "\n",
        "X_test_cp = cp.asarray(X_test_scaled)\n",
        "y_test_cp = cp.asarray(y_test)"
      ]
    },
    {
      "cell_type": "code",
      "execution_count": null,
      "metadata": {
        "colab": {
          "base_uri": "https://localhost:8080/",
          "height": 744
        },
        "id": "c7TsCxznQjvv",
        "outputId": "abc028d2-67dc-4352-968f-26f9171d8b80"
      },
      "outputs": [
        {
          "name": "stdout",
          "output_type": "stream",
          "text": [
            "Prediction time: 0.00599 seconds\n",
            "share of 0`s in the dataset:  12.5%\n",
            "\n",
            "accuracy:  87.7%\n",
            "\n",
            "              precision    recall  f1-score   support\n",
            "\n",
            "           0       0.67      0.02      0.04       475\n",
            "           1       0.88      1.00      0.93      3339\n",
            "\n",
            "    accuracy                           0.88      3814\n",
            "   macro avg       0.77      0.51      0.49      3814\n",
            "weighted avg       0.85      0.88      0.82      3814\n",
            "\n"
          ]
        },
        {
          "data": {
            "image/png": "[encoded data removed]",
            "text/plain": [
              "<Figure size 640x480 with 2 Axes>"
            ]
          },
          "metadata": {},
          "output_type": "display_data"
        },
        {
          "name": "stdout",
          "output_type": "stream",
          "text": [
            "Revenue: $44.22\n"
          ]
        }
      ],
      "source": [
        "params_svm = {'kernel': 'poly',\n",
        " 'C': 0.0024232210560365475,\n",
        " 'degree': 2,\n",
        " 'tol': 0.09513851785455621,\n",
        " 'gamma': 'auto',\n",
        " 'coef0': 0.7413456619290114}\n",
        "\n",
        "# Train the cuML SVC model on the GPU\n",
        "cu_svm = cuML_SVC(**params_svm, class_weight='balanced', random_state=42).fit(X_train_cp, y_train_cp)\n",
        "\n",
        "# Make predictions\n",
        "start = time.time()\n",
        "y_pred_cu_svm = cu_svm.predict(X_test_cp)\n",
        "prediction_time_svm = time.time() - start\n",
        "print(f\"Prediction time: {prediction_time_svm:.5f} seconds\")\n",
        "# assess accuracy of the model\n",
        "accuracy(y_test_cp.get(), y_pred_cu_svm.get())\n",
        "\n",
        "# Evaluate the model\n",
        "cu_svm_CM = matrix(y_test_cp.get(), y_pred_cu_svm.get())\n",
        "print(f'Revenue: ${cost_function(y_test_cp.get(), y_pred_cu_svm.get()):.2f}')"
      ]
    },
    {
      "cell_type": "code",
      "execution_count": null,
      "metadata": {
        "colab": {
          "base_uri": "https://localhost:8080/"
        },
        "id": "oPcVQKm8LTER",
        "outputId": "e794259d-69f6-4b92-ae64-6c629728055d"
      },
      "outputs": [
        {
          "data": {
            "text/plain": [
              "['/content/drive/MyDrive/cu_svm.pkl']"
            ]
          },
          "execution_count": 17,
          "metadata": {},
          "output_type": "execute_result"
        }
      ],
      "source": [
        "joblib.dump(cu_svm, '/content/drive/MyDrive/cu_svm.pkl')"
      ]
    },
    {
      "cell_type": "code",
      "execution_count": null,
      "metadata": {
        "colab": {
          "base_uri": "https://localhost:8080/",
          "height": 744
        },
        "id": "W6c8nCyHWnR9",
        "outputId": "a70a5307-a9fa-4df2-ddad-efb89112f30d"
      },
      "outputs": [
        {
          "name": "stdout",
          "output_type": "stream",
          "text": [
            "Prediction time: 0.00078 seconds\n",
            "share of 0`s in the dataset:  12.5%\n",
            "\n",
            "accuracy:  86.4%\n",
            "\n",
            "              precision    recall  f1-score   support\n",
            "\n",
            "           0       0.28      0.06      0.10       475\n",
            "           1       0.88      0.98      0.93      3339\n",
            "\n",
            "    accuracy                           0.86      3814\n",
            "   macro avg       0.58      0.52      0.51      3814\n",
            "weighted avg       0.81      0.86      0.82      3814\n",
            "\n"
          ]
        },
        {
          "data": {
            "image/png": "[encoded data removed]",
            "text/plain": [
              "<Figure size 640x480 with 2 Axes>"
            ]
          },
          "metadata": {},
          "output_type": "display_data"
        },
        {
          "name": "stdout",
          "output_type": "stream",
          "text": [
            "Revenue: $44.40\n"
          ]
        }
      ],
      "source": [
        "# Train the cuML SVC model on the GPU\n",
        "par = {'penalty': 'l1', 'loss': 'hinge', 'fit_intercept': True, 'C': 0.0035970095564506655, 'tol': 0.09661137611779652}\n",
        "\n",
        "lsvm = LinearSVC(**par, class_weight='balanced').fit(X_train_cp, y_train_cp)\n",
        "\n",
        "# Make predictions\n",
        "start = time.time()\n",
        "y_pred_lsvm = lsvm.predict(X_test_cp)\n",
        "prediction_time_lsvm = time.time() - start\n",
        "print(f\"Prediction time: {prediction_time_lsvm:.5f} seconds\")\n",
        "\n",
        "# assess accuracy of the model\n",
        "accuracy(y_test_cp.get(), y_pred_lsvm.get())\n",
        "\n",
        "# Evaluate the model\n",
        "cu_lsvm_CM = matrix(y_test_cp.get(), y_pred_lsvm.get())\n",
        "print(f'Revenue: ${cost_function(y_test_cp.get(), y_pred_lsvm.get()):.2f}')"
      ]
    },
    {
      "cell_type": "code",
      "execution_count": null,
      "metadata": {
        "colab": {
          "base_uri": "https://localhost:8080/"
        },
        "id": "syQGWVdxLebg",
        "outputId": "c93e36c9-4293-4edf-d837-5ad26a826a0c"
      },
      "outputs": [
        {
          "data": {
            "text/plain": [
              "['/content/drive/MyDrive/lsvm.pkl']"
            ]
          },
          "execution_count": 19,
          "metadata": {},
          "output_type": "execute_result"
        }
      ],
      "source": [
        "joblib.dump(lsvm, '/content/drive/MyDrive/lsvm.pkl')"
      ]
    },
    {
      "cell_type": "markdown",
      "metadata": {
        "id": "HT5tpyTb1ILy"
      },
      "source": [
        "#### Random Forest:"
      ]
    },
    {
      "cell_type": "code",
      "execution_count": null,
      "metadata": {
        "colab": {
          "base_uri": "https://localhost:8080/",
          "height": 801
        },
        "id": "PJbWDlpOYVv4",
        "outputId": "7b5a5011-ca3c-4dbf-f5b1-9773afcbe64a"
      },
      "outputs": [
        {
          "name": "stderr",
          "output_type": "stream",
          "text": [
            "/usr/local/lib/python3.11/dist-packages/cuml/internals/api_decorators.py:317: UserWarning: For reproducible results in Random Forest Classifier or for almost reproducible results in Random Forest Regressor, n_streams=1 is recommended. If n_streams is > 1, results may vary due to stream/thread timing differences, even when random_state is set\n",
            "  return init_func(self, *args, **kwargs)\n"
          ]
        },
        {
          "name": "stdout",
          "output_type": "stream",
          "text": [
            "Prediction time: 0.06840 seconds\n",
            "share of 0`s in the dataset:  12.5%\n",
            "\n",
            "accuracy:  87.6%\n",
            "\n",
            "              precision    recall  f1-score   support\n",
            "\n",
            "           0       0.71      0.01      0.02       475\n",
            "           1       0.88      1.00      0.93      3339\n",
            "\n",
            "    accuracy                           0.88      3814\n",
            "   macro avg       0.80      0.50      0.48      3814\n",
            "weighted avg       0.86      0.88      0.82      3814\n",
            "\n"
          ]
        },
        {
          "data": {
            "image/png": "[encoded data removed]",
            "text/plain": [
              "<Figure size 640x480 with 2 Axes>"
            ]
          },
          "metadata": {},
          "output_type": "display_data"
        },
        {
          "name": "stdout",
          "output_type": "stream",
          "text": [
            "Revenue: $43.71\n"
          ]
        }
      ],
      "source": [
        "params_rfc = {'n_estimators': 255, 'split_criterion': 0, 'max_depth': 30, 'max_features': 'sqrt', 'n_bins': 934}\n",
        "\n",
        "\n",
        "# Train\n",
        "rfc_model = cuRFC(**params_rfc, random_state=42).fit(X_train_cudf, y_train_cudf)\n",
        "\n",
        "# Predict\n",
        "start = time.time()\n",
        "y_pred_rfc = rfc_model.predict(X_test_cudf)\n",
        "prediction_time_rfc = time.time() - start\n",
        "print(f\"Prediction time: {prediction_time_rfc:.5f} seconds\")\n",
        "\n",
        "# Evaluate\n",
        "accuracy(y_test_cudf.to_numpy(), y_pred_rfc.to_numpy())\n",
        "cu_rfc_CM = matrix(y_test_cudf.to_numpy(), y_pred_rfc.to_numpy())\n",
        "print(f'Revenue: ${cost_function(y_test_cudf.to_numpy(), y_pred_rfc.to_numpy()):.2f}')"
      ]
    },
    {
      "cell_type": "markdown",
      "metadata": {
        "id": "FMsIrgAvUE1V"
      },
      "source": [
        "## Boosting & Bagging"
      ]
    },
    {
      "cell_type": "markdown",
      "metadata": {
        "id": "Wy6-W3i51RmF"
      },
      "source": [
        "#### AdaBoost:"
      ]
    },
    {
      "cell_type": "code",
      "execution_count": null,
      "metadata": {
        "colab": {
          "base_uri": "https://localhost:8080/",
          "height": 873
        },
        "id": "Z1muurluieZy",
        "outputId": "4b3048ed-e90b-4ef9-fa67-ce4bf72f0d7b"
      },
      "outputs": [
        {
          "name": "stdout",
          "output_type": "stream",
          "text": [
            "Prediction time: 0.04570 seconds\n",
            "share of 0`s in the dataset:  12.5%\n",
            "\n",
            "accuracy:  87.5%\n",
            "\n",
            "              precision    recall  f1-score   support\n",
            "\n",
            "           0       0.00      0.00      0.00       475\n",
            "           1       0.88      1.00      0.93      3339\n",
            "\n",
            "    accuracy                           0.88      3814\n",
            "   macro avg       0.44      0.50      0.47      3814\n",
            "weighted avg       0.77      0.88      0.82      3814\n",
            "\n"
          ]
        },
        {
          "name": "stderr",
          "output_type": "stream",
          "text": [
            "/usr/local/lib/python3.11/dist-packages/sklearn/metrics/_classification.py:1565: UndefinedMetricWarning: Precision is ill-defined and being set to 0.0 in labels with no predicted samples. Use `zero_division` parameter to control this behavior.\n",
            "  _warn_prf(average, modifier, f\"{metric.capitalize()} is\", len(result))\n",
            "/usr/local/lib/python3.11/dist-packages/sklearn/metrics/_classification.py:1565: UndefinedMetricWarning: Precision is ill-defined and being set to 0.0 in labels with no predicted samples. Use `zero_division` parameter to control this behavior.\n",
            "  _warn_prf(average, modifier, f\"{metric.capitalize()} is\", len(result))\n",
            "/usr/local/lib/python3.11/dist-packages/sklearn/metrics/_classification.py:1565: UndefinedMetricWarning: Precision is ill-defined and being set to 0.0 in labels with no predicted samples. Use `zero_division` parameter to control this behavior.\n",
            "  _warn_prf(average, modifier, f\"{metric.capitalize()} is\", len(result))\n"
          ]
        },
        {
          "data": {
            "image/png": "[encoded data removed]",
            "text/plain": [
              "<Figure size 640x480 with 2 Axes>"
            ]
          },
          "metadata": {},
          "output_type": "display_data"
        },
        {
          "name": "stdout",
          "output_type": "stream",
          "text": [
            "Revenue: $43.17\n"
          ]
        }
      ],
      "source": [
        "adaboost_params = {'n_estimators': 79, 'learning_rate': 0.018733261689340367}\n",
        "estimator = None\n",
        "adaboost_model = AdaBoostClassifier(**adaboost_params, estimator = estimator, random_state=0)\n",
        "\n",
        "# Train\n",
        "adaboost_model.fit(X_train, y_train)\n",
        "\n",
        "# Predict\n",
        "start = time.time()\n",
        "y_pred_adaboost = adaboost_model.predict(X_test)\n",
        "prediction_time_adaboost = round(time.time() - start, 5)\n",
        "print(f\"Prediction time: {prediction_time_adaboost:.5f} seconds\")\n",
        "\n",
        "# Evaluate\n",
        "accuracy(y_test, y_pred_adaboost)\n",
        "adaboost_CM = matrix(y_test, y_pred_adaboost)\n",
        "adaboost_model_income = round(cost_function(y_test, y_pred_adaboost), 2)\n",
        "print(f'Revenue: ${adaboost_model_income}')"
      ]
    },
    {
      "cell_type": "markdown",
      "metadata": {
        "id": "9zTXV-Ny1X7s"
      },
      "source": [
        "#### Bagging:"
      ]
    },
    {
      "cell_type": "code",
      "execution_count": null,
      "metadata": {
        "id": "zQxKa8KO0SM0"
      },
      "outputs": [],
      "source": [
        "# Train\n",
        "bagging_model = BaggingClassifier(estimator=SVC(), n_estimators=100, random_state=0).fit(X_train, y_train)\n",
        "\n",
        "# Predict\n",
        "start = time.time()\n",
        "y_pred_bagging = bagging_model.predict(X_test)\n",
        "prediction_time_bagging = time.time() - start\n",
        "print(f\"Prediction time: {prediction_time_bagging:.5f} seconds\")\n",
        "\n",
        "# Evaluate\n",
        "accuracy(y_test, y_pred_bagging)\n",
        "bagging_CM = matrix(y_test, y_pred_bagging)\n",
        "print(f'Revenue: ${cost_function(y_test, y_pred_bagging):.2f}')"
      ]
    },
    {
      "cell_type": "markdown",
      "metadata": {
        "id": "5EJmneNH10YF"
      },
      "source": [
        "#### Gradient Boosting:"
      ]
    },
    {
      "cell_type": "code",
      "execution_count": null,
      "metadata": {
        "colab": {
          "base_uri": "https://localhost:8080/",
          "height": 744
        },
        "id": "PwkxEAuc7jcl",
        "outputId": "6a38f3ca-0367-4f3d-f351-0d36fe64488d"
      },
      "outputs": [
        {
          "name": "stdout",
          "output_type": "stream",
          "text": [
            "Prediction time: 0.03448 seconds\n",
            "share of 0`s in the dataset:  12.5%\n",
            "\n",
            "accuracy:  85.8%\n",
            "\n",
            "              precision    recall  f1-score   support\n",
            "\n",
            "           0       0.19      0.04      0.07       475\n",
            "           1       0.88      0.97      0.92      3339\n",
            "\n",
            "    accuracy                           0.86      3814\n",
            "   macro avg       0.53      0.51      0.50      3814\n",
            "weighted avg       0.79      0.86      0.82      3814\n",
            "\n"
          ]
        },
        {
          "data": {
            "image/png": "[encoded data removed]",
            "text/plain": [
              "<Figure size 640x480 with 2 Axes>"
            ]
          },
          "metadata": {},
          "output_type": "display_data"
        },
        {
          "name": "stdout",
          "output_type": "stream",
          "text": [
            "Revenue: $42.99\n"
          ]
        }
      ],
      "source": [
        "# Train\n",
        "gb_best_params = {'loss': 'exponential', 'learning_rate': 0.45287440634542203, 'n_estimators': 435, 'subsample': 0.7523625470383336, 'criterion': 'friedman_mse', 'min_samples_split': 10, 'min_samples_leaf': 2, 'max_depth': 4, 'min_impurity_decrease': 0.0629793529628721, 'max_features': 'sqrt'}\n",
        "gb = GradientBoostingClassifier(**gb_best_params, random_state=0).fit(X_train, y_train)\n",
        "\n",
        "# Predict\n",
        "start = time.time()\n",
        "y_pred_gb = gb.predict(X_test)\n",
        "prediction_time_gb = round(time.time() - start, 5)\n",
        "print(f\"Prediction time: {prediction_time_gb:.5f} seconds\")\n",
        "\n",
        "# Evaluate\n",
        "accuracy(y_test, y_pred_gb)\n",
        "gb_CM = matrix(y_test, y_pred_gb)\n",
        "gb_income = round(cost_function(y_test, y_pred_gb), 2)\n",
        "print(f'Revenue: ${gb_income}')"
      ]
    },
    {
      "cell_type": "markdown",
      "metadata": {
        "id": "jFqFCE6tc044"
      },
      "source": [
        "Training of the models in this section is very slow (30+ mins), so even in case of good results, it would be of no use in real-life trading"
      ]
    },
    {
      "cell_type": "markdown",
      "metadata": {
        "id": "W3XbA7AbBjGe"
      },
      "source": [
        "## LDA & QDA"
      ]
    },
    {
      "cell_type": "markdown",
      "metadata": {
        "id": "7zQI_oQnHbRC"
      },
      "source": [
        "#### LDA:"
      ]
    },
    {
      "cell_type": "code",
      "execution_count": null,
      "metadata": {
        "colab": {
          "base_uri": "https://localhost:8080/",
          "height": 744
        },
        "id": "YmTx9amDHHSZ",
        "outputId": "89844145-82bb-4e3d-d4ae-29f55b0b82cc"
      },
      "outputs": [
        {
          "name": "stdout",
          "output_type": "stream",
          "text": [
            "Prediction time: 0.02652 seconds\n",
            "share of 0`s in the dataset:  12.5%\n",
            "\n",
            "accuracy:  87.5%\n",
            "\n",
            "              precision    recall  f1-score   support\n",
            "\n",
            "           0       0.45      0.02      0.04       475\n",
            "           1       0.88      1.00      0.93      3339\n",
            "\n",
            "    accuracy                           0.87      3814\n",
            "   macro avg       0.67      0.51      0.49      3814\n",
            "weighted avg       0.82      0.87      0.82      3814\n",
            "\n"
          ]
        },
        {
          "data": {
            "image/png": "[encoded data removed]",
            "text/plain": [
              "<Figure size 640x480 with 2 Axes>"
            ]
          },
          "metadata": {},
          "output_type": "display_data"
        },
        {
          "name": "stdout",
          "output_type": "stream",
          "text": [
            "Revenue: $44.01\n"
          ]
        }
      ],
      "source": [
        "lda_best_params = {'solver': 'lsqr', 'tol': 3.618156325933854e-05, 'shrinkage': 0.75}\n",
        "\n",
        "lda = LinearDiscriminantAnalysis(**lda_best_params).fit(X_train_scaled, y_train)\n",
        "\n",
        "start = time.time()\n",
        "y_pred_lda = lda.predict(X_test_scaled)\n",
        "prediction_time_lda = round(time.time() - start, 5)\n",
        "print(f\"Prediction time: {prediction_time_lda:.5f} seconds\")\n",
        "# assess accuracy of the model\n",
        "accuracy(y_test, y_pred_lda)\n",
        "# Evaluate the model\n",
        "lda_CM = matrix(y_test, y_pred_lda)\n",
        "lda_income = round(cost_function(y_test, y_pred_lda), 2)\n",
        "print(f'Revenue: ${lda_income}')"
      ]
    },
    {
      "cell_type": "code",
      "execution_count": null,
      "metadata": {
        "colab": {
          "base_uri": "https://localhost:8080/"
        },
        "id": "J0KJ659fe1Vx",
        "outputId": "bd9d7d78-b947-4389-cb9a-df79d22f6629"
      },
      "outputs": [
        {
          "name": "stdout",
          "output_type": "stream",
          "text": [
            "Revenue: $44.49\n",
            "Proba: 0.55\n"
          ]
        }
      ],
      "source": [
        "lda_probs = lda.predict_proba(X_test_scaled)[:,1]\n",
        "ranges = np.arange(0.05, 0.95, 0.05)\n",
        "lda_incomes = {}\n",
        "for i in ranges:\n",
        "  lda_predicts = (lda_probs > i).astype(int)\n",
        "  lda_incomes[i]  = round(cost_function(y_test, lda_predicts), 2)\n",
        "lda_income = max(lda_incomes.values())\n",
        "print(f'Revenue: ${lda_income}\\nProba: {max(lda_incomes.keys(), key = lda_incomes.get):.2f}')"
      ]
    },
    {
      "cell_type": "code",
      "execution_count": null,
      "metadata": {
        "colab": {
          "base_uri": "https://localhost:8080/"
        },
        "id": "48I2SvLdokdO",
        "outputId": "2016cd70-7485-4ef9-f0a7-5a0a15691ad2"
      },
      "outputs": [
        {
          "data": {
            "text/plain": [
              "['/content/drive/MyDrive/lda.pkl']"
            ]
          },
          "execution_count": 28,
          "metadata": {},
          "output_type": "execute_result"
        }
      ],
      "source": [
        "joblib.dump(lda, '/content/drive/MyDrive/lda.pkl')"
      ]
    },
    {
      "cell_type": "markdown",
      "metadata": {
        "id": "kkVcf95KHd6U"
      },
      "source": [
        "#### QDA:"
      ]
    },
    {
      "cell_type": "code",
      "execution_count": 219,
      "metadata": {
        "colab": {
          "base_uri": "https://localhost:8080/",
          "height": 744
        },
        "id": "MCgz_PH-KKVb",
        "outputId": "2789c6ae-628c-4179-fba0-b732f2c3e0e2"
      },
      "outputs": [
        {
          "output_type": "stream",
          "name": "stdout",
          "text": [
            "Prediction time: 0.01219 seconds\n",
            "share of 0`s in the dataset:  12.5%\n",
            "\n",
            "accuracy:  85.3%\n",
            "\n",
            "              precision    recall  f1-score   support\n",
            "\n",
            "           0       0.24      0.08      0.12       475\n",
            "           1       0.88      0.96      0.92      3339\n",
            "\n",
            "    accuracy                           0.85      3814\n",
            "   macro avg       0.56      0.52      0.52      3814\n",
            "weighted avg       0.80      0.85      0.82      3814\n",
            "\n"
          ]
        },
        {
          "output_type": "display_data",
          "data": {
            "text/plain": [
              "<Figure size 640x480 with 2 Axes>"
            ],
            "image/png": "[encoded data removed]"
          },
          "metadata": {}
        },
        {
          "output_type": "stream",
          "name": "stdout",
          "text": [
            "Revenue: $44.13\n"
          ]
        }
      ],
      "source": [
        "qda_best_params = {'reg_param': 0.6530087090964536, 'tol': 0.0571014257781193}\n",
        "\n",
        "qda = QuadraticDiscriminantAnalysis(**qda_best_params).fit(X_train_scaled, y_train)\n",
        "\n",
        "start = time.time()\n",
        "y_pred_qda = qda.predict(X_test_scaled)\n",
        "prediction_time_qda = round(time.time() - start, 5)\n",
        "print(f\"Prediction time: {prediction_time_qda:.5f} seconds\")\n",
        "# assess accuracy of the model\n",
        "accuracy(y_test, y_pred_qda)\n",
        "# Evaluate the model\n",
        "qda_CM = matrix(y_test, y_pred_qda)\n",
        "qda_income = round(cost_function(y_test, y_pred_qda), 2)\n",
        "print(f'Revenue: ${qda_income}')"
      ]
    },
    {
      "cell_type": "code",
      "execution_count": 220,
      "metadata": {
        "colab": {
          "base_uri": "https://localhost:8080/"
        },
        "id": "XrZJQEUJe6Eq",
        "outputId": "79fef4d4-576a-4fbb-b956-86e0cf8d183a"
      },
      "outputs": [
        {
          "output_type": "stream",
          "name": "stdout",
          "text": [
            "Revenue: $44.13\n",
            "Proba: 0.50\n"
          ]
        }
      ],
      "source": [
        "qda_probs = qda.predict_proba(X_test_scaled)[:,1]\n",
        "ranges = np.arange(0.05, 0.95, 0.05)\n",
        "qda_incomes = {}\n",
        "for i in ranges:\n",
        "  qda_predicts = (qda_probs > i).astype(int)\n",
        "  qda_incomes[i]  = round(cost_function(y_test, qda_predicts), 2)\n",
        "qda_income = max(qda_incomes.values())\n",
        "print(f'Revenue: ${qda_income}\\nProba: {max(qda_incomes.keys(), key = qda_incomes.get):.2f}')"
      ]
    },
    {
      "cell_type": "code",
      "execution_count": 221,
      "metadata": {
        "colab": {
          "base_uri": "https://localhost:8080/"
        },
        "id": "K8qHtFAVoqpt",
        "outputId": "c3493301-8a34-423c-b834-8eabb239f17e"
      },
      "outputs": [
        {
          "output_type": "execute_result",
          "data": {
            "text/plain": [
              "['/content/drive/MyDrive/qda.pkl']"
            ]
          },
          "metadata": {},
          "execution_count": 221
        }
      ],
      "source": [
        "joblib.dump(qda, '/content/drive/MyDrive/qda.pkl')"
      ]
    },
    {
      "cell_type": "markdown",
      "metadata": {
        "id": "2KCiFf69F1aV"
      },
      "source": [
        "## XGBoost"
      ]
    },
    {
      "cell_type": "markdown",
      "metadata": {
        "id": "V23k-IC9LAXJ"
      },
      "source": [
        "download the package:"
      ]
    },
    {
      "cell_type": "code",
      "execution_count": null,
      "metadata": {
        "colab": {
          "base_uri": "https://localhost:8080/"
        },
        "id": "mhnCoMc3K5ot",
        "outputId": "bb98da0d-6ba3-48ea-a9bf-4181559c53b8"
      },
      "outputs": [
        {
          "name": "stdout",
          "output_type": "stream",
          "text": [
            "Requirement already satisfied: xgboost in /usr/local/lib/python3.11/dist-packages (2.1.4)\n",
            "Requirement already satisfied: numpy in /usr/local/lib/python3.11/dist-packages (from xgboost) (2.0.2)\n",
            "Requirement already satisfied: nvidia-nccl-cu12 in /usr/local/lib/python3.11/dist-packages (from xgboost) (2.21.5)\n",
            "Requirement already satisfied: scipy in /usr/local/lib/python3.11/dist-packages (from xgboost) (1.15.3)\n"
          ]
        }
      ],
      "source": [
        "!pip install xgboost\n",
        "from xgboost import XGBClassifier"
      ]
    },
    {
      "cell_type": "code",
      "execution_count": null,
      "metadata": {
        "colab": {
          "base_uri": "https://localhost:8080/",
          "height": 744
        },
        "id": "MLSbyW-hWtAe",
        "outputId": "2e7a2a25-4faf-4871-f680-e8deaa69f22b"
      },
      "outputs": [
        {
          "name": "stdout",
          "output_type": "stream",
          "text": [
            "Prediction time: 0.03262 seconds\n",
            "share of 0`s in the dataset:  12.5%\n",
            "\n",
            "accuracy:  86.4%\n",
            "\n",
            "              precision    recall  f1-score   support\n",
            "\n",
            "           0       0.20      0.03      0.05       475\n",
            "           1       0.88      0.98      0.93      3339\n",
            "\n",
            "    accuracy                           0.86      3814\n",
            "   macro avg       0.54      0.51      0.49      3814\n",
            "weighted avg       0.79      0.86      0.82      3814\n",
            "\n"
          ]
        },
        {
          "data": {
            "image/png": "[encoded data removed]",
            "text/plain": [
              "<Figure size 640x480 with 2 Axes>"
            ]
          },
          "metadata": {},
          "output_type": "display_data"
        },
        {
          "name": "stdout",
          "output_type": "stream",
          "text": [
            "Revenue: $43.17\n"
          ]
        }
      ],
      "source": [
        "best_params = {'objective': 'binary:hinge', 'eval_metric': 'error', 'n_estimators': 906, 'learning_rate': 0.23405284354449818, 'max_depth': 4, 'max_leaves': 6, 'min_child_weight': 3, 'subsample': 0.9534073606686936, 'colsample_bytree': 0.7202384490985456, 'gamma': 3.5385152020213733, 'reg_alpha': 0.7064225792629669, 'reg_lambda': 0.0014031107520006273}\n",
        "\n",
        "\n",
        "xgb_model = XGBClassifier(n_jobs=-1, **best_params).fit(X_train, y_train)\n",
        "\n",
        "# evaluate on test set\n",
        "start = time.time()\n",
        "y_pred_xgb  = xgb_model.predict(X_test)\n",
        "prediction_time_xgb = round(time.time() - start, 5)\n",
        "print(f\"Prediction time: {prediction_time_xgb:.5f} seconds\")\n",
        "# assess accuracy of the model\n",
        "accuracy(y_test, y_pred_xgb)\n",
        "# show confussion matrix\n",
        "XGB_cm1 = matrix(y_test, y_pred_xgb)\n",
        "xgb_income = round(cost_function(y_test, y_pred_xgb), 2)\n",
        "print(f'Revenue: ${xgb_income}')"
      ]
    },
    {
      "cell_type": "code",
      "execution_count": null,
      "metadata": {
        "colab": {
          "base_uri": "https://localhost:8080/"
        },
        "id": "RwB8PyfhOEOX",
        "outputId": "5d0446f2-a0f4-4e75-d697-08f593d5cf41"
      },
      "outputs": [
        {
          "data": {
            "text/plain": [
              "['/content/drive/MyDrive/xgb_model.pkl']"
            ]
          },
          "execution_count": 34,
          "metadata": {},
          "output_type": "execute_result"
        }
      ],
      "source": [
        "joblib.dump(xgb_model, '/content/drive/MyDrive/xgb_model.pkl')"
      ]
    },
    {
      "cell_type": "markdown",
      "metadata": {
        "id": "P-Bl5fjnssE5"
      },
      "source": [
        "## Deep Learning"
      ]
    },
    {
      "cell_type": "markdown",
      "metadata": {
        "id": "K9VSJ0L2zSys"
      },
      "source": [
        "#### Sklearn's neural network:"
      ]
    },
    {
      "cell_type": "code",
      "execution_count": null,
      "metadata": {
        "colab": {
          "base_uri": "https://localhost:8080/",
          "height": 873
        },
        "id": "QTrW3NR5jw_B",
        "outputId": "0ba6f8ef-bd5a-4b5d-d598-460d02845ab1"
      },
      "outputs": [
        {
          "name": "stdout",
          "output_type": "stream",
          "text": [
            "Prediction time: 0.19323 seconds\n",
            "share of 0`s in the dataset:  12.5%\n",
            "\n",
            "accuracy:  87.5%\n",
            "\n",
            "              precision    recall  f1-score   support\n",
            "\n",
            "           0       0.00      0.00      0.00       475\n",
            "           1       0.88      1.00      0.93      3339\n",
            "\n",
            "    accuracy                           0.88      3814\n",
            "   macro avg       0.44      0.50      0.47      3814\n",
            "weighted avg       0.77      0.88      0.82      3814\n",
            "\n"
          ]
        },
        {
          "name": "stderr",
          "output_type": "stream",
          "text": [
            "/usr/local/lib/python3.11/dist-packages/sklearn/metrics/_classification.py:1565: UndefinedMetricWarning: Precision is ill-defined and being set to 0.0 in labels with no predicted samples. Use `zero_division` parameter to control this behavior.\n",
            "  _warn_prf(average, modifier, f\"{metric.capitalize()} is\", len(result))\n",
            "/usr/local/lib/python3.11/dist-packages/sklearn/metrics/_classification.py:1565: UndefinedMetricWarning: Precision is ill-defined and being set to 0.0 in labels with no predicted samples. Use `zero_division` parameter to control this behavior.\n",
            "  _warn_prf(average, modifier, f\"{metric.capitalize()} is\", len(result))\n",
            "/usr/local/lib/python3.11/dist-packages/sklearn/metrics/_classification.py:1565: UndefinedMetricWarning: Precision is ill-defined and being set to 0.0 in labels with no predicted samples. Use `zero_division` parameter to control this behavior.\n",
            "  _warn_prf(average, modifier, f\"{metric.capitalize()} is\", len(result))\n"
          ]
        },
        {
          "data": {
            "image/png": "[encoded data removed]",
            "text/plain": [
              "<Figure size 640x480 with 2 Axes>"
            ]
          },
          "metadata": {},
          "output_type": "display_data"
        },
        {
          "name": "stdout",
          "output_type": "stream",
          "text": [
            "Revenue: $43.17\n"
          ]
        }
      ],
      "source": [
        "mlp_best_params = {'hidden_layer_sizes': tuple(200 for i in range(10)),\n",
        "'activation': 'tanh',\n",
        "'alpha': 0.07470305318252356,\n",
        "'learning_rate': 'invscaling',\n",
        "'learning_rate_init': 0.0019635502076883293,\n",
        "'tol': 0.013494442669255386}\n",
        "\n",
        "# Train\n",
        "mlp = MLPClassifier(**mlp_best_params).fit(X_train_scaled, y_train)\n",
        "\n",
        "# Predict\n",
        "start = time.time()\n",
        "y_pred_mlp = mlp.predict(X_test_scaled)\n",
        "prediction_time_mlp = round(time.time() - start, 5)\n",
        "print(f\"Prediction time: {prediction_time_mlp:.5f} seconds\")\n",
        "\n",
        "# Evaluate\n",
        "accuracy(y_test, y_pred_mlp)\n",
        "mlp_CM = matrix(y_test, y_pred_mlp)\n",
        "mlp_income = round(cost_function(y_test, y_pred_mlp), 2)\n",
        "print(f'Revenue: ${mlp_income}')"
      ]
    },
    {
      "cell_type": "markdown",
      "metadata": {
        "id": "lQkiYQpZzZ-s"
      },
      "source": [
        "#### Tensorflow:"
      ]
    },
    {
      "cell_type": "code",
      "execution_count": null,
      "metadata": {
        "id": "QbkwEWlr0vjf"
      },
      "outputs": [],
      "source": [
        "import tensorflow as tf\n",
        "import keras\n",
        "from keras.models import Sequential\n",
        "from keras.layers import Dense"
      ]
    },
    {
      "cell_type": "code",
      "execution_count": null,
      "metadata": {
        "colab": {
          "base_uri": "https://localhost:8080/",
          "height": 762
        },
        "id": "ybTLtFtF137u",
        "outputId": "65207a9b-8cfb-4867-fac1-c090f863fd35"
      },
      "outputs": [
        {
          "name": "stdout",
          "output_type": "stream",
          "text": [
            "\u001b[1m120/120\u001b[0m \u001b[32m━━━━━━━━━━━━━━━━━━━━\u001b[0m\u001b[37m\u001b[0m \u001b[1m0s\u001b[0m 2ms/step\n",
            "Prediction time: 0.38920 seconds\n",
            "share of 0`s in the dataset:  12.5%\n",
            "\n",
            "accuracy:  77.6%\n",
            "\n",
            "              precision    recall  f1-score   support\n",
            "\n",
            "           0       0.15      0.17      0.16       475\n",
            "           1       0.88      0.86      0.87      3339\n",
            "\n",
            "    accuracy                           0.78      3814\n",
            "   macro avg       0.51      0.51      0.51      3814\n",
            "weighted avg       0.79      0.78      0.78      3814\n",
            "\n"
          ]
        },
        {
          "data": {
            "image/png": "[encoded data removed]",
            "text/plain": [
              "<Figure size 640x480 with 2 Axes>"
            ]
          },
          "metadata": {},
          "output_type": "display_data"
        },
        {
          "name": "stdout",
          "output_type": "stream",
          "text": [
            "Revenue: $38.91\n"
          ]
        }
      ],
      "source": [
        "nn_model = Sequential()\n",
        "\n",
        "nn_model.add(Dense(units=10,                  # number of units the layer has\n",
        "                activation='sigmoid',        # activation function\n",
        "                 ))\n",
        "nn_model.add(Dense(units=50,\n",
        "                activation='relu',\n",
        "                 ))\n",
        "nn_model.add(Dense(units=100,\n",
        "                activation='tanh',\n",
        "                 ))\n",
        "nn_model.add(Dense(units=100,\n",
        "                activation='relu',\n",
        "                 ))\n",
        "nn_model.add(Dense(units=100,\n",
        "                activation='sigmoid',\n",
        "                 ))\n",
        "nn_model.add(Dense(units=100,\n",
        "                activation='relu',\n",
        "                 ))\n",
        "nn_model.add(Dense(units=100,\n",
        "                activation='tanh',\n",
        "                 ))\n",
        "nn_model.add(Dense(units=100,\n",
        "                activation='relu',\n",
        "                 ))\n",
        "nn_model.add(Dense(units=50,\n",
        "                activation='sigmoid',\n",
        "                 ))\n",
        "nn_model.add(Dense(units=10,\n",
        "                activation='relu',\n",
        "                 ))\n",
        "\n",
        "\n",
        "nn_model.add(Dense(units=1, activation='sigmoid'))\n",
        "\n",
        "nn_model.compile(loss='binary_crossentropy',\n",
        "              optimizer='adam',\n",
        "              metrics=['accuracy'])\n",
        "\n",
        "# Train\n",
        "history = nn_model.fit(X_train_scaled, y_train,\n",
        "                    epochs=1000,\n",
        "                    batch_size=400,\n",
        "                    verbose=0,\n",
        "                   )\n",
        "\n",
        "# Predict\n",
        "start = time.time()\n",
        "y_pred_nn_proba = nn_model.predict(X_test_scaled)\n",
        "y_pred_nn = (y_pred_nn_proba > 0.5).astype(int)\n",
        "prediction_time_nn = round(time.time() - start, 5)\n",
        "print(f\"Prediction time: {prediction_time_nn:.5f} seconds\")\n",
        "\n",
        "# Evaluate\n",
        "accuracy(y_test, y_pred_nn)\n",
        "nn_CM = matrix(y_test, y_pred_nn)\n",
        "nn_income = round(cost_function(y_test, y_pred_nn), 2)\n",
        "print(f'Revenue: ${nn_income}')"
      ]
    },
    {
      "cell_type": "code",
      "execution_count": null,
      "metadata": {
        "colab": {
          "base_uri": "https://localhost:8080/"
        },
        "id": "vS2NRWXRPJUE",
        "outputId": "4003fdd2-1984-434b-84ce-648f97482b09"
      },
      "outputs": [
        {
          "name": "stdout",
          "output_type": "stream",
          "text": [
            "\u001b[1m120/120\u001b[0m \u001b[32m━━━━━━━━━━━━━━━━━━━━\u001b[0m\u001b[37m\u001b[0m \u001b[1m0s\u001b[0m 1ms/step\n",
            "Revenue: $41.07\n",
            "Proba: 0.05\n"
          ]
        }
      ],
      "source": [
        "nn_probs = nn_model.predict(X_test_scaled)\n",
        "ranges = np.arange(0.05, 0.95, 0.05)\n",
        "nn_incomes = {}\n",
        "for i in ranges:\n",
        "  nn_predicts = (nn_probs > i).astype(int)\n",
        "  nn_incomes[i]  = round(cost_function(y_test, nn_predicts), 2)\n",
        "nn_income = max(nn_incomes.values())\n",
        "print(f'Revenue: ${nn_income}\\nProba: {max(nn_incomes.keys(), key = nn_incomes.get):.2f}')"
      ]
    },
    {
      "cell_type": "markdown",
      "metadata": {
        "id": "7mlW7K_c2Qbo"
      },
      "source": [
        "# 3. Hyperparameter tuning"
      ]
    },
    {
      "cell_type": "markdown",
      "metadata": {
        "id": "HEjwDaiTFaGy"
      },
      "source": [
        "The biggest challenge is to pick the right set of parameters as well as the right accuracy metric. We really care about false positives, since we want to minimize our trading losses. So to optimize the loss function, we use values derived in the first part: for each successful trade we earn on average ~ \\$0.03, while each unsuccessul trade costs us \\$0.12"
      ]
    },
    {
      "cell_type": "code",
      "execution_count": null,
      "metadata": {
        "id": "GVKySzDFo8ok"
      },
      "outputs": [],
      "source": [
        "def cost_function(y_true, y_pred):\n",
        "    tn, fp, fn, tp = confusion_matrix(y_true, y_pred).ravel()\n",
        "    return 0.03*tp-0.12*fp"
      ]
    },
    {
      "cell_type": "code",
      "source": [
        "def objective_logistic(trial):\n",
        "    # Define hyperparameters to tune\n",
        "\n",
        "    params = {\n",
        "        'penalty': trial.suggest_categorical('penalty', ['l1','l2']),\n",
        "        'tol': trial.suggest_float(\"tol\", 1e-5, 1e-1, log = True),\n",
        "        'C': trial.suggest_float(\"C\", 1e-3, 100),\n",
        "    }\n",
        "\n",
        "    # Create the model with suggested hyperparameters\n",
        "    model = LogisticRegression(**params, class_weight='balanced', solver = \"saga\", max_iter = 10000, n_jobs = -1, random_state=42)\n",
        "\n",
        "    # Train the model\n",
        "    model.fit(X_train_scaled, y_train)\n",
        "\n",
        "    # Evaluate the model\n",
        "    y_pred = model.predict(X_test_scaled)\n",
        "    metric_value = cost_function(y_test, y_pred)\n",
        "\n",
        "    return metric_value\n",
        "\n",
        "# Create and run the Optuna study\n",
        "study_logistic = optuna.create_study(direction=\"maximize\")\n",
        "study_logistic.optimize(objective_logistic, n_trials=100, show_progress_bar=True)\n",
        "\n",
        "study_logistic.best_params"
      ],
      "metadata": {
        "id": "vn6xSY2f_bWn"
      },
      "execution_count": null,
      "outputs": []
    },
    {
      "cell_type": "code",
      "execution_count": null,
      "metadata": {
        "id": "RkemBmJN47-v"
      },
      "outputs": [],
      "source": [
        "def objective_ridge(trial):\n",
        "    # Define hyperparameters to tune\n",
        "\n",
        "    params = {\n",
        "        'alpha': trial.suggest_float(\"alpha\", 0.01, 100),\n",
        "        'tol': trial.suggest_float(\"tol\", 1e-4, 1e-1),\n",
        "        'positive': trial.suggest_categorical('positive', [True, False])\n",
        "      }\n",
        "\n",
        "    # Create the XGBoost model with suggested hyperparameters\n",
        "    model = RidgeClassifier(**params, class_weight='balanced', random_state=42)\n",
        "\n",
        "    # Train the model\n",
        "    model.fit(X_train_scaled, y_train)\n",
        "\n",
        "    # Evaluate the model\n",
        "    y_pred = model.predict(X_test_scaled)\n",
        "    metric_value = cost_function(y_test, y_pred)\n",
        "\n",
        "    return metric_value\n",
        "\n",
        "# Create and run the Optuna study\n",
        "study_ridge = optuna.create_study(direction=\"maximize\")\n",
        "study_ridge.optimize(objective_ridge, n_trials=250, show_progress_bar=True)\n",
        "\n",
        "study_ridge.best_params"
      ]
    },
    {
      "cell_type": "code",
      "execution_count": null,
      "metadata": {
        "id": "H0Qschdx49Vn"
      },
      "outputs": [],
      "source": [
        "def objective_sgd(trial):\n",
        "    # Define hyperparameters to tune\n",
        "\n",
        "    params = {\n",
        "        'solver': trial.suggest_categorical(\"solver\", [\"hinge\", \"log_loss\", \"squared_hinge\", \"modified_huber\", \"perceptron\", 'squared_error', 'huber', 'epsilon_insensitive', 'squared_epsilon_insensitive']),\n",
        "        'penalty': trial.suggest_categorical(\"penalty\", [\"l2\", \"l1\", \"elasticnet\", None]),\n",
        "        'alpha': trial.suggest_float(\"alpha\", 1e-5, 100),\n",
        "        'l1_ratio': trial.suggest_float(\"l1_ratio\", 0.0, 1.0),\n",
        "        'tol': trial.suggest_float(\"tol\", 1e-5, 1e-1),\n",
        "        'learning_rate': trial.suggest_categorical(\"learning_rate\", [\"constant\", \"optimal\", \"invscaling\", \"adaptive\"]),\n",
        "        'power_t': trial.suggest_float(\"power_t\", -10, 10),\n",
        "        'average' : trial.suggest_categorical(\"average\", [False, True])\n",
        "\n",
        "    }\n",
        "\n",
        "    params['eta0'] = trial.suggest_float(\"eta0\", 0, 10) if params['learning_rate'] in (\"constant\", \"invscaling\", \"adaptive\") else 0.0\n",
        "    params['epsilon'] = trial.suggest_float(\"epsilon\", 0, 10) if params['loss'] in ('huber', 'epsilon_insensitive', 'squared_epsilon_insensitive') else 0.0\n",
        "\n",
        "    # Create the model with suggested hyperparameters\n",
        "    model = SGDClassifier(**params, class_weight='balanced', max_iter = 10000, random_state=42, n_jobs=-1)\n",
        "\n",
        "    # Train the model\n",
        "    model.fit(X_train_scaled, y_train)\n",
        "\n",
        "    # Evaluate the model\n",
        "    y_pred = model.predict(X_test_scaled)\n",
        "    metric_value = cost_function(y_test, y_pred)\n",
        "\n",
        "    return metric_value\n",
        "\n",
        "# Create and run the Optuna study\n",
        "study_sgd = optuna.create_study(direction=\"maximize\")\n",
        "study_sgd.optimize(objective_sgd, n_trials=1000, show_progress_bar=True)\n",
        "\n",
        "study_sgd.best_params"
      ]
    },
    {
      "cell_type": "code",
      "execution_count": null,
      "metadata": {
        "id": "ZOfNjecp4-gw"
      },
      "outputs": [],
      "source": [
        "def objective_pac(trial):\n",
        "    # Define hyperparameters to tune\n",
        "\n",
        "    params = {\n",
        "        'loss': trial.suggest_categorical(\"loss\", [\"hinge\", \"squared_hinge\"]),\n",
        "        'C': trial.suggest_float(\"C\", 1e-5, 10),\n",
        "        'tol': trial.suggest_float(\"tol\", 1e-5, 1)\n",
        "    }\n",
        "\n",
        "    # Create the model with suggested hyperparameters\n",
        "    model = PassiveAggressiveClassifier(**params, class_weight='balanced', max_iter=10000, random_state=42, n_jobs=-1)\n",
        "\n",
        "    # Train the model\n",
        "    model.fit(X_train_scaled, y_train)\n",
        "\n",
        "    # Evaluate the model\n",
        "    y_pred = model.predict(X_test_scaled)\n",
        "    metric_value = cost_function(y_test, y_pred)\n",
        "\n",
        "    return metric_value\n",
        "\n",
        "# Create and run the Optuna study\n",
        "study_pac = optuna.create_study(direction=\"maximize\")\n",
        "study_pac.optimize(objective_pac, n_trials=1000, show_progress_bar=True)\n",
        "\n",
        "study_pac.best_params"
      ]
    },
    {
      "cell_type": "code",
      "execution_count": null,
      "metadata": {
        "id": "mq8OGZvg4_sQ"
      },
      "outputs": [],
      "source": [
        "def objective_SVM(trial):\n",
        "\n",
        "    # Define hyperparameters to tune\n",
        "    params = {\n",
        "        'kernel': trial.suggest_categorical(\"kernel\", ['poly', 'rbf', 'sigmoid']),\n",
        "        'C': trial.suggest_float(\"C\", 1e-5, 10),\n",
        "        'degree': trial.suggest_int(\"degree\", 1, 5),\n",
        "        'tol': trial.suggest_float(\"tol\", 1e-5, 1e-1),\n",
        "        'gamma': trial.suggest_categorical(\"gamma\", ['scale', 'auto']),\n",
        "        'coef0': trial.suggest_float(\"coef0\", -5, 5)\n",
        "    }\n",
        "\n",
        "    # Create the model with suggested hyperparameters\n",
        "    model = cuML_SVC(**params, class_weight='balanced', random_state=42)\n",
        "\n",
        "    # Train the model\n",
        "    model.fit(X_train_cp, y_train_cp)\n",
        "\n",
        "    # Predict\n",
        "    y_pred = model.predict(X_test_cp)\n",
        "    metric_value = cost_function(y_test_cp.get(), y_pred.get())\n",
        "\n",
        "    return metric_value\n",
        "\n",
        "# Create and run the Optuna study\n",
        "study_svm = optuna.create_study(direction=\"maximize\")\n",
        "study_svm.optimize(objective_SVM, n_trials=1000, show_progress_bar=True)\n",
        "\n",
        "study_svm.best_params"
      ]
    },
    {
      "cell_type": "code",
      "execution_count": null,
      "metadata": {
        "id": "kamINoDp5BCE"
      },
      "outputs": [],
      "source": [
        "def objective_lSVM(trial):\n",
        "    params = {\n",
        "        'penalty': trial.suggest_categorical(\"penalty\", ['l1', 'l2']),\n",
        "        'loss': trial.suggest_categorical(\"loss\", ['squared_hinge', 'hinge']),\n",
        "        'fit_intercept': trial.suggest_categorical(\"fit_intercept\", [True, False]),\n",
        "        'C': trial.suggest_float(\"C\", 1e-5, 10.0, log=True),\n",
        "        'tol': trial.suggest_float(\"tol\", 1e-6, 1e-1)\n",
        "    }\n",
        "\n",
        "    model = LinearSVC(**params, class_weight='balanced', max_iter = 10000)\n",
        "    model.fit(X_train_cp, y_train_cp)\n",
        "\n",
        "    y_pred = model.predict(X_test_cp)\n",
        "    score = cost_function(y_test_cp.get(), y_pred.get())\n",
        "\n",
        "    return score\n",
        "\n",
        "# Run Optuna study\n",
        "study_lsvm = optuna.create_study(direction=\"maximize\")\n",
        "study_lsvm.optimize(objective_lSVM, n_trials=1000, show_progress_bar=True)\n",
        "\n",
        "print(study_lsvm.best_params)"
      ]
    },
    {
      "cell_type": "code",
      "execution_count": null,
      "metadata": {
        "id": "XYJPxpK95CUC"
      },
      "outputs": [],
      "source": [
        "def objective_rfc(trial):\n",
        "    params = {\n",
        "        \"n_estimators\":          trial.suggest_int(   \"n_estimators\",    50,   5000),\n",
        "        \"split_criterion\":       trial.suggest_categorical(\n",
        "                                    \"split_criterion\", [0, 1]  # 0='gini', 1='entropy'\n",
        "                                ),\n",
        "        \"max_depth\":             trial.suggest_int(   \"max_depth\",      5,   50),\n",
        "        \"max_features\":          trial.suggest_categorical(\n",
        "                                    \"max_features\",  [\"sqrt\", \"log2\"]\n",
        "                                ),\n",
        "        \"n_bins\":                trial.suggest_int(   \"n_bins\",        128, 1024)\n",
        "    }\n",
        "\n",
        "    model = cuRFC(**params, random_state=42, n_streams=1)\n",
        "    model.fit(X_train_cudf, y_train_cudf)\n",
        "\n",
        "    y_pred = model.predict(X_test_cudf)\n",
        "    score = cost_function(y_test_cudf.to_numpy(), y_pred.to_numpy())\n",
        "\n",
        "\n",
        "    return score\n",
        "\n",
        "# Run Optuna study\n",
        "study_rfc = optuna.create_study(direction=\"maximize\")\n",
        "study_rfc.optimize(objective_rfc, n_trials=1000, show_progress_bar=True)\n",
        "\n",
        "print(study_rfc.best_params)"
      ]
    },
    {
      "cell_type": "code",
      "execution_count": null,
      "metadata": {
        "id": "awbKsuYv5Dls"
      },
      "outputs": [],
      "source": [
        "def objective_adaboost(trial):\n",
        "    # Define hyperparameters to tune\n",
        "\n",
        "    params = {\n",
        "        'estimator':             trial.suggest_categorical(\"estimator\", [None, 'DecisionTreeClassifier', 'ExtraTreeClassifier']),\n",
        "        'n_estimators':          trial.suggest_int(\"n_estimators\", 50, 250),\n",
        "        \"learning_rate\":         trial.suggest_float(\"learning_rate\", 0.01, 5, log = True)\n",
        "    }\n",
        "\n",
        "    if params['estimator'] == 'DecisionTreeClassifier':\n",
        "          weak_params = {'criterion':             trial.suggest_categorical(\"criterion\", ['gini', 'entropy', 'log_loss'])}\n",
        "          max_depth_t = trial.suggest_categorical(\"max_depth_t\", ['None', 'NotNone'])\n",
        "          weak_params['max_depth'] = None if max_depth_t == 'None' else trial.suggest_int(\"max_depth\", 50, 250)\n",
        "          params['estimator'] = DecisionTreeClassifier(**weak_params, random_state = 42, class_weight=\"balanced\")\n",
        "\n",
        "    if params['estimator'] == 'ExtraTreeClassifier':\n",
        "          weak_params = {\n",
        "            'criterion':             trial.suggest_categorical(\"criterion\", ['gini', 'entropy', 'log_loss']),\n",
        "            'max_features':          trial.suggest_categorical(\"max_features\", [None, 'sqrt', 'log2'])\n",
        "            }\n",
        "          max_depth_t = trial.suggest_categorical(\"max_depth_t\", ['None', 'NotNone'])\n",
        "          weak_params['max_depth'] = None if max_depth_t == 'None' else trial.suggest_int(\"max_depth\", 50, 250)\n",
        "          params['estimator'] = ExtraTreeClassifier(**weak_params, random_state = 42, class_weight=\"balanced\")\n",
        "\n",
        "    # Create the model with suggested hyperparameters\n",
        "    model = AdaBoostClassifier(**params, random_state=42)\n",
        "\n",
        "    # Train the model\n",
        "    model.fit(X_train, y_train)\n",
        "\n",
        "    # Evaluate the model\n",
        "    y_pred = model.predict(X_test)\n",
        "    metric_value = cost_function(y_test, y_pred)\n",
        "\n",
        "    return metric_value\n",
        "\n",
        "# Create and run the Optuna study\n",
        "study_adaboost = optuna.create_study(direction=\"maximize\")\n",
        "study_adaboost.optimize(objective_adaboost, n_trials=150, show_progress_bar=True)\n",
        "\n",
        "study_adaboost.best_params"
      ]
    },
    {
      "cell_type": "code",
      "execution_count": null,
      "metadata": {
        "id": "renoDXKW5E02"
      },
      "outputs": [],
      "source": [
        "def objective_gb(trial):\n",
        "    # 1) sample hyperparameters\n",
        "    params = {\n",
        "        \"loss\":                    trial.suggest_categorical(\"loss\", [\"log_loss\", \"exponential\"]),\n",
        "        \"learning_rate\":           trial.suggest_float(\"learning_rate\", 1e-3, 1.0, log = True),\n",
        "        \"n_estimators\":            trial.suggest_int(\"n_estimators\", 50, 500),\n",
        "        \"subsample\":               trial.suggest_float(\"subsample\", 0.5, 1.0),\n",
        "        \"criterion\":               trial.suggest_categorical(\"criterion\", [\"friedman_mse\", \"squared_error\"]),\n",
        "        \"min_samples_split\":       trial.suggest_int(\"min_samples_split\", 2, 20),\n",
        "        \"min_samples_leaf\":        trial.suggest_int(\"min_samples_leaf\", 1, 20),\n",
        "        \"max_depth\":               trial.suggest_int(\"max_depth\", 1, 10),\n",
        "        \"min_impurity_decrease\":   trial.suggest_float(\"min_impurity_decrease\", 0.0, 1e-1),\n",
        "        \"max_features\":            trial.suggest_categorical(\"max_features\", [None, \"sqrt\", \"log2\"]),\n",
        "        \"random_state\":            42\n",
        "    }\n",
        "\n",
        "    clf = GradientBoostingClassifier(**params)\n",
        "\n",
        "    # Train the model\n",
        "    clf.fit(X_train, y_train)\n",
        "\n",
        "    # Evaluate the model\n",
        "    y_pred = clf.predict(X_test)\n",
        "    metric_value = cost_function(y_test, y_pred)\n",
        "\n",
        "    return metric_value\n",
        "\n",
        "# 3) run Optuna\n",
        "study_gb = optuna.create_study(direction=\"maximize\")\n",
        "study_gb.optimize(objective_gb, n_trials=100, show_progress_bar=True)\n",
        "study_gb.best_params"
      ]
    },
    {
      "cell_type": "code",
      "execution_count": null,
      "metadata": {
        "id": "LJL1Ig3fwi02"
      },
      "outputs": [],
      "source": [
        "def objective_lda(trial):\n",
        "\n",
        "    solver = trial.suggest_categorical(\"solver\", [\"svd\", \"lsqr\", \"eigen\"])\n",
        "    tol = trial.suggest_float(\"tol\", 1e-6, 1e-1, log = True)\n",
        "    if solver != \"svd\":\n",
        "      shrinkage = trial.suggest_categorical(\"shrinkage\", [None, \"auto\", 0.1, 0.25, 0.5, 0.75, 0.99])\n",
        "      # build the model\n",
        "      clf = LinearDiscriminantAnalysis(\n",
        "          solver=solver,\n",
        "          shrinkage=shrinkage,\n",
        "          tol=tol\n",
        "      )\n",
        "    else:\n",
        "      clf = LinearDiscriminantAnalysis(\n",
        "          solver=solver,\n",
        "          tol=tol\n",
        "      )\n",
        "\n",
        "\n",
        "    # Train the model\n",
        "    try:\n",
        "      clf.fit(X_train_scaled, y_train)\n",
        "\n",
        "      # Evaluate the model\n",
        "      y_pred = clf.predict(X_test_scaled)\n",
        "      metric_value = cost_function(y_test, y_pred)\n",
        "    except: metric_value = 0\n",
        "    return metric_value\n",
        "\n",
        "\n",
        "study_lda = optuna.create_study(direction=\"maximize\")\n",
        "study_lda.optimize(objective_lda, n_trials=1000, show_progress_bar=True)\n",
        "study_lda.best_params"
      ]
    },
    {
      "cell_type": "code",
      "source": [
        "def objective_qda(trial):\n",
        "    # 1) Suggest QDA hyperparameters\n",
        "    reg_param = trial.suggest_float(\"reg_param\", 0.0, 1)\n",
        "    tol        = trial.suggest_float(\"tol\", 1e-6, 1e-1, log=True)\n",
        "\n",
        "    # 2) Build the model\n",
        "    clf = QuadraticDiscriminantAnalysis(\n",
        "        reg_param=reg_param,\n",
        "        tol=tol\n",
        "    )\n",
        "\n",
        "    clf.fit(X_train_scaled, y_train)\n",
        "\n",
        "    # Evaluate the model\n",
        "    y_pred = clf.predict(X_test_scaled)\n",
        "    metric_value = cost_function(y_test, y_pred)\n",
        "\n",
        "    return metric_value\n",
        "\n",
        "# 4) Run the study\n",
        "study_qda = optuna.create_study(direction=\"maximize\")\n",
        "study_qda.optimize(objective_qda, n_trials=250, show_progress_bar=True)\n",
        "study_qda.best_params"
      ],
      "metadata": {
        "id": "9XhDNWLymde4"
      },
      "execution_count": null,
      "outputs": []
    },
    {
      "cell_type": "code",
      "execution_count": null,
      "metadata": {
        "id": "PWtAWx8l5IMF"
      },
      "outputs": [],
      "source": [
        "def objective_xgb(trial):\n",
        "    # Define hyperparameters to tune\n",
        "    params = {\n",
        "        \"objective\": trial.suggest_categorical(\"objective\", [\"binary:hinge\", \"binary:logistic\"]),\n",
        "        \"eval_metric\": trial.suggest_categorical(\"eval_metric\", [\"error\", \"auc\"]),\n",
        "        \"random_state\": 42,\n",
        "        \"n_jobs\": -1,\n",
        "        \"n_estimators\": trial.suggest_int(\"n_estimators\", 100, 1000),\n",
        "        \"learning_rate\": trial.suggest_float(\"learning_rate\", 0.01, 1, log=True),\n",
        "        \"max_depth\": trial.suggest_int(\"max_depth\", 2, 10),\n",
        "        'max_leaves': trial.suggest_int(\"max_leaves\", 0, 10),\n",
        "        'min_child_weight': trial.suggest_int(\"min_child_weight\", 0, 5),\n",
        "        \"subsample\": trial.suggest_float(\"subsample\", 0.5, 1.0),\n",
        "        \"colsample_bytree\": trial.suggest_float(\"colsample_bytree\", 0.5, 1.0),\n",
        "        \"gamma\": trial.suggest_float(\"gamma\", 0, 5),\n",
        "        \"reg_alpha\": trial.suggest_float(\"reg_alpha\", 1e-4, 1.0, log=True),\n",
        "        \"reg_lambda\": trial.suggest_float(\"reg_lambda\", 1e-4, 1.0, log=True),\n",
        "    }\n",
        "\n",
        "    # Create the XGBoost model with suggested hyperparameters\n",
        "    model = XGBClassifier(**params)\n",
        "\n",
        "    # Train the model\n",
        "    model.fit(X_train_scaled, y_train)\n",
        "\n",
        "    # Evaluate the model\n",
        "    y_pred = model.predict(X_test_scaled)\n",
        "    metric_value = cost_function(y_test, y_pred)\n",
        "\n",
        "    return metric_value\n",
        "\n",
        "# Create and run the Optuna study\n",
        "study_xgb = optuna.create_study(direction=\"maximize\")\n",
        "study_xgb.optimize(objective_xgb, n_trials=1000, show_progress_bar=True)\n",
        "\n",
        "study_xgb.best_params"
      ]
    },
    {
      "cell_type": "code",
      "execution_count": null,
      "metadata": {
        "id": "gEq1gVca5JXL"
      },
      "outputs": [],
      "source": [
        "def objective_mlp(trial):\n",
        "\n",
        "    n_layers = 11\n",
        "    hidden_layer_sizes = tuple(\n",
        "        trial.suggest_int(f\"n_units_l{i}\", 32, 256)\n",
        "        for i in range(n_layers - 2)\n",
        "    )\n",
        "    activation          = trial.suggest_categorical(\"activation\", [\"identity\",\"logistic\",\"tanh\",\"relu\"])\n",
        "    alpha               = trial.suggest_float(\"alpha\", 1e-6, 1e-1)\n",
        "    learning_rate       = trial.suggest_categorical(\"learning_rate\", [\"constant\",\"invscaling\",\"adaptive\"])\n",
        "    learning_rate_init  = trial.suggest_float(\"learning_rate_init\", 1e-5, 1e-1)\n",
        "    tol                 = trial.suggest_float(\"tol\", 1e-5, 1e-1)\n",
        "\n",
        "\n",
        "    model = MLPClassifier(\n",
        "            hidden_layer_sizes=hidden_layer_sizes,\n",
        "            activation=activation,\n",
        "            alpha=alpha,\n",
        "            learning_rate=learning_rate,\n",
        "            learning_rate_init=learning_rate_init,\n",
        "            tol=tol,\n",
        "            max_iter= 10000,\n",
        "            random_state=42)\n",
        "\n",
        "    # Train the model\n",
        "    model.fit(X_train_scaled, y_train)\n",
        "\n",
        "    # Evaluate the model\n",
        "    y_pred = model.predict(X_test_scaled)\n",
        "    metric_value = cost_function(y_test, y_pred)\n",
        "\n",
        "    return metric_value\n",
        "\n",
        "# 4) Run the study\n",
        "study_mlp = optuna.create_study(direction=\"maximize\")\n",
        "study_mlp.optimize(objective_mlp, n_trials=100, show_progress_bar=True)\n",
        "study_mlp.best_params"
      ]
    },
    {
      "cell_type": "markdown",
      "metadata": {
        "id": "o6uD-PzdQVH9"
      },
      "source": [
        "# 4. Backtesting"
      ]
    },
    {
      "cell_type": "code",
      "execution_count": 222,
      "metadata": {
        "colab": {
          "base_uri": "https://localhost:8080/",
          "height": 112
        },
        "id": "cakqQs1SN1pp",
        "outputId": "1c52e2e9-884b-4bdc-a4a5-2a8515f89642"
      },
      "outputs": [
        {
          "output_type": "execute_result",
          "data": {
            "text/plain": [
              "              Ideal  Naive    Logit    Ridge       SGD       PAC  SVM (A100)  \\\n",
              "income       100.17  43.17  35.4900  34.8600  43.08000  38.19000    44.22000   \n",
              "performance     NaN    NaN   0.0015   0.0252   0.01404   0.00108     0.00599   \n",
              "\n",
              "             linear SVM (A100)  Random Forest (A100)  AdaBoost  \\\n",
              "income                44.40000               43.7100   43.1700   \n",
              "performance            0.00078                0.0684    0.0457   \n",
              "\n",
              "             GradientBoosting       LDA       QDA   XGBoost  sklearn NN  \\\n",
              "income               42.99000  44.49000  44.13000  43.17000    43.17000   \n",
              "performance           0.03448   0.02652   0.01219   0.03262     0.19323   \n",
              "\n",
              "             tensorflow NN  \n",
              "income             41.0700  \n",
              "performance         0.3892  "
            ],
            "text/html": [
              "\n",
              "  <div id=\"df-8f88f390-1721-423d-9e67-eb97dcf5a2dd\" class=\"colab-df-container\">\n",
              "    <div>\n",
              "<style scoped>\n",
              "    .dataframe tbody tr th:only-of-type {\n",
              "        vertical-align: middle;\n",
              "    }\n",
              "\n",
              "    .dataframe tbody tr th {\n",
              "        vertical-align: top;\n",
              "    }\n",
              "\n",
              "    .dataframe thead th {\n",
              "        text-align: right;\n",
              "    }\n",
              "</style>\n",
              "<table border=\"1\" class=\"dataframe\">\n",
              "  <thead>\n",
              "    <tr style=\"text-align: right;\">\n",
              "      <th></th>\n",
              "      <th>Ideal</th>\n",
              "      <th>Naive</th>\n",
              "      <th>Logit</th>\n",
              "      <th>Ridge</th>\n",
              "      <th>SGD</th>\n",
              "      <th>PAC</th>\n",
              "      <th>SVM (A100)</th>\n",
              "      <th>linear SVM (A100)</th>\n",
              "      <th>Random Forest (A100)</th>\n",
              "      <th>AdaBoost</th>\n",
              "      <th>GradientBoosting</th>\n",
              "      <th>LDA</th>\n",
              "      <th>QDA</th>\n",
              "      <th>XGBoost</th>\n",
              "      <th>sklearn NN</th>\n",
              "      <th>tensorflow NN</th>\n",
              "    </tr>\n",
              "  </thead>\n",
              "  <tbody>\n",
              "    <tr>\n",
              "      <th>income</th>\n",
              "      <td>100.17</td>\n",
              "      <td>43.17</td>\n",
              "      <td>35.4900</td>\n",
              "      <td>34.8600</td>\n",
              "      <td>43.08000</td>\n",
              "      <td>38.19000</td>\n",
              "      <td>44.22000</td>\n",
              "      <td>44.40000</td>\n",
              "      <td>43.7100</td>\n",
              "      <td>43.1700</td>\n",
              "      <td>42.99000</td>\n",
              "      <td>44.49000</td>\n",
              "      <td>44.13000</td>\n",
              "      <td>43.17000</td>\n",
              "      <td>43.17000</td>\n",
              "      <td>41.0700</td>\n",
              "    </tr>\n",
              "    <tr>\n",
              "      <th>performance</th>\n",
              "      <td>NaN</td>\n",
              "      <td>NaN</td>\n",
              "      <td>0.0015</td>\n",
              "      <td>0.0252</td>\n",
              "      <td>0.01404</td>\n",
              "      <td>0.00108</td>\n",
              "      <td>0.00599</td>\n",
              "      <td>0.00078</td>\n",
              "      <td>0.0684</td>\n",
              "      <td>0.0457</td>\n",
              "      <td>0.03448</td>\n",
              "      <td>0.02652</td>\n",
              "      <td>0.01219</td>\n",
              "      <td>0.03262</td>\n",
              "      <td>0.19323</td>\n",
              "      <td>0.3892</td>\n",
              "    </tr>\n",
              "  </tbody>\n",
              "</table>\n",
              "</div>\n",
              "    <div class=\"colab-df-buttons\">\n",
              "\n",
              "  <div class=\"colab-df-container\">\n",
              "    <button class=\"colab-df-convert\" onclick=\"convertToInteractive('df-8f88f390-1721-423d-9e67-eb97dcf5a2dd')\"\n",
              "            title=\"Convert this dataframe to an interactive table.\"\n",
              "            style=\"display:none;\">\n",
              "\n",
              "  <svg xmlns=\"http://www.w3.org/2000/svg\" height=\"24px\" viewBox=\"0 -960 960 960\">\n",
              "    <path d=\"M120-120v-720h720v720H120Zm60-500h600v-160H180v160Zm220 220h160v-160H400v160Zm0 220h160v-160H400v160ZM180-400h160v-160H180v160Zm440 0h160v-160H620v160ZM180-180h160v-160H180v160Zm440 0h160v-160H620v160Z\"/>\n",
              "  </svg>\n",
              "    </button>\n",
              "\n",
              "  <style>\n",
              "    .colab-df-container {\n",
              "      display:flex;\n",
              "      gap: 12px;\n",
              "    }\n",
              "\n",
              "    .colab-df-convert {\n",
              "      background-color: #E8F0FE;\n",
              "      border: none;\n",
              "      border-radius: 50%;\n",
              "      cursor: pointer;\n",
              "      display: none;\n",
              "      fill: #1967D2;\n",
              "      height: 32px;\n",
              "      padding: 0 0 0 0;\n",
              "      width: 32px;\n",
              "    }\n",
              "\n",
              "    .colab-df-convert:hover {\n",
              "      background-color: #E2EBFA;\n",
              "      box-shadow: 0px 1px 2px rgba(60, 64, 67, 0.3), 0px 1px 3px 1px rgba(60, 64, 67, 0.15);\n",
              "      fill: #174EA6;\n",
              "    }\n",
              "\n",
              "    .colab-df-buttons div {\n",
              "      margin-bottom: 4px;\n",
              "    }\n",
              "\n",
              "    [theme=dark] .colab-df-convert {\n",
              "      background-color: #3B4455;\n",
              "      fill: #D2E3FC;\n",
              "    }\n",
              "\n",
              "    [theme=dark] .colab-df-convert:hover {\n",
              "      background-color: #434B5C;\n",
              "      box-shadow: 0px 1px 3px 1px rgba(0, 0, 0, 0.15);\n",
              "      filter: drop-shadow(0px 1px 2px rgba(0, 0, 0, 0.3));\n",
              "      fill: #FFFFFF;\n",
              "    }\n",
              "  </style>\n",
              "\n",
              "    <script>\n",
              "      const buttonEl =\n",
              "        document.querySelector('#df-8f88f390-1721-423d-9e67-eb97dcf5a2dd button.colab-df-convert');\n",
              "      buttonEl.style.display =\n",
              "        google.colab.kernel.accessAllowed ? 'block' : 'none';\n",
              "\n",
              "      async function convertToInteractive(key) {\n",
              "        const element = document.querySelector('#df-8f88f390-1721-423d-9e67-eb97dcf5a2dd');\n",
              "        const dataTable =\n",
              "          await google.colab.kernel.invokeFunction('convertToInteractive',\n",
              "                                                    [key], {});\n",
              "        if (!dataTable) return;\n",
              "\n",
              "        const docLinkHtml = 'Like what you see? Visit the ' +\n",
              "          '<a target=\"_blank\" href=https://colab.research.google.com/notebooks/data_table.ipynb>data table notebook</a>'\n",
              "          + ' to learn more about interactive tables.';\n",
              "        element.innerHTML = '';\n",
              "        dataTable['output_type'] = 'display_data';\n",
              "        await google.colab.output.renderOutput(dataTable, element);\n",
              "        const docLink = document.createElement('div');\n",
              "        docLink.innerHTML = docLinkHtml;\n",
              "        element.appendChild(docLink);\n",
              "      }\n",
              "    </script>\n",
              "  </div>\n",
              "\n",
              "\n",
              "    <div id=\"df-5177d7a4-fa48-4820-8495-e7cb462e43b1\">\n",
              "      <button class=\"colab-df-quickchart\" onclick=\"quickchart('df-5177d7a4-fa48-4820-8495-e7cb462e43b1')\"\n",
              "                title=\"Suggest charts\"\n",
              "                style=\"display:none;\">\n",
              "\n",
              "<svg xmlns=\"http://www.w3.org/2000/svg\" height=\"24px\"viewBox=\"0 0 24 24\"\n",
              "     width=\"24px\">\n",
              "    <g>\n",
              "        <path d=\"M19 3H5c-1.1 0-2 .9-2 2v14c0 1.1.9 2 2 2h14c1.1 0 2-.9 2-2V5c0-1.1-.9-2-2-2zM9 17H7v-7h2v7zm4 0h-2V7h2v10zm4 0h-2v-4h2v4z\"/>\n",
              "    </g>\n",
              "</svg>\n",
              "      </button>\n",
              "\n",
              "<style>\n",
              "  .colab-df-quickchart {\n",
              "      --bg-color: #E8F0FE;\n",
              "      --fill-color: #1967D2;\n",
              "      --hover-bg-color: #E2EBFA;\n",
              "      --hover-fill-color: #174EA6;\n",
              "      --disabled-fill-color: #AAA;\n",
              "      --disabled-bg-color: #DDD;\n",
              "  }\n",
              "\n",
              "  [theme=dark] .colab-df-quickchart {\n",
              "      --bg-color: #3B4455;\n",
              "      --fill-color: #D2E3FC;\n",
              "      --hover-bg-color: #434B5C;\n",
              "      --hover-fill-color: #FFFFFF;\n",
              "      --disabled-bg-color: #3B4455;\n",
              "      --disabled-fill-color: #666;\n",
              "  }\n",
              "\n",
              "  .colab-df-quickchart {\n",
              "    background-color: var(--bg-color);\n",
              "    border: none;\n",
              "    border-radius: 50%;\n",
              "    cursor: pointer;\n",
              "    display: none;\n",
              "    fill: var(--fill-color);\n",
              "    height: 32px;\n",
              "    padding: 0;\n",
              "    width: 32px;\n",
              "  }\n",
              "\n",
              "  .colab-df-quickchart:hover {\n",
              "    background-color: var(--hover-bg-color);\n",
              "    box-shadow: 0 1px 2px rgba(60, 64, 67, 0.3), 0 1px 3px 1px rgba(60, 64, 67, 0.15);\n",
              "    fill: var(--button-hover-fill-color);\n",
              "  }\n",
              "\n",
              "  .colab-df-quickchart-complete:disabled,\n",
              "  .colab-df-quickchart-complete:disabled:hover {\n",
              "    background-color: var(--disabled-bg-color);\n",
              "    fill: var(--disabled-fill-color);\n",
              "    box-shadow: none;\n",
              "  }\n",
              "\n",
              "  .colab-df-spinner {\n",
              "    border: 2px solid var(--fill-color);\n",
              "    border-color: transparent;\n",
              "    border-bottom-color: var(--fill-color);\n",
              "    animation:\n",
              "      spin 1s steps(1) infinite;\n",
              "  }\n",
              "\n",
              "  @keyframes spin {\n",
              "    0% {\n",
              "      border-color: transparent;\n",
              "      border-bottom-color: var(--fill-color);\n",
              "      border-left-color: var(--fill-color);\n",
              "    }\n",
              "    20% {\n",
              "      border-color: transparent;\n",
              "      border-left-color: var(--fill-color);\n",
              "      border-top-color: var(--fill-color);\n",
              "    }\n",
              "    30% {\n",
              "      border-color: transparent;\n",
              "      border-left-color: var(--fill-color);\n",
              "      border-top-color: var(--fill-color);\n",
              "      border-right-color: var(--fill-color);\n",
              "    }\n",
              "    40% {\n",
              "      border-color: transparent;\n",
              "      border-right-color: var(--fill-color);\n",
              "      border-top-color: var(--fill-color);\n",
              "    }\n",
              "    60% {\n",
              "      border-color: transparent;\n",
              "      border-right-color: var(--fill-color);\n",
              "    }\n",
              "    80% {\n",
              "      border-color: transparent;\n",
              "      border-right-color: var(--fill-color);\n",
              "      border-bottom-color: var(--fill-color);\n",
              "    }\n",
              "    90% {\n",
              "      border-color: transparent;\n",
              "      border-bottom-color: var(--fill-color);\n",
              "    }\n",
              "  }\n",
              "</style>\n",
              "\n",
              "      <script>\n",
              "        async function quickchart(key) {\n",
              "          const quickchartButtonEl =\n",
              "            document.querySelector('#' + key + ' button');\n",
              "          quickchartButtonEl.disabled = true;  // To prevent multiple clicks.\n",
              "          quickchartButtonEl.classList.add('colab-df-spinner');\n",
              "          try {\n",
              "            const charts = await google.colab.kernel.invokeFunction(\n",
              "                'suggestCharts', [key], {});\n",
              "          } catch (error) {\n",
              "            console.error('Error during call to suggestCharts:', error);\n",
              "          }\n",
              "          quickchartButtonEl.classList.remove('colab-df-spinner');\n",
              "          quickchartButtonEl.classList.add('colab-df-quickchart-complete');\n",
              "        }\n",
              "        (() => {\n",
              "          let quickchartButtonEl =\n",
              "            document.querySelector('#df-5177d7a4-fa48-4820-8495-e7cb462e43b1 button');\n",
              "          quickchartButtonEl.style.display =\n",
              "            google.colab.kernel.accessAllowed ? 'block' : 'none';\n",
              "        })();\n",
              "      </script>\n",
              "    </div>\n",
              "\n",
              "    </div>\n",
              "  </div>\n"
            ],
            "application/vnd.google.colaboratory.intrinsic+json": {
              "type": "dataframe",
              "summary": "{\n  \"name\": \"pd\",\n  \"rows\": 2,\n  \"fields\": [\n    {\n      \"column\": \"Ideal\",\n      \"properties\": {\n        \"dtype\": \"number\",\n        \"std\": null,\n        \"min\": 100.17,\n        \"max\": 100.17,\n        \"num_unique_values\": 1,\n        \"samples\": [\n          100.17\n        ],\n        \"semantic_type\": \"\",\n        \"description\": \"\"\n      }\n    },\n    {\n      \"column\": \"Naive\",\n      \"properties\": {\n        \"dtype\": \"number\",\n        \"std\": null,\n        \"min\": 43.17,\n        \"max\": 43.17,\n        \"num_unique_values\": 1,\n        \"samples\": [\n          43.17\n        ],\n        \"semantic_type\": \"\",\n        \"description\": \"\"\n      }\n    },\n    {\n      \"column\": \"Logit\",\n      \"properties\": {\n        \"dtype\": \"number\",\n        \"std\": 25.094159004138792,\n        \"min\": 0.0015,\n        \"max\": 35.49,\n        \"num_unique_values\": 2,\n        \"samples\": [\n          0.0015\n        ],\n        \"semantic_type\": \"\",\n        \"description\": \"\"\n      }\n    },\n    {\n      \"column\": \"Ridge\",\n      \"properties\": {\n        \"dtype\": \"number\",\n        \"std\": 24.631923301277144,\n        \"min\": 0.0252,\n        \"max\": 34.86,\n        \"num_unique_values\": 2,\n        \"samples\": [\n          0.0252\n        ],\n        \"semantic_type\": \"\",\n        \"description\": \"\"\n      }\n    },\n    {\n      \"column\": \"SGD\",\n      \"properties\": {\n        \"dtype\": \"number\",\n        \"std\": 30.452232354308606,\n        \"min\": 0.01404,\n        \"max\": 43.08,\n        \"num_unique_values\": 2,\n        \"samples\": [\n          0.01404\n        ],\n        \"semantic_type\": \"\",\n        \"description\": \"\"\n      }\n    },\n    {\n      \"column\": \"PAC\",\n      \"properties\": {\n        \"dtype\": \"number\",\n        \"std\": 27.003644298190565,\n        \"min\": 0.00108,\n        \"max\": 38.19,\n        \"num_unique_values\": 2,\n        \"samples\": [\n          0.00108\n        ],\n        \"semantic_type\": \"\",\n        \"description\": \"\"\n      }\n    },\n    {\n      \"column\": \"SVM (A100)\",\n      \"properties\": {\n        \"dtype\": \"number\",\n        \"std\": 31.264026294449824,\n        \"min\": 0.00599,\n        \"max\": 44.22,\n        \"num_unique_values\": 2,\n        \"samples\": [\n          0.00599\n        ],\n        \"semantic_type\": \"\",\n        \"description\": \"\"\n      }\n    },\n    {\n      \"column\": \"linear SVM (A100)\",\n      \"properties\": {\n        \"dtype\": \"number\",\n        \"std\": 31.394989541393386,\n        \"min\": 0.00078,\n        \"max\": 44.4,\n        \"num_unique_values\": 2,\n        \"samples\": [\n          0.00078\n        ],\n        \"semantic_type\": \"\",\n        \"description\": \"\"\n      }\n    },\n    {\n      \"column\": \"Random Forest (A100)\",\n      \"properties\": {\n        \"dtype\": \"number\",\n        \"std\": 30.859271301830834,\n        \"min\": 0.0684,\n        \"max\": 43.71,\n        \"num_unique_values\": 2,\n        \"samples\": [\n          0.0684\n        ],\n        \"semantic_type\": \"\",\n        \"description\": \"\"\n      }\n    },\n    {\n      \"column\": \"AdaBoost\",\n      \"properties\": {\n        \"dtype\": \"number\",\n        \"std\": 30.493484963923034,\n        \"min\": 0.0457,\n        \"max\": 43.17,\n        \"num_unique_values\": 2,\n        \"samples\": [\n          0.0457\n        ],\n        \"semantic_type\": \"\",\n        \"description\": \"\"\n      }\n    },\n    {\n      \"column\": \"GradientBoosting\",\n      \"properties\": {\n        \"dtype\": \"number\",\n        \"std\": 30.37413948139437,\n        \"min\": 0.03448,\n        \"max\": 42.99,\n        \"num_unique_values\": 2,\n        \"samples\": [\n          0.03448\n        ],\n        \"semantic_type\": \"\",\n        \"description\": \"\"\n      }\n    },\n    {\n      \"column\": \"LDA\",\n      \"properties\": {\n        \"dtype\": \"number\",\n        \"std\": 31.44042822315243,\n        \"min\": 0.02652,\n        \"max\": 44.49,\n        \"num_unique_values\": 2,\n        \"samples\": [\n          0.02652\n        ],\n        \"semantic_type\": \"\",\n        \"description\": \"\"\n      }\n    },\n    {\n      \"column\": \"QDA\",\n      \"properties\": {\n        \"dtype\": \"number\",\n        \"std\": 31.19600262209968,\n        \"min\": 0.01219,\n        \"max\": 44.13,\n        \"num_unique_values\": 2,\n        \"samples\": [\n          0.01219\n        ],\n        \"semantic_type\": \"\",\n        \"description\": \"\"\n      }\n    },\n    {\n      \"column\": \"XGBoost\",\n      \"properties\": {\n        \"dtype\": \"number\",\n        \"std\": 30.50273392062095,\n        \"min\": 0.03262,\n        \"max\": 43.17,\n        \"num_unique_values\": 2,\n        \"samples\": [\n          0.03262\n        ],\n        \"semantic_type\": \"\",\n        \"description\": \"\"\n      }\n    },\n    {\n      \"column\": \"sklearn NN\",\n      \"properties\": {\n        \"dtype\": \"number\",\n        \"std\": 30.38916550049458,\n        \"min\": 0.19323,\n        \"max\": 43.17,\n        \"num_unique_values\": 2,\n        \"samples\": [\n          0.19323\n        ],\n        \"semantic_type\": \"\",\n        \"description\": \"\"\n      }\n    },\n    {\n      \"column\": \"tensorflow NN\",\n      \"properties\": {\n        \"dtype\": \"number\",\n        \"std\": 28.765669544093704,\n        \"min\": 0.3892,\n        \"max\": 41.07,\n        \"num_unique_values\": 2,\n        \"samples\": [\n          0.3892\n        ],\n        \"semantic_type\": \"\",\n        \"description\": \"\"\n      }\n    }\n  ]\n}"
            }
          },
          "metadata": {},
          "execution_count": 222
        }
      ],
      "source": [
        "income = {\"Ideal\": ideal_income, \"Naive\": naive_income, \"Logit\": logit_income, \"Ridge\": ridge_income, \"SGD\": sgd_income, \"PAC\": pac_model_income,\n",
        "          \"SVM (A100)\": 44.22, \"linear SVM (A100)\": 44.4, \"Random Forest (A100)\": 43.71,\n",
        "          \"AdaBoost\": adaboost_model_income, \"GradientBoosting\": gb_income,\n",
        "          \"LDA\": lda_income, \"QDA\": qda_income,\n",
        "          \"XGBoost\": xgb_income, \"sklearn NN\": mlp_income, \"tensorflow NN\": nn_income}\n",
        "performance = {\"Logit\": prediction_time_logit, \"Ridge\": prediction_time_ridge, \"SGD\": prediction_time_sgd, \"PAC\": prediction_time_pac,\n",
        "                \"SVM (A100)\": 0.00599, \"linear SVM (A100)\": 0.00078 , \"Random Forest (A100)\": 0.06840,\n",
        "                \"AdaBoost\": prediction_time_adaboost, \"GradientBoosting\": prediction_time_gb,\n",
        "                \"LDA\": prediction_time_lda, \"QDA\": prediction_time_qda,\n",
        "                \"XGBoost\": prediction_time_xgb, \"sklearn NN\": prediction_time_mlp, \"tensorflow NN\": prediction_time_nn}\n",
        "\n",
        "pd.DataFrame(data = [income, performance], index = [\"income\", \"performance\"])"
      ]
    },
    {
      "cell_type": "markdown",
      "metadata": {
        "id": "pxtOskJxtcNI"
      },
      "source": [
        "In this section we want to calculate our PnL using different models. Profit-wise performance of all the models is pretty much comparable, so we pick QDA, as it offers a nice balance between speed and precision. We compare it with the naive approach to deduct how efficient ML would be in this setup, since so far models beat the naive approach only marginally"
      ]
    },
    {
      "cell_type": "markdown",
      "metadata": {
        "id": "Qfk2SLkKtYKW"
      },
      "source": [
        "Upload the models:"
      ]
    },
    {
      "cell_type": "code",
      "execution_count": 175,
      "metadata": {
        "id": "X_0Fq0B-lg7-"
      },
      "outputs": [],
      "source": [
        "scaler = joblib.load('/content/drive/MyDrive/scaler.pkl')\n",
        "\n",
        "qda = joblib.load('/content/drive/MyDrive/qda.pkl')\n",
        "naive_model = joblib.load('/content/drive/MyDrive/naive_model.pkl')\n",
        "\n",
        "df_n = pl.read_parquet('/content/drive/MyDrive/df_n_v2.parquet')\n",
        "arbitrage_model = pl.read_parquet('/content/drive/MyDrive/arbitrage_modelv2.parquet')\n",
        "arbitrage_model = arbitrage_model.to_pandas()\n",
        "arbitrage_model.ts = pd.to_numeric(arbitrage_model[\"ts\"]).astype('Int64')\n"
      ]
    },
    {
      "cell_type": "markdown",
      "metadata": {
        "id": "OP7uqfuk03lR"
      },
      "source": [
        "Support functions:"
      ]
    },
    {
      "cell_type": "code",
      "execution_count": 313,
      "metadata": {
        "id": "VNGbn2bKrfFn"
      },
      "outputs": [],
      "source": [
        "trading_hours = 12\n",
        "HTX_execution_time = 500  #ms to execute a trade on HTX\n",
        "Bybit_execution_time = 500  #ms to execute a trade on Bybit\n",
        "capital = 10000\n",
        "investment = 250 #usdt per single arbitrage operation\n",
        "threshold = 10 #minimum arbitrage value\n",
        "\n",
        "\n",
        "# Define the start timestamp (replace with your desired start time)\n",
        "start_timestamp_ms = 1746584715064  #2025-04-17"
      ]
    },
    {
      "cell_type": "code",
      "execution_count": 314,
      "metadata": {
        "colab": {
          "base_uri": "https://localhost:8080/"
        },
        "id": "maYTrnMlut5p",
        "outputId": "15ab98a6-0511-4dd9-ed24-36406564bc50"
      },
      "outputs": [
        {
          "output_type": "stream",
          "name": "stderr",
          "text": [
            "100%|██████████| 2907/2907 [00:14<00:00, 201.82it/s]\n",
            "2025-06-26 18:32:14,563 - INFO - Cycle ended. Results:\n",
            "2025-06-26 18:32:14,563 - INFO - total number of trades: 1305\n",
            "2025-06-26 18:32:14,564 - INFO - total expected profit, $:  107.41\n",
            "2025-06-26 18:32:14,564 - INFO - total realized profit, $:  32.38\n",
            "2025-06-26 18:32:14,565 - INFO - total missed opportunity, $:  2.05\n"
          ]
        }
      ],
      "source": [
        "total_expected_profit, total_realized_profit, total_missed_opportunity = cc.backtesing(trained_model = qda,\n",
        "                                                                                      scaler = scaler,\n",
        "                                                                                      arbitrage_model = arbitrage_model,\n",
        "                                                                                      df_n = df_n,\n",
        "                                                                                      trading_hours = trading_hours,\n",
        "                                                                                      HTX_execution_time = HTX_execution_time,\n",
        "                                                                                      Bybit_execution_time = Bybit_execution_time,\n",
        "                                                                                      capital = capital,\n",
        "                                                                                      investment = investment,\n",
        "                                                                                      threshold = threshold,\n",
        "                                                                                      start_timestamp_ms = start_timestamp_ms)"
      ]
    },
    {
      "cell_type": "code",
      "execution_count": 315,
      "metadata": {
        "id": "EO6dVrxStYN0",
        "colab": {
          "base_uri": "https://localhost:8080/"
        },
        "outputId": "fc4a0a24-8d04-4333-a260-d78aade0e8ea"
      },
      "outputs": [
        {
          "output_type": "stream",
          "name": "stderr",
          "text": [
            "100%|██████████| 2907/2907 [00:14<00:00, 206.80it/s]\n",
            "2025-06-26 18:32:32,797 - INFO - Cycle ended. Results:\n",
            "2025-06-26 18:32:32,797 - INFO - total number of trades: 1320\n",
            "2025-06-26 18:32:32,797 - INFO - total expected profit, $:  108.88\n",
            "2025-06-26 18:32:32,798 - INFO - total realized profit, $:  37.72\n",
            "2025-06-26 18:32:32,799 - INFO - total missed opportunity, $:  0.00\n"
          ]
        }
      ],
      "source": [
        "total_expected_profit_naive, total_realized_profit_naive, total_missed_opportunity_naive = cc.backtesing(trained_model = naive_model,\n",
        "                                                                                                      scaler = scaler,\n",
        "                                                                                                      arbitrage_model = arbitrage_model,\n",
        "                                                                                                      df_n = df_n,\n",
        "                                                                                                      trading_hours = trading_hours,\n",
        "                                                                                                      HTX_execution_time = HTX_execution_time,\n",
        "                                                                                                      Bybit_execution_time = Bybit_execution_time,\n",
        "                                                                                                      capital = capital,\n",
        "                                                                                                      investment = investment,\n",
        "                                                                                                      threshold = threshold,\n",
        "                                                                                                      start_timestamp_ms = start_timestamp_ms)"
      ]
    },
    {
      "cell_type": "code",
      "source": [],
      "metadata": {
        "id": "pJD6laJJgwmL"
      },
      "execution_count": null,
      "outputs": []
    }
  ],
  "metadata": {
    "colab": {
      "machine_shape": "hm",
      "provenance": []
    },
    "kernelspec": {
      "display_name": "Python 3",
      "name": "python3"
    },
    "language_info": {
      "name": "python"
    }
  },
  "nbformat": 4,
  "nbformat_minor": 0
}