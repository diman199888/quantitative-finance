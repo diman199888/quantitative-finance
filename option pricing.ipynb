{
 "cells": [
  {
   "cell_type": "markdown",
   "id": "ecd4dc4c-0c46-42ed-9d1f-a1fd9c0e9ee3",
   "metadata": {
    "tags": []
   },
   "source": [
    "# Option pricing "
   ]
  },
  {
   "cell_type": "markdown",
   "id": "c1d056f6-0589-4449-8f18-33ea738dc1e9",
   "metadata": {
    "tags": []
   },
   "source": [
    "In this notebook I write the code to evaluate option price, compare it with the market prices and calculate implied volatility"
   ]
  },
  {
   "cell_type": "markdown",
   "id": "ec305b09-9e79-4d2f-a459-b5b11218cfa1",
   "metadata": {
    "tags": []
   },
   "source": [
    "#### Valuation by means of the binomial tree"
   ]
  },
  {
   "cell_type": "markdown",
   "id": "f82ca6db-2d6d-458e-9e94-faeb545d2574",
   "metadata": {},
   "source": [
    "This approach is based on the idea, that the option contract can be replicated by some other assets at any time t - and by no arbitrage principle the value of such a portfolio would equal the contract value. The calculation involves the creation of the so-called binomial tree, i.e., movement of the stock in period t+1: $S_{t+1} = S_t * u$ and $S_{t+1} = S_t * d$, with u and d below. The risk-neutral probability q is used to discount the option value. More detailed explaination can be found in \"Options, Futures and Other Derivatives\" by Pearson, Prentice Hall."
   ]
  },
  {
   "cell_type": "markdown",
   "id": "f7cc5e87-1b0e-4534-8e2a-593a06d41771",
   "metadata": {},
   "source": [
    "$$u \\approx e^{\\sigma\\sqrt{\\Delta t}}$$\n",
    "\n",
    "$$d \\approx e^{-\\sigma\\sqrt{\\Delta t}}$$\n",
    "\n",
    "$$q = \\frac{e^{r\\Delta t} - d}{u - d}$$"
   ]
  },
  {
   "cell_type": "code",
   "execution_count": 56,
   "id": "332b2d20-7c05-4979-8173-39ec16bfb6bd",
   "metadata": {
    "tags": []
   },
   "outputs": [],
   "source": [
    "import datetime\n",
    "import numpy as np\n",
    "import pandas as pd\n",
    "import yfinance as yf\n",
    "from scipy.stats import norm\n",
    "import pandas_datareader.data as web\n",
    "from IPython.display import display, Latex\n",
    "import matplotlib.pyplot as plt"
   ]
  },
  {
   "cell_type": "code",
   "execution_count": 57,
   "id": "e38b3f18-46dc-4190-a527-2f4fc93c3867",
   "metadata": {
    "tags": []
   },
   "outputs": [],
   "source": [
    "class Pricing:\n",
    "    def __init__(self, starting_share_price, T, t, sigma, risk_free):\n",
    "        \"\"\"\n",
    "Function to price an option using the binomial tree valuation method.\n",
    "\n",
    "Parameters:\n",
    "- starting_share_price (float): The current price of the underlying asset.\n",
    "- T (float): The time to expiration of the option, measured in years.\n",
    "- t (int): The number of periods into which the time to expiration is divided. \n",
    "           A higher value of t increases accuracy but also computational cost.\n",
    "- sigma (float): The volatility of the underlying asset (standard deviation of returns).\n",
    "- risk_free (float): The risk-free interest rate, typically the yield on government bonds.\n",
    "\n",
    "Functions:\n",
    "- .tree: Returns a binomial tree representing the valuation of the option at each node.\n",
    "- .option_pricing: Returns the option price given the binomial tree\n",
    "- .implied_volatility: Returns the implied volatility of the option, given its market price \n",
    "\n",
    "        \"\"\"\n",
    "        self.starting_share_price = starting_share_price\n",
    "        self.t = t\n",
    "        self.T = T\n",
    "        self.sigma = sigma\n",
    "        self.rf = risk_free\n",
    "        \n",
    "        self.delta_t = T / t\n",
    "        self.u = np.exp(self.sigma * np.sqrt(self.delta_t))\n",
    "        self.d = 1 / self.u\n",
    "        self.D = np.exp(-self.rf * self.delta_t)\n",
    "        self.q = (1 / self.D - self.d) / (self.u - self.d)\n",
    "        self.Tree = None\n",
    "        self.K = None\n",
    "        self.ret = None\n",
    "        self.option_return = None\n",
    "        self.par1 = None\n",
    "        self.par2 = None \n",
    "        self.par3 = None\n",
    "        self.val = None\n",
    "\n",
    "    def tree(self):\n",
    "        '''\n",
    "Returns a binomial tree representing the valuation of the option at each node.        \n",
    "        '''\n",
    "        levels = np.arange(self.t + 1)\n",
    "        Tree = np.zeros((self.t + 1, self.t + 1))\n",
    "        for i in range(self.t + 1):\n",
    "            Tree[:i + 1, i] = self.starting_share_price * (self.u ** (i - levels[:i + 1])) * (self.d ** levels[:i + 1])\n",
    "        self.Tree = Tree\n",
    "        return self.Tree\n",
    "\n",
    "    def option_pricing(self, K, option_type, american = \"No\", return_full_tree = \"No\"):\n",
    "        '''\n",
    "Returns the option price given the binomial tree.  \n",
    "\n",
    "Parameters:\n",
    "- K (float): The strike price.\n",
    "- option_type (string): Type of the option ('Call' or 'Put') \n",
    "- american (string): Whether the option is American (\"Yes\" or \"No\"). \"No\" by default\n",
    "- return_full_tree (string): Whether to return the full tree (\"Yes\" or \"No\"). \"No\" by default\n",
    "        '''    \n",
    "        \n",
    "        if option_type not in [\"Call\", \"Put\"]:\n",
    "            raise ValueError(f\"Invalid option_type. Expected one of ['Call', 'Put'], got '{option_type}'.\")\n",
    "            \n",
    "        if american not in [\"Yes\", \"No\"]:\n",
    "            raise ValueError(f\"Invalid american. Expected one of ['Yes', 'No'], got '{american}'.\")\n",
    "        \n",
    "        if return_full_tree not in [\"Yes\", \"No\"]:\n",
    "            raise ValueError(f\"Invalid return_full_tree. Expected one of ['Yes', 'No'], got '{return_full_tree}'.\")\n",
    "        \n",
    "        self.par1 = option_type\n",
    "        self.par2 = american \n",
    "        self.par3 = return_full_tree \n",
    "        \n",
    "        self.K = K\n",
    "        self.ret = np.maximum(self.Tree - self.K, 0) if option_type == \"Call\" else np.maximum(self.K - self.Tree, 0)\n",
    "        self.option_return = self.ret[:, -1]  # Payoff at expiration\n",
    "\n",
    "        t = self.Tree.shape[0] - 1\n",
    "        FullTree = np.zeros_like(self.Tree)\n",
    "        FullTree[:, -1] = self.option_return\n",
    "\n",
    "        for j in range(t - 1, -1, -1):\n",
    "            for i in range(j + 1):\n",
    "                continuation_value = self.D * (self.q * FullTree[i, j + 1] + (1 - self.q) * FullTree[i + 1, j + 1])\n",
    "                FullTree[i, j] = continuation_value if american == \"No\" else max(continuation_value, self.ret[i, j])\n",
    "\n",
    "        self.FullTree = FullTree\n",
    "        self.val = round(FullTree[0, 0],2)\n",
    "        \n",
    "        return FullTree if return_full_tree == \"Yes\" else round(FullTree[0, 0],2)\n",
    "        \n",
    "    \n",
    "    def implied_volatility(self, opt_price):\n",
    "        '''\n",
    "Returns the implied volatility of the option, given its market price\n",
    "\n",
    "Parameters:\n",
    "- opt_price(float): market price of the option\n",
    "        '''\n",
    "        val = self.val\n",
    "        sigma = self.sigma\n",
    "        \n",
    "        while val != np.ceil(opt_price):\n",
    "            pricing = Pricing(self.starting_share_price, self.T, self.t, sigma, self.rf)\n",
    "            pricing.tree()       \n",
    "            val = np.ceil(pricing.option_pricing(self.K, self.par1, self.par2, self.par3))\n",
    "            if val > opt_price: sigma*=0.9975\n",
    "            if val < opt_price: sigma*=1.0025        \n",
    "        \n",
    "        return round(sigma, 2)"
   ]
  },
  {
   "cell_type": "markdown",
   "id": "7e2e49f2-8d2c-493e-b23f-46f16903f3b9",
   "metadata": {},
   "source": [
    "Check the functionality on a theoretical example:"
   ]
  },
  {
   "cell_type": "code",
   "execution_count": 59,
   "id": "b904e49a-fec0-4aec-8d55-0cc521577198",
   "metadata": {
    "tags": []
   },
   "outputs": [
    {
     "name": "stdout",
     "output_type": "stream",
     "text": [
      "[[55.         59.1160209  63.5400714  68.29520343 73.40619406 78.89967459]\n",
      " [ 0.         51.17056179 55.         59.1160209  63.5400714  68.29520343]\n",
      " [ 0.          0.         47.60775261 51.17056179 55.         59.1160209 ]\n",
      " [ 0.          0.          0.         44.29300812 47.60775261 51.17056179]\n",
      " [ 0.          0.          0.          0.         41.20905652 44.29300812]\n",
      " [ 0.          0.          0.          0.          0.         38.3398286 ]]\n"
     ]
    }
   ],
   "source": [
    "S0 = 55 #current share price\n",
    "K = 60 #strike price\n",
    "T = 5/12 #5 months till maturity\n",
    "t = 5 #5 periods in a binomial tree\n",
    "sigma = 0.25 #volatility\n",
    "rf = 0.03 # risk-free rate\n",
    "\n",
    "share1 = Pricing(S0, T, t, sigma, rf)\n",
    "Tree = share1.tree()\n",
    "print(Tree) #print the binomial tree"
   ]
  },
  {
   "cell_type": "code",
   "execution_count": 60,
   "id": "cb49eddd-648b-4974-9f58-af69505a21e2",
   "metadata": {
    "tags": []
   },
   "outputs": [
    {
     "name": "stdout",
     "output_type": "stream",
     "text": [
      "[[ 6.10843087  3.49720051  1.4295681   0.22051506  0.          0.        ]\n",
      " [ 0.          8.74282179  5.5764751   2.6423523   0.44150958  0.        ]\n",
      " [ 0.          0.         11.94393068  8.53018696  4.85018734  0.8839791 ]\n",
      " [ 0.          0.          0.         15.40774063 12.24243473  8.82943821]\n",
      " [ 0.          0.          0.          0.         18.64113082 15.70699188]\n",
      " [ 0.          0.          0.          0.          0.         21.6601714 ]]\n"
     ]
    }
   ],
   "source": [
    "print(share1.option_pricing(K, \"Put\", return_full_tree = \"Yes\")) #print the complete valuation of the European put option"
   ]
  },
  {
   "cell_type": "code",
   "execution_count": 61,
   "id": "c4b7a467-6d0e-4611-8251-d5161c0036a6",
   "metadata": {
    "tags": []
   },
   "outputs": [
    {
     "name": "stdout",
     "output_type": "stream",
     "text": [
      "1.85\n"
     ]
    }
   ],
   "source": [
    "print(share1.option_pricing(K, \"Call\", american = \"Yes\")) #print the valuation of the American call option"
   ]
  },
  {
   "cell_type": "markdown",
   "id": "0ac5515d-db4d-4074-9860-2e2c05c7f7e2",
   "metadata": {},
   "source": [
    "Now let's compare this theoretical pricing with a real-life example: "
   ]
  },
  {
   "cell_type": "code",
   "execution_count": 63,
   "id": "5d6ef340-9e60-4a78-9d19-b50cf69555cb",
   "metadata": {
    "tags": []
   },
   "outputs": [
    {
     "name": "stderr",
     "output_type": "stream",
     "text": [
      "[*********************100%%**********************]  1 of 1 completed"
     ]
    },
    {
     "name": "stdout",
     "output_type": "stream",
     "text": [
      "Current stock price is: $136.92\n"
     ]
    },
    {
     "name": "stderr",
     "output_type": "stream",
     "text": [
      "\n"
     ]
    }
   ],
   "source": [
    "ticker = 'NVDA'\n",
    "end = datetime.datetime.today()\n",
    "start = end - datetime.timedelta(days=365)\n",
    "stock = yf.download(ticker, start=start, end=end)['Adj Close']\n",
    "S0 = stock.iloc[-1]\n",
    "print(f'Current stock price is: ${S0:.2f}')"
   ]
  },
  {
   "cell_type": "markdown",
   "id": "3aff9371-ccd0-450b-a53a-e8b29fca4833",
   "metadata": {},
   "source": [
    "check expiration dates:"
   ]
  },
  {
   "cell_type": "code",
   "execution_count": 65,
   "id": "6bc61544-3ddc-42d5-9624-bc5ee7b87518",
   "metadata": {
    "tags": []
   },
   "outputs": [
    {
     "data": {
      "text/plain": [
       "('2024-11-29',\n",
       " '2024-12-06',\n",
       " '2024-12-13',\n",
       " '2024-12-20',\n",
       " '2024-12-27',\n",
       " '2025-01-03',\n",
       " '2025-01-17',\n",
       " '2025-02-21',\n",
       " '2025-03-21',\n",
       " '2025-04-17',\n",
       " '2025-05-16',\n",
       " '2025-06-20',\n",
       " '2025-08-15',\n",
       " '2025-09-19',\n",
       " '2025-12-19',\n",
       " '2026-01-16',\n",
       " '2026-06-18',\n",
       " '2026-09-18',\n",
       " '2026-12-18',\n",
       " '2027-01-15')"
      ]
     },
     "execution_count": 65,
     "metadata": {},
     "output_type": "execute_result"
    }
   ],
   "source": [
    "exp_dates = yf.Ticker(ticker).options\n",
    "exp_dates"
   ]
  },
  {
   "cell_type": "markdown",
   "id": "e023f7a7-698d-4658-8bc1-bee65eda19b5",
   "metadata": {},
   "source": [
    "decide on the duraion:"
   ]
  },
  {
   "cell_type": "code",
   "execution_count": 67,
   "id": "8074428c-d2d3-41f2-bc0a-51cd9c557b3a",
   "metadata": {
    "tags": []
   },
   "outputs": [
    {
     "data": {
      "text/html": [
       "<div>\n",
       "<style scoped>\n",
       "    .dataframe tbody tr th:only-of-type {\n",
       "        vertical-align: middle;\n",
       "    }\n",
       "\n",
       "    .dataframe tbody tr th {\n",
       "        vertical-align: top;\n",
       "    }\n",
       "\n",
       "    .dataframe thead th {\n",
       "        text-align: right;\n",
       "    }\n",
       "</style>\n",
       "<table border=\"1\" class=\"dataframe\">\n",
       "  <thead>\n",
       "    <tr style=\"text-align: right;\">\n",
       "      <th></th>\n",
       "      <th>contractSymbol</th>\n",
       "      <th>lastTradeDate</th>\n",
       "      <th>strike</th>\n",
       "      <th>lastPrice</th>\n",
       "      <th>bid</th>\n",
       "      <th>ask</th>\n",
       "      <th>change</th>\n",
       "      <th>percentChange</th>\n",
       "      <th>volume</th>\n",
       "      <th>openInterest</th>\n",
       "      <th>impliedVolatility</th>\n",
       "      <th>inTheMoney</th>\n",
       "      <th>contractSize</th>\n",
       "      <th>currency</th>\n",
       "    </tr>\n",
       "  </thead>\n",
       "  <tbody>\n",
       "    <tr>\n",
       "      <th>201</th>\n",
       "      <td>NVDA251219P00140000</td>\n",
       "      <td>2024-11-26 20:00:21+00:00</td>\n",
       "      <td>140.0</td>\n",
       "      <td>25.62</td>\n",
       "      <td>0.0</td>\n",
       "      <td>0.0</td>\n",
       "      <td>0.0</td>\n",
       "      <td>0.0</td>\n",
       "      <td>8.0</td>\n",
       "      <td>2598</td>\n",
       "      <td>0.00001</td>\n",
       "      <td>True</td>\n",
       "      <td>REGULAR</td>\n",
       "      <td>USD</td>\n",
       "    </tr>\n",
       "    <tr>\n",
       "      <th>202</th>\n",
       "      <td>NVDA251219P00142000</td>\n",
       "      <td>2024-11-25 18:00:39+00:00</td>\n",
       "      <td>142.0</td>\n",
       "      <td>26.85</td>\n",
       "      <td>0.0</td>\n",
       "      <td>0.0</td>\n",
       "      <td>0.0</td>\n",
       "      <td>0.0</td>\n",
       "      <td>25.0</td>\n",
       "      <td>766</td>\n",
       "      <td>0.00001</td>\n",
       "      <td>True</td>\n",
       "      <td>REGULAR</td>\n",
       "      <td>USD</td>\n",
       "    </tr>\n",
       "    <tr>\n",
       "      <th>203</th>\n",
       "      <td>NVDA251219P00144000</td>\n",
       "      <td>2024-11-25 16:48:56+00:00</td>\n",
       "      <td>144.0</td>\n",
       "      <td>27.70</td>\n",
       "      <td>0.0</td>\n",
       "      <td>0.0</td>\n",
       "      <td>0.0</td>\n",
       "      <td>0.0</td>\n",
       "      <td>10.0</td>\n",
       "      <td>220</td>\n",
       "      <td>0.00001</td>\n",
       "      <td>True</td>\n",
       "      <td>REGULAR</td>\n",
       "      <td>USD</td>\n",
       "    </tr>\n",
       "    <tr>\n",
       "      <th>204</th>\n",
       "      <td>NVDA251219P00145000</td>\n",
       "      <td>2024-11-26 16:57:50+00:00</td>\n",
       "      <td>145.0</td>\n",
       "      <td>28.43</td>\n",
       "      <td>0.0</td>\n",
       "      <td>0.0</td>\n",
       "      <td>0.0</td>\n",
       "      <td>0.0</td>\n",
       "      <td>7.0</td>\n",
       "      <td>2799</td>\n",
       "      <td>0.00001</td>\n",
       "      <td>True</td>\n",
       "      <td>REGULAR</td>\n",
       "      <td>USD</td>\n",
       "    </tr>\n",
       "    <tr>\n",
       "      <th>205</th>\n",
       "      <td>NVDA251219P00146000</td>\n",
       "      <td>2024-11-25 16:49:38+00:00</td>\n",
       "      <td>146.0</td>\n",
       "      <td>29.05</td>\n",
       "      <td>0.0</td>\n",
       "      <td>0.0</td>\n",
       "      <td>0.0</td>\n",
       "      <td>0.0</td>\n",
       "      <td>15.0</td>\n",
       "      <td>353</td>\n",
       "      <td>0.00001</td>\n",
       "      <td>True</td>\n",
       "      <td>REGULAR</td>\n",
       "      <td>USD</td>\n",
       "    </tr>\n",
       "    <tr>\n",
       "      <th>206</th>\n",
       "      <td>NVDA251219P00148000</td>\n",
       "      <td>2024-11-26 15:00:54+00:00</td>\n",
       "      <td>148.0</td>\n",
       "      <td>30.51</td>\n",
       "      <td>0.0</td>\n",
       "      <td>0.0</td>\n",
       "      <td>0.0</td>\n",
       "      <td>0.0</td>\n",
       "      <td>1.0</td>\n",
       "      <td>186</td>\n",
       "      <td>0.00001</td>\n",
       "      <td>True</td>\n",
       "      <td>REGULAR</td>\n",
       "      <td>USD</td>\n",
       "    </tr>\n",
       "    <tr>\n",
       "      <th>207</th>\n",
       "      <td>NVDA251219P00150000</td>\n",
       "      <td>2024-11-26 19:26:36+00:00</td>\n",
       "      <td>150.0</td>\n",
       "      <td>31.91</td>\n",
       "      <td>0.0</td>\n",
       "      <td>0.0</td>\n",
       "      <td>0.0</td>\n",
       "      <td>0.0</td>\n",
       "      <td>37.0</td>\n",
       "      <td>1736</td>\n",
       "      <td>0.00001</td>\n",
       "      <td>True</td>\n",
       "      <td>REGULAR</td>\n",
       "      <td>USD</td>\n",
       "    </tr>\n",
       "  </tbody>\n",
       "</table>\n",
       "</div>"
      ],
      "text/plain": [
       "          contractSymbol             lastTradeDate  strike  lastPrice  bid  \\\n",
       "201  NVDA251219P00140000 2024-11-26 20:00:21+00:00   140.0      25.62  0.0   \n",
       "202  NVDA251219P00142000 2024-11-25 18:00:39+00:00   142.0      26.85  0.0   \n",
       "203  NVDA251219P00144000 2024-11-25 16:48:56+00:00   144.0      27.70  0.0   \n",
       "204  NVDA251219P00145000 2024-11-26 16:57:50+00:00   145.0      28.43  0.0   \n",
       "205  NVDA251219P00146000 2024-11-25 16:49:38+00:00   146.0      29.05  0.0   \n",
       "206  NVDA251219P00148000 2024-11-26 15:00:54+00:00   148.0      30.51  0.0   \n",
       "207  NVDA251219P00150000 2024-11-26 19:26:36+00:00   150.0      31.91  0.0   \n",
       "\n",
       "     ask  change  percentChange  volume  openInterest  impliedVolatility  \\\n",
       "201  0.0     0.0            0.0     8.0          2598            0.00001   \n",
       "202  0.0     0.0            0.0    25.0           766            0.00001   \n",
       "203  0.0     0.0            0.0    10.0           220            0.00001   \n",
       "204  0.0     0.0            0.0     7.0          2799            0.00001   \n",
       "205  0.0     0.0            0.0    15.0           353            0.00001   \n",
       "206  0.0     0.0            0.0     1.0           186            0.00001   \n",
       "207  0.0     0.0            0.0    37.0          1736            0.00001   \n",
       "\n",
       "     inTheMoney contractSize currency  \n",
       "201        True      REGULAR      USD  \n",
       "202        True      REGULAR      USD  \n",
       "203        True      REGULAR      USD  \n",
       "204        True      REGULAR      USD  \n",
       "205        True      REGULAR      USD  \n",
       "206        True      REGULAR      USD  \n",
       "207        True      REGULAR      USD  "
      ]
     },
     "execution_count": 67,
     "metadata": {},
     "output_type": "execute_result"
    }
   ],
   "source": [
    "dur =  datetime.timedelta(days=365) #12 months\n",
    "exp_date = str([i.date() for i in pd.to_datetime(exp_dates) if i>(end + dur)][0]) #pick the earliest option\n",
    "\n",
    "option_type = 'Put' #\"Put\" or \"Call\"\n",
    "P = yf.Ticker(ticker).option_chain(exp_date).puts if option_type == \"Put\" else (yf.Ticker('NVDA').option_chain(exp_date).calls if option_type == \"Call\" else 0)\n",
    "K = np.ceil(S0)+1\n",
    "P = P[(P['strike'] > K) & (P['strike'] < K*1.1)]\n",
    "P"
   ]
  },
  {
   "cell_type": "code",
   "execution_count": 68,
   "id": "85789933-f95d-4675-940e-ad34e64a0ac4",
   "metadata": {
    "tags": []
   },
   "outputs": [
    {
     "name": "stdout",
     "output_type": "stream",
     "text": [
      "Closing price for the put option: 28.43         \n",
      "Strike price: 145.0\n"
     ]
    }
   ],
   "source": [
    "# we choose the most traded option\n",
    "P = P[P['openInterest'] == max(P['openInterest'])]\n",
    "P0 = P['lastPrice'].iloc[0]\n",
    "K = P['strike'].iloc[0]\n",
    "print(f\"Closing price for the put option: {P0} \\\n",
    "        \\nStrike price: {K}\")"
   ]
  },
  {
   "cell_type": "code",
   "execution_count": 69,
   "id": "5a89f17c-441d-499d-b2e3-4bbb93b095f4",
   "metadata": {
    "tags": []
   },
   "outputs": [
    {
     "name": "stdout",
     "output_type": "stream",
     "text": [
      "risk-free US interest rate:  4.34%\n"
     ]
    }
   ],
   "source": [
    "rf = web.DataReader(\"DTB6\", \"fred\", start, end).values.ravel()[-1]/100 #download risk-free rate\n",
    "print(f'risk-free US interest rate: {rf: .2%}')\n",
    "rf = np.log(1+rf) #continuously compounded interest"
   ]
  },
  {
   "cell_type": "markdown",
   "id": "97a70e6d-f6c8-4921-a4a4-549954930561",
   "metadata": {},
   "source": [
    "The time to expiration T , measured in years, assuming that a year consists of 252 trading days"
   ]
  },
  {
   "cell_type": "code",
   "execution_count": 71,
   "id": "36e816af-9421-47b2-8fea-469b16b485c8",
   "metadata": {
    "tags": []
   },
   "outputs": [
    {
     "name": "stderr",
     "output_type": "stream",
     "text": [
      "[*********************100%%**********************]  1 of 1 completed"
     ]
    },
    {
     "name": "stdout",
     "output_type": "stream",
     "text": [
      "time to expiration T: 1.00\n"
     ]
    },
    {
     "name": "stderr",
     "output_type": "stream",
     "text": [
      "\n"
     ]
    }
   ],
   "source": [
    "# Assume that the number of trading days was the same a year ago\n",
    "s = pd.Timestamp('today').normalize() - pd.DateOffset(years=1)\n",
    "e = pd.Timestamp(exp_date) - pd.DateOffset(years=1)\n",
    "\n",
    "T = len(yf.download(ticker, start=s, end=e)['Adj Close'])/252\n",
    "print(f'time to expiration T: {T:.2f}')"
   ]
  },
  {
   "cell_type": "markdown",
   "id": "70559148-bf8d-47b0-83ac-2863aa35715a",
   "metadata": {},
   "source": [
    "An estimate of σ, the per annum stock return volatility"
   ]
  },
  {
   "cell_type": "code",
   "execution_count": 73,
   "id": "ee531772-34de-4b19-8696-fd4e4049f041",
   "metadata": {
    "tags": []
   },
   "outputs": [
    {
     "data": {
      "text/latex": [
       "$\\sigma$ : 0.52"
      ],
      "text/plain": [
       "<IPython.core.display.Latex object>"
      ]
     },
     "metadata": {},
     "output_type": "display_data"
    }
   ],
   "source": [
    "s_return = (np.log(stock) - np.log(stock).shift(1)).dropna()\n",
    "sigma = np.std(s_return)*np.sqrt(252)\n",
    "display(Latex(f'$\\sigma$ : {sigma:.2f}'))"
   ]
  },
  {
   "cell_type": "code",
   "execution_count": 74,
   "id": "dbf96183-df98-4223-ac04-33672ccd387b",
   "metadata": {},
   "outputs": [],
   "source": [
    "array = pd.Series()\n",
    "\n",
    "for t in range(2,100):  \n",
    "    share = Pricing(S0, T, t, sigma, rf)\n",
    "    Tree = share.tree()\n",
    "    option_price = share.option_pricing(K, option_type)\n",
    "    array[t] = option_price"
   ]
  },
  {
   "cell_type": "markdown",
   "id": "1b2eb614-47d8-40b8-834e-330b88751f29",
   "metadata": {},
   "source": [
    "Also calculate the Black-Scholes value of the option"
   ]
  },
  {
   "cell_type": "code",
   "execution_count": 76,
   "id": "2d63778d-9281-48db-8f16-03f734e4acbd",
   "metadata": {
    "tags": []
   },
   "outputs": [
    {
     "name": "stdout",
     "output_type": "stream",
     "text": [
      "Option price is: $29.25\n"
     ]
    }
   ],
   "source": [
    "d1 = (np.log(S0 / K) + (rf + sigma**2/2)*T) / (sigma * np.sqrt(T))\n",
    "d2 = d1  - (sigma * np.sqrt(T))\n",
    "N_d1 = norm.cdf(-d1) if option_type == \"Put\" else norm.cdf(d1)\n",
    "N_d2 = norm.cdf(-d2) if option_type == \"Put\" else norm.cdf(d2)\n",
    "\n",
    "option =  K*np.exp(-rf * T)*N_d2 - S0*N_d1 if option_type == \"Put\" else S0 * N_d1 - K * np.exp(-rf * T) * N_d2\n",
    "\n",
    "\n",
    "print(f'Option price is: ${option:.2f}')"
   ]
  },
  {
   "cell_type": "code",
   "execution_count": 77,
   "id": "8fddc1a1-6cc8-4b28-8930-15cfe83fbf5b",
   "metadata": {
    "tags": []
   },
   "outputs": [
    {
     "data": {
      "image/png": "[encoded data removed]",
      "text/plain": [
       "<Figure size 640x480 with 1 Axes>"
      ]
     },
     "metadata": {},
     "output_type": "display_data"
    }
   ],
   "source": [
    "array.plot(label = 'Binomial tree valuation')\n",
    "plt.plot(np.linspace(0, 100), [option]*len(np.linspace(0, 100)), color = 'red', label = 'Black-Scholes valuation')\n",
    "plt.plot(np.linspace(0, 100), [P0]*len(np.linspace(0, 100)),'b', label = 'Put price')\n",
    "plt.legend()\n",
    "plt.xlabel('# of iterations')\n",
    "plt.ylabel('price, $')\n",
    "plt.show()"
   ]
  },
  {
   "cell_type": "markdown",
   "id": "13bb970e-76a4-4923-abb4-8647b87e526c",
   "metadata": {},
   "source": [
    "Obviously, binomial tree valuation converges to the Black Scholes price, but both (theoretical) values are different from the market price.\n",
    "\n",
    "Let's calculate the implied volatility"
   ]
  },
  {
   "cell_type": "code",
   "execution_count": 79,
   "id": "5bce9ae1-ee50-4bf9-ab2a-7ca6f77a2480",
   "metadata": {
    "tags": []
   },
   "outputs": [
    {
     "data": {
      "text/plain": [
       "0.51"
      ]
     },
     "execution_count": 79,
     "metadata": {},
     "output_type": "execute_result"
    }
   ],
   "source": [
    "share.implied_volatility(P0)"
   ]
  },
  {
   "cell_type": "markdown",
   "id": "b07c9795-cecd-453d-a93b-8fab15a600f3",
   "metadata": {},
   "source": [
    "Sanity check:"
   ]
  },
  {
   "cell_type": "code",
   "execution_count": 81,
   "id": "21934370-4e12-4a61-9ae1-cd2087418eec",
   "metadata": {
    "tags": []
   },
   "outputs": [
    {
     "data": {
      "text/plain": [
       "28.8"
      ]
     },
     "execution_count": 81,
     "metadata": {},
     "output_type": "execute_result"
    }
   ],
   "source": [
    "share = Pricing(S0, T, t, 0.51, rf)\n",
    "share.tree()\n",
    "share.option_pricing(K, option_type)"
   ]
  },
  {
   "cell_type": "code",
   "execution_count": null,
   "id": "ebb15fc9-9e57-4158-b88e-4f9974f787fd",
   "metadata": {},
   "outputs": [],
   "source": []
  }
 ],
 "metadata": {
  "kernelspec": {
   "display_name": "Python 3 (ipykernel)",
   "language": "python",
   "name": "python3"
  },
  "language_info": {
   "codemirror_mode": {
    "name": "ipython",
    "version": 3
   },
   "file_extension": ".py",
   "mimetype": "text/x-python",
   "name": "python",
   "nbconvert_exporter": "python",
   "pygments_lexer": "ipython3",
   "version": "3.11.5"
  }
 },
 "nbformat": 4,
 "nbformat_minor": 5
}
